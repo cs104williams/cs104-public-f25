{
 "cells": [
  {
   "cell_type": "markdown",
   "metadata": {},
   "source": [
    "# Probability and Sampling"
   ]
  },
  {
   "cell_type": "code",
   "execution_count": null,
   "metadata": {
    "tags": []
   },
   "outputs": [],
   "source": [
    "from datascience import *\n",
    "from cs104 import *\n",
    "import numpy as np\n",
    "%matplotlib inline"
   ]
  },
  {
   "cell_type": "markdown",
   "metadata": {},
   "source": [
    "## 1. Distributions ##"
   ]
  },
  {
   "cell_type": "markdown",
   "metadata": {
    "tags": []
   },
   "source": [
    "### Probability Distribution"
   ]
  },
  {
   "cell_type": "markdown",
   "metadata": {},
   "source": [
    "We can use probability rules to analytically write down the expected number of each possible value in order to create a probability distribution like the following"
   ]
  },
  {
   "cell_type": "code",
   "execution_count": null,
   "metadata": {
    "tags": []
   },
   "outputs": [],
   "source": [
    "# Sums of all possible combinations of two dice rolls. \n",
    "# (The first few entries illustrate how we constructed these combinations.)\n",
    "outcomes = make_array(1+1,1+2,2+1,1+3,2+2,3+1,5,5,5,5,6,6,6,6,6,\n",
    "                      7,7,7,7,7,7,8,8,8,8,8,9,9,9,9,10,10,10,11,11,12)\n",
    "outcome_bins = np.arange(1.5, 13.5, 1)\n",
    "plot = Table().with_columns('Sum of two dice rolls', outcomes).hist(bins=outcome_bins)\n",
    "plot.set_title('Probability (exact) distribution \\n   ')\n",
    "plot.set_ylim(0,0.175)"
   ]
  },
  {
   "cell_type": "markdown",
   "metadata": {
    "tags": []
   },
   "source": [
    "### Empirical Distribution"
   ]
  },
  {
   "cell_type": "code",
   "execution_count": null,
   "metadata": {
    "tags": []
   },
   "outputs": [],
   "source": [
    "dice = np.arange(1,7)\n",
    "dice"
   ]
  },
  {
   "cell_type": "markdown",
   "metadata": {},
   "source": [
    "Let's roll the dice twice and add the values. "
   ]
  },
  {
   "cell_type": "code",
   "execution_count": null,
   "metadata": {
    "tags": []
   },
   "outputs": [],
   "source": [
    "two_dice = np.random.choice(dice, 2)\n",
    "print('two dice=', two_dice)\n",
    "print('sum=', sum(two_dice))"
   ]
  },
  {
   "cell_type": "markdown",
   "metadata": {},
   "source": [
    "Let's put this together in a function that `simulate` can use as an input. "
   ]
  },
  {
   "cell_type": "code",
   "execution_count": null,
   "metadata": {
    "tags": []
   },
   "outputs": [],
   "source": [
    "def sum_two_dice(): \n",
    "    dice = np.arange(1,7)\n",
    "    two_dice = np.random.choice(dice, 2)\n",
    "    return sum(two_dice)"
   ]
  },
  {
   "cell_type": "markdown",
   "metadata": {},
   "source": [
    "Use `simulate` (from our inference library) to create an empirical distribution. "
   ]
  },
  {
   "cell_type": "code",
   "execution_count": null,
   "metadata": {
    "tags": []
   },
   "outputs": [],
   "source": [
    "def simulate(make_one_outcome, num_trials):\n",
    "    \"\"\"\n",
    "    Return an array of num_trials values, each \n",
    "    of which was created by calling make_one_outcome().\n",
    "    \"\"\"\n",
    "    outcomes = make_array()\n",
    "    for i in np.arange(0, num_trials):\n",
    "        outcome = make_one_outcome()\n",
    "        outcomes = np.append(outcomes, outcome)\n",
    "\n",
    "    return outcomes"
   ]
  },
  {
   "cell_type": "code",
   "execution_count": null,
   "metadata": {
    "tags": []
   },
   "outputs": [],
   "source": [
    "num_trials = 10 \n",
    "simulate(sum_two_dice, num_trials)"
   ]
  },
  {
   "cell_type": "code",
   "execution_count": null,
   "metadata": {
    "tags": []
   },
   "outputs": [],
   "source": [
    "num_trials = 2000 \n",
    "all_outcomes = simulate(sum_two_dice, num_trials)"
   ]
  },
  {
   "cell_type": "code",
   "execution_count": null,
   "metadata": {
    "tags": []
   },
   "outputs": [],
   "source": [
    "simulated_results = Table().with_column('Sum of two dice rolls', all_outcomes)\n",
    "simulated_results"
   ]
  },
  {
   "cell_type": "code",
   "execution_count": null,
   "metadata": {
    "tags": []
   },
   "outputs": [],
   "source": [
    "plot = simulated_results.hist(bins=outcome_bins)\n",
    "plot.set_title('Empirical (approximate) distribution \\n num_trials='+str(num_trials));\n",
    "plot.set_ylim(0,0.175)"
   ]
  },
  {
   "cell_type": "markdown",
   "metadata": {},
   "source": [
    "### Law of Averages"
   ]
  },
  {
   "cell_type": "markdown",
   "metadata": {},
   "source": [
    "In our simulation, we have one parameter that we have the ability to control `num_trials`. Does this parameter matter? \n",
    "\n",
    "To find out, we can write a function that takes as input the `num_trials` parameter."
   ]
  },
  {
   "cell_type": "code",
   "execution_count": null,
   "metadata": {
    "tags": []
   },
   "outputs": [],
   "source": [
    "def simulate_and_plot_summing_two_dice(num_trials):\n",
    "    \"\"\"\n",
    "    Simulates rollowing two dice and repeats num_trials times, and \n",
    "    Plots the empirical distribution\n",
    "    \"\"\"\n",
    "    all_outcomes = simulate(sum_two_dice, num_trials)\n",
    "    simulated_results = Table().with_column('Sum of two dice rolls', all_outcomes)\n",
    "\n",
    "    outcome_bins = np.arange(1.5, 13.5, 1)\n",
    "    plot = simulated_results.hist(bins=outcome_bins)\n",
    "    plot.set_title('Empirical (approximate) distribution \\n num_trials='+str(num_trials))\n",
    "    plot.set_ylim(0,0.18)"
   ]
  },
  {
   "cell_type": "code",
   "execution_count": null,
   "metadata": {
    "tags": []
   },
   "outputs": [],
   "source": [
    "simulate_and_plot_summing_two_dice(2000)"
   ]
  },
  {
   "cell_type": "markdown",
   "metadata": {},
   "source": [
    "Here are a couple plots for different numbers of trials:"
   ]
  },
  {
   "cell_type": "code",
   "execution_count": null,
   "metadata": {
    "tags": []
   },
   "outputs": [],
   "source": [
    "with Figure(1,3, sharey=True):\n",
    "    simulate_and_plot_summing_two_dice(100)\n",
    "    simulate_and_plot_summing_two_dice(500)\n",
    "    simulate_and_plot_summing_two_dice(20000)"
   ]
  },
  {
   "cell_type": "code",
   "execution_count": null,
   "metadata": {
    "tags": []
   },
   "outputs": [],
   "source": [
    "interact(simulate_and_plot_summing_two_dice, num_trials = Slider(1,1000))"
   ]
  },
  {
   "cell_type": "markdown",
   "metadata": {},
   "source": [
    "## 2. Random Sampling: Florida Votes in 2016"
   ]
  },
  {
   "cell_type": "markdown",
   "metadata": {},
   "source": [
    "Load data for voting in Florida in 2016.  These give us the true parameters if we were able to poll every person who would turn out to vote:\n",
    "\n",
    "- Proportion voting for (Trump, Clinton, Johnson, other) = (0.49, 0.478, 0.022, 0.01)\n",
    "- Raw counts:\n",
    "    - Trump: 4,617,886\n",
    "    - Clinton: 4,504,975\n",
    "    - Johnson: 207,043\n",
    "    - Other: 90,135\n",
    "\n",
    "Data is based on the actual votes case in the election."
   ]
  },
  {
   "cell_type": "code",
   "execution_count": null,
   "metadata": {
    "tags": []
   },
   "outputs": [],
   "source": [
    "votes = Table().read_table('data/florida_2016.csv')\n",
    "votes = votes.with_column('Vote', votes.apply(make_array(\"Trump\", \"Clinton\", \"Johnson\", \"Other\").item, \"Vote\"))"
   ]
  },
  {
   "cell_type": "code",
   "execution_count": null,
   "metadata": {
    "tags": []
   },
   "outputs": [],
   "source": [
    "votes.show(5)"
   ]
  },
  {
   "cell_type": "markdown",
   "metadata": {},
   "source": [
    "Here's the total number of votes cast in the election. "
   ]
  },
  {
   "cell_type": "code",
   "execution_count": null,
   "metadata": {
    "tags": []
   },
   "outputs": [],
   "source": [
    "votes.num_rows"
   ]
  },
  {
   "cell_type": "markdown",
   "metadata": {},
   "source": [
    "We can pick a \"convenience sample\": the first 10 voters who show up in line."
   ]
  },
  {
   "cell_type": "code",
   "execution_count": null,
   "metadata": {
    "tags": []
   },
   "outputs": [],
   "source": [
    "votes.take(np.arange(10))"
   ]
  },
  {
   "cell_type": "markdown",
   "metadata": {},
   "source": [
    "Since we are analyzing this **after the election**, we actually know the votes for the full population and we can compute the true parameter."
   ]
  },
  {
   "cell_type": "code",
   "execution_count": null,
   "metadata": {
    "tags": []
   },
   "outputs": [],
   "source": [
    "sum(votes.column('Vote') == 'Trump') / votes.num_rows"
   ]
  },
  {
   "cell_type": "markdown",
   "metadata": {},
   "source": [
    "But suppose this is **before the election** and we actually can't ask every person in the state how they will vote..."
   ]
  },
  {
   "cell_type": "markdown",
   "metadata": {},
   "source": [
    "In that case, we can imagine we are a pollster, and sample 50 people. \n",
    "\n",
    "We can use `.sample(n)` to randomly sample `n` rows from a table. "
   ]
  },
  {
   "cell_type": "code",
   "execution_count": null,
   "metadata": {
    "tags": []
   },
   "outputs": [],
   "source": [
    "sample = votes.sample(50)\n",
    "sample"
   ]
  },
  {
   "cell_type": "code",
   "execution_count": null,
   "metadata": {
    "tags": []
   },
   "outputs": [],
   "source": [
    "sum(sample.column('Vote') == 'Trump') / sample.num_rows"
   ]
  },
  {
   "cell_type": "markdown",
   "metadata": {},
   "source": [
    "Let's write functions to do this! \n",
    "1. A function that takes a sample\n",
    "2. A function that computes the statistic (proportion of the sample that voted for Trump). "
   ]
  },
  {
   "cell_type": "code",
   "execution_count": null,
   "metadata": {
    "tags": []
   },
   "outputs": [],
   "source": [
    "def sample_votes(sample_size): \n",
    "    return votes.sample(sample_size)"
   ]
  },
  {
   "cell_type": "code",
   "execution_count": null,
   "metadata": {
    "tags": []
   },
   "outputs": [],
   "source": [
    "def proportion_vote_trump(sample): \n",
    "    return sum(sample.column('Vote') == 'Trump') / sample.num_rows"
   ]
  },
  {
   "cell_type": "code",
   "execution_count": null,
   "metadata": {
    "tags": []
   },
   "outputs": [],
   "source": [
    "sample = sample_votes(100)\n",
    "proportion_vote_trump(sample)"
   ]
  },
  {
   "cell_type": "code",
   "execution_count": null,
   "metadata": {
    "tags": []
   },
   "outputs": [],
   "source": [
    "proportion_vote_trump(sample_votes(100))"
   ]
  },
  {
   "cell_type": "code",
   "execution_count": null,
   "metadata": {
    "tags": []
   },
   "outputs": [],
   "source": [
    "proportion_vote_trump(sample_votes(1000))"
   ]
  },
  {
   "cell_type": "markdown",
   "metadata": {},
   "source": [
    "So far, we've been using a `simulate` function. Let's extend this to a function that can also take a sample size. We'll call this function `simulate_sample_statistic`. "
   ]
  },
  {
   "cell_type": "code",
   "execution_count": null,
   "metadata": {
    "tags": []
   },
   "outputs": [],
   "source": [
    "def simulate_sample_statistic(make_one_sample, sample_size,\n",
    "                              compute_sample_statistic, num_trials):\n",
    "    \"\"\"\n",
    "    Simulates num_trials sampling steps and returns an array of the\n",
    "    statistic for those samples.  The parameters are:\n",
    "\n",
    "    - make_one_sample: a function that takes an integer n and returns a \n",
    "                   sample as an array of n elements.\n",
    "    \n",
    "    - sample_size: the size of the samples to use in the simulation.\n",
    "    \n",
    "    - compute_statistic: a function that takes a sample as \n",
    "                         an array and returns the statistic for that sample. \n",
    "    \n",
    "    - num_trials: the number of simulation steps to perform.\n",
    "    \"\"\"\n",
    "\n",
    "    simulated_statistics = make_array()\n",
    "    for i in np.arange(0, num_trials):\n",
    "        simulated_sample = make_one_sample(sample_size)\n",
    "        sample_statistic = compute_sample_statistic(simulated_sample)\n",
    "        simulated_statistics = np.append(simulated_statistics, sample_statistic)\n",
    "    return simulated_statistics"
   ]
  },
  {
   "cell_type": "markdown",
   "metadata": {},
   "source": [
    "Let's use our simulation algorithm to create an empirical distribution. \n",
    "\n",
    "Suppose there are 1,000 polling companies and each uses a sample of 100 people. "
   ]
  },
  {
   "cell_type": "code",
   "execution_count": null,
   "metadata": {
    "tags": []
   },
   "outputs": [],
   "source": [
    "num_trials = 1000 #1,000 polling companies\n",
    "sample_size = 100 #100 people sampled by each polling company \n",
    "\n",
    "all_outcomes = simulate_sample_statistic(sample_votes, sample_size,\n",
    "                                         proportion_vote_trump, num_trials)\n",
    "all_outcomes"
   ]
  },
  {
   "cell_type": "code",
   "execution_count": null,
   "metadata": {
    "tags": []
   },
   "outputs": [],
   "source": [
    "simulated_results = Table().with_column('Proportion voting for Trump', all_outcomes)\n",
    "plot = simulated_results.hist()\n",
    "\n",
    "title = 'Empirical (approximate) distribution \\n num_trials='+str(num_trials)+ '\\n sample_size='+str(sample_size)\n",
    "plot.set_title(title)"
   ]
  },
  {
   "cell_type": "markdown",
   "metadata": {},
   "source": [
    "Let's make a function with our two free parameters, `num_trials` and `sample_size`. "
   ]
  },
  {
   "cell_type": "code",
   "execution_count": null,
   "metadata": {
    "tags": []
   },
   "outputs": [],
   "source": [
    "def simulate_and_plot_trump_pollster(num_trials, sample_size): \n",
    "    all_outcomes = simulate_sample_statistic(sample_votes, sample_size,\n",
    "                        proportion_vote_trump, num_trials)\n",
    "    simulated_results = Table().with_column('Proportion voting for Trump', all_outcomes)\n",
    "    plot = simulated_results.hist(bins=np.arange(0.3,0.71,0.025))\n",
    "    title = 'Empirical (approximate) distribution \\n num_trials='+str(num_trials)+ '\\n sample_size='+str(sample_size)\n",
    "    plot.set_title(title)    "
   ]
  },
  {
   "cell_type": "markdown",
   "metadata": {},
   "source": [
    "Here are a few choices for parameters.  Notice how each impacts the resulting histogram."
   ]
  },
  {
   "cell_type": "code",
   "execution_count": null,
   "metadata": {
    "tags": []
   },
   "outputs": [],
   "source": [
    "\n",
    "with Figure(2,2, sharey=True, sharex=True):\n",
    "    import matplotlib.pyplot as plots\n",
    "    simulate_and_plot_trump_pollster(100, 200)\n",
    "    simulate_and_plot_trump_pollster(100, 1000)\n",
    "    simulate_and_plot_trump_pollster(5000, 200)\n",
    "    simulate_and_plot_trump_pollster(5000, 1000)\n",
    "    plots.xlim(0.3, 0.7)\n",
    "    plots.ylim(0,30)    "
   ]
  },
  {
   "cell_type": "code",
   "execution_count": null,
   "metadata": {
    "tags": []
   },
   "outputs": [],
   "source": [
    "interact(simulate_and_plot_trump_pollster, \n",
    "         num_trials = Choice(make_array(1,10,100,1000,5000)), \n",
    "         sample_size = Choice(make_array(1,10,100,1000,5000)))"
   ]
  },
  {
   "cell_type": "markdown",
   "metadata": {},
   "source": [
    "**Big picture questions sampling**: \n",
    "- Why wouldn't we always just take really big of samples since they converge to the true distribution?\n",
    "\n",
    "**Big picture questions simulations**: \n",
    "- What are we abstracting away when we're writing code? What are we re-using over and over? "
   ]
  }
 ],
 "metadata": {
  "anaconda-cloud": {},
  "kernelspec": {
   "display_name": "Python 3 (ipykernel)",
   "language": "python",
   "name": "python3"
  },
  "language_info": {
   "codemirror_mode": {
    "name": "ipython",
    "version": 3
   },
   "file_extension": ".py",
   "mimetype": "text/x-python",
   "name": "python",
   "nbconvert_exporter": "python",
   "pygments_lexer": "ipython3",
   "version": "3.9.19"
  }
 },
 "nbformat": 4,
 "nbformat_minor": 4
}
