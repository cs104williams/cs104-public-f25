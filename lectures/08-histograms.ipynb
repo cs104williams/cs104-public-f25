{
 "cells": [
  {
   "cell_type": "markdown",
   "metadata": {},
   "source": [
    "# Histograms"
   ]
  },
  {
   "cell_type": "code",
   "execution_count": null,
   "metadata": {
    "tags": []
   },
   "outputs": [],
   "source": [
    "from datascience import *\n",
    "from cs104 import *\n",
    "import numpy as np\n",
    "\n",
    "%matplotlib inline"
   ]
  },
  {
   "cell_type": "markdown",
   "metadata": {},
   "source": [
    "# 0. Error practice"
   ]
  },
  {
   "cell_type": "code",
   "execution_count": null,
   "metadata": {
    "tags": []
   },
   "outputs": [],
   "source": [
    "majors = Table().read_table(\"data/majors.csv\")\n",
    "majors.show(5)"
   ]
  },
  {
   "cell_type": "code",
   "execution_count": null,
   "metadata": {
    "tags": [
     "raises-exception"
    ]
   },
   "outputs": [],
   "source": [
    "# Select only division 3 majors \n",
    "div3 = majors.where(\"Division\", are.equal_to(3)\n",
    "div3"
   ]
  },
  {
   "cell_type": "code",
   "execution_count": null,
   "metadata": {
    "tags": [
     "raises-exception"
    ]
   },
   "outputs": [],
   "source": [
    "# Get the number of majors across both time periods\n",
    "majors.select(\"2008-2012\") + majors.select(\"2018-2021\")"
   ]
  },
  {
   "cell_type": "markdown",
   "metadata": {},
   "source": [
    "## 1. Overlaid graphs"
   ]
  },
  {
   "cell_type": "markdown",
   "metadata": {},
   "source": [
    "Sometimes we want to see more than one plot on a single graph."
   ]
  },
  {
   "cell_type": "markdown",
   "metadata": {},
   "source": [
    "### Overlaid bar charts"
   ]
  },
  {
   "cell_type": "code",
   "execution_count": null,
   "metadata": {
    "tags": []
   },
   "outputs": [],
   "source": [
    "div3 = majors.where(\"Division\", are.equal_to(3)).drop(\"Division\")\n",
    "div3"
   ]
  },
  {
   "cell_type": "code",
   "execution_count": null,
   "metadata": {
    "tags": []
   },
   "outputs": [],
   "source": [
    "# First graph for 2008-2012\n",
    "div3.barh(\"Major\", \"2008-2012\")\n",
    "# Second graph from 2018-2021\n",
    "div3.barh(\"Major\", \"2018-2021\")"
   ]
  },
  {
   "cell_type": "markdown",
   "metadata": {},
   "source": [
    "Overlaid graph puts the two graphs together to make comparison easier.\n",
    "\n",
    "The package we're using will automatically make overlaid graphs with the remainder of the columns if you give it just one parameter. "
   ]
  },
  {
   "cell_type": "code",
   "execution_count": null,
   "metadata": {
    "tags": []
   },
   "outputs": [],
   "source": [
    "div3.barh(\"Major\")"
   ]
  },
  {
   "cell_type": "markdown",
   "metadata": {},
   "source": [
    "### Overlaid line plots"
   ]
  },
  {
   "cell_type": "code",
   "execution_count": null,
   "metadata": {
    "tags": []
   },
   "outputs": [],
   "source": [
    "temps_by_month = Table().read_table(\"data/temps_by_month_upernavik.csv\")\n",
    "temps_by_month.show(5)"
   ]
  },
  {
   "cell_type": "markdown",
   "metadata": {},
   "source": [
    "As with bar charts, if you supply only one parameter, the `plot` method will plot a line for every other column."
   ]
  },
  {
   "cell_type": "code",
   "execution_count": null,
   "metadata": {
    "tags": []
   },
   "outputs": [],
   "source": [
    "temps_by_month.plot(\"Year\")"
   ]
  },
  {
   "cell_type": "markdown",
   "metadata": {},
   "source": [
    "Qualitatively, we can see that the plot above has too much information on it which makes it not very useful for understand trends. "
   ]
  },
  {
   "cell_type": "code",
   "execution_count": null,
   "metadata": {
    "tags": []
   },
   "outputs": [],
   "source": [
    "temps_by_month.select(\"Year\", \"Feb\", \"Aug\").plot(\"Year\")"
   ]
  },
  {
   "cell_type": "markdown",
   "metadata": {},
   "source": [
    "### Overlaid scatter plots \n",
    "* We want to plot points (the values of two numerical variables) from different groups on the same graph.\n",
    "* A new approach.  Use categorical variable to break the rows into groups of related points in the plot."
   ]
  },
  {
   "cell_type": "code",
   "execution_count": null,
   "metadata": {
    "tags": []
   },
   "outputs": [],
   "source": [
    "finch_1975 = Table().read_table(\"data/finch_beaks_1975.csv\")\n",
    "finch_1975.show(6)"
   ]
  },
  {
   "cell_type": "code",
   "execution_count": null,
   "metadata": {
    "tags": []
   },
   "outputs": [],
   "source": [
    "finch_1975.scatter(\"Beak length, mm\", \"Beak depth, mm\", group=\"species\")"
   ]
  },
  {
   "cell_type": "markdown",
   "metadata": {},
   "source": [
    "**Takeaway:** The overlaid scatter plot above helps us very quickly discern differences between groups. In this case, we can quickly tell that the two Finch species have evolved (via natural selection) to have different beak characteristics. "
   ]
  },
  {
   "cell_type": "markdown",
   "metadata": {},
   "source": [
    "## 2. Histograms\n",
    "\n",
    "A Histogram shows us the **distribution of a numerical variable**."
   ]
  },
  {
   "cell_type": "markdown",
   "metadata": {},
   "source": [
    "### Midterm scores"
   ]
  },
  {
   "cell_type": "code",
   "execution_count": null,
   "metadata": {
    "tags": []
   },
   "outputs": [],
   "source": [
    "scores = Table().read_table(\"data/scores_by_section.csv\")\n",
    "scores = scores.relabeled(\"Midterm\", \"Midterm 1\")\n",
    "scores"
   ]
  },
  {
   "cell_type": "markdown",
   "metadata": {},
   "source": [
    "Let's subset to just section 4 for now. "
   ]
  },
  {
   "cell_type": "code",
   "execution_count": null,
   "metadata": {
    "tags": []
   },
   "outputs": [],
   "source": [
    "scores_sec4 = scores.where(\"Section\", 4)\n",
    "scores_sec4"
   ]
  },
  {
   "cell_type": "markdown",
   "metadata": {},
   "source": [
    "A **histogram** can give us a sense of the data as a whole:  What are the common values?  What are uncommon? How much variability is there?  What are the extremes?"
   ]
  },
  {
   "cell_type": "code",
   "execution_count": null,
   "metadata": {
    "tags": []
   },
   "outputs": [],
   "source": [
    "scores_sec4.hist(\"Midterm 1\")"
   ]
  },
  {
   "cell_type": "markdown",
   "metadata": {},
   "source": [
    "### Class survey: Distance from home"
   ]
  },
  {
   "cell_type": "markdown",
   "metadata": {},
   "source": [
    "#### Load Data"
   ]
  },
  {
   "cell_type": "code",
   "execution_count": null,
   "metadata": {
    "tags": []
   },
   "outputs": [],
   "source": [
    "survey = Table().read_table(\"data/prelab01-survey-fall2025.csv\")\n",
    "survey.show(5)"
   ]
  },
  {
   "cell_type": "code",
   "execution_count": null,
   "metadata": {
    "tags": []
   },
   "outputs": [],
   "source": [
    "survey.labels"
   ]
  },
  {
   "cell_type": "code",
   "execution_count": null,
   "metadata": {
    "tags": []
   },
   "outputs": [],
   "source": [
    "distance_home = survey.column('Distance Home (in miles)')\n",
    "distance_home"
   ]
  },
  {
   "cell_type": "markdown",
   "metadata": {},
   "source": [
    "Some basic info about the distances:"
   ]
  },
  {
   "cell_type": "code",
   "execution_count": null,
   "metadata": {
    "tags": []
   },
   "outputs": [],
   "source": [
    "len(distance_home)"
   ]
  },
  {
   "cell_type": "code",
   "execution_count": null,
   "metadata": {
    "tags": []
   },
   "outputs": [],
   "source": [
    "np.mean(distance_home)"
   ]
  },
  {
   "cell_type": "code",
   "execution_count": null,
   "metadata": {
    "tags": []
   },
   "outputs": [],
   "source": [
    "max(distance_home)"
   ]
  },
  {
   "cell_type": "markdown",
   "metadata": {},
   "source": [
    "Sneak preview of a histogram for those distances"
   ]
  },
  {
   "cell_type": "code",
   "execution_count": null,
   "metadata": {
    "tags": []
   },
   "outputs": [],
   "source": [
    "survey.hist('Distance Home (in miles)', bins=np.arange(0, 12000, 2000))"
   ]
  },
  {
   "cell_type": "markdown",
   "metadata": {},
   "source": [
    "## 3. Binning"
   ]
  },
  {
   "cell_type": "code",
   "execution_count": null,
   "metadata": {
    "tags": []
   },
   "outputs": [],
   "source": [
    "survey.show(3)"
   ]
  },
  {
   "cell_type": "markdown",
   "metadata": {},
   "source": [
    "We have a method in our package that can make bins automatically: `table.bin`."
   ]
  },
  {
   "cell_type": "code",
   "execution_count": null,
   "metadata": {
    "tags": []
   },
   "outputs": [],
   "source": [
    "our_range = np.arange(0,12000,2000)\n",
    "our_range"
   ]
  },
  {
   "cell_type": "code",
   "execution_count": null,
   "metadata": {
    "tags": []
   },
   "outputs": [],
   "source": [
    "binned_distance_home = survey.bin('Distance Home (in miles)', bins=our_range)\n",
    "binned_distance_home"
   ]
  },
  {
   "cell_type": "markdown",
   "metadata": {},
   "source": [
    "Let's add a column that is the percentage in each bin. "
   ]
  },
  {
   "cell_type": "code",
   "execution_count": null,
   "metadata": {
    "tags": []
   },
   "outputs": [],
   "source": [
    "percent = binned_distance_home.column('Distance Home (in miles) count') / survey.num_rows * 100\n",
    "percent_table = binned_distance_home.with_columns('Percent', percent)\n",
    "percent_table"
   ]
  },
  {
   "cell_type": "markdown",
   "metadata": {},
   "source": [
    "### Histogram of distances from home"
   ]
  },
  {
   "cell_type": "code",
   "execution_count": null,
   "metadata": {
    "tags": []
   },
   "outputs": [],
   "source": [
    "survey.hist('Distance Home (in miles)', bins= np.arange(0,12000,2000))"
   ]
  },
  {
   "cell_type": "markdown",
   "metadata": {},
   "source": [
    "**Think-pair-share:** Calculate the area of each bar in the histogram (estimating the height). Then show the sum of the area of all the bars equals 100.  "
   ]
  },
  {
   "cell_type": "code",
   "execution_count": null,
   "metadata": {
    "tags": []
   },
   "outputs": [],
   "source": [
    "#Possible approximations\n",
    "widths = make_array(2000, 2000, 2000, 2000, 2000)\n",
    "heights = make_array(0.038, 0.007, 0.001, 0.002, 0.002)\n",
    "areas = widths*heights\n",
    "areas"
   ]
  },
  {
   "cell_type": "code",
   "execution_count": null,
   "metadata": {
    "tags": []
   },
   "outputs": [],
   "source": [
    "sum(areas)"
   ]
  },
  {
   "cell_type": "markdown",
   "metadata": {},
   "source": [
    "Let's check our estimates. "
   ]
  },
  {
   "cell_type": "code",
   "execution_count": null,
   "metadata": {
    "tags": []
   },
   "outputs": [],
   "source": [
    "percent_table"
   ]
  },
  {
   "cell_type": "markdown",
   "metadata": {},
   "source": [
    "Cool! We're pretty close to the actual areas! Great!"
   ]
  },
  {
   "cell_type": "markdown",
   "metadata": {},
   "source": [
    "Let's work backwards now and see how our `hist()` method calculated the y-axis. "
   ]
  },
  {
   "cell_type": "markdown",
   "metadata": {},
   "source": [
    "1. Let's look at the first bar/bin. "
   ]
  },
  {
   "cell_type": "code",
   "execution_count": null,
   "metadata": {
    "tags": []
   },
   "outputs": [],
   "source": [
    "bin0 = percent_table.take(0)\n",
    "bin0"
   ]
  },
  {
   "cell_type": "markdown",
   "metadata": {},
   "source": [
    "Recall, the height is equal to the `(percent of entries in the bin) / width of the bin`"
   ]
  },
  {
   "cell_type": "code",
   "execution_count": null,
   "metadata": {
    "tags": []
   },
   "outputs": [],
   "source": [
    "percent_in_bin0 =  bin0.column('Percent').item(0)\n",
    "percent_in_bin0"
   ]
  },
  {
   "cell_type": "code",
   "execution_count": null,
   "metadata": {
    "tags": []
   },
   "outputs": [],
   "source": [
    "height0 = percent_in_bin0/2000\n",
    "height0"
   ]
  },
  {
   "cell_type": "markdown",
   "metadata": {},
   "source": [
    "Fantastic! That's what we see on the y-axis on the histogram. "
   ]
  },
  {
   "cell_type": "markdown",
   "metadata": {},
   "source": [
    "### More histogram practice"
   ]
  },
  {
   "cell_type": "code",
   "execution_count": null,
   "metadata": {
    "tags": []
   },
   "outputs": [],
   "source": [
    "survey.show(5)"
   ]
  },
  {
   "cell_type": "code",
   "execution_count": null,
   "metadata": {
    "tags": []
   },
   "outputs": [],
   "source": [
    "survey.labels"
   ]
  },
  {
   "cell_type": "code",
   "execution_count": null,
   "metadata": {
    "tags": []
   },
   "outputs": [],
   "source": [
    "plot = survey.hist('Height (in inches)', bins=np.arange(58,80,2))\n",
    "plot.set_ylim(0,0.15)\n",
    "plot.set_title(\"Students in CS 104\")"
   ]
  },
  {
   "cell_type": "markdown",
   "metadata": {},
   "source": [
    "### Think-pair-share: Approximating Histogram of heights\n",
    "1. Approximate the percentage of the class that has height greater than or equal to 70 inches but less than 72 inches. \n",
    "2. How many students is this? We know 58 students responded to our survey. "
   ]
  },
  {
   "cell_type": "code",
   "execution_count": null,
   "metadata": {
    "tags": []
   },
   "outputs": [],
   "source": [
    "survey.num_rows"
   ]
  },
  {
   "cell_type": "code",
   "execution_count": null,
   "metadata": {
    "tags": []
   },
   "outputs": [],
   "source": [
    "answer_q1 = 7 * 2\n",
    "answer_q1"
   ]
  },
  {
   "cell_type": "code",
   "execution_count": null,
   "metadata": {
    "tags": []
   },
   "outputs": [],
   "source": [
    "answer_q2 = answer_q1 / 100 * 59\n",
    "answer_q2"
   ]
  },
  {
   "cell_type": "markdown",
   "metadata": {},
   "source": [
    "We can't have a fraction of a student so our approximation was probably slightly incorrect.  The real count is 8."
   ]
  },
  {
   "cell_type": "code",
   "execution_count": null,
   "metadata": {
    "tags": []
   },
   "outputs": [],
   "source": [
    "survey.where('Height (in inches)', are.between(70, 72)).num_rows"
   ]
  },
  {
   "cell_type": "markdown",
   "metadata": {
    "tags": []
   },
   "source": [
    "### Overlaid histograms"
   ]
  },
  {
   "cell_type": "markdown",
   "metadata": {},
   "source": [
    "#### Scores \n",
    "Circle back around to our midterm data. "
   ]
  },
  {
   "cell_type": "code",
   "execution_count": null,
   "metadata": {
    "tags": []
   },
   "outputs": [],
   "source": [
    "scores"
   ]
  },
  {
   "cell_type": "code",
   "execution_count": null,
   "metadata": {
    "tags": []
   },
   "outputs": [],
   "source": [
    "scores_sec4 = scores.where(\"Section\", 4)\n",
    "scores_sec4.hist(\"Midterm 1\")"
   ]
  },
  {
   "cell_type": "markdown",
   "metadata": {},
   "source": [
    "Like `scatter` we can create overlaid histograms with the `group=` named variable"
   ]
  },
  {
   "cell_type": "code",
   "execution_count": null,
   "metadata": {
    "tags": []
   },
   "outputs": [],
   "source": [
    "scores.hist(\"Midterm 1\", group=\"Section\", bins=10)"
   ]
  },
  {
   "cell_type": "markdown",
   "metadata": {},
   "source": [
    "#### Finches\n",
    "One more overlay, for the two finch species."
   ]
  },
  {
   "cell_type": "code",
   "execution_count": null,
   "metadata": {
    "tags": []
   },
   "outputs": [],
   "source": [
    "finch_1975.show(10)"
   ]
  },
  {
   "cell_type": "code",
   "execution_count": null,
   "metadata": {
    "tags": []
   },
   "outputs": [],
   "source": [
    "finch_1975.hist(\"Beak length, mm\", bins=20)"
   ]
  },
  {
   "cell_type": "code",
   "execution_count": null,
   "metadata": {
    "tags": []
   },
   "outputs": [],
   "source": [
    "plot = finch_1975.hist(\"Beak length, mm\", group=\"species\")\n",
    "plot.set_title(\"Finches, 1975\")"
   ]
  },
  {
   "cell_type": "markdown",
   "metadata": {},
   "source": [
    "Try different bins to see differences in granularity."
   ]
  },
  {
   "cell_type": "code",
   "execution_count": null,
   "metadata": {
    "tags": []
   },
   "outputs": [],
   "source": [
    "def hist_with_bins(bins):\n",
    "    finch_1975.hist(\"Beak length, mm\", group=\"species\", legend=False, bins=bins,  title=str(bins) + \" bins\")\n",
    "\n",
    "interact(hist_with_bins, bins=Slider(1,20))"
   ]
  },
  {
   "cell_type": "markdown",
   "metadata": {},
   "source": [
    "A few different histograms side-by-side:"
   ]
  },
  {
   "cell_type": "code",
   "execution_count": null,
   "metadata": {},
   "outputs": [],
   "source": [
    "with Figure(2,2, figsize=(4,3)):\n",
    "    finch_1975.hist(\"Beak length, mm\", group=\"species\", legend=False, bins=6,  title=\"6 bins\")\n",
    "    finch_1975.hist(\"Beak length, mm\", group=\"species\", legend=False, bins=10, title=\"10 bins\")    \n",
    "    finch_1975.hist(\"Beak length, mm\", group=\"species\", legend=False, bins=15, title=\"16 bins\")\n",
    "    finch_1975.hist(\"Beak length, mm\", group=\"species\", legend=False, bins=20, title=\"20 bins\")\n"
   ]
  }
 ],
 "metadata": {
  "anaconda-cloud": {},
  "kernelspec": {
   "display_name": "Python 3 (ipykernel)",
   "language": "python",
   "name": "python3"
  },
  "language_info": {
   "codemirror_mode": {
    "name": "ipython",
    "version": 3
   },
   "file_extension": ".py",
   "mimetype": "text/x-python",
   "name": "python",
   "nbconvert_exporter": "python",
   "pygments_lexer": "ipython3",
   "version": "3.11.13"
  },
  "widgets": {
   "application/vnd.jupyter.widget-state+json": {
    "state": {
     "20ab5e8cf7e94132ab07a0f81ee2c6ee": {
      "model_module": "@jupyter-widgets/base",
      "model_module_version": "1.2.0",
      "model_name": "LayoutModel",
      "state": {}
     },
     "44ab00404ccd42fcab2b72f9d7d07d87": {
      "model_module": "@jupyter-widgets/base",
      "model_module_version": "1.2.0",
      "model_name": "LayoutModel",
      "state": {}
     },
     "4558ce9555ca45a6be4af3d788fcdf96": {
      "model_module": "@jupyter-widgets/controls",
      "model_module_version": "1.5.0",
      "model_name": "VBoxModel",
      "state": {
       "_dom_classes": [
        "widget-interact"
       ],
       "children": [
        "IPY_MODEL_8db0403408fd4a0fb1949bd451656ea5",
        "IPY_MODEL_612a10789b594b7b84cb75359fffa60a"
       ],
       "layout": "IPY_MODEL_20ab5e8cf7e94132ab07a0f81ee2c6ee"
      }
     },
     "612a10789b594b7b84cb75359fffa60a": {
      "model_module": "@jupyter-widgets/output",
      "model_module_version": "1.0.0",
      "model_name": "OutputModel",
      "state": {
       "layout": "IPY_MODEL_6aea230abfcb4254891f9793bc26430f",
       "outputs": [
        {
         "data": {
          "image/png": "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",
          "text/plain": "<Figure size 600x400 with 1 Axes>"
         },
         "metadata": {},
         "output_type": "display_data"
        }
       ]
      }
     },
     "6aea230abfcb4254891f9793bc26430f": {
      "model_module": "@jupyter-widgets/base",
      "model_module_version": "1.2.0",
      "model_name": "LayoutModel",
      "state": {}
     },
     "8db0403408fd4a0fb1949bd451656ea5": {
      "model_module": "@jupyter-widgets/controls",
      "model_module_version": "1.5.0",
      "model_name": "IntSliderModel",
      "state": {
       "description": "bins",
       "layout": "IPY_MODEL_44ab00404ccd42fcab2b72f9d7d07d87",
       "max": 20,
       "min": 1,
       "style": "IPY_MODEL_ae218e477b5c4a7485edce50f3ab37d6",
       "value": 14
      }
     },
     "ae218e477b5c4a7485edce50f3ab37d6": {
      "model_module": "@jupyter-widgets/controls",
      "model_module_version": "1.5.0",
      "model_name": "SliderStyleModel",
      "state": {
       "description_width": ""
      }
     }
    },
    "version_major": 2,
    "version_minor": 0
   }
  }
 },
 "nbformat": 4,
 "nbformat_minor": 4
}
