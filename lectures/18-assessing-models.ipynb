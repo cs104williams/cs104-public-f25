{
 "cells": [
  {
   "cell_type": "markdown",
   "metadata": {
    "tags": []
   },
   "source": [
    "# Assessing Models"
   ]
  },
  {
   "cell_type": "code",
   "execution_count": null,
   "metadata": {
    "tags": []
   },
   "outputs": [],
   "source": [
    "from datascience import *\n",
    "from cs104 import *\n",
    "import numpy as np\n",
    "%matplotlib inline"
   ]
  },
  {
   "cell_type": "markdown",
   "metadata": {
    "tags": []
   },
   "source": [
    "## 1. Mendel and Pea Flowers"
   ]
  },
  {
   "cell_type": "markdown",
   "metadata": {},
   "source": [
    "We know we'll be using our `simulate_sample_statistic` from [our inference library](https://www.cs.williams.edu/~cs104/auto/inference-library-ref.html), so let's build and check all these pieces!\n",
    "\n",
    "```python\n",
    "simulate_sample_statistic(\n",
    "   make_one_sample,\n",
    "   sample_size,\n",
    "   compute_sample_statistic,\n",
    "   num_trials)\n",
    "```"
   ]
  },
  {
   "cell_type": "markdown",
   "metadata": {},
   "source": [
    "**Observed sample:** In Mendel's one sample (his own garden), he had 929 second new generation pea plants, of which 709 had purple flowers.  We compute the percent purple he observed:"
   ]
  },
  {
   "cell_type": "code",
   "execution_count": null,
   "metadata": {
    "tags": []
   },
   "outputs": [],
   "source": [
    "observed_sample_size = 929\n",
    "observed_purple_percent = 709 / observed_sample_size * 100\n",
    "observed_purple_percent"
   ]
  },
  {
   "cell_type": "markdown",
   "metadata": {},
   "source": [
    "**Model**: Mendel hypothesized (based on his preliminary theories of genetics) that he should have gotten 75% purple and 25% white. "
   ]
  },
  {
   "cell_type": "code",
   "execution_count": null,
   "metadata": {
    "tags": []
   },
   "outputs": [],
   "source": [
    "hypothesized_purple_proportion = 0.75"
   ]
  },
  {
   "cell_type": "markdown",
   "metadata": {},
   "source": [
    "Let's represent our population as an array showing the proportion of purple and white flowers under our model assumption.  (This sets us up for sampling...)"
   ]
  },
  {
   "cell_type": "code",
   "execution_count": null,
   "metadata": {
    "tags": []
   },
   "outputs": [],
   "source": [
    "hypothesized_proportions = make_array(hypothesized_purple_proportion, \n",
    "                                      1 - hypothesized_purple_proportion) \n",
    "hypothesized_proportions"
   ]
  },
  {
   "cell_type": "markdown",
   "metadata": {},
   "source": [
    "In the Python library reference, we see can use the function [sample_proportions(sample_size, model_proportions)](https://www.cs.williams.edu/~cs104/auto/python-library-ref.html#sample_proportions) to sample based on those proportions.  We want to represent our sample as the **percent** purple and percent white, so don't forget to multiply by 100! "
   ]
  },
  {
   "cell_type": "code",
   "execution_count": null,
   "metadata": {
    "tags": []
   },
   "outputs": [],
   "source": [
    "sample = 100 * sample_proportions(observed_sample_size, hypothesized_proportions)\n",
    "sample"
   ]
  },
  {
   "cell_type": "markdown",
   "metadata": {},
   "source": [
    "Let's put it into a function. "
   ]
  },
  {
   "cell_type": "code",
   "execution_count": null,
   "metadata": {
    "tags": []
   },
   "outputs": [],
   "source": [
    "def flowers_make_sample(sample_size): \n",
    "    \"\"\"\n",
    "    Return the percents of purple flowers and white flowers in an array\n",
    "    \"\"\"\n",
    "    hypothesized_purple_proportion = 0.75\n",
    "    hypothesized_proportions = make_array(hypothesized_purple_proportion, \n",
    "                                          1 - hypothesized_purple_proportion) \n",
    "    sample = 100 * sample_proportions(sample_size, hypothesized_proportions)\n",
    "    return sample"
   ]
  },
  {
   "cell_type": "code",
   "execution_count": null,
   "metadata": {
    "tags": []
   },
   "outputs": [],
   "source": [
    "flowers_make_sample(10)"
   ]
  },
  {
   "cell_type": "code",
   "execution_count": null,
   "metadata": {
    "tags": []
   },
   "outputs": [],
   "source": [
    "flowers_make_sample(observed_sample_size)"
   ]
  },
  {
   "cell_type": "markdown",
   "metadata": {},
   "source": [
    "The two items in the array returned from our sampling function correspond to the percent of purple and white flowering plants in our sample.  So the \"percent purple\" statistic is defined as follows:"
   ]
  },
  {
   "cell_type": "code",
   "execution_count": null,
   "metadata": {
    "tags": []
   },
   "outputs": [],
   "source": [
    "def stat_percent_purple(sample): \n",
    "    return sample.item(0)\n",
    "\n",
    "stat_percent_purple(sample)"
   ]
  },
  {
   "cell_type": "markdown",
   "metadata": {},
   "source": [
    "Now let's use our function `simulate_sample_statistic`.  "
   ]
  },
  {
   "cell_type": "code",
   "execution_count": null,
   "metadata": {
    "tags": []
   },
   "outputs": [],
   "source": [
    "num_trials = 1000\n",
    "\n",
    "all_outcomes = simulate_sample_statistic(flowers_make_sample, observed_sample_size,\n",
    "                                         stat_percent_purple, num_trials)"
   ]
  },
  {
   "cell_type": "code",
   "execution_count": null,
   "metadata": {
    "tags": []
   },
   "outputs": [],
   "source": [
    "results = Table().with_column('Percent purple flowers', all_outcomes)\n",
    "plot = results.hist()\n",
    "plot.set_title('Simulated Outcomes\\n observed sample size=' + str(observed_sample_size))"
   ]
  },
  {
   "cell_type": "markdown",
   "metadata": {},
   "source": [
    "Connecting these pieces together: \n",
    "- In Mendel's model, he hypothesized getting purple flowers was like flipping a biased coin and getting heads 75% of the time. \n",
    "- We simulated outcomes under this hypothesis. \n",
    "- Now let's check if the observed data (that there were 76.3% purple flowers in one sample, Mendel's own garden) \"fits\" with the simulated outcomes under the model "
   ]
  },
  {
   "cell_type": "code",
   "execution_count": null,
   "metadata": {
    "tags": []
   },
   "outputs": [],
   "source": [
    "plot = results.hist()\n",
    "plot.set_title('Simulated Outcomes\\n observed sample size=' + str(observed_sample_size))\n",
    "plot.line(x=75,lw=4,linestyle=\"dashed\")\n",
    "plot.dot(observed_purple_percent)"
   ]
  },
  {
   "cell_type": "markdown",
   "metadata": {
    "tags": []
   },
   "source": [
    "## 2. Swain vs. Alabama\n",
    "\n",
    "In the 1960s, eligible juror population at the time was men who were at 21 years old.  \n",
    "\n",
    "In Talladega County, where the trial was held, 26% of the eligible jurors were Black.  The 100-person panel of prospective jurors had 8 Black individuals.  Should we expect this situation to happen frequently? Sometimes? Ever?"
   ]
  },
  {
   "cell_type": "markdown",
   "metadata": {},
   "source": [
    "Once again, we'll be using our algorithm/function for simulating statistics. \n",
    "\n",
    "```\n",
    "simulate_sample_statistic(make_sample,\n",
    "   sample_size,\n",
    "   compute_statistic,\n",
    "   num_trials)\n",
    "```"
   ]
  },
  {
   "cell_type": "markdown",
   "metadata": {},
   "source": [
    "**Make one sample.** We will sample panels from our hypothesized categorical distribution (26% Black and 74% non-Black jurors) which is the same oas the eligible juror population. "
   ]
  },
  {
   "cell_type": "code",
   "execution_count": null,
   "metadata": {
    "tags": []
   },
   "outputs": [],
   "source": [
    "population_percent_black = 26\n",
    "population_proportions = make_array(population_percent_black / 100,\n",
    "                                    1 - population_percent_black / 100)\n",
    "population_proportions"
   ]
  },
  {
   "cell_type": "code",
   "execution_count": null,
   "metadata": {
    "tags": []
   },
   "outputs": [],
   "source": [
    "sample_size = 10\n",
    "sample_proportions(sample_size, population_proportions)"
   ]
  },
  {
   "cell_type": "code",
   "execution_count": null,
   "metadata": {
    "tags": []
   },
   "outputs": [],
   "source": [
    "def simulate_panel_selection(sample_size):\n",
    "    \"\"\"Return an array with the counts of [black, non-black] panelists in sample.\"\"\"\n",
    "    props = sample_proportions(sample_size, population_proportions)\n",
    "    return np.round(sample_size * props)  # no fractional persons"
   ]
  },
  {
   "cell_type": "code",
   "execution_count": null,
   "metadata": {
    "tags": []
   },
   "outputs": [],
   "source": [
    "sample = simulate_panel_selection(100)\n",
    "sample "
   ]
  },
  {
   "cell_type": "code",
   "execution_count": null,
   "metadata": {
    "tags": []
   },
   "outputs": [],
   "source": [
    "def percent_black_statistic(sample): \n",
    "    \"\"\" Percent black panelists (for any sample size)\"\"\"\n",
    "    return sample.item(0) / sum(sample) * 100"
   ]
  },
  {
   "cell_type": "code",
   "execution_count": null,
   "metadata": {
    "tags": []
   },
   "outputs": [],
   "source": [
    "percent_black_statistic(sample)"
   ]
  },
  {
   "cell_type": "markdown",
   "metadata": {},
   "source": [
    "Now we're ready to use `simulate_sample_statistic`. "
   ]
  },
  {
   "cell_type": "code",
   "execution_count": null,
   "metadata": {
    "tags": []
   },
   "outputs": [],
   "source": [
    "sample_size = 100 # The actual observed number of panelists\n",
    "num_trials = 5000\n",
    "all_outcomes = simulate_sample_statistic(simulate_panel_selection, sample_size, \n",
    "                                         percent_black_statistic, num_trials)"
   ]
  },
  {
   "cell_type": "markdown",
   "metadata": {},
   "source": [
    "Let's plot to create the empirical distribution with our hypothesis. "
   ]
  },
  {
   "cell_type": "code",
   "execution_count": null,
   "metadata": {
    "tags": []
   },
   "outputs": [],
   "source": [
    "simulated_black_panelists_results = Table().with_column('Percent Black Panelists', \n",
    "                                                        all_outcomes)\n",
    "plot = simulated_black_panelists_results.hist(bins=np.arange(0, 51, 2))\n",
    "\n",
    "# Purple line for the model parameter\n",
    "plot.line(x = population_percent_black, linestyle=\"--\", color='purple', width=4)\n",
    "\n",
    "# Red dot for the statistic on the observed (not simulated) data\n",
    "observed_black_panelists_count = 8\n",
    "plot.dot(observed_black_panelists_count)"
   ]
  }
 ],
 "metadata": {
  "kernelspec": {
   "display_name": "Python 3 (ipykernel)",
   "language": "python",
   "name": "python3"
  },
  "language_info": {
   "codemirror_mode": {
    "name": "ipython",
    "version": 3
   },
   "file_extension": ".py",
   "mimetype": "text/x-python",
   "name": "python",
   "nbconvert_exporter": "python",
   "pygments_lexer": "ipython3",
   "version": "3.9.13"
  }
 },
 "nbformat": 4,
 "nbformat_minor": 4
}
