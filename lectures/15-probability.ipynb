{
 "cells": [
  {
   "cell_type": "markdown",
   "metadata": {},
   "source": [
    "# Probability"
   ]
  },
  {
   "cell_type": "code",
   "execution_count": null,
   "metadata": {
    "tags": []
   },
   "outputs": [],
   "source": [
    "from datascience import *\n",
    "from cs104 import *\n",
    "import numpy as np\n",
    "%matplotlib inline"
   ]
  },
  {
   "cell_type": "markdown",
   "metadata": {
    "tags": []
   },
   "source": [
    "## 1. Random Choice, Loops, Simulation Review "
   ]
  },
  {
   "cell_type": "markdown",
   "metadata": {
    "tags": []
   },
   "source": [
    "<img src=\"https://upload.wikimedia.org/wikipedia/commons/7/74/Pompey_by_Nasidius.jpg\" width=50%>\n",
    "\n",
    "In the last lecture, we wrote the following code to simulate tossing a coin 100 times and counting the number of heads."
   ]
  },
  {
   "cell_type": "code",
   "execution_count": null,
   "metadata": {
    "tags": []
   },
   "outputs": [],
   "source": [
    "coin = make_array('heads', 'tails')"
   ]
  },
  {
   "cell_type": "code",
   "execution_count": null,
   "metadata": {
    "tags": []
   },
   "outputs": [],
   "source": [
    "np.random.choice(coin)"
   ]
  },
  {
   "cell_type": "code",
   "execution_count": null,
   "metadata": {
    "tags": []
   },
   "outputs": [],
   "source": [
    "flips = np.random.choice(coin, 100)\n",
    "flips"
   ]
  },
  {
   "cell_type": "code",
   "execution_count": null,
   "metadata": {
    "tags": []
   },
   "outputs": [],
   "source": [
    "np.count_nonzero(flips == 'heads')"
   ]
  },
  {
   "cell_type": "code",
   "execution_count": null,
   "metadata": {
    "tags": []
   },
   "outputs": [],
   "source": [
    "def heads_in_100_flips():\n",
    "    \"\"\" Returns the number of heads in 100 flips of\n",
    "    a fair coin \"\"\"\n",
    "    coin = make_array('heads', 'tails')\n",
    "    flips = np.random.choice(coin, 100)\n",
    "    return np.count_nonzero(flips == 'heads')"
   ]
  },
  {
   "cell_type": "code",
   "execution_count": null,
   "metadata": {
    "tags": []
   },
   "outputs": [],
   "source": [
    "heads_in_100_flips()"
   ]
  },
  {
   "cell_type": "markdown",
   "metadata": {},
   "source": [
    "We also wrote a simulation look using our algorithm to emperically estimate the probability of getting between 40 and 60 heads in 100 flips.\n",
    "\n",
    "**Generic simulation algorithm:**\n",
    "\n",
    "- Repeat N times: \n",
    "    - Simulate one trial \n",
    "    - Record the outcome \n",
    "- Analyze outcomes for all trials"
   ]
  },
  {
   "cell_type": "markdown",
   "metadata": {
    "tags": []
   },
   "source": [
    "We record the outcomes by appending them to an array."
   ]
  },
  {
   "cell_type": "code",
   "execution_count": null,
   "metadata": {
    "tags": []
   },
   "outputs": [],
   "source": [
    "# Create an empty array\n",
    "outcomes = make_array()"
   ]
  },
  {
   "cell_type": "code",
   "execution_count": null,
   "metadata": {
    "tags": []
   },
   "outputs": [],
   "source": [
    "# Run this a bunch -- each run adds one more element to outcomes\n",
    "num_heads = heads_in_100_flips()\n",
    "outcomes = np.append(outcomes, num_heads)\n",
    "outcomes"
   ]
  },
  {
   "cell_type": "markdown",
   "metadata": {},
   "source": [
    "Now make a loop!"
   ]
  },
  {
   "cell_type": "code",
   "execution_count": null,
   "metadata": {
    "tags": []
   },
   "outputs": [],
   "source": [
    "num_trials = 10000\n",
    "outcomes = make_array()\n",
    "for i in np.arange(0, num_trials):\n",
    "    num_heads = heads_in_100_flips()\n",
    "    outcomes = np.append(outcomes, num_heads)\n",
    "    \n",
    "outcomes"
   ]
  },
  {
   "cell_type": "code",
   "execution_count": null,
   "metadata": {
    "tags": []
   },
   "outputs": [],
   "source": [
    "simulated_results = Table().with_columns('Heads in 100 flips', \n",
    "                                        outcomes)\n",
    "plot = simulated_results.hist(bins=np.arange(30, 70, 1))\n",
    "plot.interval(40,60)"
   ]
  },
  {
   "cell_type": "code",
   "execution_count": null,
   "metadata": {
    "tags": []
   },
   "outputs": [],
   "source": [
    "target_range = simulated_results.where(\"Heads in 100 flips\", \n",
    "                                       are.between(40,60))\n",
    "proportion_40_to_60 = target_range.num_rows / simulated_results.num_rows\n",
    "print('proportion between 40 and 60:', proportion_40_to_60)"
   ]
  },
  {
   "cell_type": "markdown",
   "metadata": {
    "tags": []
   },
   "source": [
    "## 2. A general simulation function"
   ]
  },
  {
   "cell_type": "markdown",
   "metadata": {
    "tags": []
   },
   "source": [
    "Let's make a *reusable* version of our simulation.  That is, let's make a function to do the work and produce the outcomes array.  We can start with our simulation loop above:"
   ]
  },
  {
   "cell_type": "code",
   "execution_count": null,
   "metadata": {
    "tags": []
   },
   "outputs": [],
   "source": [
    "num_trials = 10000\n",
    "outcomes = make_array()\n",
    "for i in np.arange(0, num_trials):\n",
    "    num_heads = heads_in_100_flips()\n",
    "    outcomes = np.append(outcomes, num_heads)\n",
    "outcomes"
   ]
  },
  {
   "cell_type": "markdown",
   "metadata": {
    "tags": []
   },
   "source": [
    "This code depends on two pieces of information specific to the simulation we wish to perform:\n",
    "1. the number of trials (`num_trials`)\n",
    "2. the code to compute the outcome of one trial (eg: `heads_in_100_flips()`.  That code would need to change if we simulated the number of tails in 200 flips, the sum of 20 dice rolls, or any other kind outcome.\n",
    "\n",
    "To enable us to use our general function with different numbers of trials or different functions to make the outcomes, we write the function with those two items as parameters:"
   ]
  },
  {
   "cell_type": "code",
   "execution_count": null,
   "metadata": {
    "tags": []
   },
   "outputs": [],
   "source": [
    "def simulate(make_one_outcome, num_trials):\n",
    "    \"\"\"\n",
    "    Return an array of num_trials values, each \n",
    "    of which was created by calling make_one_outcome().\n",
    "    \"\"\"\n",
    "    outcomes = make_array()\n",
    "    for i in np.arange(0, num_trials):\n",
    "        outcome = make_one_outcome()\n",
    "        outcomes = np.append(outcomes, outcome)\n",
    "\n",
    "    return outcomes"
   ]
  },
  {
   "cell_type": "markdown",
   "metadata": {},
   "source": [
    "We can then call `simulate` as follows:"
   ]
  },
  {
   "cell_type": "code",
   "execution_count": null,
   "metadata": {
    "tags": []
   },
   "outputs": [],
   "source": [
    "simulate(heads_in_100_flips, 10)"
   ]
  },
  {
   "cell_type": "markdown",
   "metadata": {},
   "source": [
    "Or if we are interested in the sum of 20 dice rolls, we call it as follows:"
   ]
  },
  {
   "cell_type": "code",
   "execution_count": null,
   "metadata": {
    "tags": []
   },
   "outputs": [],
   "source": [
    "def sum_twenty_dice():\n",
    "    dice = np.arange(1,7)\n",
    "    roll_20_dice = np.random.choice(dice, 20)\n",
    "    return sum(roll_20_dice)\n",
    "\n",
    "simulate(sum_twenty_dice, 5)"
   ]
  },
  {
   "cell_type": "markdown",
   "metadata": {},
   "source": [
    "Notice how we can design new simulations without starting from scratch!  We write a function to compute one outcome, and then reuse `simulate` with the number of trials we wish to perform.\n"
   ]
  },
  {
   "cell_type": "markdown",
   "metadata": {},
   "source": [
    "And just for fun..."
   ]
  },
  {
   "cell_type": "code",
   "execution_count": null,
   "metadata": {
    "tags": []
   },
   "outputs": [],
   "source": [
    "twenty_dice = simulate(sum_twenty_dice, 100000)\n",
    "Table().with_columns('Sum of 20 dice', twenty_dice).hist(bins=np.arange(40,100,1))"
   ]
  },
  {
   "cell_type": "markdown",
   "metadata": {},
   "source": [
    "Does this look like any other histogram we saw today?"
   ]
  },
  {
   "cell_type": "markdown",
   "metadata": {
    "tags": []
   },
   "source": [
    "## 3. The Monty Hall Problem\n",
    "\n",
    "* Three doors hide two goats and a car.\n",
    "* You pick one of three doors.\n",
    "* A different door is opened to reveal a goat.\n",
    "* You must decide which door has the car. You can stick with your original choice, or you can switch to the other unopened door. "
   ]
  },
  {
   "cell_type": "markdown",
   "metadata": {},
   "source": [
    "### Which strategy wins the car with higher probability?"
   ]
  },
  {
   "cell_type": "markdown",
   "metadata": {},
   "source": [
    "First, we'll define functions that give us the result of one trial.  Both pick the initial door at random, and then determine which door the player ultimately selects based on our two strategies."
   ]
  },
  {
   "cell_type": "code",
   "execution_count": null,
   "metadata": {
    "tags": []
   },
   "outputs": [],
   "source": [
    "prizes = make_array('goat', 'goat', 'car')"
   ]
  },
  {
   "cell_type": "code",
   "execution_count": null,
   "metadata": {
    "tags": []
   },
   "outputs": [],
   "source": [
    "def monty_hall_game_staying_strategy():\n",
    "    \"\"\"\n",
    "    Return what player wins if they stick with their original choice\n",
    "    \"\"\"\n",
    "    return np.random.choice(prizes)\n",
    "\n",
    "def monty_hall_game_switching_strategy():\n",
    "    \"\"\"\n",
    "    Return what player wins if they switch with their original choice\n",
    "    \"\"\"\n",
    "    contestant_guess = np.random.choice(prizes)\n",
    "    if contestant_guess == 'car':\n",
    "        # Revealed door is one goat ...\n",
    "        # ... and the remaining door is the second goat.\n",
    "        return 'goat'\n",
    "    else:\n",
    "        # Releaved door is the second goat ...\n",
    "        # ... and the remaining door is the car.\n",
    "        return 'car'"
   ]
  },
  {
   "cell_type": "code",
   "execution_count": null,
   "metadata": {
    "tags": []
   },
   "outputs": [],
   "source": [
    "monty_hall_game_staying_strategy()"
   ]
  },
  {
   "cell_type": "code",
   "execution_count": null,
   "metadata": {
    "tags": []
   },
   "outputs": [],
   "source": [
    "monty_hall_game_switching_strategy()"
   ]
  },
  {
   "cell_type": "markdown",
   "metadata": {},
   "source": [
    "Ooo! We get to use our `simulate` function!"
   ]
  },
  {
   "cell_type": "code",
   "execution_count": null,
   "metadata": {
    "tags": []
   },
   "outputs": [],
   "source": [
    "outcomes_staying = simulate(monty_hall_game_staying_strategy, 10)\n",
    "outcomes_staying"
   ]
  },
  {
   "cell_type": "code",
   "execution_count": null,
   "metadata": {
    "tags": []
   },
   "outputs": [],
   "source": [
    "num_trials = 10000\n",
    "outcomes_staying = simulate(monty_hall_game_staying_strategy, num_trials)\n",
    "stay_and_win = np.count_nonzero(outcomes_staying == \"car\") / len(outcomes_staying)\n",
    "print(\"Probability of winning a car if we always stay:\", stay_and_win)"
   ]
  },
  {
   "cell_type": "code",
   "execution_count": null,
   "metadata": {
    "tags": []
   },
   "outputs": [],
   "source": [
    "outcomes_switching =  simulate(monty_hall_game_switching_strategy, num_trials)\n",
    "switch_and_win = np.count_nonzero(outcomes_switching == \"car\")/len(outcomes_switching)\n",
    "print(\"Probability of winning a car if we always switch\", switch_and_win)"
   ]
  },
  {
   "cell_type": "markdown",
   "metadata": {},
   "source": [
    "Would we trust the probabilities approximated by our simulation more or less if we **increase** the number of trials? "
   ]
  }
 ],
 "metadata": {
  "kernelspec": {
   "display_name": "Python 3 (ipykernel)",
   "language": "python",
   "name": "python3"
  },
  "language_info": {
   "codemirror_mode": {
    "name": "ipython",
    "version": 3
   },
   "file_extension": ".py",
   "mimetype": "text/x-python",
   "name": "python",
   "nbconvert_exporter": "python",
   "pygments_lexer": "ipython3",
   "version": "3.11.0"
  },
  "widgets": {
   "application/vnd.jupyter.widget-state+json": {
    "state": {},
    "version_major": 2,
    "version_minor": 0
   }
  }
 },
 "nbformat": 4,
 "nbformat_minor": 4
}
