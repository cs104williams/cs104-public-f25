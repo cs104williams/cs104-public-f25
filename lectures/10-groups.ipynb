{
 "cells": [
  {
   "cell_type": "markdown",
   "metadata": {},
   "source": [
    "# Groups"
   ]
  },
  {
   "cell_type": "code",
   "execution_count": null,
   "metadata": {
    "tags": []
   },
   "outputs": [],
   "source": [
    "from datascience import *\n",
    "from cs104 import *\n",
    "import numpy as np\n",
    "%matplotlib inline"
   ]
  },
  {
   "cell_type": "markdown",
   "metadata": {},
   "source": [
    "## 1. Functions"
   ]
  },
  {
   "cell_type": "markdown",
   "metadata": {},
   "source": [
    "### Think-pair-share"
   ]
  },
  {
   "cell_type": "markdown",
   "metadata": {},
   "source": [
    "What will be printed after the following code is executed? "
   ]
  },
  {
   "cell_type": "code",
   "execution_count": null,
   "metadata": {
    "tags": []
   },
   "outputs": [],
   "source": [
    "def triple_add_one(x): \n",
    "    \"\"\"Triples the input and adds one\"\"\"\n",
    "    return 3*x +1 "
   ]
  },
  {
   "cell_type": "code",
   "execution_count": null,
   "metadata": {
    "tags": []
   },
   "outputs": [],
   "source": [
    "x = 5\n",
    "y = 3\n",
    "z = 2\n",
    "z = z + triple_add_one(y)\n",
    "#print(z)"
   ]
  },
  {
   "cell_type": "markdown",
   "metadata": {},
   "source": [
    "### Apply"
   ]
  },
  {
   "cell_type": "code",
   "execution_count": null,
   "metadata": {
    "tags": []
   },
   "outputs": [],
   "source": [
    "heights_original = Table().read_table('data/galton.csv')\n",
    "heights = heights_original.select('father', 'mother', 'childHeight')\n",
    "heights = heights.relabeled('childHeight', 'child')\n",
    "heights.show(5)"
   ]
  },
  {
   "cell_type": "code",
   "execution_count": null,
   "metadata": {
    "tags": []
   },
   "outputs": [],
   "source": [
    "heights.hist('child')"
   ]
  },
  {
   "cell_type": "markdown",
   "metadata": {
    "tags": []
   },
   "source": [
    "There are times we want to perform mathematical operations columns of the table but can't use array broadcasting..."
   ]
  },
  {
   "cell_type": "code",
   "execution_count": null,
   "metadata": {
    "tags": [
     "raises-exception"
    ]
   },
   "outputs": [],
   "source": [
    "min(heights.column('child'), 72)  # will cause an error"
   ]
  },
  {
   "cell_type": "markdown",
   "metadata": {},
   "source": [
    "This is problematic because we cannot use array broadcasting with `min` in this way:"
   ]
  },
  {
   "cell_type": "code",
   "execution_count": null,
   "metadata": {
    "tags": [
     "raises-exception"
    ]
   },
   "outputs": [],
   "source": [
    "min(make_array(70, 73, 69), 72) #should be an error"
   ]
  },
  {
   "cell_type": "markdown",
   "metadata": {},
   "source": [
    "Instead, define our operation on a *single* value first:"
   ]
  },
  {
   "cell_type": "code",
   "execution_count": null,
   "metadata": {
    "tags": []
   },
   "outputs": [],
   "source": [
    "def cut_off_at_72(x):\n",
    "    \"\"\"The smaller of x and 72\"\"\"\n",
    "    return min(x, 72)"
   ]
  },
  {
   "cell_type": "code",
   "execution_count": null,
   "metadata": {
    "tags": []
   },
   "outputs": [],
   "source": [
    "cut_off_at_72(62)"
   ]
  },
  {
   "cell_type": "code",
   "execution_count": null,
   "metadata": {
    "tags": []
   },
   "outputs": [],
   "source": [
    "cut_off_at_72(72)"
   ]
  },
  {
   "cell_type": "code",
   "execution_count": null,
   "metadata": {
    "tags": []
   },
   "outputs": [],
   "source": [
    "cut_off_at_72(78)"
   ]
  },
  {
   "cell_type": "markdown",
   "metadata": {},
   "source": [
    "The table `apply` method can then apply such a function to every entry in a column."
   ]
  },
  {
   "cell_type": "code",
   "execution_count": null,
   "metadata": {
    "tags": []
   },
   "outputs": [],
   "source": [
    "cut_off = heights.apply(cut_off_at_72, 'child')\n",
    "height2 = heights.with_columns('child', cut_off)"
   ]
  },
  {
   "cell_type": "code",
   "execution_count": null,
   "metadata": {
    "tags": []
   },
   "outputs": [],
   "source": [
    "height2.hist('child')"
   ]
  },
  {
   "cell_type": "markdown",
   "metadata": {},
   "source": [
    "### Apply with multiple columns"
   ]
  },
  {
   "cell_type": "code",
   "execution_count": null,
   "metadata": {
    "tags": []
   },
   "outputs": [],
   "source": [
    "heights.show(6)"
   ]
  },
  {
   "cell_type": "code",
   "execution_count": null,
   "metadata": {
    "tags": []
   },
   "outputs": [],
   "source": [
    "def average(x, y):\n",
    "    \"\"\"Compute the average of two values\"\"\"\n",
    "    return (x + y) / 2"
   ]
  },
  {
   "cell_type": "code",
   "execution_count": null,
   "metadata": {
    "tags": []
   },
   "outputs": [],
   "source": [
    "parent_avg = heights.apply(average, 'mother', 'father')\n",
    "parent_avg.take(np.arange(0, 6))"
   ]
  },
  {
   "cell_type": "code",
   "execution_count": null,
   "metadata": {
    "tags": []
   },
   "outputs": [],
   "source": [
    "heights = heights.with_columns(\n",
    "    'parent average', parent_avg\n",
    ")\n",
    "heights"
   ]
  },
  {
   "cell_type": "code",
   "execution_count": null,
   "metadata": {
    "tags": []
   },
   "outputs": [],
   "source": [
    "heights.scatter('parent average', 'child')"
   ]
  },
  {
   "cell_type": "markdown",
   "metadata": {},
   "source": [
    "## 2. Predicting heights using functions and apply"
   ]
  },
  {
   "cell_type": "markdown",
   "metadata": {},
   "source": [
    "We're following the example in [Ch. 8.1.3](https://inferentialthinking.com/chapters/08/1/Applying_a_Function_to_a_Column.html)"
   ]
  },
  {
   "cell_type": "markdown",
   "metadata": {},
   "source": [
    "**Think-pair-share:** Suppose researchers encountered a new couple, similar to those in this dataset, and wondered how tall their child would be once their child grew up. What would be a good way to  predict the child’s height, given that the parent average height was, say, 68 inches? "
   ]
  },
  {
   "cell_type": "code",
   "execution_count": null,
   "metadata": {
    "tags": []
   },
   "outputs": [],
   "source": [
    "plot = heights.scatter('parent average', 'child')\n",
    "plot.line(68, color='orange', linestyle='--', lw=2);"
   ]
  },
  {
   "cell_type": "markdown",
   "metadata": {},
   "source": [
    "**A:** One initial approach would be to base the prediction on all observations (child, parent pairs) that are \"close to\" 68 inches for the parent. \n",
    "- Let's take \"close to\" to mean within a half-inch\n",
    "- Let's draw these with red lines"
   ]
  },
  {
   "cell_type": "code",
   "execution_count": null,
   "metadata": {
    "tags": []
   },
   "outputs": [],
   "source": [
    "parent_avg_height = 68\n",
    "close = 0.5\n",
    "\n",
    "plot = heights.scatter('parent average', 'child')\n",
    "plot.line(x=parent_avg_height - close, color='red', lw=1)\n",
    "plot.line(x=parent_avg_height + close, color='red', lw=1)\n",
    "plot.line(parent_avg_height, color='orange', linestyle='--', lw=2)\n",
    "plot.dot(x=parent_avg_height, y=67.62, color='orange')"
   ]
  },
  {
   "cell_type": "markdown",
   "metadata": {},
   "source": [
    "Let's now identify all points within that red strip. "
   ]
  },
  {
   "cell_type": "code",
   "execution_count": null,
   "metadata": {
    "tags": []
   },
   "outputs": [],
   "source": [
    "close_to_68 = heights.where('parent average', \n",
    "                            are.between(parent_avg_height - close, \n",
    "                                        parent_avg_height + close))\n",
    "close_to_68"
   ]
  },
  {
   "cell_type": "markdown",
   "metadata": {},
   "source": [
    "And take the average to make a prediction about the child. "
   ]
  },
  {
   "cell_type": "code",
   "execution_count": null,
   "metadata": {
    "tags": []
   },
   "outputs": [],
   "source": [
    "np.average(close_to_68.column('child'))"
   ]
  },
  {
   "cell_type": "markdown",
   "metadata": {},
   "source": [
    "Ooo!  Let's write a function to compute that child mean height for *any* parent average height"
   ]
  },
  {
   "cell_type": "code",
   "execution_count": null,
   "metadata": {
    "tags": []
   },
   "outputs": [],
   "source": [
    "def predict_child(parent_avg_height):\n",
    "    close = 0.5\n",
    "    close_points = heights.where('parent average', \n",
    "                                 are.between(parent_avg_height - close, \n",
    "                                             parent_avg_height + close))\n",
    "    return np.mean(close_points.column('child'))"
   ]
  },
  {
   "cell_type": "code",
   "execution_count": null,
   "metadata": {
    "tags": []
   },
   "outputs": [],
   "source": [
    "predict_child(68)"
   ]
  },
  {
   "cell_type": "code",
   "execution_count": null,
   "metadata": {
    "tags": []
   },
   "outputs": [],
   "source": [
    "predict_child(65)"
   ]
  },
  {
   "cell_type": "markdown",
   "metadata": {},
   "source": [
    "**Apply** predict_child to all the parent averages."
   ]
  },
  {
   "cell_type": "code",
   "execution_count": null,
   "metadata": {
    "tags": []
   },
   "outputs": [],
   "source": [
    "predicted = heights.apply(predict_child, 'parent average')\n",
    "predicted.take(np.arange(0,10))"
   ]
  },
  {
   "cell_type": "markdown",
   "metadata": {},
   "source": [
    "Now, let's extend this table with these new predictions. "
   ]
  },
  {
   "cell_type": "code",
   "execution_count": null,
   "metadata": {
    "tags": []
   },
   "outputs": [],
   "source": [
    "height_pred = heights.with_columns('prediction', predicted)"
   ]
  },
  {
   "cell_type": "code",
   "execution_count": null,
   "metadata": {
    "tags": []
   },
   "outputs": [],
   "source": [
    "height_pred.select('child', 'parent average', 'prediction').scatter('parent average')"
   ]
  },
  {
   "cell_type": "markdown",
   "metadata": {},
   "source": [
    "**Preview:** Throughout this course we'll keep moving towards making our predictions *better!*"
   ]
  },
  {
   "cell_type": "markdown",
   "metadata": {},
   "source": [
    "### Extra: How close is close enough for prediction?\n",
    "\n",
    "The choice of say two heights are \"close to\" eachother if they are within a half-inch was a somewhat arbitrary choice.  We chould have chosen other values instead.  What would happen if we changed that constant to be 0.25, 1, 2, or 5?\n",
    "\n",
    "This visualization demostrates the impact that choice has on our predictions. The `visualize_predictions` function plots the prediction for each child height using a window of parent average height +/- `delta`."
   ]
  },
  {
   "cell_type": "code",
   "execution_count": null,
   "metadata": {
    "tags": []
   },
   "outputs": [],
   "source": [
    "\n",
    "from functools import lru_cache as cache\n",
    "\n",
    "@cache  # saves tables for each delta we compute to avoid recomputing.\n",
    "def vary_range(delta):\n",
    "    \"\"\"Use a window of +/- delta when predicting child heights.\"\"\"\n",
    "    def predict_child(parent_avg_height):\n",
    "        close_points = heights.where('parent average', \n",
    "                                     are.between(parent_avg_height - delta, \n",
    "                                                 parent_avg_height + delta))\n",
    "        return np.mean(close_points.column('child'))\n",
    "\n",
    "    predicted = heights.apply(predict_child, 'parent average')\n",
    "    height_pred = heights.with_columns('prediction', predicted)\n",
    "    return height_pred.select('child', 'parent average', 'prediction')\n",
    "\n",
    "def visualize_predictions(delta = 0.5):\n",
    "    predictions = vary_range(delta)\n",
    "    predictions.scatter('parent average', s=50, width=6, height=4) # make dots a little bigger than usual\n",
    "    \n",
    "interact(visualize_predictions, delta = Slider(0, 10, 0.125))"
   ]
  },
  {
   "cell_type": "markdown",
   "metadata": {},
   "source": [
    "## 3. Groups with Scrabble "
   ]
  },
  {
   "cell_type": "markdown",
   "metadata": {},
   "source": [
    "Let's load a table of 98 tiles from [Scrabble](https://en.wikipedia.org/wiki/Scrabble). (We'll exclude the two blank tiles from the full set of 100.)"
   ]
  },
  {
   "cell_type": "code",
   "execution_count": null,
   "metadata": {
    "tags": []
   },
   "outputs": [],
   "source": [
    "scrabble_tiles = Table().read_table('data/scrabble_tiles.csv')\n",
    "scrabble_tiles.sample(10)\n",
    "\n",
    "\n",
    "\n",
    "\n",
    "\n",
    "\n",
    "\n",
    "\n",
    "\n"
   ]
  },
  {
   "cell_type": "markdown",
   "metadata": {},
   "source": [
    "We must often divide rows into groups according to some feature, and then compute a basic characteristic for each resulting group.\n"
   ]
  },
  {
   "cell_type": "code",
   "execution_count": null,
   "metadata": {
    "tags": []
   },
   "outputs": [],
   "source": [
    "scrabble_tiles.group('Letter')"
   ]
  },
  {
   "cell_type": "code",
   "execution_count": null,
   "metadata": {
    "tags": []
   },
   "outputs": [],
   "source": [
    "scrabble_tiles.group('Vowel')"
   ]
  },
  {
   "cell_type": "code",
   "execution_count": null,
   "metadata": {
    "tags": []
   },
   "outputs": [],
   "source": [
    "scrabble_tiles.group('Vowel', sum)"
   ]
  },
  {
   "cell_type": "markdown",
   "metadata": {},
   "source": [
    "Notes: \n",
    "- When we pass in a function to `group` that is not the default (e.g. `sum`), the name of that function is appended to the column name. \n",
    "- Some of the columns are empty because `sum` can only be applied to numerical (not categorial) variables. Our package is smart about this and leaves the columns empty (e.g. `Letter sum`). "
   ]
  },
  {
   "cell_type": "code",
   "execution_count": null,
   "metadata": {
    "tags": []
   },
   "outputs": [],
   "source": [
    "scrabble_tiles.group('Vowel', max)"
   ]
  },
  {
   "cell_type": "markdown",
   "metadata": {},
   "source": [
    "- Applying aggregation functions (e.g. `max`) to some columns (e.g. `Letter`) are not meaningful. That's ok. But we'll have to use our understanding about the dataset to ignore these aggregations."
   ]
  },
  {
   "cell_type": "markdown",
   "metadata": {},
   "source": [
    "### Group multiple columns"
   ]
  },
  {
   "cell_type": "code",
   "execution_count": null,
   "metadata": {
    "tags": []
   },
   "outputs": [],
   "source": [
    "small_scrabble = scrabble_tiles.sample(10)\n",
    "small_scrabble = small_scrabble.with_columns('Used', \n",
    "                                             make_array('Yes', 'Yes', 'Yes', 'No', 'No', \n",
    "                                                        'No', 'No', 'No', 'No', 'No'))\n",
    "small_scrabble"
   ]
  },
  {
   "cell_type": "markdown",
   "metadata": {},
   "source": [
    "**Q**: How many vowels do I have left that I have not used? "
   ]
  },
  {
   "cell_type": "code",
   "execution_count": null,
   "metadata": {
    "tags": []
   },
   "outputs": [],
   "source": [
    "small_scrabble.group(make_array('Vowel', 'Used'))"
   ]
  },
  {
   "cell_type": "markdown",
   "metadata": {},
   "source": [
    "**Q:** What's the total score of the non-vowels I have used and not used? "
   ]
  },
  {
   "cell_type": "code",
   "execution_count": null,
   "metadata": {
    "tags": []
   },
   "outputs": [],
   "source": [
    "small_scrabble.group(make_array('Vowel', 'Used'), sum)"
   ]
  },
  {
   "cell_type": "markdown",
   "metadata": {},
   "source": [
    "## 4. Groups with heights"
   ]
  },
  {
   "cell_type": "code",
   "execution_count": null,
   "metadata": {
    "tags": []
   },
   "outputs": [],
   "source": [
    "heights_original.show(3)"
   ]
  },
  {
   "cell_type": "markdown",
   "metadata": {},
   "source": [
    "**Q:** How many children does each family have? "
   ]
  },
  {
   "cell_type": "code",
   "execution_count": null,
   "metadata": {
    "tags": []
   },
   "outputs": [],
   "source": [
    "by_family = heights_original.group('family')\n",
    "by_family.show(5)"
   ]
  },
  {
   "cell_type": "markdown",
   "metadata": {},
   "source": [
    "Let's relabel based on what we know about this particular dataset (each row is a child)."
   ]
  },
  {
   "cell_type": "code",
   "execution_count": null,
   "metadata": {
    "tags": []
   },
   "outputs": [],
   "source": [
    "by_family = by_family.relabeled(\"count\", \"number of children\")"
   ]
  },
  {
   "cell_type": "code",
   "execution_count": null,
   "metadata": {
    "tags": []
   },
   "outputs": [],
   "source": [
    "by_family.hist(\"number of children\", bins=15)"
   ]
  },
  {
   "cell_type": "markdown",
   "metadata": {},
   "source": [
    "**Q:** Per family, what is the average height of the children? "
   ]
  },
  {
   "cell_type": "code",
   "execution_count": null,
   "metadata": {
    "tags": []
   },
   "outputs": [],
   "source": [
    "by_family = heights_original.select('family', 'childHeight').group('family', np.mean)\n",
    "by_family.show(5)\n",
    "by_family.hist('childHeight mean')"
   ]
  }
 ],
 "metadata": {
  "anaconda-cloud": {},
  "kernelspec": {
   "display_name": "Python 3 (ipykernel)",
   "language": "python",
   "name": "python3"
  },
  "language_info": {
   "codemirror_mode": {
    "name": "ipython",
    "version": 3
   },
   "file_extension": ".py",
   "mimetype": "text/x-python",
   "name": "python",
   "nbconvert_exporter": "python",
   "pygments_lexer": "ipython3",
   "version": "3.9.19"
  },
  "widgets": {
   "application/vnd.jupyter.widget-state+json": {
    "state": {},
    "version_major": 2,
    "version_minor": 0
   }
  }
 },
 "nbformat": 4,
 "nbformat_minor": 4
}
