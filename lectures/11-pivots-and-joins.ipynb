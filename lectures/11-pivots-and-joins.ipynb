{
 "cells": [
  {
   "cell_type": "markdown",
   "metadata": {},
   "source": [
    "# Pivots and Joins"
   ]
  },
  {
   "cell_type": "code",
   "execution_count": null,
   "metadata": {
    "tags": []
   },
   "outputs": [],
   "source": [
    "from datascience import *\n",
    "from cs104 import *\n",
    "import numpy as np\n",
    "%matplotlib inline"
   ]
  },
  {
   "cell_type": "markdown",
   "metadata": {
    "tags": []
   },
   "source": [
    "## 1. Review groups"
   ]
  },
  {
   "cell_type": "markdown",
   "metadata": {},
   "source": [
    "<img src=\"https://media-cldnry.s-nbcnews.com/image/upload/MSNBC/Components/Photo/_new/110118-obama-gift-2p.jpg\" width=300>\n",
    "\n",
    "\"President Barack Obama receives a gift from Saudi King Abdullah at the start of their bilateral meeting in Riyadh, Saudi Arabia, on June 3, 2009. The large gold medallion was among several gifts given that day that were valued at $34,500, the State Department later said\" --CBS News"
   ]
  },
  {
   "cell_type": "code",
   "execution_count": null,
   "metadata": {
    "tags": []
   },
   "outputs": [],
   "source": [
    "# Read in all gifts, and tidy up table by removing nan values and relabeling columns\n",
    "all_gifts = Table().read_table('data/obama-gifts.csv')\n",
    "all_gifts = all_gifts.where('donor_country', are.not_equal_to('nan')) #clean up and remove the nans\n",
    "all_gifts = all_gifts.select('year_received', 'donor_country', 'value_usd')\n",
    "all_gifts = all_gifts.relabeled('year_received', 'Year')\n",
    "all_gifts = all_gifts.relabeled('donor_country', 'Country')\n",
    "all_gifts = all_gifts.relabeled('value_usd', 'Value')\n",
    "all_gifts.sample(8)"
   ]
  },
  {
   "cell_type": "code",
   "execution_count": null,
   "metadata": {
    "tags": []
   },
   "outputs": [],
   "source": [
    "# We'll also create a small subset of our Obama Gifts dataset.  \n",
    "# It contains 3 countries, 3 years, 7 gifts\n",
    "gifts = all_gifts.where('Year', are.contained_in([2009,2010,2011,2012]))\n",
    "gifts = gifts.where('Country', are.contained_in(make_array('Denmark', 'Egypt', 'Finland')))\n",
    "gifts = gifts.sort('Year')\n",
    "gifts"
   ]
  },
  {
   "cell_type": "code",
   "execution_count": null,
   "metadata": {
    "tags": []
   },
   "outputs": [],
   "source": [
    "gifts.group('Year')"
   ]
  },
  {
   "cell_type": "code",
   "execution_count": null,
   "metadata": {
    "tags": []
   },
   "outputs": [],
   "source": [
    "gifts.group('Country')"
   ]
  },
  {
   "cell_type": "code",
   "execution_count": null,
   "metadata": {
    "tags": []
   },
   "outputs": [],
   "source": [
    "gifts.group('Year', sum)"
   ]
  },
  {
   "cell_type": "code",
   "execution_count": null,
   "metadata": {
    "tags": []
   },
   "outputs": [],
   "source": [
    "all_gifts.group('Year', sum)"
   ]
  },
  {
   "cell_type": "code",
   "execution_count": null,
   "metadata": {
    "tags": []
   },
   "outputs": [],
   "source": [
    "gifts.group('Country', max)"
   ]
  },
  {
   "cell_type": "markdown",
   "metadata": {
    "tags": []
   },
   "source": [
    "The largest gifts given to Obama:"
   ]
  },
  {
   "cell_type": "code",
   "execution_count": null,
   "metadata": {
    "tags": []
   },
   "outputs": [],
   "source": [
    "all_gifts.group('Country', max).sort('Value max', descending=True)"
   ]
  },
  {
   "cell_type": "code",
   "execution_count": null,
   "metadata": {
    "tags": []
   },
   "outputs": [],
   "source": [
    "gifts.group(make_array('Year', 'Country'))"
   ]
  },
  {
   "cell_type": "code",
   "execution_count": null,
   "metadata": {
    "tags": []
   },
   "outputs": [],
   "source": [
    "gifts.group(make_array('Year', 'Country'), sum)"
   ]
  },
  {
   "cell_type": "code",
   "execution_count": null,
   "metadata": {
    "tags": []
   },
   "outputs": [],
   "source": [
    "all_gifts.group(['Year', 'Country'], max).sort('Value max', descending=True)"
   ]
  },
  {
   "cell_type": "markdown",
   "metadata": {},
   "source": [
    "## 2. Pivots"
   ]
  },
  {
   "cell_type": "markdown",
   "metadata": {},
   "source": [
    "Summarize data that has been grouped by two variables in a grid."
   ]
  },
  {
   "cell_type": "code",
   "execution_count": null,
   "metadata": {
    "tags": []
   },
   "outputs": [],
   "source": [
    "gifts"
   ]
  },
  {
   "cell_type": "markdown",
   "metadata": {},
   "source": [
    "With only two parameters in `pivot`, the values are counts. "
   ]
  },
  {
   "cell_type": "code",
   "execution_count": null,
   "metadata": {
    "tags": []
   },
   "outputs": [],
   "source": [
    "gifts.pivot('Country', 'Year')"
   ]
  },
  {
   "cell_type": "code",
   "execution_count": null,
   "metadata": {
    "tags": []
   },
   "outputs": [],
   "source": [
    "gifts.pivot('Year', 'Country')"
   ]
  },
  {
   "cell_type": "markdown",
   "metadata": {},
   "source": [
    "With four parameters used in `pivot`,\n",
    "- The first is  the horizontal column labels\n",
    "- The second is the vertical row labels \n",
    "- The third is the column used as values in the grid\n",
    "- The fourth is the aggregation function used for the values in the grid "
   ]
  },
  {
   "cell_type": "code",
   "execution_count": null,
   "metadata": {
    "tags": []
   },
   "outputs": [],
   "source": [
    "gifts.pivot('Year', 'Country', 'Value', sum)"
   ]
  },
  {
   "cell_type": "code",
   "execution_count": null,
   "metadata": {
    "tags": []
   },
   "outputs": [],
   "source": [
    "gifts.pivot('Year', 'Country', 'Value', max)"
   ]
  },
  {
   "cell_type": "markdown",
   "metadata": {},
   "source": [
    "### A pivot from our past: Temperatures in Greenland"
   ]
  },
  {
   "cell_type": "markdown",
   "metadata": {
    "tags": []
   },
   "source": [
    "We spent some time working with our Upernavik climate data."
   ]
  },
  {
   "cell_type": "code",
   "execution_count": null,
   "metadata": {
    "tags": []
   },
   "outputs": [],
   "source": [
    "greenland_climate = Table.read_table('data/climate_upernavik.csv')\n",
    "greenland_climate"
   ]
  },
  {
   "cell_type": "code",
   "execution_count": null,
   "metadata": {
    "tags": []
   },
   "outputs": [],
   "source": [
    "greenland_climate = Table.read_table('data/climate_upernavik.csv').where('Year', are.above(1876))\n",
    "greenland_climate = greenland_climate.relabeled('Precipitation (millimeters)', \"Precip (mm)\")\n",
    "tidy_greenland = greenland_climate.where('Air temperature (C)', are.not_equal_to(999.99))\n",
    "tidy_greenland = tidy_greenland.where('Sea level pressure (mbar)', are.not_equal_to(9999.9))\n",
    "tidy_greenland"
   ]
  },
  {
   "cell_type": "markdown",
   "metadata": {},
   "source": [
    "When plotting line graphs, we needed separate columns for each month.  A pivot gives us a table with that format."
   ]
  },
  {
   "cell_type": "code",
   "execution_count": null,
   "metadata": {
    "tags": []
   },
   "outputs": [],
   "source": [
    "temps_by_month = tidy_greenland.pivot('Month', 'Year', 'Air temperature (C)', np.mean)\n",
    "temps_by_month"
   ]
  },
  {
   "cell_type": "code",
   "execution_count": null,
   "metadata": {
    "tags": []
   },
   "outputs": [],
   "source": [
    "two_months = temps_by_month.select('Year', '2', '9')\n",
    "two_months.show(5)"
   ]
  },
  {
   "cell_type": "code",
   "execution_count": null,
   "metadata": {
    "tags": []
   },
   "outputs": [],
   "source": [
    "two_months.plot('Year')"
   ]
  },
  {
   "cell_type": "markdown",
   "metadata": {},
   "source": [
    "## 3. Joins"
   ]
  },
  {
   "cell_type": "markdown",
   "metadata": {},
   "source": [
    "Let's hand pick a few of our favorite gifts."
   ]
  },
  {
   "cell_type": "code",
   "execution_count": null,
   "metadata": {
    "tags": []
   },
   "outputs": [],
   "source": [
    "best_gifts = gifts.take(0,1,2,3).drop(\"Year\")\n",
    "best_gifts"
   ]
  },
  {
   "cell_type": "markdown",
   "metadata": {},
   "source": [
    "If you're curious what they are, here are shortened descriptions for the four we chose."
   ]
  },
  {
   "cell_type": "code",
   "execution_count": null,
   "metadata": {
    "tags": []
   },
   "outputs": [],
   "source": [
    "best_gifts.with_columns(\"Gift description\", \n",
    "                        make_array('Book \"Restoring the Military Balance\"',\n",
    "                                   'Yellow alabaster bowl',\n",
    "                                   'Photograph of Her Majesty and His Royal Highness',\n",
    "                                   'Hand-blown blue glass bird'))"
   ]
  },
  {
   "cell_type": "markdown",
   "metadata": {},
   "source": [
    "Here is some other info about countries, specifically the GDP from each country during Obama's first year in office.  ([GDP](https://en.wikipedia.org/wiki/Gross_domestic_product) is gross domestic product, a measure of the value of the final goods and services produced in a country.)"
   ]
  },
  {
   "cell_type": "markdown",
   "metadata": {},
   "source": [
    "We obtained this data from the [World Bank](https://data.worldbank.org/indicator/NY.GDP.MKTP.CD) and [IMF](https://www.imf.org/en/Publications/WEO/weo-database/2022/April/download-entire-database) sites."
   ]
  },
  {
   "cell_type": "code",
   "execution_count": null,
   "metadata": {
    "tags": []
   },
   "outputs": [],
   "source": [
    "gdp = Table().with_columns(\n",
    "    'Country Name', make_array('Denmark', 'Egypt', 'Egypt', 'Greece'),\n",
    "    'GDP (Billion $)', make_array(321, 189, 198, 331),\n",
    "    'Source', make_array('World Bank', 'World Bank', 'IMF', 'World Bank'))\n",
    "gdp"
   ]
  },
  {
   "cell_type": "markdown",
   "metadata": {},
   "source": [
    "Can we combine `best_gifts` with info about the countries like GDP?\n",
    "\n",
    "Join will let us merge data from two tables by pairing together rows from each that share a common property.  Here we'll merge a table of gifts with a table of GDP information about the countres giving gifts."
   ]
  },
  {
   "cell_type": "code",
   "execution_count": null,
   "metadata": {
    "tags": []
   },
   "outputs": [],
   "source": [
    "best_gifts.join('Country', gdp, 'Country Name')"
   ]
  },
  {
   "cell_type": "markdown",
   "metadata": {},
   "source": [
    "## 4. Open-ended exploration"
   ]
  },
  {
   "cell_type": "markdown",
   "metadata": {},
   "source": [
    "Suppose we had the following question: *Is there any association between a country's GDP and the total value of gifts they gave to President Obama?*"
   ]
  },
  {
   "cell_type": "markdown",
   "metadata": {},
   "source": [
    "The World Bank provides [GDP data](https://data.worldbank.org/indicator/NY.GDP.MKTP.CD) we can use."
   ]
  },
  {
   "cell_type": "code",
   "execution_count": null,
   "metadata": {
    "tags": []
   },
   "outputs": [],
   "source": [
    "gdp = Table().read_table('data/gdp.csv')\n",
    "gdp.show(3)"
   ]
  },
  {
   "cell_type": "markdown",
   "metadata": {},
   "source": [
    "**Data wrangling:** Let's subset to the columns we actually need and make these values more readable. "
   ]
  },
  {
   "cell_type": "code",
   "execution_count": null,
   "metadata": {
    "tags": []
   },
   "outputs": [],
   "source": [
    "gdp_2008 = Table().with_columns(\n",
    "    'Country Name', gdp.column('Country Name'),\n",
    "    '2008 GDP Billion USD', gdp.column('2008') / 1e9\n",
    ")\n",
    "gdp_2008.show(3)"
   ]
  },
  {
   "cell_type": "markdown",
   "metadata": {},
   "source": [
    "Let's use **group** to sum up the values of gifts given by each country.  "
   ]
  },
  {
   "cell_type": "code",
   "execution_count": null,
   "metadata": {
    "tags": []
   },
   "outputs": [],
   "source": [
    "all_gifts.show(5)"
   ]
  },
  {
   "cell_type": "code",
   "execution_count": null,
   "metadata": {
    "tags": []
   },
   "outputs": [],
   "source": [
    "gifts_by_country = all_gifts.drop('Year').group('Country', sum)\n",
    "gifts_by_country.show(5)"
   ]
  },
  {
   "cell_type": "markdown",
   "metadata": {},
   "source": [
    "Let's **join** these two datasets. "
   ]
  },
  {
   "cell_type": "code",
   "execution_count": null,
   "metadata": {
    "tags": []
   },
   "outputs": [],
   "source": [
    "joined = gifts_by_country.join('Country', gdp_2008, 'Country Name')\n",
    "joined"
   ]
  },
  {
   "cell_type": "code",
   "execution_count": null,
   "metadata": {
    "tags": []
   },
   "outputs": [],
   "source": [
    "joined.scatter('2008 GDP Billion USD', 'Value sum')"
   ]
  },
  {
   "cell_type": "markdown",
   "metadata": {},
   "source": [
    "The scatter plot doesn't show much because most of the data is in a very tiny part of the graph.  It's hard to tell whether the other points are outliers or part of some trend.  In this case, one handy tool is to take the log of each x-value and y-value.  \n",
    "\n",
    "Recall that for a number $n$, $log(n) = a$ such $10^a = n$.  Here are some values to illustrate how logarithms work:\n",
    "\n",
    "| n | log(n) |\n",
    "|---|--------|\n",
    "| 1 | 0 |\n",
    "| 10 | 1 |\n",
    "| 100 | 2 |\n",
    "| 1,000 | 3 |\n",
    "| 10,000 | 4 |\n",
    "| 100,000 | 5 |\n",
    "| 1,000,000 | 6 |\n",
    "| 10,000,000 | 7 |\n",
    "| 100,000,000 | 8 |\n",
    "| 1,000,000,000 | 9 |"
   ]
  },
  {
   "cell_type": "code",
   "execution_count": null,
   "metadata": {
    "tags": []
   },
   "outputs": [],
   "source": [
    "joined.scatter('2008 GDP Billion USD', 'Value sum', xscale='log', yscale='log')"
   ]
  },
  {
   "cell_type": "markdown",
   "metadata": {},
   "source": [
    "That makes the points more evenly distributed across both axes of the plots, and it makes any correlation jump out.  We can do a lot with log-log plots like this, but for us, we will be happy to just use it to make the correlation more apparent in this one example."
   ]
  },
  {
   "cell_type": "markdown",
   "metadata": {},
   "source": [
    "What about the relationship between oil production and gift values?  You can find oil production for every country or region of the world [here](https://ourworldindata.org/grapher/oil-production-by-country). "
   ]
  },
  {
   "cell_type": "code",
   "execution_count": null,
   "metadata": {
    "tags": []
   },
   "outputs": [],
   "source": [
    "# Compute the average oil production during the years 2009-2016.\n",
    "oil = Table().read_table('data/oil_production_by_country.csv')\n",
    "oil_for_years = oil.where('Year', are.between_or_equal_to(2009, 2016))\n",
    "oil_by_entity = oil_for_years.drop('Code', 'Year').group('Entity', np.average)\n",
    "oil_by_entity.sort('Oil production (TWh) average', descending=True)\n",
    "oil_by_entity.sample(10)"
   ]
  },
  {
   "cell_type": "code",
   "execution_count": null,
   "metadata": {
    "tags": []
   },
   "outputs": [],
   "source": [
    "joined_oil = gifts_by_country.join('Country', oil_by_entity, 'Entity')\n",
    "joined_oil.scatter('Oil production (TWh) average', 'Value sum')"
   ]
  },
  {
   "cell_type": "code",
   "execution_count": null,
   "metadata": {
    "tags": []
   },
   "outputs": [],
   "source": [
    "plot = joined_oil.scatter('Oil production (TWh) average', 'Value sum',\n",
    "                   xscale='log', yscale='log')\n",
    "plot.set_xlim(1/1e3, 1e5)\n",
    "plot.set_ylim(1e2, 1e6)"
   ]
  },
  {
   "cell_type": "markdown",
   "metadata": {},
   "source": [
    "If you're curious about the top oil producers in the world..."
   ]
  },
  {
   "cell_type": "code",
   "execution_count": null,
   "metadata": {
    "tags": []
   },
   "outputs": [],
   "source": [
    "joined_oil.sort('Oil production (TWh) average', descending=True)"
   ]
  },
  {
   "cell_type": "markdown",
   "metadata": {},
   "source": [
    "**Q:** Brainstorm some alternative variables we might want to examine correlations between? \n",
    "\n",
    "- Norms of gift giving? Political alliances? Trade deals? \n",
    "- Could we track if this relationship changes over time? \n",
    "- In this class, we're going to be moving towards some more of these open-ended data questions. "
   ]
  }
 ],
 "metadata": {
  "kernelspec": {
   "display_name": "Python 3 (ipykernel)",
   "language": "python",
   "name": "python3"
  },
  "language_info": {
   "codemirror_mode": {
    "name": "ipython",
    "version": 3
   },
   "file_extension": ".py",
   "mimetype": "text/x-python",
   "name": "python",
   "nbconvert_exporter": "python",
   "pygments_lexer": "ipython3",
   "version": "3.11.0"
  },
  "widgets": {
   "application/vnd.jupyter.widget-state+json": {
    "state": {},
    "version_major": 2,
    "version_minor": 0
   }
  }
 },
 "nbformat": 4,
 "nbformat_minor": 4
}
