{
 "cells": [
  {
   "cell_type": "markdown",
   "metadata": {
    "tags": []
   },
   "source": [
    "# Charts"
   ]
  },
  {
   "cell_type": "code",
   "execution_count": null,
   "metadata": {
    "tags": []
   },
   "outputs": [],
   "source": [
    "from datascience import *\n",
    "from cs104 import *\n",
    "import numpy as np\n",
    "\n",
    "%matplotlib inline"
   ]
  },
  {
   "cell_type": "markdown",
   "metadata": {},
   "source": [
    "## 1. Table and visualization review"
   ]
  },
  {
   "cell_type": "code",
   "execution_count": null,
   "metadata": {
    "tags": []
   },
   "outputs": [],
   "source": [
    "# Load data from the last lecture and clean it up\n",
    "greenland_climate = Table.read_table('data/climate_upernavik.csv')\n",
    "greenland_climate = greenland_climate.relabeled('Precipitation (millimeters)', \"Precip (mm)\")\n",
    "tidy_greenland = greenland_climate.where('Air temperature (C)', are.not_equal_to(999.99))\n",
    "tidy_greenland = tidy_greenland.where('Sea level pressure (mbar)', are.not_equal_to(9999.9))\n",
    "tidy_greenland.show(4)"
   ]
  },
  {
   "cell_type": "markdown",
   "metadata": {},
   "source": [
    "### Think-Pair-Share"
   ]
  },
  {
   "cell_type": "markdown",
   "metadata": {},
   "source": [
    "**Question:** For the year 1900, make a visualization of each month and the amount of precipitation. Does visualization confirm your intuition of what you should expect to see? Why or why not?  \n",
    "\n",
    "*Hint:* Think carefully about what type of visualization you should use. "
   ]
  },
  {
   "cell_type": "code",
   "execution_count": null,
   "metadata": {
    "tags": []
   },
   "outputs": [],
   "source": [
    "tidy_greenland.where('Year', are.equal_to(1900)).barh('Month', 'Precip (mm)')"
   ]
  },
  {
   "cell_type": "markdown",
   "metadata": {},
   "source": [
    "**Question:** How about if we want the data in inches?\n",
    "\n",
    "*Hint:* 25.4 millimeters are equal to one inch."
   ]
  },
  {
   "cell_type": "code",
   "execution_count": null,
   "metadata": {
    "tags": []
   },
   "outputs": [],
   "source": [
    "precip_in_inches = tidy_greenland.with_column(\"Precip (in)\",\n",
    "                                             tidy_greenland.column(\"Precip (mm)\") / 25.4)\n",
    "\n",
    "precip_in_inches.where('Year', are.equal_to(1900)).barh('Month', 'Precip (in)')"
   ]
  },
  {
   "cell_type": "markdown",
   "metadata": {
    "tags": []
   },
   "source": [
    "### A Little Practice Fixing Programming Mistakes"
   ]
  },
  {
   "cell_type": "markdown",
   "metadata": {},
   "source": [
    "For fun, let's look at only recent data between 1950 and 1995.  Here's our first attempt"
   ]
  },
  {
   "cell_type": "code",
   "execution_count": null,
   "metadata": {
    "tags": [
     "raises-exception"
    ]
   },
   "outputs": [],
   "source": [
    "recent = tidy_greenland.where(Year, are.strictly_between(\"1950\",\"1995\")) #should throw an error"
   ]
  },
  {
   "cell_type": "markdown",
   "metadata": {},
   "source": [
    "How do we debug this error message? "
   ]
  },
  {
   "cell_type": "code",
   "execution_count": null,
   "metadata": {
    "tags": [
     "raises-exception"
    ]
   },
   "outputs": [],
   "source": [
    "# Ok. Try to fix something \n",
    "recent = tidy_greenland.where(\"Year\", are.strictly_between(\"1950\", \"1995\")) #should throw an error"
   ]
  },
  {
   "cell_type": "markdown",
   "metadata": {},
   "source": [
    "Always good to read the documentation for the functions and methods you are using.  Docs for [are.strictly_between](https://www.cs.williams.edu/~cs104/auto/python-library-ref.html#strictly_between).  What types of parameters does that method take take?"
   ]
  },
  {
   "cell_type": "code",
   "execution_count": null,
   "metadata": {
    "tags": []
   },
   "outputs": [],
   "source": [
    "#print out types and comment out pieces of code to debug \n",
    "type(\"1950\") \n",
    "type(1950) #comment this line to see the previous line "
   ]
  },
  {
   "cell_type": "markdown",
   "metadata": {},
   "source": [
    "The fixed version:"
   ]
  },
  {
   "cell_type": "code",
   "execution_count": null,
   "metadata": {
    "tags": []
   },
   "outputs": [],
   "source": [
    "recent = tidy_greenland.where(\"Year\", are.strictly_between(1950, 1995))\n",
    "recent.show(3)"
   ]
  },
  {
   "cell_type": "markdown",
   "metadata": {},
   "source": [
    "Great! No errors, but did we get the correct answer?  How could we sanity check?  Look for smallest and largest year left in the table."
   ]
  },
  {
   "cell_type": "code",
   "execution_count": null,
   "metadata": {
    "tags": []
   },
   "outputs": [],
   "source": [
    "years_chosen = recent.column(\"Year\")\n",
    "print(min(years_chosen))\n",
    "print(max(years_chosen))"
   ]
  },
  {
   "cell_type": "markdown",
   "metadata": {},
   "source": [
    "That doesn't look right.  Back to the docs for [are.strictly_between](https://www.cs.williams.edu/~cs104/auto/python-library-ref.html#strictly_between)..."
   ]
  },
  {
   "cell_type": "code",
   "execution_count": null,
   "metadata": {
    "tags": []
   },
   "outputs": [],
   "source": [
    "recent = tidy_greenland.where(\"Year\", are.between_or_equal_to(1950, 1995))\n",
    "years_chosen = recent.column(\"Year\")\n",
    "print(min(years_chosen))\n",
    "print(max(years_chosen))"
   ]
  },
  {
   "cell_type": "markdown",
   "metadata": {},
   "source": [
    "That looks good.  Let's visualize the Februrary temperatures in the `recent` table."
   ]
  },
  {
   "cell_type": "markdown",
   "metadata": {},
   "source": [
    "### Plot customizations"
   ]
  },
  {
   "cell_type": "code",
   "execution_count": null,
   "metadata": {
    "tags": []
   },
   "outputs": [],
   "source": [
    "feb = recent.where('Month', are.equal_to(2))\n",
    "plot = feb.scatter('Year', 'Air temperature (C)')"
   ]
  },
  {
   "cell_type": "markdown",
   "metadata": {},
   "source": [
    "Let's \"zoom in\"!"
   ]
  },
  {
   "cell_type": "code",
   "execution_count": null,
   "metadata": {
    "tags": []
   },
   "outputs": [],
   "source": [
    "plot = feb.scatter('Year', 'Air temperature (C)')\n",
    "plot.set_ylim(-15, -25)\n",
    "plot.set_xlim(1970, 1990)"
   ]
  },
  {
   "cell_type": "markdown",
   "metadata": {},
   "source": [
    "We can change the title and labels on the graph. "
   ]
  },
  {
   "cell_type": "code",
   "execution_count": null,
   "metadata": {
    "tags": []
   },
   "outputs": [],
   "source": [
    "plot = feb.scatter('Year', 'Air temperature (C)')\n",
    "plot.set_ylim(-15, -25)\n",
    "plot.set_xlim(1970, 1990)\n",
    "plot.set_title(\"February in Greenland\")\n",
    "plot.set_ylabel(\"Air temp in celcius\")\n",
    "plot.set_xlabel(\"Year of data\")"
   ]
  },
  {
   "cell_type": "markdown",
   "metadata": {},
   "source": [
    "## 2. Visualization Discussion"
   ]
  },
  {
   "cell_type": "markdown",
   "metadata": {},
   "source": [
    "### Choosing betweeen visualizations"
   ]
  },
  {
   "cell_type": "markdown",
   "metadata": {},
   "source": [
    "**Question:** What's wrong with this visualization? How could we fix it? "
   ]
  },
  {
   "cell_type": "code",
   "execution_count": null,
   "metadata": {
    "tags": []
   },
   "outputs": [],
   "source": [
    "tidy_greenland.plot('Sea level pressure (mbar)', 'Precip (mm)')"
   ]
  },
  {
   "cell_type": "markdown",
   "metadata": {},
   "source": [
    "A: Line plots should only be used when it's meaningful to connect points along the x-axis (e.g. time or distance). We can change this to a scatter plot to analyze the relationship between these two numerical variables. "
   ]
  },
  {
   "cell_type": "code",
   "execution_count": null,
   "metadata": {
    "tags": []
   },
   "outputs": [],
   "source": [
    "tidy_greenland.scatter('Sea level pressure (mbar)', 'Precip (mm)')"
   ]
  },
  {
   "cell_type": "markdown",
   "metadata": {
    "tags": []
   },
   "source": [
    "### Think-pair-share"
   ]
  },
  {
   "cell_type": "markdown",
   "metadata": {
    "tags": []
   },
   "source": [
    "**Question:** Does a warmer July correlate with a warmer August?  Best we can do with our current table"
   ]
  },
  {
   "cell_type": "code",
   "execution_count": null,
   "metadata": {
    "tags": []
   },
   "outputs": [],
   "source": [
    "with Figure(1,2):\n",
    "    tidy_greenland.where(\"Month\", are.equal_to(7)).plot(\"Year\", 'Air temperature (C)', title='July')\n",
    "    tidy_greenland.where(\"Month\", are.equal_to(8)).plot(\"Year\", 'Air temperature (C)', title='Aug')"
   ]
  },
  {
   "cell_type": "markdown",
   "metadata": {
    "tags": []
   },
   "source": [
    "How can we improve on this?\n",
    "* What table would be useful to have?\n",
    "* How would you visualize the data in that table?"
   ]
  },
  {
   "cell_type": "code",
   "execution_count": null,
   "metadata": {
    "tags": []
   },
   "outputs": [],
   "source": [
    "temps_by_month = Table().read_table(\"data/temps_by_month_upernavik.csv\")\n",
    "temps_by_month.show(5)"
   ]
  },
  {
   "cell_type": "code",
   "execution_count": null,
   "metadata": {
    "tags": []
   },
   "outputs": [],
   "source": [
    "temps_by_month.select(\"Year\", \"Jul\", \"Aug\").plot(\"Year\")  # overlay two lines -- more on this below!"
   ]
  },
  {
   "cell_type": "markdown",
   "metadata": {},
   "source": [
    "Sort of see a correlation, but does time actually matter here???  Pick a plot that focusses on the two variables we care about: July temps and August temps."
   ]
  },
  {
   "cell_type": "code",
   "execution_count": null,
   "metadata": {
    "tags": []
   },
   "outputs": [],
   "source": [
    "temps_by_month.scatter(\"Jul\", \"Aug\")"
   ]
  },
  {
   "cell_type": "markdown",
   "metadata": {},
   "source": [
    "**Making it interactive.** We can't resist making an interactive visualization for looking at any two months in the same calendar year.  We'll look at the code in more detail in a week or two, so for now, just enjoy!"
   ]
  },
  {
   "cell_type": "code",
   "execution_count": null,
   "metadata": {
    "tags": []
   },
   "outputs": [],
   "source": [
    "def month_correlations(first, second):\n",
    "    plot = temps_by_month.scatter(first, second)\n",
    "    plot.set_title(\"Correlation between \" + first + \" and \" + second + \" Temps\");\n",
    "    \n",
    "months = make_array(\"Jan\", \"Feb\", \"Mar\", \"Apr\", \"May\", \"Jun\", \"Jul\", \"Aug\", \"Sep\", \"Oct\", \"Nov\", \"Dec\")\n",
    "interact(month_correlations, first=Choice(months), second=Choice(months))"
   ]
  },
  {
   "cell_type": "markdown",
   "metadata": {},
   "source": [
    "Right now, we're looking at everything *qualitatively*. By the end of this class, we'll be able to *quantify* this relationship (if you're curious--we'll use correlation coefficients). "
   ]
  },
  {
   "cell_type": "markdown",
   "metadata": {},
   "source": [
    "## 3. Overlaid graphs"
   ]
  },
  {
   "cell_type": "markdown",
   "metadata": {},
   "source": [
    "### Overlaid bar charts"
   ]
  },
  {
   "cell_type": "code",
   "execution_count": null,
   "metadata": {
    "tags": []
   },
   "outputs": [],
   "source": [
    "majors = Table.read_table(\"data/majors.csv\")\n",
    "div3 = majors.where(\"Division\", are.equal_to(3)).drop(\"Division\")\n",
    "div3"
   ]
  },
  {
   "cell_type": "code",
   "execution_count": null,
   "metadata": {
    "tags": []
   },
   "outputs": [],
   "source": [
    "# First graph for 2008-2012\n",
    "div3.barh(\"Major\", \"2008-2012\")"
   ]
  },
  {
   "cell_type": "code",
   "execution_count": null,
   "metadata": {
    "tags": []
   },
   "outputs": [],
   "source": [
    "# Second graph from 2018-2021\n",
    "div3.barh(\"Major\", \"2018-2021\")"
   ]
  },
  {
   "cell_type": "markdown",
   "metadata": {},
   "source": [
    "Overlaid graph puts the two graphs together to make comparison easier.\n",
    "\n",
    "The package we're using will automatically make overlaid graphs with the remainder of the columns if you give it just one parameter. "
   ]
  },
  {
   "cell_type": "code",
   "execution_count": null,
   "metadata": {
    "tags": []
   },
   "outputs": [],
   "source": [
    "div3.barh(\"Major\")"
   ]
  },
  {
   "cell_type": "markdown",
   "metadata": {},
   "source": [
    "### Overlaid line plots"
   ]
  },
  {
   "cell_type": "code",
   "execution_count": null,
   "metadata": {
    "tags": []
   },
   "outputs": [],
   "source": [
    "temps_by_month.show(5)"
   ]
  },
  {
   "cell_type": "markdown",
   "metadata": {},
   "source": [
    "As with bar charts, if you supply only one parameter, the `plot` method will plot a line for every other column."
   ]
  },
  {
   "cell_type": "code",
   "execution_count": null,
   "metadata": {},
   "outputs": [],
   "source": [
    "temps_by_month.plot(\"Year\")"
   ]
  },
  {
   "cell_type": "markdown",
   "metadata": {},
   "source": [
    "Qualitatively, we can see that the plot above has too much information on it which makes it not very useful for understand trends. "
   ]
  },
  {
   "cell_type": "code",
   "execution_count": null,
   "metadata": {
    "tags": []
   },
   "outputs": [],
   "source": [
    "temps_by_month.select(\"Year\", \"Feb\", \"Aug\").plot(\"Year\")"
   ]
  },
  {
   "cell_type": "markdown",
   "metadata": {},
   "source": [
    "### Overlaid scatter plots \n",
    "* We want to plot points (the values of two numerical variables) from different groups on the same graph.\n",
    "* A new approach.  Use categorical variable to break the rows into groups of related points in the plot."
   ]
  },
  {
   "cell_type": "code",
   "execution_count": null,
   "metadata": {},
   "outputs": [],
   "source": [
    "finch_1975 = Table().read_table(\"data/finch_beaks_1975.csv\")\n",
    "finch_1975.show(6)"
   ]
  },
  {
   "cell_type": "code",
   "execution_count": null,
   "metadata": {},
   "outputs": [],
   "source": [
    "finch_1975.scatter(\"Beak length, mm\", \"Beak depth, mm\", group=\"species\")"
   ]
  },
  {
   "cell_type": "markdown",
   "metadata": {},
   "source": [
    "**Takeaway:** The overlaid scatter plot above helps us very quickly discern differences between groups. In this case, we can quickly tell that the two Finch species have evolved (via natural selection) to have different beak characteristics. "
   ]
  },
  {
   "cell_type": "markdown",
   "metadata": {},
   "source": [
    "One last plot, this time with lines fitted to the data:"
   ]
  },
  {
   "cell_type": "code",
   "execution_count": null,
   "metadata": {
    "tags": []
   },
   "outputs": [],
   "source": [
    "finch_1975.scatter(\"Beak length, mm\", \"Beak depth, mm\", group=\"species\", fit_line=True)"
   ]
  }
 ],
 "metadata": {
  "kernelspec": {
   "display_name": "Python 3 (ipykernel)",
   "language": "python",
   "name": "python3"
  },
  "language_info": {
   "codemirror_mode": {
    "name": "ipython",
    "version": 3
   },
   "file_extension": ".py",
   "mimetype": "text/x-python",
   "name": "python",
   "nbconvert_exporter": "python",
   "pygments_lexer": "ipython3",
   "version": "3.11.13"
  },
  "widgets": {
   "application/vnd.jupyter.widget-state+json": {
    "state": {
     "1c4cf77b008b4655b0f0e293fbc8ef6e": {
      "model_module": "@jupyter-widgets/controls",
      "model_module_version": "1.5.0",
      "model_name": "DropdownModel",
      "state": {
       "_options_labels": [
        "Jan",
        "Feb",
        "Mar",
        "Apr",
        "May",
        "Jun",
        "Jul",
        "Aug",
        "Sep",
        "Oct",
        "Nov",
        "Dec"
       ],
       "description": "first",
       "index": 0,
       "layout": "IPY_MODEL_2de766a1bd3d45c388dc24add1d5329b",
       "style": "IPY_MODEL_ca6cb820a1db42859a4f46e4355d334e"
      }
     },
     "2de766a1bd3d45c388dc24add1d5329b": {
      "model_module": "@jupyter-widgets/base",
      "model_module_version": "1.2.0",
      "model_name": "LayoutModel",
      "state": {}
     },
     "30aa62847a04475b98506644a4961ca9": {
      "model_module": "@jupyter-widgets/controls",
      "model_module_version": "1.5.0",
      "model_name": "VBoxModel",
      "state": {
       "_dom_classes": [
        "widget-interact"
       ],
       "children": [
        "IPY_MODEL_1c4cf77b008b4655b0f0e293fbc8ef6e",
        "IPY_MODEL_fb564a6f6d5f4c18ae97e1d2f59be240",
        "IPY_MODEL_8a86cdd6dd364206807784e9ec77b6db"
       ],
       "layout": "IPY_MODEL_a56abd9f19ee49d8805dce494ef62c6e"
      }
     },
     "4d149bd461434840a85e22bbff8574e8": {
      "model_module": "@jupyter-widgets/base",
      "model_module_version": "1.2.0",
      "model_name": "LayoutModel",
      "state": {}
     },
     "52d88bc356104b30b2f4c5c4231083cf": {
      "model_module": "@jupyter-widgets/controls",
      "model_module_version": "1.5.0",
      "model_name": "DescriptionStyleModel",
      "state": {
       "description_width": ""
      }
     },
     "8a86cdd6dd364206807784e9ec77b6db": {
      "model_module": "@jupyter-widgets/output",
      "model_module_version": "1.0.0",
      "model_name": "OutputModel",
      "state": {
       "layout": "IPY_MODEL_ab04af4747e74b318faf91dc43478547",
       "outputs": [
        {
         "data": {
          "image/png": "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",
          "text/plain": "<Figure size 600x600 with 1 Axes>"
         },
         "metadata": {},
         "output_type": "display_data"
        }
       ]
      }
     },
     "a56abd9f19ee49d8805dce494ef62c6e": {
      "model_module": "@jupyter-widgets/base",
      "model_module_version": "1.2.0",
      "model_name": "LayoutModel",
      "state": {}
     },
     "ab04af4747e74b318faf91dc43478547": {
      "model_module": "@jupyter-widgets/base",
      "model_module_version": "1.2.0",
      "model_name": "LayoutModel",
      "state": {}
     },
     "ca6cb820a1db42859a4f46e4355d334e": {
      "model_module": "@jupyter-widgets/controls",
      "model_module_version": "1.5.0",
      "model_name": "DescriptionStyleModel",
      "state": {
       "description_width": ""
      }
     },
     "fb564a6f6d5f4c18ae97e1d2f59be240": {
      "model_module": "@jupyter-widgets/controls",
      "model_module_version": "1.5.0",
      "model_name": "DropdownModel",
      "state": {
       "_options_labels": [
        "Jan",
        "Feb",
        "Mar",
        "Apr",
        "May",
        "Jun",
        "Jul",
        "Aug",
        "Sep",
        "Oct",
        "Nov",
        "Dec"
       ],
       "description": "second",
       "index": 0,
       "layout": "IPY_MODEL_4d149bd461434840a85e22bbff8574e8",
       "style": "IPY_MODEL_52d88bc356104b30b2f4c5c4231083cf"
      }
     }
    },
    "version_major": 2,
    "version_minor": 0
   }
  }
 },
 "nbformat": 4,
 "nbformat_minor": 4
}
