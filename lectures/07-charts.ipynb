{
  "cells": [
    {
      "cell_type": "markdown",
      "metadata": {
        "tags": []
      },
      "source": [
        "# Charts"
      ]
    },
    {
      "cell_type": "code",
      "execution_count": null,
      "metadata": {
        "tags": []
      },
      "outputs": [],
      "source": [
        "from datascience import *\n",
        "from cs104 import *\n",
        "import numpy as np\n",
        "\n",
        "%matplotlib inline"
      ]
    },
    {
      "cell_type": "markdown",
      "metadata": {},
      "source": [
        "## 1. Table and visualization review"
      ]
    },
    {
      "cell_type": "code",
      "execution_count": null,
      "metadata": {
        "tags": []
      },
      "outputs": [],
      "source": [
        "# Load data from the last lecture and clean it up\n",
        "greenland_climate = Table.read_table('data/climate_upernavik.csv')\n",
        "greenland_climate = greenland_climate.relabeled('Precipitation (millimeters)', \"Precip (mm)\")\n",
        "tidy_greenland = greenland_climate.where('Air temperature (C)', are.not_equal_to(999.99))\n",
        "tidy_greenland = tidy_greenland.where('Sea level pressure (mbar)', are.not_equal_to(9999.9))\n",
        "tidy_greenland.show(4)"
      ]
    },
    {
      "cell_type": "markdown",
      "metadata": {},
      "source": [
        "### Think-Pair-Share"
      ]
    },
    {
      "cell_type": "markdown",
      "metadata": {},
      "source": [
        "**Question:** For the year 1900, make a visualization of each month and the amount of precipitation. Does visualization confirm your intuition of what you should expect to see? Why or why not?  \n",
        "\n",
        "*Hint:* Think carefully about what type of visualization you should use. "
      ]
    },
    {
      "cell_type": "code",
      "execution_count": null,
      "metadata": {
        "tags": []
      },
      "outputs": [],
      "source": [
        "tidy_greenland.where('Year', are.equal_to(1900)).barh('Month', 'Precip (mm)')"
      ]
    },
    {
      "cell_type": "markdown",
      "metadata": {},
      "source": [
        "**Question:** How about if we want the data in inches?\n",
        "\n",
        "*Hint:* 25.4 millimeters are equal to one inch."
      ]
    },
    {
      "cell_type": "code",
      "execution_count": null,
      "metadata": {
        "tags": []
      },
      "outputs": [],
      "source": [
        "precip_in_inches = tidy_greenland.with_column(\"Precip (in)\",\n",
        "                                             tidy_greenland.column(\"Precip (mm)\") / 25.4)\n",
        "\n",
        "precip_in_inches.where('Year', are.equal_to(1900)).barh('Month', 'Precip (in)')"
      ]
    },
    {
      "cell_type": "markdown",
      "metadata": {
        "tags": []
      },
      "source": [
        "### A Little Practice Fixing Programming Mistakes"
      ]
    },
    {
      "cell_type": "markdown",
      "metadata": {},
      "source": [
        "For fun, let's look at only recent data between 1950 and 1995.  Here's our first attempt"
      ]
    },
    {
      "cell_type": "code",
      "execution_count": null,
      "metadata": {
        "tags": [
          "raises-exception"
        ]
      },
      "outputs": [],
      "source": [
        "recent = tidy_greenland.where(Year, are.strictly_between(\"1950\",\"1995\")) #should throw an error"
      ]
    },
    {
      "cell_type": "markdown",
      "metadata": {},
      "source": [
        "How do we debug this error message? "
      ]
    },
    {
      "cell_type": "code",
      "execution_count": null,
      "metadata": {
        "tags": [
          "raises-exception"
        ]
      },
      "outputs": [],
      "source": [
        "# Ok. Try to fix something \n",
        "recent = tidy_greenland.where(\"Year\", are.strictly_between(\"1950\", \"1995\")) #should throw an error"
      ]
    },
    {
      "cell_type": "markdown",
      "metadata": {},
      "source": [
        "Always good to read the documentation for the functions and methods you are using.  Docs for [are.strictly_between](https://www.cs.williams.edu/~cs104/auto/python-library-ref.html#strictly_between).  What types of parameters does that method take take?"
      ]
    },
    {
      "cell_type": "code",
      "execution_count": null,
      "metadata": {
        "tags": []
      },
      "outputs": [],
      "source": [
        "#print out types and comment out pieces of code to debug \n",
        "type(\"1950\") \n",
        "type(1950) #comment this line to see the previous line "
      ]
    },
    {
      "cell_type": "markdown",
      "metadata": {},
      "source": [
        "The fixed version:"
      ]
    },
    {
      "cell_type": "code",
      "execution_count": null,
      "metadata": {
        "tags": []
      },
      "outputs": [],
      "source": [
        "recent = tidy_greenland.where(\"Year\", are.strictly_between(1950, 1995))\n",
        "recent.show(3)"
      ]
    },
    {
      "cell_type": "markdown",
      "metadata": {},
      "source": [
        "Great! No errors, but did we get the correct answer?  How could we sanity check?  Look for smallest and largest year left in the table."
      ]
    },
    {
      "cell_type": "code",
      "execution_count": null,
      "metadata": {
        "tags": []
      },
      "outputs": [],
      "source": [
        "years_chosen = recent.column(\"Year\")\n",
        "print(min(years_chosen))\n",
        "print(max(years_chosen))"
      ]
    },
    {
      "cell_type": "markdown",
      "metadata": {},
      "source": [
        "That doesn't look right.  Back to the docs for [are.strictly_between](https://www.cs.williams.edu/~cs104/auto/python-library-ref.html#strictly_between)..."
      ]
    },
    {
      "cell_type": "code",
      "execution_count": null,
      "metadata": {
        "tags": []
      },
      "outputs": [],
      "source": [
        "recent = tidy_greenland.where(\"Year\", are.between_or_equal_to(1950, 1995))\n",
        "years_chosen = recent.column(\"Year\")\n",
        "print(min(years_chosen))\n",
        "print(max(years_chosen))"
      ]
    },
    {
      "cell_type": "markdown",
      "metadata": {},
      "source": [
        "That looks good.  Let's visualize the Februrary temperatures in the `recent` table."
      ]
    },
    {
      "cell_type": "markdown",
      "metadata": {},
      "source": [
        "### Plot customizations"
      ]
    },
    {
      "cell_type": "code",
      "execution_count": null,
      "metadata": {
        "tags": []
      },
      "outputs": [],
      "source": [
        "feb = recent.where('Month', are.equal_to(2))\n",
        "plot = feb.scatter('Year', 'Air temperature (C)')"
      ]
    },
    {
      "cell_type": "markdown",
      "metadata": {},
      "source": [
        "Let's \"zoom in\"!"
      ]
    },
    {
      "cell_type": "code",
      "execution_count": null,
      "metadata": {
        "tags": []
      },
      "outputs": [],
      "source": [
        "plot = feb.scatter('Year', 'Air temperature (C)')\n",
        "plot.set_ylim(-15, -25)\n",
        "plot.set_xlim(1970, 1990)"
      ]
    },
    {
      "cell_type": "markdown",
      "metadata": {},
      "source": [
        "We can change the title and labels on the graph. "
      ]
    },
    {
      "cell_type": "code",
      "execution_count": null,
      "metadata": {
        "tags": []
      },
      "outputs": [],
      "source": [
        "plot = feb.scatter('Year', 'Air temperature (C)')\n",
        "plot.set_ylim(-15, -25)\n",
        "plot.set_xlim(1970, 1990)\n",
        "plot.set_title(\"February in Greenland\")\n",
        "plot.set_ylabel(\"Air temp in celcius\")\n",
        "plot.set_xlabel(\"Year of data\")"
      ]
    },
    {
      "cell_type": "markdown",
      "metadata": {},
      "source": [
        "## 2. Visualization Discussion"
      ]
    },
    {
      "cell_type": "markdown",
      "metadata": {},
      "source": [
        "### Choosing betweeen visualizations"
      ]
    },
    {
      "cell_type": "markdown",
      "metadata": {},
      "source": [
        "**Question:** What's wrong with this visualization? How could we fix it? "
      ]
    },
    {
      "cell_type": "code",
      "execution_count": null,
      "metadata": {
        "tags": []
      },
      "outputs": [],
      "source": [
        "tidy_greenland.plot('Sea level pressure (mbar)', 'Precip (mm)')"
      ]
    },
    {
      "cell_type": "markdown",
      "metadata": {},
      "source": [
        "A: Line plots should only be used when it's meaningful to connect points along the x-axis (e.g. time or distance). We can change this to a scatter plot to analyze the relationship between these two numerical variables. "
      ]
    },
    {
      "cell_type": "code",
      "execution_count": null,
      "metadata": {
        "tags": []
      },
      "outputs": [],
      "source": [
        "tidy_greenland.scatter('Sea level pressure (mbar)', 'Precip (mm)')"
      ]
    },
    {
      "cell_type": "markdown",
      "metadata": {
        "tags": []
      },
      "source": [
        "### Think-pair-share"
      ]
    },
    {
      "cell_type": "markdown",
      "metadata": {
        "tags": []
      },
      "source": [
        "**Question:** Does a warmer July correlate with a warmer August?  Best we can do with our current table"
      ]
    },
    {
      "cell_type": "code",
      "execution_count": null,
      "metadata": {
        "tags": []
      },
      "outputs": [],
      "source": [
        "with Figure(1,2):\n",
        "    tidy_greenland.where(\"Month\", are.equal_to(7)).plot(\"Year\", 'Air temperature (C)', title='July')\n",
        "    tidy_greenland.where(\"Month\", are.equal_to(8)).plot(\"Year\", 'Air temperature (C)', title='Aug')"
      ]
    },
    {
      "cell_type": "markdown",
      "metadata": {
        "tags": []
      },
      "source": [
        "How can we improve on this?\n",
        "* What table would be useful to have?\n",
        "* How would you visualize the data in that table?"
      ]
    },
    {
      "cell_type": "code",
      "execution_count": null,
      "metadata": {
        "tags": []
      },
      "outputs": [],
      "source": [
        "temps_by_month = Table().read_table(\"data/temps_by_month_upernavik.csv\")\n",
        "temps_by_month.show(5)"
      ]
    },
    {
      "cell_type": "code",
      "execution_count": null,
      "metadata": {
        "tags": []
      },
      "outputs": [],
      "source": [
        "temps_by_month.select(\"Year\", \"Jul\", \"Aug\").plot(\"Year\")  # overlay two lines -- more on this below!"
      ]
    },
    {
      "cell_type": "markdown",
      "metadata": {},
      "source": [
        "Sort of see a correlation, but does time actually matter here???  Pick a plot that focusses on the two variables we care about: July temps and August temps."
      ]
    },
    {
      "cell_type": "code",
      "execution_count": null,
      "metadata": {
        "tags": []
      },
      "outputs": [],
      "source": [
        "temps_by_month.scatter(\"Jul\", \"Aug\")"
      ]
    },
    {
      "cell_type": "markdown",
      "metadata": {},
      "source": [
        "**Making it interactive.** We can't resist making an interactive visualization for looking at any two months in the same calendar year.  We'll look at the code in more detail in a week or two, so for now, just enjoy!"
      ]
    },
    {
      "cell_type": "code",
      "execution_count": null,
      "metadata": {
        "tags": []
      },
      "outputs": [],
      "source": [
        "def month_correlations(first, second):\n",
        "    plot = temps_by_month.scatter(first, second)\n",
        "    plot.set_title(\"Correlation between \" + first + \" and \" + second + \" Temps\");\n",
        "    \n",
        "months = make_array(\"Jan\", \"Feb\", \"Mar\", \"Apr\", \"May\", \"Jun\", \"Jul\", \"Aug\", \"Sep\", \"Oct\", \"Nov\", \"Dec\")\n",
        "interact(month_correlations, first=Choice(months), second=Choice(months))"
      ]
    },
    {
      "cell_type": "markdown",
      "metadata": {},
      "source": [
        "Right now, we're looking at everything *qualitatively*. By the end of this class, we'll be able to *quantify* this relationship (if you're curious--we'll use correlation coefficients). "
      ]
    },
    {
      "cell_type": "markdown",
      "metadata": {},
      "source": [
        "## 3. Overlaid graphs"
      ]
    },
    {
      "cell_type": "markdown",
      "metadata": {},
      "source": [
        "### Overlaid bar charts"
      ]
    },
    {
      "cell_type": "code",
      "execution_count": null,
      "metadata": {
        "tags": []
      },
      "outputs": [],
      "source": [
        "majors = Table.read_table(\"data/majors.csv\")\n",
        "div3 = majors.where(\"Division\", are.equal_to(3)).drop(\"Division\")\n",
        "div3"
      ]
    },
    {
      "cell_type": "code",
      "execution_count": null,
      "metadata": {
        "tags": []
      },
      "outputs": [],
      "source": [
        "# First graph for 2008-2012\n",
        "div3.barh(\"Major\", \"2008-2012\")"
      ]
    },
    {
      "cell_type": "code",
      "execution_count": null,
      "metadata": {
        "tags": []
      },
      "outputs": [],
      "source": [
        "# Second graph from 2018-2021\n",
        "div3.barh(\"Major\", \"2018-2021\")"
      ]
    },
    {
      "cell_type": "markdown",
      "metadata": {},
      "source": [
        "Overlaid graph puts the two graphs together to make comparison easier.\n",
        "\n",
        "The package we're using will automatically make overlaid graphs with the remainder of the columns if you give it just one parameter. "
      ]
    },
    {
      "cell_type": "code",
      "execution_count": null,
      "metadata": {
        "tags": []
      },
      "outputs": [],
      "source": [
        "div3.barh(\"Major\")"
      ]
    },
    {
      "cell_type": "markdown",
      "metadata": {},
      "source": [
        "### Overlaid line plots"
      ]
    },
    {
      "cell_type": "code",
      "execution_count": null,
      "metadata": {
        "tags": []
      },
      "outputs": [],
      "source": [
        "temps_by_month.show(5)"
      ]
    },
    {
      "cell_type": "markdown",
      "metadata": {},
      "source": [
        "As with bar charts, if you supply only one parameter, the `plot` method will plot a line for every other column."
      ]
    },
    {
      "cell_type": "code",
      "execution_count": null,
      "metadata": {},
      "outputs": [],
      "source": [
        "temps_by_month.plot(\"Year\")"
      ]
    },
    {
      "cell_type": "markdown",
      "metadata": {},
      "source": [
        "Qualitatively, we can see that the plot above has too much information on it which makes it not very useful for understand trends. "
      ]
    },
    {
      "cell_type": "code",
      "execution_count": null,
      "metadata": {
        "tags": []
      },
      "outputs": [],
      "source": [
        "temps_by_month.select(\"Year\", \"Feb\", \"Aug\").plot(\"Year\")"
      ]
    },
    {
      "cell_type": "markdown",
      "metadata": {},
      "source": [
        "### Overlaid scatter plots \n",
        "* We want to plot points (the values of two numerical variables) from different groups on the same graph.\n",
        "* A new approach.  Use categorical variable to break the rows into groups of related points in the plot."
      ]
    },
    {
      "cell_type": "code",
      "execution_count": null,
      "metadata": {},
      "outputs": [],
      "source": [
        "finch_1975 = Table().read_table(\"data/finch_beaks_1975.csv\")\n",
        "finch_1975.show(6)"
      ]
    },
    {
      "cell_type": "code",
      "execution_count": null,
      "metadata": {},
      "outputs": [],
      "source": [
        "finch_1975.scatter(\"Beak length, mm\", \"Beak depth, mm\", group=\"species\")"
      ]
    },
    {
      "cell_type": "markdown",
      "metadata": {},
      "source": [
        "**Takeaway:** The overlaid scatter plot above helps us very quickly discern differences between groups. In this case, we can quickly tell that the two Finch species have evolved (via natural selection) to have different beak characteristics. "
      ]
    },
    {
      "cell_type": "markdown",
      "metadata": {},
      "source": [
        "One last plot, this time with lines fitted to the data:"
      ]
    },
    {
      "cell_type": "code",
      "execution_count": null,
      "metadata": {
        "tags": []
      },
      "outputs": [],
      "source": [
        "finch_1975.scatter(\"Beak length, mm\", \"Beak depth, mm\", group=\"species\", fit_line=True)"
      ]
    }
  ],
  "metadata": {
    "kernelspec": {
      "display_name": "Python 3 (ipykernel)",
      "language": "python",
      "name": "python3"
    },
    "language_info": {
      "codemirror_mode": {
        "name": "ipython",
        "version": 3
      },
      "file_extension": ".py",
      "mimetype": "text/x-python",
      "name": "python",
      "nbconvert_exporter": "python",
      "pygments_lexer": "ipython3",
      "version": "3.11.13"
    },
    "widgets": {
      "application/vnd.jupyter.widget-state+json": {
        "state": {},
        "version_major": 2,
        "version_minor": 0
      }
    }
  },
  "nbformat": 4,
  "nbformat_minor": 4
}