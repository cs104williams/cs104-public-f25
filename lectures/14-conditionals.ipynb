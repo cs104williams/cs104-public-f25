{
 "cells": [
  {
   "cell_type": "markdown",
   "metadata": {},
   "source": [
    "# Conditionals"
   ]
  },
  {
   "cell_type": "code",
   "execution_count": null,
   "metadata": {
    "tags": []
   },
   "outputs": [],
   "source": [
    "from datascience import *\n",
    "from cs104 import *\n",
    "import numpy as np\n",
    "%matplotlib inline"
   ]
  },
  {
   "cell_type": "markdown",
   "metadata": {
    "tags": []
   },
   "source": [
    "## 1. Booleans and Comparison Operators"
   ]
  },
  {
   "cell_type": "markdown",
   "metadata": {},
   "source": [
    "Let's review a bunch of expressions that yield a True/False (or Boolean) result."
   ]
  },
  {
   "cell_type": "code",
   "execution_count": null,
   "metadata": {
    "tags": []
   },
   "outputs": [],
   "source": [
    "3 > 1"
   ]
  },
  {
   "cell_type": "code",
   "execution_count": null,
   "metadata": {
    "tags": []
   },
   "outputs": [],
   "source": [
    "type(3 > 1)"
   ]
  },
  {
   "cell_type": "code",
   "execution_count": null,
   "metadata": {
    "tags": [
     "raises-exception"
    ]
   },
   "outputs": [],
   "source": [
    "3 = 3"
   ]
  },
  {
   "cell_type": "code",
   "execution_count": null,
   "metadata": {
    "tags": []
   },
   "outputs": [],
   "source": [
    "3 == 3"
   ]
  },
  {
   "cell_type": "code",
   "execution_count": null,
   "metadata": {
    "tags": []
   },
   "outputs": [],
   "source": [
    "x = 5\n",
    "y = 12"
   ]
  },
  {
   "cell_type": "code",
   "execution_count": null,
   "metadata": {
    "tags": []
   },
   "outputs": [],
   "source": [
    "x == 7"
   ]
  },
  {
   "cell_type": "code",
   "execution_count": null,
   "metadata": {
    "tags": []
   },
   "outputs": [],
   "source": [
    "y - x"
   ]
  },
  {
   "cell_type": "code",
   "execution_count": null,
   "metadata": {
    "tags": []
   },
   "outputs": [],
   "source": [
    "4 < y - x <= 6"
   ]
  },
  {
   "cell_type": "code",
   "execution_count": null,
   "metadata": {
    "tags": []
   },
   "outputs": [],
   "source": [
    "4 < y - x"
   ]
  },
  {
   "cell_type": "markdown",
   "metadata": {},
   "source": [
    "We can combine Booleans with `and`, `or` and `not` to create longer logical expressions. "
   ]
  },
  {
   "cell_type": "code",
   "execution_count": null,
   "metadata": {
    "tags": []
   },
   "outputs": [],
   "source": [
    "y - x <= 6"
   ]
  },
  {
   "cell_type": "code",
   "execution_count": null,
   "metadata": {
    "tags": []
   },
   "outputs": [],
   "source": [
    "x == 5 and y == 12"
   ]
  },
  {
   "cell_type": "code",
   "execution_count": null,
   "metadata": {
    "tags": []
   },
   "outputs": [],
   "source": [
    "x == 5 and y == 11"
   ]
  },
  {
   "cell_type": "code",
   "execution_count": null,
   "metadata": {
    "tags": []
   },
   "outputs": [],
   "source": [
    "x == 5 or y == 11"
   ]
  },
  {
   "cell_type": "code",
   "execution_count": null,
   "metadata": {
    "tags": []
   },
   "outputs": [],
   "source": [
    "x == 5 and (y == 11 or y == 12)"
   ]
  },
  {
   "cell_type": "code",
   "execution_count": null,
   "metadata": {
    "tags": []
   },
   "outputs": [],
   "source": [
    "not True"
   ]
  },
  {
   "cell_type": "code",
   "execution_count": null,
   "metadata": {
    "tags": []
   },
   "outputs": [],
   "source": [
    "not False"
   ]
  },
  {
   "cell_type": "code",
   "execution_count": null,
   "metadata": {
    "tags": []
   },
   "outputs": [],
   "source": [
    "not not True"
   ]
  },
  {
   "cell_type": "markdown",
   "metadata": {},
   "source": [
    "### Broadcasting Comparisons\n",
    "\n",
    "Comparison operations can be used in array broadcasting too!  We'll use data about the game [Monopoly](https://en.wikipedia.org/wiki/Monopoly_(game)) to illustrate how.\n",
    "\n",
    "<img src=\"https://i5.walmartimages.com/asr/5390b2cd-b17a-4dad-8889-a8a28b779950.e12432db94df80244efc837d9842006c.jpeg\" width=50%>\n",
    "\n"
   ]
  },
  {
   "cell_type": "code",
   "execution_count": null,
   "metadata": {
    "tags": []
   },
   "outputs": [],
   "source": [
    "monopoly = Table().read_table(\"data/monopoly.csv\")\n",
    "monopoly"
   ]
  },
  {
   "cell_type": "markdown",
   "metadata": {},
   "source": [
    "Let's focus on a subset of this data that just includes the name, color, and price of all the regular properties in the game."
   ]
  },
  {
   "cell_type": "code",
   "execution_count": null,
   "metadata": {
    "tags": []
   },
   "outputs": [],
   "source": [
    "tiny_monopoly = monopoly.where('Color', are.not_equal_to('None'))\n",
    "tiny_monopoly = tiny_monopoly.where('Space', are.containing('Street'))\n",
    "tiny_monopoly = tiny_monopoly.select('Name', 'Color', 'Price')\n",
    "tiny_monopoly = tiny_monopoly.sort('Name')  "
   ]
  },
  {
   "cell_type": "code",
   "execution_count": null,
   "metadata": {
    "tags": []
   },
   "outputs": [],
   "source": [
    "tiny_monopoly.show(10)"
   ]
  },
  {
   "cell_type": "markdown",
   "metadata": {},
   "source": [
    "Suppose we only have 220 dollars. How many properties could we buy? "
   ]
  },
  {
   "cell_type": "code",
   "execution_count": null,
   "metadata": {
    "tags": []
   },
   "outputs": [],
   "source": [
    "price = tiny_monopoly.column(\"Price\")\n",
    "price"
   ]
  },
  {
   "cell_type": "markdown",
   "metadata": {},
   "source": [
    "Let's broadcast a comparison across this array. Does the type of the result make sense to you?"
   ]
  },
  {
   "cell_type": "code",
   "execution_count": null,
   "metadata": {
    "tags": []
   },
   "outputs": [],
   "source": [
    "price <= 220"
   ]
  },
  {
   "cell_type": "code",
   "execution_count": null,
   "metadata": {
    "tags": []
   },
   "outputs": [],
   "source": [
    "np.count_nonzero(price <= 220)"
   ]
  },
  {
   "cell_type": "markdown",
   "metadata": {},
   "source": [
    "How many properties could we buy for exactly 220 dollars?"
   ]
  },
  {
   "cell_type": "code",
   "execution_count": null,
   "metadata": {
    "tags": []
   },
   "outputs": [],
   "source": [
    "price == 220"
   ]
  },
  {
   "cell_type": "code",
   "execution_count": null,
   "metadata": {
    "tags": []
   },
   "outputs": [],
   "source": [
    "np.count_nonzero(price == 220)"
   ]
  },
  {
   "cell_type": "markdown",
   "metadata": {},
   "source": [
    "How many of the Monopoly spaces are light blue? "
   ]
  },
  {
   "cell_type": "code",
   "execution_count": null,
   "metadata": {
    "tags": []
   },
   "outputs": [],
   "source": [
    "np.count_nonzero(monopoly.column(\"Color\") == \"LightBlue\")"
   ]
  },
  {
   "cell_type": "markdown",
   "metadata": {},
   "source": [
    "**Small digression.** There are limits to what we can do when using comparision operators and arrays...  You may see errors like the following if you try to combine comparisons and broadcasting in seemingly-intuitive but unsupported ways:"
   ]
  },
  {
   "cell_type": "code",
   "execution_count": null,
   "metadata": {
    "tags": [
     "raises-exception"
    ]
   },
   "outputs": [],
   "source": [
    "10 <= price <= 400"
   ]
  },
  {
   "cell_type": "markdown",
   "metadata": {},
   "source": [
    "We'll try to steer you away from such cases, but if they occur, rephrasing as the following usually does the trick."
   ]
  },
  {
   "cell_type": "code",
   "execution_count": null,
   "metadata": {
    "tags": []
   },
   "outputs": [],
   "source": [
    "np.all(10 <= price) and np.all(price <= 400)"
   ]
  },
  {
   "cell_type": "markdown",
   "metadata": {
    "tags": []
   },
   "source": [
    "## 2. If Statements"
   ]
  },
  {
   "cell_type": "markdown",
   "metadata": {},
   "source": [
    "We can use `if` statements to dictate which portion of our code should run based on Boolean expressions. "
   ]
  },
  {
   "cell_type": "code",
   "execution_count": null,
   "metadata": {
    "tags": []
   },
   "outputs": [],
   "source": [
    "property_price = 50  \n",
    "if property_price  < 100: \n",
    "    print(\"Inexpensive\")"
   ]
  },
  {
   "cell_type": "code",
   "execution_count": null,
   "metadata": {
    "tags": []
   },
   "outputs": [],
   "source": [
    "property_price = 500  \n",
    "if property_price  < 100: \n",
    "    print(\"Inexpensive\")"
   ]
  },
  {
   "cell_type": "code",
   "execution_count": null,
   "metadata": {
    "tags": []
   },
   "outputs": [],
   "source": [
    "property_price = 500  \n",
    "if property_price < 100:\n",
    "    print(\"Inexpensive\")\n",
    "else:\n",
    "    print(\"Expensive\")"
   ]
  },
  {
   "cell_type": "markdown",
   "metadata": {},
   "source": [
    "Let's use some best practices in computing and write a *function* for when we are re-writing the same chunks of code multiple times.  "
   ]
  },
  {
   "cell_type": "code",
   "execution_count": null,
   "metadata": {
    "tags": []
   },
   "outputs": [],
   "source": [
    "def price_rating(price):\n",
    "    \"\"\"Prints whether the price is \n",
    "    considered expensive or inexpensive\"\"\"\n",
    "    if price < 100:\n",
    "        print(\"Inexpensive\")\n",
    "    else:\n",
    "        print(\"Expensive\")"
   ]
  },
  {
   "cell_type": "code",
   "execution_count": null,
   "metadata": {
    "tags": []
   },
   "outputs": [],
   "source": [
    "price_rating(500)"
   ]
  },
  {
   "cell_type": "code",
   "execution_count": null,
   "metadata": {
    "tags": []
   },
   "outputs": [],
   "source": [
    "price_rating(50)"
   ]
  },
  {
   "cell_type": "code",
   "execution_count": null,
   "metadata": {
    "tags": [
     "raises-exception"
    ]
   },
   "outputs": [],
   "source": [
    "price_rating(\"blah\")"
   ]
  },
  {
   "cell_type": "markdown",
   "metadata": {},
   "source": [
    "Let's re-write the function to return a value instead of priting. "
   ]
  },
  {
   "cell_type": "code",
   "execution_count": null,
   "metadata": {
    "tags": []
   },
   "outputs": [],
   "source": [
    "def price_rating(price):\n",
    "    \"\"\"Returns whether the price is \n",
    "    considered expensive or inexpensive\"\"\"\n",
    "    if price < 100:\n",
    "        return \"Inexpensive\"\n",
    "    else:\n",
    "        return \"Expensive\""
   ]
  },
  {
   "cell_type": "code",
   "execution_count": null,
   "metadata": {
    "tags": []
   },
   "outputs": [],
   "source": [
    "price_rating(50)"
   ]
  },
  {
   "cell_type": "markdown",
   "metadata": {
    "tags": []
   },
   "source": [
    "Here's another quick example of if statements, and a function you know well."
   ]
  },
  {
   "cell_type": "code",
   "execution_count": null,
   "metadata": {
    "tags": []
   },
   "outputs": [],
   "source": [
    "def abs(x):\n",
    "    \"\"\"Returns the absolute value\"\"\"\n",
    "    if x < 0:\n",
    "        return -x\n",
    "    else:\n",
    "        return x"
   ]
  },
  {
   "cell_type": "code",
   "execution_count": null,
   "metadata": {
    "tags": []
   },
   "outputs": [],
   "source": [
    "abs(-3)"
   ]
  },
  {
   "cell_type": "markdown",
   "metadata": {},
   "source": [
    "Let's write some checks to test our code more thoroughly. "
   ]
  },
  {
   "cell_type": "code",
   "execution_count": null,
   "metadata": {
    "tags": []
   },
   "outputs": [],
   "source": [
    "check(abs(-3) == 3)\n",
    "check(abs(0) == 0)\n",
    "check(abs(3) == 3)"
   ]
  },
  {
   "cell_type": "markdown",
   "metadata": {},
   "source": [
    "### Nested if statements\n",
    "Instead of just using `if` and `else` we can used a `elif` (contraction for \"else if\") to test multiple Boolean conditions in sequence. "
   ]
  },
  {
   "cell_type": "code",
   "execution_count": null,
   "metadata": {
    "tags": []
   },
   "outputs": [],
   "source": [
    "def price_rating(price):\n",
    "    \"\"\"Returns category for a price.\"\"\"\n",
    "    if price < 200:\n",
    "        return \"Inexpensive\"\n",
    "    elif price < 300: \n",
    "        return \"Expensive\"\n",
    "    elif price < 400: \n",
    "        return \"Very Expensive\"\n",
    "    else: \n",
    "        return \"Outrageous\" "
   ]
  },
  {
   "cell_type": "code",
   "execution_count": null,
   "metadata": {
    "tags": []
   },
   "outputs": [],
   "source": [
    "price_rating(280)"
   ]
  },
  {
   "cell_type": "code",
   "execution_count": null,
   "metadata": {
    "tags": []
   },
   "outputs": [],
   "source": [
    "check(price_rating(100) == 'Inexpensive')\n",
    "check(price_rating(250) == 'Expensive')\n",
    "check(price_rating(500) == 'Outrageous')"
   ]
  },
  {
   "cell_type": "markdown",
   "metadata": {},
   "source": [
    "We'll use `apply` to add a column to our Monopoly table and help give new players a sense of categorization of inexpensive to expensive properities. "
   ]
  },
  {
   "cell_type": "code",
   "execution_count": null,
   "metadata": {
    "tags": []
   },
   "outputs": [],
   "source": [
    "ratings = tiny_monopoly.apply(price_rating, 'Price')\n",
    "ratings"
   ]
  },
  {
   "cell_type": "code",
   "execution_count": null,
   "metadata": {
    "tags": []
   },
   "outputs": [],
   "source": [
    "rated_monopoly = tiny_monopoly.with_columns(\"Cost Rating\", ratings)\n",
    "rated_monopoly"
   ]
  },
  {
   "cell_type": "code",
   "execution_count": null,
   "metadata": {
    "tags": []
   },
   "outputs": [],
   "source": [
    "rated_monopoly.group('Cost Rating')"
   ]
  },
  {
   "cell_type": "code",
   "execution_count": null,
   "metadata": {
    "tags": []
   },
   "outputs": [],
   "source": [
    "rated_monopoly.where('Cost Rating', are.equal_to('Outrageous'))"
   ]
  },
  {
   "cell_type": "markdown",
   "metadata": {},
   "source": [
    "### Think-Pair-Share: Letter grades \n",
    "\n",
    "We have a function `letter_grade` to convert a numeric score from 0 to 100 into a letter grade:\n",
    "\n",
    "```python\n",
    "def letter_grade(score):\n",
    "    \"\"\"\n",
    "    Given a score between 0 and 100, returns the letter grade of:\n",
    "      'A' if score is 90 or greater, \n",
    "      'B' if score is in the 80's, \n",
    "      'C' if the score is lower than 80.\n",
    "    \"\"\"\n",
    "    ...\n",
    "```"
   ]
  },
  {
   "cell_type": "markdown",
   "metadata": {},
   "source": [
    "The code is in the next cell, but before looking at it, write a set of `check` statements that you can use to verify it works correctly:"
   ]
  },
  {
   "cell_type": "code",
   "execution_count": null,
   "metadata": {
    "tags": []
   },
   "outputs": [],
   "source": [
    "def letter_grade(score):\n",
    "    \"\"\"\n",
    "    Given a score between 0 and 100, returns the letter grade of:\n",
    "      'A' if score is 90 or greater, \n",
    "      'B' if score is in the 80's, \n",
    "      'C' if the score is lower than 80.\n",
    "    \"\"\"\n",
    "    if score >= 90:\n",
    "        return 'A'\n",
    "    elif score >= 80:\n",
    "        return 'B'\n",
    "    else:\n",
    "        return 'C'    "
   ]
  },
  {
   "cell_type": "markdown",
   "metadata": {},
   "source": [
    "Here is one such set of checks.  Notice we pick some basic scores in the middle of each range, as well as \"edge\" cases on the border between two cases."
   ]
  },
  {
   "cell_type": "code",
   "execution_count": null,
   "metadata": {
    "tags": []
   },
   "outputs": [],
   "source": [
    "check(letter_grade(95) == 'A')\n",
    "check(letter_grade(85) == 'B')\n",
    "check(letter_grade(60) == 'C')\n",
    "check(letter_grade(100) == 'A')\n",
    "check(letter_grade(90) == 'A')\n",
    "check(letter_grade(80) == 'B')\n",
    "check(letter_grade(0) == 'C')"
   ]
  },
  {
   "cell_type": "markdown",
   "metadata": {},
   "source": [
    "Which of the following versions pass all of your checks?"
   ]
  },
  {
   "cell_type": "code",
   "execution_count": null,
   "metadata": {
    "tags": []
   },
   "outputs": [],
   "source": [
    "# Version 1\n",
    "def letter_grade(score):\n",
    "    if score >= 80:\n",
    "        return 'B'\n",
    "    elif score >= 90:\n",
    "        return 'A'\n",
    "    else:\n",
    "        return 'C'    \n",
    "\n",
    "# Version 2\n",
    "def letter_grade(score):\n",
    "    if score > 90:\n",
    "        return 'A'\n",
    "    elif score > 80:\n",
    "        return 'B'\n",
    "    else:\n",
    "        return 'C'        \n",
    "    \n",
    "# Version 3    \n",
    "def letter_grade(score):\n",
    "    if score >= 90:\n",
    "        return 'A'\n",
    "    elif score >= 80:\n",
    "        return 'B'\n",
    "    else:\n",
    "        return 'C'    "
   ]
  },
  {
   "cell_type": "markdown",
   "metadata": {},
   "source": [
    "### Think-pair-share: What outerwear? "
   ]
  },
  {
   "cell_type": "markdown",
   "metadata": {},
   "source": [
    "Colder weather is coming to Williamstown.  This next question helps you dress appropriately...\n",
    "\n",
    "In particular, here is a table suggesting reasonable outerwear for various conditions:\n",
    "\n",
    "| Temperature?     | Raining? | What to wear? |\n",
    "|:----------------:|:--------:|:-------------:|\n",
    "| Greater than 80F | Yes/No | T-Shirt       |\n",
    "| 40F to 80F       |  Yes      | Rain jacket     |\n",
    "| 40F to 80F       |  No      | Hoodie        |\n",
    "| Less than 40F    | Yes/No | Winter coat   |\n",
    "\n",
    "Complete the function\n",
    "\n",
    "```python\n",
    "def what_to_wear(temp, is_raining): \n",
    "    ...\n",
    "```\n",
    "to implement this logic.  Here, `temp` is a number, and `is_raining` is either `True` or `False`."
   ]
  },
  {
   "cell_type": "markdown",
   "metadata": {},
   "source": [
    "Here's one solution that we can start with:"
   ]
  },
  {
   "cell_type": "code",
   "execution_count": null,
   "metadata": {
    "tags": []
   },
   "outputs": [],
   "source": [
    "# This version enumerates each case separately, but is more\n",
    "# repetitive that we'd like.  That is, 40 <= temp <= 80 appears\n",
    "# multiple times...\n",
    "def what_to_wear(temp, is_raining): \n",
    "    if temp > 80:\n",
    "        return \"T-shirt\"\n",
    "    elif 40 <= temp <= 80 and is_raining: \n",
    "        return \"Rain jacket\" \n",
    "    elif 40 <= temp <= 80 and not is_raining: \n",
    "        return \"Hoodie\"\n",
    "    else: \n",
    "        return \"Winter coat\"  "
   ]
  },
  {
   "cell_type": "markdown",
   "metadata": {},
   "source": [
    "Here's a better way to structure the code."
   ]
  },
  {
   "cell_type": "code",
   "execution_count": null,
   "metadata": {
    "tags": []
   },
   "outputs": [],
   "source": [
    "# This version uses nested if statements to avoid duplicate\n",
    "# tests.\n",
    "def what_to_wear(temp, is_raining): \n",
    "    if temp > 80:\n",
    "        return \"T-shirt\"\n",
    "    elif 40 <= temp <= 80: \n",
    "        if is_raining: \n",
    "            return \"Rain jacket\"\n",
    "        else:\n",
    "            return \"Hoodie\"\n",
    "    else: \n",
    "        return \"Winter coat\" "
   ]
  },
  {
   "cell_type": "code",
   "execution_count": null,
   "metadata": {
    "tags": []
   },
   "outputs": [],
   "source": [
    "what_to_wear(25, False)"
   ]
  },
  {
   "cell_type": "markdown",
   "metadata": {},
   "source": [
    "**Extra practice.** Design a set of `check` statements to verify that `what_to_wear` works properly."
   ]
  },
  {
   "cell_type": "markdown",
   "metadata": {},
   "source": [
    "### Think-Pair-Share: Leap Years"
   ]
  },
  {
   "cell_type": "markdown",
   "metadata": {},
   "source": [
    "A year is a leap year if:\n",
    "* The year is divisible by 4 but not divisible by 100, or\n",
    "* The year is divisible by 400.\n",
    "\n",
    "Complete the following function that returns True only when year is a leap year:\n",
    "\n",
    "```python\n",
    "def is_leap_year(year):\n",
    "    ...\n",
    "```\n",
    "\n",
    "*Note:* We can test if `year` is divisible by 4 using the `%` (modulo) operator: `year % 4 == 0`."
   ]
  },
  {
   "cell_type": "markdown",
   "metadata": {},
   "source": [
    "Here's one solution:"
   ]
  },
  {
   "cell_type": "code",
   "execution_count": null,
   "metadata": {},
   "outputs": [],
   "source": [
    "# This version uses if statements to distinguish the three cases.\n",
    "def is_leap_year(year):\n",
    "    if year % 4 == 0 and year % 100 != 0:\n",
    "        return True\n",
    "    elif year % 400 == 0:\n",
    "        return True\n",
    "    else:\n",
    "        return False"
   ]
  },
  {
   "cell_type": "markdown",
   "metadata": {},
   "source": [
    "Here's another that uses a different approach:"
   ]
  },
  {
   "cell_type": "code",
   "execution_count": null,
   "metadata": {},
   "outputs": [],
   "source": [
    "# This version embraces Boolean comparisions and operators to achieve \n",
    "# the same effect.\n",
    "def is_leap_year(year):\n",
    "    return ((year % 4 == 0) and (year % 100) != 0) or year % 400 == 0"
   ]
  },
  {
   "cell_type": "code",
   "execution_count": null,
   "metadata": {},
   "outputs": [],
   "source": [
    "is_leap_year(2024)"
   ]
  },
  {
   "cell_type": "code",
   "execution_count": null,
   "metadata": {},
   "outputs": [],
   "source": [
    "is_leap_year(2023)"
   ]
  },
  {
   "cell_type": "code",
   "execution_count": null,
   "metadata": {},
   "outputs": [],
   "source": [
    "# more thorough checks\n",
    "check(is_leap_year(2024))\n",
    "check(is_leap_year(2000))\n",
    "check(not is_leap_year(2023))\n",
    "check(not is_leap_year(2200))"
   ]
  }
 ],
 "metadata": {
  "anaconda-cloud": {},
  "kernelspec": {
   "display_name": "Python 3 (ipykernel)",
   "language": "python",
   "name": "python3"
  },
  "language_info": {
   "codemirror_mode": {
    "name": "ipython",
    "version": 3
   },
   "file_extension": ".py",
   "mimetype": "text/x-python",
   "name": "python",
   "nbconvert_exporter": "python",
   "pygments_lexer": "ipython3",
   "version": "3.9.19"
  }
 },
 "nbformat": 4,
 "nbformat_minor": 4
}
