{
 "cells": [
  {
   "cell_type": "markdown",
   "metadata": {},
   "source": [
    "# Hypothesis Testing"
   ]
  },
  {
   "cell_type": "code",
   "execution_count": null,
   "metadata": {
    "tags": []
   },
   "outputs": [],
   "source": [
    "from datascience import *\n",
    "from cs104 import *\n",
    "import numpy as np\n",
    "%matplotlib inline"
   ]
  },
  {
   "cell_type": "markdown",
   "metadata": {},
   "source": [
    "## 1. Single category null hypothesis test: Swain v. Alabama"
   ]
  },
  {
   "cell_type": "markdown",
   "metadata": {},
   "source": [
    "Here is the basic setup for our Swain jury panel example."
   ]
  },
  {
   "cell_type": "code",
   "execution_count": null,
   "metadata": {
    "tags": []
   },
   "outputs": [],
   "source": [
    "# Population\n",
    "population_percent_black = 26\n",
    "population_proportions = make_array(population_percent_black / 100,\n",
    "                                    1 - population_percent_black / 100)\n",
    "\n",
    "# Observed Sample\n",
    "swain_percent_black = 8\n",
    "swain_proportions = make_array(swain_percent_black / 100, \n",
    "                               1 - swain_percent_black / 100)"
   ]
  },
  {
   "cell_type": "markdown",
   "metadata": {},
   "source": [
    "We'll now set up our simulation in terms of a null hypothesis and alternate hypothesis, as well as a statistic measure how close an observed panel is to what is predicted under the null hypothesis:\n",
    "* Null hypothesis: Each panelist is drawn randomly from the population.  So, Chance each panelist is black is 26%.\n",
    "* Alt. hypothesis: Each panelist is not drawn randomly from the population.  So, Change each panelist is black is not 26%.\n",
    "* Sample statistic: Given a sample, compute `abs(percent black - 26)`."
   ]
  },
  {
   "cell_type": "markdown",
   "metadata": {},
   "source": [
    "### Simulating under the null hypothesis"
   ]
  },
  {
   "cell_type": "markdown",
   "metadata": {},
   "source": [
    "Same as before, we'll simulate a sample for a **single category** (percent black), with `sample_proportions`."
   ]
  },
  {
   "cell_type": "code",
   "execution_count": null,
   "metadata": {
    "tags": []
   },
   "outputs": [],
   "source": [
    "def simulate_panel_sample(sample_size):\n",
    "    \"\"\"Return an array with the counts of [black, non-black] panelists in sample.\"\"\"\n",
    "    props = sample_proportions(sample_size, population_proportions)\n",
    "    return np.round(sample_size * props)  # no fractional persons"
   ]
  },
  {
   "cell_type": "markdown",
   "metadata": {
    "tags": []
   },
   "source": [
    "### Sample Statistic"
   ]
  },
  {
   "cell_type": "markdown",
   "metadata": {},
   "source": [
    "We will only look at **two-sided** hypothesis tests. This means we don't care about the whether a value is greater or less than the null hypothesis but just if it's **different** so we will use absolute values here. "
   ]
  },
  {
   "cell_type": "code",
   "execution_count": null,
   "metadata": {
    "tags": []
   },
   "outputs": [],
   "source": [
    "def statistic_abs_difference(sample): \n",
    "    \"\"\" Absolute difference between: \n",
    "    - Percent black panelists (for any sample size)\n",
    "    - Null hypothesis of 26 \n",
    "    \"\"\"\n",
    "    percent_black = sample.item(0) / sum(sample) * 100\n",
    "    return abs(percent_black - population_percent_black)"
   ]
  },
  {
   "cell_type": "markdown",
   "metadata": {},
   "source": [
    "### Run the simulation"
   ]
  },
  {
   "cell_type": "code",
   "execution_count": null,
   "metadata": {
    "tags": []
   },
   "outputs": [],
   "source": [
    "all_outcomes = simulate_sample_statistic(simulate_panel_sample, 100, \n",
    "                                         statistic_abs_difference, 5000) "
   ]
  },
  {
   "cell_type": "code",
   "execution_count": null,
   "metadata": {
    "tags": []
   },
   "outputs": [],
   "source": [
    "simulated_results = Table().with_column('abs(percent black - 26)', \n",
    "                                        all_outcomes)\n",
    "plot =simulated_results.hist(bins=np.arange(0, 51, 2))\n",
    "plot.set_title(\"Null hypothesis empirical distribution\")\n",
    "\n",
    "# Red dot for the statistic on the observed (not simulated) data\n",
    "observed_stat = statistic_abs_difference(swain_proportions)\n",
    "plot.dot(observed_stat)"
   ]
  },
  {
   "cell_type": "markdown",
   "metadata": {},
   "source": [
    "So, clearly, the observed panel is not concistent with what we would expect under the null hypothesis."
   ]
  },
  {
   "cell_type": "markdown",
   "metadata": {
    "tags": []
   },
   "source": [
    "### Impact of sample size"
   ]
  },
  {
   "cell_type": "markdown",
   "metadata": {},
   "source": [
    "Sample size has a large impact on the results of our simulation.  Here are three scenarios in which we vary the size of the jury panels.  In each, suppose we observe a jury panel that is 15% black:"
   ]
  },
  {
   "cell_type": "code",
   "execution_count": null,
   "metadata": {
    "tags": []
   },
   "outputs": [],
   "source": [
    "def simulate_swain(sample_size, swain_percent_black):\n",
    "    all_outcomes = simulate_sample_statistic(simulate_panel_sample, sample_size, \n",
    "                                             statistic_abs_difference, 10000) \n",
    "    simulated_results = Table().with_column('abs(percent black - ' + str(swain_percent_black) + ')', \n",
    "                                                            all_outcomes)\n",
    "\n",
    "    plot = simulated_results.hist(bins=10)\n",
    "\n",
    "    # Red dot for the statistic on the observed (not simulated) data\n",
    "    swain_proportions = make_array(swain_percent_black / 100, \n",
    "                                   1 - swain_percent_black / 100)\n",
    "    observed_stat = statistic_abs_difference(swain_proportions)\n",
    "    plot.dot(observed_stat)\n",
    "    plot.set_xlim(0,30)"
   ]
  },
  {
   "cell_type": "code",
   "execution_count": null,
   "metadata": {
    "tags": []
   },
   "outputs": [],
   "source": [
    "\n",
    "with Figure(1,3, title='Null hypothesis empirical distribution for different sample sizes and 15% black jury panel'):\n",
    "    simulate_swain(20, 15)\n",
    "    simulate_swain(100, 15)\n",
    "    simulate_swain(1000, 15)    "
   ]
  },
  {
   "cell_type": "markdown",
   "metadata": {},
   "source": [
    "Notice that with small samples of 20, we cannot say that a 15% black panel is inconsistent with the null hypothesis.  With samples of 100, we do see some panels with 15% or less, so again, it is hard to say anything conclusively.  With samples of 1,000, we don't see any, and it is very easy to conclude that our observed panel is inconsistent with the null hypothesis.  In general, the larger the sample, the less smaller the variability in our statistic."
   ]
  },
  {
   "cell_type": "markdown",
   "metadata": {},
   "source": [
    "Here is an interactive visualization of that effect:"
   ]
  },
  {
   "cell_type": "code",
   "execution_count": null,
   "metadata": {
    "tags": []
   },
   "outputs": [],
   "source": [
    "interact(simulate_swain, sample_size=Slider(10, 1000), swain_percent_black = Slider(10, 40))"
   ]
  },
  {
   "cell_type": "markdown",
   "metadata": {},
   "source": [
    "In the next lecture, we'll introduce a technique to say something better about the middle case where it isn't obvious."
   ]
  },
  {
   "cell_type": "markdown",
   "metadata": {},
   "source": [
    "## 2. Multiple category null hypothesis test: Alameda, California Jury Panels "
   ]
  },
  {
   "cell_type": "markdown",
   "metadata": {},
   "source": [
    "* Null hypothesis: Each panelist is drawn randomly from the population.  So, Ethnicity distribution of a panel is the same as distribution of the population.\n",
    "* Alt. hypothesis: Each panelist is not drawn randomly from the population.  So, Ethnicity distribution of a panel not the same as the distribution of the population.\n",
    "\n",
    "* Sample statistic: TVD from ethnicity distribution for population."
   ]
  },
  {
   "cell_type": "markdown",
   "metadata": {},
   "source": [
    "Let's first load the data from the ACLU study. Here is the ethnicity distrubtion of the whole population of eligible voters and of the observed panels."
   ]
  },
  {
   "cell_type": "code",
   "execution_count": null,
   "metadata": {
    "tags": []
   },
   "outputs": [],
   "source": [
    "jury = Table().with_columns(\n",
    "    'Ethnicity', make_array('Asian/PI', 'Black/AA', 'Caucasian', 'Hispanic', 'Other'),\n",
    "    'Population (Eligible)', make_array(0.15, 0.18, 0.54, 0.12, 0.01),\n",
    "    'Observed (Panels)', make_array(0.26, 0.08, 0.54, 0.08, 0.04)\n",
    ")\n",
    "\n",
    "jury"
   ]
  },
  {
   "cell_type": "markdown",
   "metadata": {},
   "source": [
    "Let's create an overlaid bar chart to compare the population and observed distributions across ethnicity. "
   ]
  },
  {
   "cell_type": "code",
   "execution_count": null,
   "metadata": {
    "tags": []
   },
   "outputs": [],
   "source": [
    "jury.barh('Ethnicity')"
   ]
  },
  {
   "cell_type": "markdown",
   "metadata": {},
   "source": [
    "We can use `sample_proportions` with distributions with multiple categories as well. "
   ]
  },
  {
   "cell_type": "code",
   "execution_count": null,
   "metadata": {
    "tags": []
   },
   "outputs": [],
   "source": [
    "distribution = make_array(0.1, 0.2, 0.7)\n",
    "sample_proportions(10, distribution)"
   ]
  },
  {
   "cell_type": "markdown",
   "metadata": {},
   "source": [
    "### Sample"
   ]
  },
  {
   "cell_type": "markdown",
   "metadata": {},
   "source": [
    "To create a sample for the null hypothesis, we'll use `sample_proportions` on the true distribution of ethnicities in the population. "
   ]
  },
  {
   "cell_type": "code",
   "execution_count": null,
   "metadata": {
    "tags": []
   },
   "outputs": [],
   "source": [
    "def simulate_sample_alameda(sample_size):\n",
    "    \"\"\"\n",
    "    Sample from the eligible population \n",
    "    \"\"\"\n",
    "    eligible_population = jury.column('Population (Eligible)')\n",
    "    return sample_proportions(sample_size, eligible_population)"
   ]
  },
  {
   "cell_type": "code",
   "execution_count": null,
   "metadata": {
    "tags": []
   },
   "outputs": [],
   "source": [
    "study_size = 1453\n",
    "simulated_sample = simulate_sample_alameda(study_size)\n",
    "jury_with_simulated = jury.with_columns(\"Simulated\", simulated_sample)\n",
    "jury_with_simulated.barh(\"Ethnicity\")"
   ]
  },
  {
   "cell_type": "markdown",
   "metadata": {},
   "source": [
    "### TVD Statistic: Distance Between Two Distributions"
   ]
  },
  {
   "cell_type": "code",
   "execution_count": null,
   "metadata": {
    "tags": []
   },
   "outputs": [],
   "source": [
    "jury.barh('Ethnicity')"
   ]
  },
  {
   "cell_type": "code",
   "execution_count": null,
   "metadata": {
    "tags": []
   },
   "outputs": [],
   "source": [
    "jury_with_diffs = jury.with_columns(\n",
    "    'Difference', jury.column('Observed (Panels)') - jury.column('Population (Eligible)')\n",
    ")\n",
    "jury_with_diffs"
   ]
  },
  {
   "cell_type": "code",
   "execution_count": null,
   "metadata": {
    "tags": []
   },
   "outputs": [],
   "source": [
    "jury_with_diffs = jury_with_diffs.with_columns(\n",
    "    'Absolute Difference', np.abs(jury_with_diffs.column('Difference'))\n",
    ")\n",
    "\n",
    "jury_with_diffs"
   ]
  },
  {
   "cell_type": "code",
   "execution_count": null,
   "metadata": {
    "tags": []
   },
   "outputs": [],
   "source": [
    "sum(jury_with_diffs.column('Absolute Difference') / 2)"
   ]
  },
  {
   "cell_type": "markdown",
   "metadata": {
    "tags": []
   },
   "source": [
    "Here it is all at once."
   ]
  },
  {
   "cell_type": "code",
   "execution_count": null,
   "metadata": {
    "tags": []
   },
   "outputs": [],
   "source": [
    "def total_variation_distance(distribution1, distribution2):\n",
    "    return sum(np.abs(distribution1 - distribution2)) / 2"
   ]
  },
  {
   "cell_type": "code",
   "execution_count": null,
   "metadata": {
    "tags": []
   },
   "outputs": [],
   "source": [
    "observed_panels = jury.column('Observed (Panels)')\n",
    "eligible_population = jury.column('Population (Eligible)')\n",
    "total_variation_distance(observed_panels, eligible_population)"
   ]
  },
  {
   "cell_type": "markdown",
   "metadata": {},
   "source": [
    "A combined sample and statistic computation.  Run it a bunch!"
   ]
  },
  {
   "cell_type": "code",
   "execution_count": null,
   "metadata": {
    "tags": []
   },
   "outputs": [],
   "source": [
    "simulated_sample = simulate_sample_alameda(study_size)\n",
    "total_variation_distance(simulated_sample, eligible_population)"
   ]
  },
  {
   "cell_type": "markdown",
   "metadata": {},
   "source": [
    "Our `simulated_sample_statistic` function expects our `compute_one_statistic` function that to have just a single argument, namely the sample.  In this case, that sample would be a simulated panel."
   ]
  },
  {
   "cell_type": "code",
   "execution_count": null,
   "metadata": {
    "tags": []
   },
   "outputs": [],
   "source": [
    "def tvd_from_population(sample_panel): \n",
    "    return total_variation_distance(sample_panel, eligible_population)"
   ]
  },
  {
   "cell_type": "code",
   "execution_count": null,
   "metadata": {
    "tags": []
   },
   "outputs": [],
   "source": [
    "tvd_from_population(simulated_sample)"
   ]
  },
  {
   "cell_type": "markdown",
   "metadata": {},
   "source": [
    "### All together: Simulating under the null "
   ]
  },
  {
   "cell_type": "code",
   "execution_count": null,
   "metadata": {
    "tags": []
   },
   "outputs": [],
   "source": [
    "all_outcomes = simulate_sample_statistic(simulate_sample_alameda, 1453, \n",
    "                                         tvd_from_population, 5000)"
   ]
  },
  {
   "cell_type": "code",
   "execution_count": null,
   "metadata": {
    "tags": []
   },
   "outputs": [],
   "source": [
    "simulated_tvds = Table().with_column('TVD from eligible population', \n",
    "                                     all_outcomes)\n",
    "\n",
    "plot = simulated_tvds.hist(bins=np.arange(0, 0.2, 0.005))\n",
    "\n",
    "# Create the observed statistic \n",
    "observed_panels = jury.column('Observed (Panels)')\n",
    "observed_statistic = tvd_from_population(observed_panels)\n",
    "plot.dot(observed_statistic)\n",
    "\n",
    "plot.set_title('Null hypothesis empirical distribution')\n",
    "plot.set_xlim(0, 0.15)"
   ]
  },
  {
   "cell_type": "code",
   "execution_count": null,
   "metadata": {},
   "outputs": [],
   "source": []
  }
 ],
 "metadata": {
  "kernelspec": {
   "display_name": "Python 3 (ipykernel)",
   "language": "python",
   "name": "python3"
  },
  "language_info": {
   "codemirror_mode": {
    "name": "ipython",
    "version": 3
   },
   "file_extension": ".py",
   "mimetype": "text/x-python",
   "name": "python",
   "nbconvert_exporter": "python",
   "pygments_lexer": "ipython3",
   "version": "3.9.19"
  }
 },
 "nbformat": 4,
 "nbformat_minor": 4
}
