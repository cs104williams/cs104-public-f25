{
  "cells": [
    {
      "cell_type": "markdown",
      "metadata": {},
      "source": [
        "# Tables and Visualization"
      ]
    },
    {
      "cell_type": "code",
      "execution_count": null,
      "metadata": {
        "tags": []
      },
      "outputs": [],
      "source": [
        "from datascience import *\n",
        "from cs104 import *\n",
        "import numpy as np\n",
        "\n",
        "%matplotlib inline\n"
      ]
    },
    {
      "cell_type": "markdown",
      "metadata": {},
      "source": [
        "## 1. Notebook Tips"
      ]
    },
    {
      "cell_type": "markdown",
      "metadata": {},
      "source": [
        "### Viewing Intermediate Results"
      ]
    },
    {
      "cell_type": "markdown",
      "metadata": {},
      "source": [
        "*Tip*: You can comment out lines to look at intermediate work. "
      ]
    },
    {
      "cell_type": "code",
      "execution_count": null,
      "metadata": {
        "tags": []
      },
      "outputs": [],
      "source": [
        "num_movies_in_20th_century = 30\n",
        "second_variable = num_movies_in_20th_century * 3\n",
        "third_variable = second_variable + make_array(1, 2, 3)"
      ]
    },
    {
      "cell_type": "code",
      "execution_count": null,
      "metadata": {
        "tags": []
      },
      "outputs": [],
      "source": [
        "num_movies_in_20th_century = 30\n",
        "second_variable = num_movies_in_20th_century * 3\n",
        "second_variable\n",
        "# third_variable = second_variable + make_array(1, 2, 3)"
      ]
    },
    {
      "cell_type": "markdown",
      "metadata": {},
      "source": [
        "### Tab Completion"
      ]
    },
    {
      "cell_type": "markdown",
      "metadata": {},
      "source": [
        "If you have a long variable or function name, no need to type it every time!  Just type the first few letters at hit tab to auto-complete."
      ]
    },
    {
      "cell_type": "markdown",
      "metadata": {
        "tags": []
      },
      "source": [
        "### Using and Reading Checks"
      ]
    },
    {
      "cell_type": "markdown",
      "metadata": {},
      "source": [
        "In our library, the `check` function tests a boolean (`True` or `False`) expresssion. "
      ]
    },
    {
      "cell_type": "code",
      "execution_count": null,
      "metadata": {
        "tags": []
      },
      "outputs": [],
      "source": [
        "1 > 0"
      ]
    },
    {
      "cell_type": "code",
      "execution_count": null,
      "metadata": {
        "tags": []
      },
      "outputs": [],
      "source": [
        "answer = 1 > 0\n",
        "answer"
      ]
    },
    {
      "cell_type": "code",
      "execution_count": null,
      "metadata": {
        "tags": []
      },
      "outputs": [],
      "source": [
        "type(answer)"
      ]
    },
    {
      "cell_type": "code",
      "execution_count": null,
      "metadata": {
        "tags": []
      },
      "outputs": [],
      "source": [
        "check(1 > 0)"
      ]
    },
    {
      "cell_type": "code",
      "execution_count": null,
      "metadata": {
        "tags": []
      },
      "outputs": [],
      "source": [
        "check(0 > 1)"
      ]
    },
    {
      "cell_type": "markdown",
      "metadata": {},
      "source": [
        "In Python `==` is the equality operator. It returns `True` (a boolean) if the expression to the left of `==` is equal to the expression on the right of `==` and `False` if the two are not equal. "
      ]
    },
    {
      "cell_type": "code",
      "execution_count": null,
      "metadata": {
        "tags": []
      },
      "outputs": [],
      "source": [
        "'a' == 'a'"
      ]
    },
    {
      "cell_type": "code",
      "execution_count": null,
      "metadata": {
        "tags": []
      },
      "outputs": [],
      "source": [
        "'a' == 'b'"
      ]
    },
    {
      "cell_type": "code",
      "execution_count": null,
      "metadata": {
        "tags": []
      },
      "outputs": [],
      "source": [
        "x = 'a'"
      ]
    },
    {
      "cell_type": "code",
      "execution_count": null,
      "metadata": {
        "tags": []
      },
      "outputs": [],
      "source": [
        "x == 'b'"
      ]
    },
    {
      "cell_type": "code",
      "execution_count": null,
      "metadata": {
        "tags": []
      },
      "outputs": [],
      "source": [
        "check(x == 'a')"
      ]
    },
    {
      "cell_type": "code",
      "execution_count": null,
      "metadata": {
        "tags": []
      },
      "outputs": [],
      "source": [
        "check(x == 'b')"
      ]
    },
    {
      "cell_type": "markdown",
      "metadata": {},
      "source": [
        "## 2. Table Review: Important Data Questions\n"
      ]
    },
    {
      "cell_type": "markdown",
      "metadata": {},
      "source": [
        "Let's examine (hypothetical) responses to the \"most important data\" question.  \n",
        "\n",
        "Recall, last lecture we made a Table from scratch via arrays. "
      ]
    },
    {
      "cell_type": "code",
      "execution_count": null,
      "metadata": {
        "tags": []
      },
      "outputs": [],
      "source": [
        "categories = make_array('Economic Inequality', 'Data and AI Impact', 'Climate Change')\n",
        "counts = make_array(7, 3, 10)\n",
        "question_categories = Table().with_columns(\n",
        "         'Category', categories, \n",
        "         'Count', counts)\n",
        "\n",
        "question_categories"
      ]
    },
    {
      "cell_type": "code",
      "execution_count": null,
      "metadata": {
        "tags": []
      },
      "outputs": [],
      "source": [
        "question_categories = question_categories.sort('Count', descending=True)\n",
        "question_categories"
      ]
    },
    {
      "cell_type": "code",
      "execution_count": null,
      "metadata": {
        "tags": []
      },
      "outputs": [],
      "source": [
        "question_categories.barh('Category', 'Count')"
      ]
    },
    {
      "cell_type": "code",
      "execution_count": null,
      "metadata": {
        "tags": []
      },
      "outputs": [],
      "source": [
        "print('Num categories', question_categories.num_rows)\n",
        "print('Number of survey responses', sum(question_categories.column('Count')))"
      ]
    },
    {
      "cell_type": "markdown",
      "metadata": {},
      "source": [
        "**Question:** Add a column with the proportion of questions touching on each category."
      ]
    },
    {
      "cell_type": "code",
      "execution_count": null,
      "metadata": {
        "tags": []
      },
      "outputs": [],
      "source": [
        "total_count = sum(question_categories.column('Count'))\n",
        "\n",
        "question_categories = question_categories.with_columns(\n",
        "    \"Proportion\", question_categories.column(\"Count\") / total_count)\n",
        "\n",
        "question_categories"
      ]
    },
    {
      "cell_type": "markdown",
      "metadata": {},
      "source": [
        "## 3. Greenland climate data"
      ]
    },
    {
      "cell_type": "markdown",
      "metadata": {},
      "source": [
        "You can explore this dataset and more data from National Snow and Ice Data Center [here](https://nsidc.org/data/explore-data). "
      ]
    },
    {
      "cell_type": "code",
      "execution_count": null,
      "metadata": {
        "tags": []
      },
      "outputs": [],
      "source": [
        "greenland_climate = Table.read_table('data/climate_upernavik.csv')\n",
        "greenland_climate.show(5)"
      ]
    },
    {
      "cell_type": "code",
      "execution_count": null,
      "metadata": {
        "tags": []
      },
      "outputs": [],
      "source": [
        "greenland_climate.num_columns"
      ]
    },
    {
      "cell_type": "code",
      "execution_count": null,
      "metadata": {
        "tags": []
      },
      "outputs": [],
      "source": [
        "greenland_climate.num_rows"
      ]
    },
    {
      "cell_type": "markdown",
      "metadata": {},
      "source": [
        "We can print out the column labels so they're easy to copy and paste."
      ]
    },
    {
      "cell_type": "code",
      "execution_count": null,
      "metadata": {
        "tags": []
      },
      "outputs": [],
      "source": [
        "greenland_climate.labels"
      ]
    },
    {
      "cell_type": "markdown",
      "metadata": {},
      "source": [
        "Sometimes the column names may be cumbersome and we may want to shorten them."
      ]
    },
    {
      "cell_type": "code",
      "execution_count": null,
      "metadata": {
        "tags": []
      },
      "outputs": [],
      "source": [
        "greenland_climate.relabeled('Precipitation (millimeters)', \"Precip (mm)\")"
      ]
    },
    {
      "cell_type": "markdown",
      "metadata": {
        "tags": []
      },
      "source": [
        "Remember that changes will not persist unless we reassign the updated table to the original name `greenland_climate`:"
      ]
    },
    {
      "cell_type": "code",
      "execution_count": null,
      "metadata": {
        "tags": []
      },
      "outputs": [],
      "source": [
        "greenland_climate.show(3)"
      ]
    },
    {
      "cell_type": "code",
      "execution_count": null,
      "metadata": {
        "tags": []
      },
      "outputs": [],
      "source": [
        "greenland_climate = greenland_climate.relabeled('Precipitation (millimeters)', \"Precip (mm)\")\n",
        "greenland_climate"
      ]
    },
    {
      "cell_type": "markdown",
      "metadata": {},
      "source": [
        "### Data cleaning"
      ]
    },
    {
      "cell_type": "markdown",
      "metadata": {},
      "source": [
        "Hmmmm... those `999.99` and `9999.9` values should look really odd. If you read the documentation for this dataset, it says that they recorded `999.99`, and `9999.9` when there are missing values in the columns `Air temperature (C)`, and `Sea level pressure (mbar)` columns respectively. \n",
        "\n",
        "Let's clean this dataset up by removing all rows with missing values (we will revist this assumption for data cleaning later on in the class and talk about alternatives). \n",
        "\n",
        "We can see these missing values by checking for the min and max:"
      ]
    },
    {
      "cell_type": "code",
      "execution_count": null,
      "metadata": {
        "tags": []
      },
      "outputs": [],
      "source": [
        "min_temp = min(greenland_climate.column('Air temperature (C)'))\n",
        "max_temp = max(greenland_climate.column('Air temperature (C)'))\n",
        "print('min temp:', min_temp, 'max temp:', max_temp)"
      ]
    },
    {
      "cell_type": "markdown",
      "metadata": {},
      "source": [
        "We'll now just remove the rows with those values using `where`."
      ]
    },
    {
      "cell_type": "code",
      "execution_count": null,
      "metadata": {
        "tags": []
      },
      "outputs": [],
      "source": [
        "tidy_greenland = greenland_climate.where('Air temperature (C)', are.not_equal_to(999.99))\n",
        "tidy_greenland = tidy_greenland.where('Sea level pressure (mbar)', are.not_equal_to(9999.9))\n",
        "tidy_greenland"
      ]
    },
    {
      "cell_type": "markdown",
      "metadata": {},
      "source": [
        "Q: How can I count the number of rows I just dropped because they have missing values? "
      ]
    },
    {
      "cell_type": "code",
      "execution_count": null,
      "metadata": {
        "tags": []
      },
      "outputs": [],
      "source": [
        "num_dropped = greenland_climate.num_rows - tidy_greenland.num_rows\n",
        "num_dropped"
      ]
    },
    {
      "cell_type": "markdown",
      "metadata": {
        "tags": []
      },
      "source": [
        "Remember: Never repeat yourself!  Add new variables to avoid recomputing the same value."
      ]
    },
    {
      "cell_type": "code",
      "execution_count": null,
      "metadata": {
        "tags": []
      },
      "outputs": [],
      "source": [
        "temps = tidy_greenland.column('Air temperature (C)')\n",
        "min_temp = min(temps)\n",
        "max_temp = max(temps)\n",
        "print('min temp:', min_temp, 'max temp:', max_temp)"
      ]
    },
    {
      "cell_type": "markdown",
      "metadata": {},
      "source": [
        "## 4. Visualizations"
      ]
    },
    {
      "cell_type": "markdown",
      "metadata": {},
      "source": [
        "We've been using bar charts for awhile now. In the plot below: \n",
        "- x-axis : Count (numerical variable)\n",
        "- y-axis: Categories (categorical variable)"
      ]
    },
    {
      "cell_type": "code",
      "execution_count": null,
      "metadata": {
        "tags": []
      },
      "outputs": [],
      "source": [
        "question_categories.barh('Category', 'Count')"
      ]
    },
    {
      "cell_type": "code",
      "execution_count": null,
      "metadata": {
        "tags": [
          "raises-exception"
        ]
      },
      "outputs": [],
      "source": [
        "# Our package will throw an error if the x-axis is not a numerical variable\n",
        "question_categories.barh('Count', 'Category')"
      ]
    },
    {
      "cell_type": "markdown",
      "metadata": {},
      "source": [
        "**Question:** What's the relationship between the year and the temperature? "
      ]
    },
    {
      "cell_type": "code",
      "execution_count": null,
      "metadata": {
        "tags": []
      },
      "outputs": [],
      "source": [
        "tidy_greenland.show(3)"
      ]
    },
    {
      "cell_type": "code",
      "execution_count": null,
      "metadata": {
        "tags": []
      },
      "outputs": [],
      "source": [
        "tidy_greenland.plot('Year', 'Air temperature (C)')"
      ]
    },
    {
      "cell_type": "markdown",
      "metadata": {},
      "source": [
        "Yikes! We see really big fluctuations! What's going on here? Why are there these huge fluctuations? \n",
        "\n",
        "A: We probably need to account for seasonal differences in temperature. \n",
        "\n",
        "Let's just look at February for now!"
      ]
    },
    {
      "cell_type": "code",
      "execution_count": null,
      "metadata": {
        "tags": []
      },
      "outputs": [],
      "source": [
        "feb = tidy_greenland.where('Month', are.equal_to(2))"
      ]
    },
    {
      "cell_type": "code",
      "execution_count": null,
      "metadata": {
        "tags": []
      },
      "outputs": [],
      "source": [
        "feb.plot('Year', 'Air temperature (C)')"
      ]
    },
    {
      "cell_type": "markdown",
      "metadata": {},
      "source": [
        "We can add a title to make it more meaningful for viewers of our visualization.  To do this, store the result of calling plot into a new variable, and then use our plot annotation methods on it."
      ]
    },
    {
      "cell_type": "code",
      "execution_count": null,
      "metadata": {
        "tags": []
      },
      "outputs": [],
      "source": [
        "plot = feb.plot('Year', 'Air temperature (C)')\n",
        "plot.set_title('Februrary in Upernavik, Greenland') "
      ]
    },
    {
      "cell_type": "markdown",
      "metadata": {},
      "source": [
        "We could look at the same data with a scatter plot instead of a line plot. A line plot draws lines to connect points in our visualization. "
      ]
    },
    {
      "cell_type": "code",
      "execution_count": null,
      "metadata": {
        "tags": []
      },
      "outputs": [],
      "source": [
        "plot = feb.scatter('Year', 'Air temperature (C)')\n",
        "plot.set_title('Februrary in Upernavik,Greenland')"
      ]
    },
    {
      "cell_type": "markdown",
      "metadata": {},
      "source": [
        "You might be asking yourself, \"Has the average temperature during February gone up over time? Can we see climate change here?\" This previews \"hypothesis testing\" which we will tackle later in the course. "
      ]
    },
    {
      "cell_type": "markdown",
      "metadata": {},
      "source": [
        "Spoiler: Yes! We can add trend lines to our scatter plots (which we'll talk about in much more detail later). "
      ]
    },
    {
      "cell_type": "code",
      "execution_count": null,
      "metadata": {
        "tags": []
      },
      "outputs": [],
      "source": [
        "plot = feb.scatter('Year', 'Air temperature (C)', fit_line=True)\n",
        "plot.set_title('Februrary in Upernavik, Greenland')"
      ]
    },
    {
      "cell_type": "markdown",
      "metadata": {},
      "source": [
        "Let's use a scatter plot to examine the relationship between other numerical variables."
      ]
    },
    {
      "cell_type": "code",
      "execution_count": null,
      "metadata": {
        "tags": []
      },
      "outputs": [],
      "source": [
        "tidy_greenland.scatter('Sea level pressure (mbar)', 'Precip (mm)')"
      ]
    },
    {
      "cell_type": "markdown",
      "metadata": {},
      "source": [
        "It looks like there's not really a relationship between precipitation and sea level pressure. This is ok! Scatter plots are also very usual tools to tell us quickly when there are *not* correlations. "
      ]
    },
    {
      "cell_type": "markdown",
      "metadata": {},
      "source": [
        "Here are two more scatter plots.  Correlations this time?"
      ]
    },
    {
      "cell_type": "code",
      "execution_count": null,
      "metadata": {
        "tags": []
      },
      "outputs": [],
      "source": [
        "tidy_greenland.scatter('Month', 'Sea level pressure (mbar)')"
      ]
    },
    {
      "cell_type": "code",
      "execution_count": null,
      "metadata": {
        "tags": []
      },
      "outputs": [],
      "source": [
        "tidy_greenland.scatter('Air temperature (C)', 'Sea level pressure (mbar)')"
      ]
    },
    {
      "cell_type": "markdown",
      "metadata": {},
      "source": [
        "Let's return to temperature and look at other months than Feburary.  "
      ]
    },
    {
      "cell_type": "code",
      "execution_count": null,
      "metadata": {
        "tags": []
      },
      "outputs": [],
      "source": [
        "plot = tidy_greenland.where(\"Month\", are.equal_to(8)).scatter('Year', 'Air temperature (C)', fit_line=True)\n",
        "plot.set_title('August in Upernavik, Greenland')"
      ]
    },
    {
      "cell_type": "markdown",
      "metadata": {},
      "source": [
        "Interesting, that's flatter than the trend line for February?  What about other summer months???"
      ]
    },
    {
      "cell_type": "markdown",
      "metadata": {},
      "source": [
        "### Interactive Widget to Examine Every Month"
      ]
    },
    {
      "cell_type": "markdown",
      "metadata": {},
      "source": [
        "We're so close to having all the Python we need to create interactive visualizations, but we can't resist throwing one in here to look at air temperatures in each month.  Enjoy, but don't sweat the code -- we'll get there soon!"
      ]
    },
    {
      "cell_type": "code",
      "execution_count": null,
      "metadata": {
        "tags": []
      },
      "outputs": [],
      "source": [
        "\n",
        "# A function that plots the temperates for one month of the year (0-11).\n",
        "def temps_for_month(month):\n",
        "    plot = tidy_greenland.where('Month', are.equal_to(month)).scatter('Year', 'Air temperature (C)', fit_line=True)\n",
        "    plot.set_title('Month ' + str(month) + ' in Upernavik, Greenland')\n",
        "    plot.set_ylim(-30,15)\n",
        "    \n",
        "interact(temps_for_month, month=Slider(1,12))"
      ]
    }
  ],
  "metadata": {
    "anaconda-cloud": {},
    "kernelspec": {
      "display_name": "cs104",
      "language": "python",
      "name": "python3"
    },
    "language_info": {
      "codemirror_mode": {
        "name": "ipython",
        "version": 3
      },
      "file_extension": ".py",
      "mimetype": "text/x-python",
      "name": "python",
      "nbconvert_exporter": "python",
      "pygments_lexer": "ipython3",
      "version": "3.9.23"
    },
    "widgets": {
      "application/vnd.jupyter.widget-state+json": {
        "state": {},
        "version_major": 2,
        "version_minor": 0
      }
    }
  },
  "nbformat": 4,
  "nbformat_minor": 4
}