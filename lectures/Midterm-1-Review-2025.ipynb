{
 "cells": [
  {
   "cell_type": "markdown",
   "id": "76432f1e-9a0a-438a-b66e-077406c29704",
   "metadata": {},
   "source": [
    "# Midterm Review"
   ]
  },
  {
   "cell_type": "code",
   "execution_count": 6,
   "id": "dfc031cc-e64a-4259-b339-f101b5c74aec",
   "metadata": {
    "tags": []
   },
   "outputs": [],
   "source": [
    "from datascience import *\n",
    "from cs104 import *\n",
    "import numpy as np\n",
    "%matplotlib inline"
   ]
  },
  {
   "cell_type": "markdown",
   "id": "6a6a7cd5-51a4-4ea8-80b6-b35653ebe334",
   "metadata": {
    "tags": []
   },
   "source": [
    "## Small Items"
   ]
  },
  {
   "cell_type": "markdown",
   "id": "da3a0525-e320-420a-8fb6-15270abde855",
   "metadata": {},
   "source": [
    "* You will not need to use the `interact` function or think about interactive visualizations on the exam."
   ]
  },
  {
   "cell_type": "markdown",
   "id": "5cbdb5d1-42da-410a-82e9-084242c13719",
   "metadata": {
    "tags": []
   },
   "source": [
    "## Loops"
   ]
  },
  {
   "cell_type": "markdown",
   "id": "94c954e6-f4b9-450e-9743-efc2743534c3",
   "metadata": {
    "tags": []
   },
   "source": [
    "### An Example of a loop that iterates over the values of an array"
   ]
  },
  {
   "cell_type": "code",
   "execution_count": 7,
   "id": "73c63ef2-9413-4d4d-af28-a31abbc099ae",
   "metadata": {
    "tags": []
   },
   "outputs": [],
   "source": [
    "# stay_positive(make_array(1,-1,-2,3,4,0)) function should return 3 -> number of positive numbers in an array.\n",
    "extra_values = make_array(-1,2,3)\n",
    "\n",
    "def stay_positive(values):\n",
    "    numbers_positive = 0   # keep a count of how my positive numbers we've seen so far\n",
    "    \n",
    "    for value in values:\n",
    "        # if my value is positive, increase number of positive numbers\n",
    "        if value > 0: \n",
    "            numbers_positive = numbers_positive + 1\n",
    "            \n",
    "    return numbers_positive\n",
    "            "
   ]
  },
  {
   "cell_type": "code",
   "execution_count": 12,
   "id": "328dcd2a-b18f-4cef-bdb2-e31a7e43cb20",
   "metadata": {
    "tags": []
   },
   "outputs": [
    {
     "data": {
      "text/plain": [
       "3"
      ]
     },
     "execution_count": 12,
     "metadata": {},
     "output_type": "execute_result"
    }
   ],
   "source": [
    "stay_positive(make_array(1,-1,-2,3,4,0))"
   ]
  },
  {
   "cell_type": "markdown",
   "id": "3ea8d9da-0cac-495c-8290-171e08aeecba",
   "metadata": {},
   "source": [
    "### An Example to builds an array and returns it"
   ]
  },
  {
   "cell_type": "code",
   "execution_count": 15,
   "id": "4586486a-9ac9-44f5-b76b-5a89b0500489",
   "metadata": {
    "tags": []
   },
   "outputs": [],
   "source": [
    "def track_positives(values):\n",
    "    positive_values = make_array()\n",
    "    for value in values:\n",
    "        # if my value is positive, increase number of positive numbers\n",
    "        if value > 0: \n",
    "            positive_values = np.append(positive_values, value)\n",
    "    return positive_values"
   ]
  },
  {
   "cell_type": "code",
   "execution_count": 16,
   "id": "2e3cae8f-6e4c-427f-b428-bde1fe2c5318",
   "metadata": {
    "tags": []
   },
   "outputs": [
    {
     "data": {
      "text/plain": [
       "array([1., 3., 4.])"
      ]
     },
     "execution_count": 16,
     "metadata": {},
     "output_type": "execute_result"
    }
   ],
   "source": [
    "track_positives(make_array(1,-1,-2,3,4,0))"
   ]
  },
  {
   "cell_type": "markdown",
   "id": "c9cf1272-aad0-4538-bfa1-c479c6709d46",
   "metadata": {},
   "source": [
    "### An Example of a loop that iterates for a specific number of times."
   ]
  },
  {
   "cell_type": "code",
   "execution_count": 17,
   "id": "5fe807a6-c824-4336-a122-ee4d540d443d",
   "metadata": {
    "tags": []
   },
   "outputs": [],
   "source": [
    "def run_trials(trials):\n",
    "    for i in np.arange(0,trials):\n",
    "        print(2*i)"
   ]
  },
  {
   "cell_type": "code",
   "execution_count": 19,
   "id": "eaf5db0d-de72-4e2f-be02-9e93a5ec3ae8",
   "metadata": {
    "tags": []
   },
   "outputs": [
    {
     "name": "stdout",
     "output_type": "stream",
     "text": [
      "0\n",
      "2\n",
      "4\n",
      "6\n",
      "8\n",
      "10\n",
      "12\n",
      "14\n",
      "16\n",
      "18\n"
     ]
    }
   ],
   "source": [
    "n_trials = 10     # how many trials to run\n",
    "run_trials(n_trials)"
   ]
  },
  {
   "cell_type": "markdown",
   "id": "2d43156f-3d15-4dfe-a9f5-0fc291c9fccf",
   "metadata": {},
   "source": [
    "## Group and Pivot"
   ]
  },
  {
   "cell_type": "code",
   "execution_count": 22,
   "id": "d01dd58a-ba6d-4647-aa1e-794b7b1c108b",
   "metadata": {
    "tags": []
   },
   "outputs": [
    {
     "data": {
      "text/html": [
       "<table border=\"1\" class=\"dataframe\">\n",
       "    <thead>\n",
       "        <tr>\n",
       "            <th>species</th> <th>island</th> <th>bill_length_mm</th> <th>bill_depth_mm</th> <th>flipper_length_mm</th> <th>body_mass_g</th> <th>sex</th>\n",
       "        </tr>\n",
       "    </thead>\n",
       "    <tbody>\n",
       "        <tr>\n",
       "            <td>Adelie </td> <td>Dream </td> <td>32.1          </td> <td>15.5         </td> <td>188              </td> <td>3050       </td> <td>FEMALE</td>\n",
       "        </tr>\n",
       "        <tr>\n",
       "            <td>Gentoo </td> <td>Biscoe</td> <td>45.8          </td> <td>14.6         </td> <td>210              </td> <td>4200       </td> <td>FEMALE</td>\n",
       "        </tr>\n",
       "        <tr>\n",
       "            <td>Adelie </td> <td>Biscoe</td> <td>38.2          </td> <td>20           </td> <td>190              </td> <td>3900       </td> <td>MALE  </td>\n",
       "        </tr>\n",
       "        <tr>\n",
       "            <td>Gentoo </td> <td>Biscoe</td> <td>48.4          </td> <td>16.3         </td> <td>220              </td> <td>5400       </td> <td>MALE  </td>\n",
       "        </tr>\n",
       "        <tr>\n",
       "            <td>Gentoo </td> <td>Biscoe</td> <td>48.5          </td> <td>15           </td> <td>219              </td> <td>4850       </td> <td>FEMALE</td>\n",
       "        </tr>\n",
       "    </tbody>\n",
       "</table>"
      ],
      "text/plain": [
       "species | island | bill_length_mm | bill_depth_mm | flipper_length_mm | body_mass_g | sex\n",
       "Adelie  | Dream  | 32.1           | 15.5          | 188               | 3050        | FEMALE\n",
       "Gentoo  | Biscoe | 45.8           | 14.6          | 210               | 4200        | FEMALE\n",
       "Adelie  | Biscoe | 38.2           | 20            | 190               | 3900        | MALE\n",
       "Gentoo  | Biscoe | 48.4           | 16.3          | 220               | 5400        | MALE\n",
       "Gentoo  | Biscoe | 48.5           | 15            | 219               | 4850        | FEMALE"
      ]
     },
     "execution_count": 22,
     "metadata": {},
     "output_type": "execute_result"
    }
   ],
   "source": [
    "penguins = Table().read_table('data/penguins.csv')\n",
    "penguins.sample(5)"
   ]
  },
  {
   "cell_type": "markdown",
   "id": "ce16a23b-042b-45d7-89ae-5045521c9f7c",
   "metadata": {},
   "source": [
    "`group` divides the rows into groups according to the values stored in a categorical variable."
   ]
  },
  {
   "cell_type": "code",
   "execution_count": 27,
   "id": "cb4882e5-c066-4ca0-a50b-98625b6ccd77",
   "metadata": {
    "tags": []
   },
   "outputs": [
    {
     "data": {
      "text/html": [
       "<table border=\"1\" class=\"dataframe\">\n",
       "    <thead>\n",
       "        <tr>\n",
       "            <th>species</th> <th>count</th>\n",
       "        </tr>\n",
       "    </thead>\n",
       "    <tbody>\n",
       "        <tr>\n",
       "            <td>Adelie   </td> <td>151  </td>\n",
       "        </tr>\n",
       "        <tr>\n",
       "            <td>Chinstrap</td> <td>68   </td>\n",
       "        </tr>\n",
       "        <tr>\n",
       "            <td>Gentoo   </td> <td>123  </td>\n",
       "        </tr>\n",
       "    </tbody>\n",
       "</table>"
      ],
      "text/plain": [
       "species   | count\n",
       "Adelie    | 151\n",
       "Chinstrap | 68\n",
       "Gentoo    | 123"
      ]
     },
     "execution_count": 27,
     "metadata": {},
     "output_type": "execute_result"
    }
   ],
   "source": [
    "penguins.group('species')"
   ]
  },
  {
   "cell_type": "markdown",
   "id": "cd15ed20-d7cd-42d3-aa46-bc586b3a461c",
   "metadata": {
    "tags": []
   },
   "source": [
    "With only one parameter, we get a count of how many rows are in each group.  Pass in a second parameter that is an aggregation function to summarize the numerical columns in the table."
   ]
  },
  {
   "cell_type": "code",
   "execution_count": 29,
   "id": "53553191-6d77-42c3-ae2e-252f031c633b",
   "metadata": {
    "tags": []
   },
   "outputs": [
    {
     "data": {
      "text/html": [
       "<table border=\"1\" class=\"dataframe\">\n",
       "    <thead>\n",
       "        <tr>\n",
       "            <th>species</th> <th>island mean</th> <th>bill_length_mm mean</th> <th>bill_depth_mm mean</th> <th>flipper_length_mm mean</th> <th>body_mass_g mean</th> <th>sex mean</th>\n",
       "        </tr>\n",
       "    </thead>\n",
       "    <tbody>\n",
       "        <tr>\n",
       "            <td>Adelie   </td> <td>           </td> <td>38.7914            </td> <td>18.3464           </td> <td>189.954               </td> <td>3700.66         </td> <td>        </td>\n",
       "        </tr>\n",
       "        <tr>\n",
       "            <td>Chinstrap</td> <td>           </td> <td>48.8338            </td> <td>18.4206           </td> <td>195.824               </td> <td>3733.09         </td> <td>        </td>\n",
       "        </tr>\n",
       "        <tr>\n",
       "            <td>Gentoo   </td> <td>           </td> <td>47.5049            </td> <td>14.9821           </td> <td>217.187               </td> <td>5076.02         </td> <td>        </td>\n",
       "        </tr>\n",
       "    </tbody>\n",
       "</table>"
      ],
      "text/plain": [
       "species   | island mean | bill_length_mm mean | bill_depth_mm mean | flipper_length_mm mean | body_mass_g mean | sex mean\n",
       "Adelie    |             | 38.7914             | 18.3464            | 189.954                | 3700.66          |\n",
       "Chinstrap |             | 48.8338             | 18.4206            | 195.824                | 3733.09          |\n",
       "Gentoo    |             | 47.5049             | 14.9821            | 217.187                | 5076.02          |"
      ]
     },
     "execution_count": 29,
     "metadata": {},
     "output_type": "execute_result"
    }
   ],
   "source": [
    "penguins.group('species', np.mean)"
   ]
  },
  {
   "cell_type": "markdown",
   "id": "495bd010-0b26-46d7-87a9-736201455de8",
   "metadata": {},
   "source": [
    "We can also group by more than one column by passing in an array of the columns to group by."
   ]
  },
  {
   "cell_type": "code",
   "execution_count": 30,
   "id": "e9a982dd-66b5-4b32-94b7-b788f3a5e3c3",
   "metadata": {
    "tags": []
   },
   "outputs": [
    {
     "data": {
      "text/html": [
       "<table border=\"1\" class=\"dataframe\">\n",
       "    <thead>\n",
       "        <tr>\n",
       "            <th>species</th> <th>island</th> <th>bill_length_mm max</th> <th>bill_depth_mm max</th> <th>flipper_length_mm max</th> <th>body_mass_g max</th> <th>sex max</th>\n",
       "        </tr>\n",
       "    </thead>\n",
       "    <tbody>\n",
       "        <tr>\n",
       "            <td>Adelie   </td> <td>Biscoe   </td> <td>45.6              </td> <td>21.1             </td> <td>203                  </td> <td>4775           </td> <td>MALE   </td>\n",
       "        </tr>\n",
       "        <tr>\n",
       "            <td>Adelie   </td> <td>Dream    </td> <td>44.1              </td> <td>21.2             </td> <td>208                  </td> <td>4650           </td> <td>UNKNOWN</td>\n",
       "        </tr>\n",
       "        <tr>\n",
       "            <td>Adelie   </td> <td>Torgersen</td> <td>46                </td> <td>21.5             </td> <td>210                  </td> <td>4700           </td> <td>UNKNOWN</td>\n",
       "        </tr>\n",
       "        <tr>\n",
       "            <td>Chinstrap</td> <td>Dream    </td> <td>58                </td> <td>20.8             </td> <td>212                  </td> <td>4800           </td> <td>MALE   </td>\n",
       "        </tr>\n",
       "        <tr>\n",
       "            <td>Gentoo   </td> <td>Biscoe   </td> <td>59.6              </td> <td>17.3             </td> <td>231                  </td> <td>6300           </td> <td>UNKNOWN</td>\n",
       "        </tr>\n",
       "    </tbody>\n",
       "</table>"
      ],
      "text/plain": [
       "species   | island    | bill_length_mm max | bill_depth_mm max | flipper_length_mm max | body_mass_g max | sex max\n",
       "Adelie    | Biscoe    | 45.6               | 21.1              | 203                   | 4775            | MALE\n",
       "Adelie    | Dream     | 44.1               | 21.2              | 208                   | 4650            | UNKNOWN\n",
       "Adelie    | Torgersen | 46                 | 21.5              | 210                   | 4700            | UNKNOWN\n",
       "Chinstrap | Dream     | 58                 | 20.8              | 212                   | 4800            | MALE\n",
       "Gentoo    | Biscoe    | 59.6               | 17.3              | 231                   | 6300            | UNKNOWN"
      ]
     },
     "execution_count": 30,
     "metadata": {},
     "output_type": "execute_result"
    }
   ],
   "source": [
    "penguins.group(make_array('species', 'island'), max)"
   ]
  },
  {
   "cell_type": "markdown",
   "id": "578eb8d6-4fb3-4492-82d0-309f08ee8ae4",
   "metadata": {
    "tags": []
   },
   "source": [
    "`pivot` creates a 2-dimensional matrix by grouping according to two columns.  If only those columns are provided, we get counts of how many rows fall into each row/col combination."
   ]
  },
  {
   "cell_type": "code",
   "execution_count": 32,
   "id": "693cb0c2-aaaa-41e7-aaa7-90ac4540bf13",
   "metadata": {
    "tags": []
   },
   "outputs": [
    {
     "data": {
      "text/html": [
       "<table border=\"1\" class=\"dataframe\">\n",
       "    <thead>\n",
       "        <tr>\n",
       "            <th>island</th> <th>Adelie</th> <th>Chinstrap</th> <th>Gentoo</th>\n",
       "        </tr>\n",
       "    </thead>\n",
       "    <tbody>\n",
       "        <tr>\n",
       "            <td>Biscoe   </td> <td>44    </td> <td>0        </td> <td>123   </td>\n",
       "        </tr>\n",
       "        <tr>\n",
       "            <td>Dream    </td> <td>56    </td> <td>68       </td> <td>0     </td>\n",
       "        </tr>\n",
       "        <tr>\n",
       "            <td>Torgersen</td> <td>51    </td> <td>0        </td> <td>0     </td>\n",
       "        </tr>\n",
       "    </tbody>\n",
       "</table>"
      ],
      "text/plain": [
       "island    | Adelie | Chinstrap | Gentoo\n",
       "Biscoe    | 44     | 0         | 123\n",
       "Dream     | 56     | 68        | 0\n",
       "Torgersen | 51     | 0         | 0"
      ]
     },
     "execution_count": 32,
     "metadata": {},
     "output_type": "execute_result"
    }
   ],
   "source": [
    "penguins.pivot('species', 'island')"
   ]
  },
  {
   "cell_type": "markdown",
   "id": "9101ba64-cd71-44f3-837b-37d6f6e7a352",
   "metadata": {},
   "source": [
    "Or you can pass a third column and a way to summarize that column's values for each group:"
   ]
  },
  {
   "cell_type": "code",
   "execution_count": 33,
   "id": "21bd6aa5-0549-4c42-a97c-097bf3be3785",
   "metadata": {
    "tags": []
   },
   "outputs": [
    {
     "data": {
      "text/html": [
       "<table border=\"1\" class=\"dataframe\">\n",
       "    <thead>\n",
       "        <tr>\n",
       "            <th>island</th> <th>Adelie</th> <th>Chinstrap</th> <th>Gentoo</th>\n",
       "        </tr>\n",
       "    </thead>\n",
       "    <tbody>\n",
       "        <tr>\n",
       "            <td>Biscoe   </td> <td>45.6  </td> <td>0        </td> <td>59.6  </td>\n",
       "        </tr>\n",
       "        <tr>\n",
       "            <td>Dream    </td> <td>44.1  </td> <td>58       </td> <td>0     </td>\n",
       "        </tr>\n",
       "        <tr>\n",
       "            <td>Torgersen</td> <td>46    </td> <td>0        </td> <td>0     </td>\n",
       "        </tr>\n",
       "    </tbody>\n",
       "</table>"
      ],
      "text/plain": [
       "island    | Adelie | Chinstrap | Gentoo\n",
       "Biscoe    | 45.6   | 0         | 59.6\n",
       "Dream     | 44.1   | 58        | 0\n",
       "Torgersen | 46     | 0         | 0"
      ]
     },
     "execution_count": 33,
     "metadata": {},
     "output_type": "execute_result"
    }
   ],
   "source": [
    "penguins.pivot('species', 'island', 'bill_length_mm', max)"
   ]
  },
  {
   "cell_type": "markdown",
   "id": "9ed50667-b7cc-4479-a097-9708097bafe3",
   "metadata": {},
   "source": [
    "We use pivot instead of group to present data in a more accessible way, or to prepare for additional data manipulation or analyses."
   ]
  },
  {
   "cell_type": "markdown",
   "id": "f2289b1f-4d6a-40ad-bd31-e9fea59e5160",
   "metadata": {},
   "source": [
    "## Functions"
   ]
  },
  {
   "cell_type": "markdown",
   "id": "1f801a95-508b-43ef-9d2a-752e0b1a2151",
   "metadata": {},
   "source": [
    "Check out our lecture slides on [Functions](https://docs.google.com/presentation/d/1zX8EGJuJM0uy057J7q5DaR8we6TKFktLzI-25fSFtWk/edit?slide=id.g15a787143fd_0_3#slide=id.g15a787143fd_0_3) for a more complete discussion of how function definitions work, but here's an example showing the major parts:\n",
    "1. All functions start with def, the number of the function, and then the list of parameter names.\n",
    "2. The body of the function is indented and contains the instructions to run when the function is called.\n",
    "3. The `return` statement is used to give a value back to the caller."
   ]
  },
  {
   "cell_type": "code",
   "execution_count": 37,
   "id": "3514a49d-579f-4851-bbe6-b2c11aab65be",
   "metadata": {
    "tags": []
   },
   "outputs": [],
   "source": [
    "def count_odd_values(values):\n",
    "    num_odd_values = 0\n",
    "    for value in values:\n",
    "        if value % 2 != 0:\n",
    "            num_odd_values = num_odd_values + 1\n",
    "    return num_odd_values"
   ]
  },
  {
   "cell_type": "code",
   "execution_count": 38,
   "id": "4397e267-30c8-4d88-ba9e-76763d0ea24c",
   "metadata": {
    "tags": []
   },
   "outputs": [
    {
     "data": {
      "text/plain": [
       "2"
      ]
     },
     "execution_count": 38,
     "metadata": {},
     "output_type": "execute_result"
    }
   ],
   "source": [
    "count_odd_values(extra_values)"
   ]
  },
  {
   "cell_type": "markdown",
   "id": "5f4ec345-e0ed-47b3-b2cd-e788bf5a1ceb",
   "metadata": {
    "tags": []
   },
   "source": [
    "## Histograms"
   ]
  },
  {
   "cell_type": "markdown",
   "id": "5e539eae-6c8b-416d-b3e3-0fbec9c595cf",
   "metadata": {
    "tags": []
   },
   "source": [
    "Histograms show the distribution of values taken on by a variable.  They often convey more information than just looking at the min, max, and mean.\n",
    "The area of each bar is proportional to the percent of data values falling with them.  That percentage is computed for a bar by multiplying the width of the bar by its height."
   ]
  },
  {
   "cell_type": "code",
   "execution_count": 45,
   "id": "41592324-88ce-4cbc-9383-dd0a8622b346",
   "metadata": {
    "tags": []
   },
   "outputs": [
    {
     "data": {
      "image/png": "[encoded data removed]",
      "text/plain": [
       "<Figure size 600x400 with 1 Axes>"
      ]
     },
     "metadata": {},
     "output_type": "display_data"
    }
   ],
   "source": [
    "penguins.hist('bill_length_mm')"
   ]
  },
  {
   "cell_type": "markdown",
   "id": "34366c50-9ae6-4916-b70c-e23d85c30581",
   "metadata": {},
   "source": [
    "We can adjust the bins to make the plot easier to interpret.  One way is to give an array of values that will be used as the cutoffs between the bins:"
   ]
  },
  {
   "cell_type": "code",
   "execution_count": 48,
   "id": "e4fcc559-a448-477f-aeef-9c4c06c56c5c",
   "metadata": {
    "tags": []
   },
   "outputs": [
    {
     "data": {
      "text/plain": [
       "array([30, 35, 40, 45, 50, 55, 60])"
      ]
     },
     "execution_count": 48,
     "metadata": {},
     "output_type": "execute_result"
    }
   ],
   "source": [
    "cutoffs = np.arange(30,65,5)\n",
    "cutoffs"
   ]
  },
  {
   "cell_type": "code",
   "execution_count": 49,
   "id": "4f485372-5e98-48e0-bd30-fe76e2877834",
   "metadata": {
    "tags": []
   },
   "outputs": [
    {
     "data": {
      "image/png": "[encoded data removed]",
      "text/plain": [
       "<Figure size 600x400 with 1 Axes>"
      ]
     },
     "metadata": {},
     "output_type": "display_data"
    }
   ],
   "source": [
    "penguins.hist('bill_length_mm', bins=cutoffs)"
   ]
  },
  {
   "cell_type": "markdown",
   "id": "7702a466-cfec-4364-9b0b-6a57168c36c4",
   "metadata": {},
   "source": [
    "We can also make an overlaid histogram:"
   ]
  },
  {
   "cell_type": "code",
   "execution_count": 50,
   "id": "9817e5d4-14c1-4bcd-9744-f27e41b41e1a",
   "metadata": {
    "tags": []
   },
   "outputs": [
    {
     "data": {
      "image/png": "[encoded data removed]",
      "text/plain": [
       "<Figure size 600x400 with 1 Axes>"
      ]
     },
     "metadata": {},
     "output_type": "display_data"
    }
   ],
   "source": [
    "penguins.hist('bill_length_mm', bins=cutoffs, group='species')"
   ]
  },
  {
   "cell_type": "code",
   "execution_count": null,
   "id": "329ec8a4-3dcb-4088-b2fb-468cbeaee28e",
   "metadata": {},
   "outputs": [],
   "source": []
  }
 ],
 "metadata": {
  "kernelspec": {
   "display_name": "Python 3 (ipykernel)",
   "language": "python",
   "name": "python3"
  },
  "language_info": {
   "codemirror_mode": {
    "name": "ipython",
    "version": 3
   },
   "file_extension": ".py",
   "mimetype": "text/x-python",
   "name": "python",
   "nbconvert_exporter": "python",
   "pygments_lexer": "ipython3",
   "version": "3.11.13"
  },
  "widgets": {
   "application/vnd.jupyter.widget-state+json": {
    "state": {},
    "version_major": 2,
    "version_minor": 0
   }
  }
 },
 "nbformat": 4,
 "nbformat_minor": 5
}
