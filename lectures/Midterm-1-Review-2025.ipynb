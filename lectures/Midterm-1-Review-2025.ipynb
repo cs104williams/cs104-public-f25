{
 "cells": [
  {
   "cell_type": "markdown",
   "id": "76432f1e-9a0a-438a-b66e-077406c29704",
   "metadata": {},
   "source": [
    "# Midterm Review"
   ]
  },
  {
   "cell_type": "code",
   "execution_count": null,
   "id": "dfc031cc-e64a-4259-b339-f101b5c74aec",
   "metadata": {
    "tags": []
   },
   "outputs": [],
   "source": [
    "from datascience import *\n",
    "from cs104 import *\n",
    "import numpy as np\n",
    "%matplotlib inline"
   ]
  },
  {
   "cell_type": "markdown",
   "id": "6a6a7cd5-51a4-4ea8-80b6-b35653ebe334",
   "metadata": {
    "tags": []
   },
   "source": [
    "## Small Items"
   ]
  },
  {
   "cell_type": "markdown",
   "id": "da3a0525-e320-420a-8fb6-15270abde855",
   "metadata": {},
   "source": [
    "* You will not need to use the `interact` function or think about interactive visualizations on the exam."
   ]
  },
  {
   "cell_type": "markdown",
   "id": "5cbdb5d1-42da-410a-82e9-084242c13719",
   "metadata": {
    "tags": []
   },
   "source": [
    "## Loops"
   ]
  },
  {
   "cell_type": "markdown",
   "id": "94c954e6-f4b9-450e-9743-efc2743534c3",
   "metadata": {
    "tags": []
   },
   "source": [
    "### An Example of a loop that iterates over the values of an array"
   ]
  },
  {
   "cell_type": "code",
   "execution_count": null,
   "id": "73c63ef2-9413-4d4d-af28-a31abbc099ae",
   "metadata": {
    "tags": []
   },
   "outputs": [],
   "source": [
    "# stay_positive(make_array(1,-1,-2,3,4,0)) function should return 3 -> number of positive numbers in an array.\n",
    "extra_values = make_array(-1,2,3)\n",
    "\n",
    "def stay_positive(values):\n",
    "    numbers_positive = 0   # keep a count of how my positive numbers we've seen so far\n",
    "    \n",
    "    for value in values:\n",
    "        # if my value is positive, increase number of positive numbers\n",
    "        if value > 0: \n",
    "            numbers_positive = numbers_positive + 1\n",
    "            \n",
    "    return numbers_positive\n",
    "            "
   ]
  },
  {
   "cell_type": "code",
   "execution_count": null,
   "id": "328dcd2a-b18f-4cef-bdb2-e31a7e43cb20",
   "metadata": {
    "tags": []
   },
   "outputs": [],
   "source": [
    "stay_positive(make_array(1,-1,-2,3,4,0))"
   ]
  },
  {
   "cell_type": "markdown",
   "id": "3ea8d9da-0cac-495c-8290-171e08aeecba",
   "metadata": {},
   "source": [
    "### An Example to builds an array and returns it"
   ]
  },
  {
   "cell_type": "code",
   "execution_count": null,
   "id": "4586486a-9ac9-44f5-b76b-5a89b0500489",
   "metadata": {
    "tags": []
   },
   "outputs": [],
   "source": [
    "def track_positives(values):\n",
    "    positive_values = make_array()\n",
    "    for value in values:\n",
    "        # if my value is positive, increase number of positive numbers\n",
    "        if value > 0: \n",
    "            positive_values = np.append(positive_values, value)\n",
    "    return positive_values"
   ]
  },
  {
   "cell_type": "code",
   "execution_count": null,
   "id": "2e3cae8f-6e4c-427f-b428-bde1fe2c5318",
   "metadata": {
    "tags": []
   },
   "outputs": [],
   "source": [
    "track_positives(make_array(1,-1,-2,3,4,0))"
   ]
  },
  {
   "cell_type": "markdown",
   "id": "c9cf1272-aad0-4538-bfa1-c479c6709d46",
   "metadata": {},
   "source": [
    "### An Example of a loop that iterates for a specific number of times."
   ]
  },
  {
   "cell_type": "code",
   "execution_count": null,
   "id": "5fe807a6-c824-4336-a122-ee4d540d443d",
   "metadata": {
    "tags": []
   },
   "outputs": [],
   "source": [
    "def run_trials(trials):\n",
    "    for i in np.arange(0,trials):\n",
    "        print(2*i)"
   ]
  },
  {
   "cell_type": "code",
   "execution_count": null,
   "id": "eaf5db0d-de72-4e2f-be02-9e93a5ec3ae8",
   "metadata": {
    "tags": []
   },
   "outputs": [],
   "source": [
    "n_trials = 10     # how many trials to run\n",
    "run_trials(n_trials)"
   ]
  },
  {
   "cell_type": "markdown",
   "id": "2d43156f-3d15-4dfe-a9f5-0fc291c9fccf",
   "metadata": {},
   "source": [
    "## Group and Pivot"
   ]
  },
  {
   "cell_type": "code",
   "execution_count": null,
   "id": "d01dd58a-ba6d-4647-aa1e-794b7b1c108b",
   "metadata": {
    "tags": []
   },
   "outputs": [],
   "source": [
    "penguins = Table().read_table('data/penguins.csv')\n",
    "penguins.sample(5)"
   ]
  },
  {
   "cell_type": "markdown",
   "id": "ce16a23b-042b-45d7-89ae-5045521c9f7c",
   "metadata": {},
   "source": [
    "`group` divides the rows into groups according to the values stored in a categorical variable."
   ]
  },
  {
   "cell_type": "code",
   "execution_count": null,
   "id": "cb4882e5-c066-4ca0-a50b-98625b6ccd77",
   "metadata": {
    "tags": []
   },
   "outputs": [],
   "source": [
    "penguins.group('species')"
   ]
  },
  {
   "cell_type": "markdown",
   "id": "cd15ed20-d7cd-42d3-aa46-bc586b3a461c",
   "metadata": {
    "tags": []
   },
   "source": [
    "With only one parameter, we get a count of how many rows are in each group.  Pass in a second parameter that is an aggregation function to summarize the numerical columns in the table."
   ]
  },
  {
   "cell_type": "code",
   "execution_count": null,
   "id": "53553191-6d77-42c3-ae2e-252f031c633b",
   "metadata": {
    "tags": []
   },
   "outputs": [],
   "source": [
    "penguins.group('species', np.mean)"
   ]
  },
  {
   "cell_type": "markdown",
   "id": "495bd010-0b26-46d7-87a9-736201455de8",
   "metadata": {},
   "source": [
    "We can also group by more than one column by passing in an array of the columns to group by."
   ]
  },
  {
   "cell_type": "code",
   "execution_count": null,
   "id": "e9a982dd-66b5-4b32-94b7-b788f3a5e3c3",
   "metadata": {
    "tags": []
   },
   "outputs": [],
   "source": [
    "penguins.group(make_array('species', 'island'), max)"
   ]
  },
  {
   "cell_type": "markdown",
   "id": "578eb8d6-4fb3-4492-82d0-309f08ee8ae4",
   "metadata": {
    "tags": []
   },
   "source": [
    "`pivot` creates a 2-dimensional matrix by grouping according to two columns.  If only those columns are provided, we get counts of how many rows fall into each row/col combination."
   ]
  },
  {
   "cell_type": "code",
   "execution_count": null,
   "id": "693cb0c2-aaaa-41e7-aaa7-90ac4540bf13",
   "metadata": {
    "tags": []
   },
   "outputs": [],
   "source": [
    "penguins.pivot('species', 'island')"
   ]
  },
  {
   "cell_type": "markdown",
   "id": "9101ba64-cd71-44f3-837b-37d6f6e7a352",
   "metadata": {},
   "source": [
    "Or you can pass a third column and a way to summarize that column's values for each group:"
   ]
  },
  {
   "cell_type": "code",
   "execution_count": null,
   "id": "21bd6aa5-0549-4c42-a97c-097bf3be3785",
   "metadata": {
    "tags": []
   },
   "outputs": [],
   "source": [
    "penguins.pivot('species', 'island', 'bill_length_mm', max)"
   ]
  },
  {
   "cell_type": "markdown",
   "id": "9ed50667-b7cc-4479-a097-9708097bafe3",
   "metadata": {},
   "source": [
    "We use pivot instead of group to present data in a more accessible way, or to prepare for additional data manipulation or analyses."
   ]
  },
  {
   "cell_type": "markdown",
   "id": "f2289b1f-4d6a-40ad-bd31-e9fea59e5160",
   "metadata": {},
   "source": [
    "## Functions"
   ]
  },
  {
   "cell_type": "markdown",
   "id": "1f801a95-508b-43ef-9d2a-752e0b1a2151",
   "metadata": {},
   "source": [
    "Check out our lecture slides on [Functions](https://docs.google.com/presentation/d/1zX8EGJuJM0uy057J7q5DaR8we6TKFktLzI-25fSFtWk/edit?slide=id.g15a787143fd_0_3#slide=id.g15a787143fd_0_3) for a more complete discussion of how function definitions work, but here's an example showing the major parts:\n",
    "1. All functions start with def, the number of the function, and then the list of parameter names.\n",
    "2. The body of the function is indented and contains the instructions to run when the function is called.\n",
    "3. The `return` statement is used to give a value back to the caller."
   ]
  },
  {
   "cell_type": "code",
   "execution_count": null,
   "id": "3514a49d-579f-4851-bbe6-b2c11aab65be",
   "metadata": {
    "tags": []
   },
   "outputs": [],
   "source": [
    "def count_odd_values(values):\n",
    "    num_odd_values = 0\n",
    "    for value in values:\n",
    "        if value % 2 != 0:\n",
    "            num_odd_values = num_odd_values + 1\n",
    "    return num_odd_values"
   ]
  },
  {
   "cell_type": "code",
   "execution_count": null,
   "id": "4397e267-30c8-4d88-ba9e-76763d0ea24c",
   "metadata": {
    "tags": []
   },
   "outputs": [],
   "source": [
    "count_odd_values(extra_values)"
   ]
  },
  {
   "cell_type": "markdown",
   "id": "5f4ec345-e0ed-47b3-b2cd-e788bf5a1ceb",
   "metadata": {
    "tags": []
   },
   "source": [
    "## Histograms"
   ]
  },
  {
   "cell_type": "markdown",
   "id": "5e539eae-6c8b-416d-b3e3-0fbec9c595cf",
   "metadata": {
    "tags": []
   },
   "source": [
    "Histograms show the distribution of values taken on by a variable.  They often convey more information than just looking at the min, max, and mean.\n",
    "The area of each bar is proportional to the percent of data values falling with them.  That percentage is computed for a bar by multiplying the width of the bar by its height."
   ]
  },
  {
   "cell_type": "code",
   "execution_count": null,
   "id": "41592324-88ce-4cbc-9383-dd0a8622b346",
   "metadata": {
    "tags": []
   },
   "outputs": [],
   "source": [
    "penguins.hist('bill_length_mm')"
   ]
  },
  {
   "cell_type": "markdown",
   "id": "34366c50-9ae6-4916-b70c-e23d85c30581",
   "metadata": {},
   "source": [
    "We can adjust the bins to make the plot easier to interpret.  One way is to give an array of values that will be used as the cutoffs between the bins:"
   ]
  },
  {
   "cell_type": "code",
   "execution_count": null,
   "id": "e4fcc559-a448-477f-aeef-9c4c06c56c5c",
   "metadata": {
    "tags": []
   },
   "outputs": [],
   "source": [
    "cutoffs = np.arange(30,65,5)\n",
    "cutoffs"
   ]
  },
  {
   "cell_type": "code",
   "execution_count": null,
   "id": "4f485372-5e98-48e0-bd30-fe76e2877834",
   "metadata": {
    "tags": []
   },
   "outputs": [],
   "source": [
    "penguins.hist('bill_length_mm', bins=cutoffs)"
   ]
  },
  {
   "cell_type": "markdown",
   "id": "7702a466-cfec-4364-9b0b-6a57168c36c4",
   "metadata": {},
   "source": [
    "We can also make an overlaid histogram:"
   ]
  },
  {
   "cell_type": "code",
   "execution_count": null,
   "id": "9817e5d4-14c1-4bcd-9744-f27e41b41e1a",
   "metadata": {
    "tags": []
   },
   "outputs": [],
   "source": [
    "penguins.hist('bill_length_mm', bins=cutoffs, group='species')"
   ]
  },
  {
   "cell_type": "code",
   "execution_count": null,
   "id": "329ec8a4-3dcb-4088-b2fb-468cbeaee28e",
   "metadata": {},
   "outputs": [],
   "source": []
  }
 ],
 "metadata": {
  "kernelspec": {
   "display_name": "Python 3 (ipykernel)",
   "language": "python",
   "name": "python3"
  },
  "language_info": {
   "codemirror_mode": {
    "name": "ipython",
    "version": 3
   },
   "file_extension": ".py",
   "mimetype": "text/x-python",
   "name": "python",
   "nbconvert_exporter": "python",
   "pygments_lexer": "ipython3",
   "version": "3.11.13"
  },
  "widgets": {
   "application/vnd.jupyter.widget-state+json": {
    "state": {},
    "version_major": 2,
    "version_minor": 0
   }
  }
 },
 "nbformat": 4,
 "nbformat_minor": 5
}
