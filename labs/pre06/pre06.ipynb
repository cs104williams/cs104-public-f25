{
 "cells": [
  {
   "cell_type": "code",
   "execution_count": null,
   "id": "8b82f02e",
   "metadata": {
    "deletable": false,
    "editable": false
   },
   "outputs": [],
   "source": [
    "# Initialize Otter\n",
    "import otter\n",
    "grader = otter.Notebook(\"pre06.ipynb\")"
   ]
  },
  {
   "cell_type": "markdown",
   "id": "0df99569",
   "metadata": {
    "deletable": false,
    "editable": false
   },
   "source": [
    "<table style=\"width: 100%;\">\n",
    "<tr style=\"background-color: transparent;\">\n",
    "<td width=\"100px\"><img src=\"https://cs104williams.github.io/assets/cs104-logo.png\" width=\"90px\" style=\"text-align: center\"/></td>\n",
    "<td>\n",
    "  <p style=\"margin-bottom: 0px; text-align: left; font-size: 18pt;\"><strong>CSCI 104: Data Science and Computing for All</strong><br>\n",
    "                Williams College<br>\n",
    "                Fall 2025</p>\n",
    "</td>\n",
    "</tr>\n"
   ]
  },
  {
   "cell_type": "markdown",
   "id": "7ede80d2",
   "metadata": {
    "deletable": false,
    "editable": false,
    "tags": []
   },
   "source": [
    "# Prelab 6: Probability and Simulation"
   ]
  },
  {
   "cell_type": "markdown",
   "id": "a2a4ce08",
   "metadata": {
    "deletable": false,
    "editable": false,
    "tags": []
   },
   "source": [
    "**Instructions**\n",
    "- Before you begin, execute the cell at the TOP of the notebook to load the provided tests, as well as the following cell to setup the notebook by importing some helpful libraries. Each time you start your server, you will need to execute these cells again.  \n",
    "- Be sure to consult your [Python Reference](https://cs104williams.github.io/assets/python-library-ref.html)!\n",
    "- Complete this notebook by filling in the cells provided. \n",
    "- Please be sure to not re-assign variables throughout the notebook.  For example, if you use `max_temperature` in your answer to one question, do not reassign it later on. Otherwise, you will fail tests that you thought you were passing previously.\n",
    "- There are no hidden tests in prelabs.\n",
    "\n",
    "<hr/>\n",
    "<h2>Setup</h2>\n"
   ]
  },
  {
   "cell_type": "code",
   "execution_count": null,
   "id": "ba2d39d0",
   "metadata": {
    "deletable": false,
    "editable": false,
    "execution": {
     "iopub.execute_input": "2025-10-22T09:14:13.503121Z",
     "iopub.status.busy": "2025-10-22T09:14:13.502337Z",
     "iopub.status.idle": "2025-10-22T09:14:14.865034Z",
     "shell.execute_reply": "2025-10-22T09:14:14.864776Z"
    },
    "tags": []
   },
   "outputs": [],
   "source": [
    "# Run this cell to set up the notebook.\n",
    "# These lines import the numpy, datascience, and cs104 libraries.\n",
    "\n",
    "import numpy as np\n",
    "from datascience import *\n",
    "from cs104 import *\n",
    "%matplotlib inline"
   ]
  },
  {
   "cell_type": "markdown",
   "id": "40c51109",
   "metadata": {
    "deletable": false,
    "editable": false
   },
   "source": [
    "<hr style=\"margin-bottom: 0px; padding:0; border: 2px solid #500082;\"/>\n"
   ]
  },
  {
   "cell_type": "markdown",
   "id": "fd370007",
   "metadata": {
    "deletable": false,
    "editable": false,
    "tags": []
   },
   "source": [
    "## 1. Probability and Randomness (20 pts)\n",
    "\n"
   ]
  },
  {
   "cell_type": "markdown",
   "id": "89892672",
   "metadata": {
    "deletable": false,
    "editable": false
   },
   "source": [
    "<font color='#B1008E'>\n",
    "    \n",
    "##### Learning objectives\n",
    "- Reason rigorously about probability of outcomes involving random chance.\n",
    "- Practice the addition and multiplication rules for probabilities.\n",
    "- Use a loop to simulate and save outcomes dictated random chance.\n",
    "</font>"
   ]
  },
  {
   "cell_type": "markdown",
   "id": "8b7b8c5c",
   "metadata": {
    "deletable": false,
    "editable": false
   },
   "source": [
    "You may wish to review [Section 9.5](https://inferentialthinking.com/chapters/09/5/Finding_Probabilities.html) to help gain intuition for probabilities. Good ways to approach probability calculations include:\n",
    "\n",
    "- Thinking one trial at a time: What does the first one have to be? Then what does the next one have to be?\n",
    "- Breaking up the event into distinct ways in which it can happen.\n",
    "- Seeing if it is easier to find the chance that the event does not happen."
   ]
  },
  {
   "cell_type": "markdown",
   "id": "985750b7",
   "metadata": {
    "deletable": false,
    "editable": false
   },
   "source": [
    "**Running example:** An Olympic archer is able to hit the bull’s-eye 80% of the time. Assume each shot is independent of the\n",
    "others. If the archer shoots 6 arrows, what is the probability of each result described below."
   ]
  },
  {
   "cell_type": "markdown",
   "id": "dfc353e2",
   "metadata": {
    "deletable": false,
    "editable": false,
    "tags": []
   },
   "source": [
    "#### Part 1.1 (5 pts)\n"
   ]
  },
  {
   "cell_type": "markdown",
   "id": "68ac6878",
   "metadata": {
    "deletable": false,
    "editable": false,
    "tags": []
   },
   "source": [
    "The first bull’s-eye comes on the third arrow."
   ]
  },
  {
   "cell_type": "code",
   "execution_count": null,
   "id": "3a834804",
   "metadata": {
    "deletable": false,
    "execution": {
     "iopub.execute_input": "2025-10-22T09:14:14.867222Z",
     "iopub.status.busy": "2025-10-22T09:14:14.867052Z",
     "iopub.status.idle": "2025-10-22T09:14:14.871421Z",
     "shell.execute_reply": "2025-10-22T09:14:14.871176Z"
    },
    "tags": []
   },
   "outputs": [],
   "source": [
    "first_bullseye_on_third = ...\n",
    "first_bullseye_on_third"
   ]
  },
  {
   "cell_type": "code",
   "execution_count": null,
   "id": "911fc53d",
   "metadata": {
    "deletable": false,
    "editable": false
   },
   "outputs": [],
   "source": [
    "grader.check(\"p1.1\")"
   ]
  },
  {
   "cell_type": "markdown",
   "id": "d5718a59",
   "metadata": {
    "deletable": false,
    "editable": false,
    "tags": []
   },
   "source": [
    "#### Part 1.2 (5 pts)\n"
   ]
  },
  {
   "cell_type": "markdown",
   "id": "8e538d53",
   "metadata": {
    "deletable": false,
    "editable": false,
    "tags": []
   },
   "source": [
    "The bull’s-eye is hit all six times."
   ]
  },
  {
   "cell_type": "code",
   "execution_count": null,
   "id": "d802a662",
   "metadata": {
    "deletable": false,
    "execution": {
     "iopub.execute_input": "2025-10-22T09:14:14.879531Z",
     "iopub.status.busy": "2025-10-22T09:14:14.879452Z",
     "iopub.status.idle": "2025-10-22T09:14:14.881528Z",
     "shell.execute_reply": "2025-10-22T09:14:14.881278Z"
    },
    "tags": []
   },
   "outputs": [],
   "source": [
    "bullseye_hit_all_six = ...\n",
    "bullseye_hit_all_six"
   ]
  },
  {
   "cell_type": "code",
   "execution_count": null,
   "id": "46bc0bf7",
   "metadata": {
    "deletable": false,
    "editable": false
   },
   "outputs": [],
   "source": [
    "grader.check(\"p1.2\")"
   ]
  },
  {
   "cell_type": "markdown",
   "id": "d5cf688c",
   "metadata": {
    "deletable": false,
    "editable": false,
    "tags": []
   },
   "source": [
    "#### Part 1.3 (5 pts)\n"
   ]
  },
  {
   "cell_type": "markdown",
   "id": "f0fe1d11",
   "metadata": {
    "deletable": false,
    "editable": false,
    "tags": []
   },
   "source": [
    "The bull’s-eye is missed at least once.  (Think about how this relates to the previous part!)"
   ]
  },
  {
   "cell_type": "code",
   "execution_count": null,
   "id": "d4c975e3",
   "metadata": {
    "deletable": false,
    "execution": {
     "iopub.execute_input": "2025-10-22T09:14:14.889016Z",
     "iopub.status.busy": "2025-10-22T09:14:14.888943Z",
     "iopub.status.idle": "2025-10-22T09:14:14.890925Z",
     "shell.execute_reply": "2025-10-22T09:14:14.890695Z"
    },
    "tags": []
   },
   "outputs": [],
   "source": [
    "bullseye_missed_atleast_once = ...\n",
    "bullseye_missed_atleast_once"
   ]
  },
  {
   "cell_type": "code",
   "execution_count": null,
   "id": "0be27e74",
   "metadata": {
    "deletable": false,
    "editable": false
   },
   "outputs": [],
   "source": [
    "grader.check(\"p1.3\")"
   ]
  },
  {
   "cell_type": "markdown",
   "id": "de128175",
   "metadata": {
    "deletable": false,
    "editable": false,
    "tags": []
   },
   "source": [
    "#### Part 1.4 (5 pts)\n"
   ]
  },
  {
   "cell_type": "markdown",
   "id": "35986961",
   "metadata": {
    "deletable": false,
    "editable": false,
    "tags": []
   },
   "source": [
    "Use the [simulate](http://cs.williams.edu/~cs104/auto/inference-library-ref.html#simulate) function in our inference library to create an empirical distribution of the number of bulls eyes hit when our archer shoots 6 arrows.  We provide a function to make one outcome.  You should use 10,000 trials."
   ]
  },
  {
   "cell_type": "code",
   "execution_count": null,
   "id": "9de1123f",
   "metadata": {
    "deletable": false,
    "execution": {
     "iopub.execute_input": "2025-10-22T09:14:14.898463Z",
     "iopub.status.busy": "2025-10-22T09:14:14.898390Z",
     "iopub.status.idle": "2025-10-22T09:14:15.074536Z",
     "shell.execute_reply": "2025-10-22T09:14:15.074264Z"
    },
    "tags": []
   },
   "outputs": [],
   "source": [
    "def hits_in_6():\n",
    "    \"\"\"\n",
    "    Return the number of bullseye's hit in a random sample of 6 shots.\n",
    "    \"\"\"\n",
    "    hit_miss_proportions = make_array(0.8, 0.2)\n",
    "    return 6 * sample_proportions(6, hit_miss_proportions).item(0)\n",
    "\n",
    "hits = ...\n",
    "\n",
    "Table().with_columns('Hits', hits).hist(bins = np.arange(0.5, 7.5, 1))"
   ]
  },
  {
   "cell_type": "code",
   "execution_count": null,
   "id": "76275bc4",
   "metadata": {
    "deletable": false,
    "editable": false
   },
   "outputs": [],
   "source": [
    "grader.check(\"p1.4\")"
   ]
  },
  {
   "cell_type": "markdown",
   "id": "cef02bbf",
   "metadata": {
    "deletable": false,
    "editable": false
   },
   "source": [
    "Here is the histogram again, with a line marking the percentage of samples with 6 hits predicted by your `bullseye_hit_all_six` probability.  Does your histogram agree with that value?"
   ]
  },
  {
   "cell_type": "code",
   "execution_count": null,
   "id": "44c2f916",
   "metadata": {
    "deletable": false,
    "editable": false,
    "execution": {
     "iopub.execute_input": "2025-10-22T09:14:15.085862Z",
     "iopub.status.busy": "2025-10-22T09:14:15.085767Z",
     "iopub.status.idle": "2025-10-22T09:14:15.183101Z",
     "shell.execute_reply": "2025-10-22T09:14:15.182833Z"
    },
    "tags": []
   },
   "outputs": [],
   "source": [
    "plot = Table().with_columns('Hits', hits).hist(bins = np.arange(0.5, 7.5, 1))\n",
    "plot.line(y = bullseye_hit_all_six, color='yellow', linestyle='--')"
   ]
  },
  {
   "cell_type": "markdown",
   "id": "5786cc34",
   "metadata": {
    "deletable": false,
    "editable": false
   },
   "source": [
    "<hr style=\"margin-bottom: 0px; padding:0; border: 2px solid #500082;\"/>\n"
   ]
  },
  {
   "cell_type": "markdown",
   "id": "4bae4665",
   "metadata": {
    "deletable": false,
    "editable": false
   },
   "source": [
    "## 2. Scrabble Tiles (35 pts)\n",
    "\n"
   ]
  },
  {
   "cell_type": "markdown",
   "id": "9cef7a03",
   "metadata": {
    "deletable": false,
    "editable": false
   },
   "source": [
    "<font color='#B1008E'>\n",
    "    \n",
    "##### Learning objectives\n",
    "- Write functions that compute probabilities for outcomes dictated by random chance.\n",
    "- Compute the empirical distribution of a test static for a model.\n",
    "</font>\n",
    "\n",
    "In this question, we'll simulate properties of a sample of tiles from [Scrabble](https://en.wikipedia.org/wiki/Scrabble).  In this game, players randonly draw tiles that show both a letter and a point value, and then attempt to create inter-connected words as you might find in a crossword puzzle.  \n",
    "\n",
    "The next two cells create a table containing the letter and point value for every tile in Scrabble and an array of vowels."
   ]
  },
  {
   "cell_type": "code",
   "execution_count": null,
   "id": "6856adb0",
   "metadata": {
    "deletable": false,
    "editable": false,
    "execution": {
     "iopub.execute_input": "2025-10-22T09:14:15.184906Z",
     "iopub.status.busy": "2025-10-22T09:14:15.184804Z",
     "iopub.status.idle": "2025-10-22T09:14:15.194511Z",
     "shell.execute_reply": "2025-10-22T09:14:15.194265Z"
    },
    "tags": []
   },
   "outputs": [],
   "source": [
    "scrabble_tiles = Table().read_table(\"tiles.csv\")\n",
    "scrabble_tiles.sample(10)"
   ]
  },
  {
   "cell_type": "code",
   "execution_count": null,
   "id": "d47a473f",
   "metadata": {
    "deletable": false,
    "editable": false,
    "execution": {
     "iopub.execute_input": "2025-10-22T09:14:15.195968Z",
     "iopub.status.busy": "2025-10-22T09:14:15.195855Z",
     "iopub.status.idle": "2025-10-22T09:14:15.197574Z",
     "shell.execute_reply": "2025-10-22T09:14:15.197348Z"
    },
    "tags": []
   },
   "outputs": [],
   "source": [
    "vowels_array = make_array(\"A\", \"E\", \"I\", \"O\", \"U\") #we won't count Y as a vowel for the purposes of this prelab"
   ]
  },
  {
   "cell_type": "markdown",
   "id": "e6f22977",
   "metadata": {
    "deletable": false,
    "editable": false
   },
   "source": [
    "#### Part 2.1 (5 pts)\n"
   ]
  },
  {
   "cell_type": "markdown",
   "id": "6fae1166",
   "metadata": {
    "deletable": false,
    "editable": false
   },
   "source": [
    "Write a function to compute the **exact** probability of randomly drawing a particular letter from the full collection of tiles."
   ]
  },
  {
   "cell_type": "code",
   "execution_count": null,
   "id": "4589ac67",
   "metadata": {
    "deletable": false,
    "execution": {
     "iopub.execute_input": "2025-10-22T09:14:15.199107Z",
     "iopub.status.busy": "2025-10-22T09:14:15.199009Z",
     "iopub.status.idle": "2025-10-22T09:14:15.200796Z",
     "shell.execute_reply": "2025-10-22T09:14:15.200566Z"
    },
    "tags": []
   },
   "outputs": [],
   "source": [
    "def probability_of_drawing_letter(letter):\n",
    "    ..."
   ]
  },
  {
   "cell_type": "code",
   "execution_count": null,
   "id": "1df5a81d",
   "metadata": {
    "deletable": false,
    "execution": {
     "iopub.execute_input": "2025-10-22T09:14:15.202169Z",
     "iopub.status.busy": "2025-10-22T09:14:15.202082Z",
     "iopub.status.idle": "2025-10-22T09:14:15.204283Z",
     "shell.execute_reply": "2025-10-22T09:14:15.204047Z"
    },
    "tags": []
   },
   "outputs": [],
   "source": [
    "# Example call of the function \n",
    "probability_of_drawing_letter(\"A\")"
   ]
  },
  {
   "cell_type": "code",
   "execution_count": null,
   "id": "6e800e90",
   "metadata": {
    "deletable": false,
    "editable": false
   },
   "outputs": [],
   "source": [
    "grader.check(\"p2.1\")"
   ]
  },
  {
   "cell_type": "markdown",
   "id": "644fbdaf",
   "metadata": {
    "deletable": false,
    "editable": false
   },
   "source": [
    "#### Part 2.2 (5 pts)\n"
   ]
  },
  {
   "cell_type": "markdown",
   "id": "8fd3193f",
   "metadata": {
    "deletable": false,
    "editable": false
   },
   "source": [
    "Set `probability_of_drawing_vowel` to the probability that a tile drawn from the full set of tiles is a vowel. \n",
    "\n",
    "*Hints:* \n",
    "- We gave you the `vowels_array` at the beginning of this question. "
   ]
  },
  {
   "cell_type": "code",
   "execution_count": null,
   "id": "a7392628",
   "metadata": {
    "deletable": false,
    "execution": {
     "iopub.execute_input": "2025-10-22T09:14:15.215260Z",
     "iopub.status.busy": "2025-10-22T09:14:15.215165Z",
     "iopub.status.idle": "2025-10-22T09:14:15.218044Z",
     "shell.execute_reply": "2025-10-22T09:14:15.217807Z"
    },
    "tags": []
   },
   "outputs": [],
   "source": [
    "# You may use more than one line if you like.\n",
    "probability_of_drawing_vowel = ...\n",
    "probability_of_drawing_vowel"
   ]
  },
  {
   "cell_type": "code",
   "execution_count": null,
   "id": "7dbfcff2",
   "metadata": {
    "deletable": false,
    "editable": false
   },
   "outputs": [],
   "source": [
    "grader.check(\"p2.2\")"
   ]
  },
  {
   "cell_type": "markdown",
   "id": "f5ef685d",
   "metadata": {
    "deletable": false,
    "editable": false
   },
   "source": [
    "#### Part 2.3 (5 pts)\n"
   ]
  },
  {
   "cell_type": "markdown",
   "id": "13141c78",
   "metadata": {
    "deletable": false,
    "editable": false
   },
   "source": [
    "Write a function to compute the probability of drawing all vowels when you draw `n` tiles.\n",
    "\n",
    "*Hint:* The probability you just computed may be helpful here. "
   ]
  },
  {
   "cell_type": "code",
   "execution_count": null,
   "id": "e3dc5992",
   "metadata": {
    "deletable": false,
    "execution": {
     "iopub.execute_input": "2025-10-22T09:14:15.225875Z",
     "iopub.status.busy": "2025-10-22T09:14:15.225777Z",
     "iopub.status.idle": "2025-10-22T09:14:15.227965Z",
     "shell.execute_reply": "2025-10-22T09:14:15.227738Z"
    },
    "tags": []
   },
   "outputs": [],
   "source": [
    "def probability_of_drawing_all_vowels(n):\n",
    "    ...\n",
    "\n",
    "# Example call: drawing 5 tiles \n",
    "probability_of_drawing_all_vowels(5)"
   ]
  },
  {
   "cell_type": "code",
   "execution_count": null,
   "id": "a752ff04",
   "metadata": {
    "deletable": false,
    "editable": false
   },
   "outputs": [],
   "source": [
    "grader.check(\"p2.3\")"
   ]
  },
  {
   "cell_type": "markdown",
   "id": "0bbaf490",
   "metadata": {
    "deletable": false,
    "editable": false
   },
   "source": [
    "The following plots the probability of drawing all vowels as you increase `n`.  You may run it once you complete the above cell."
   ]
  },
  {
   "cell_type": "code",
   "execution_count": null,
   "id": "dd78cffa",
   "metadata": {
    "deletable": false,
    "editable": false,
    "execution": {
     "iopub.execute_input": "2025-10-22T09:14:15.238618Z",
     "iopub.status.busy": "2025-10-22T09:14:15.238527Z",
     "iopub.status.idle": "2025-10-22T09:14:15.343312Z",
     "shell.execute_reply": "2025-10-22T09:14:15.343032Z"
    },
    "tags": []
   },
   "outputs": [],
   "source": [
    "probabilities_of_all_vowels = Table([\"Num Tiles\", \"Probability of All Vowels\"])\n",
    "for i in np.arange(0,16):\n",
    "    probabilities_of_all_vowels.append([i, probability_of_drawing_all_vowels(i)])\n",
    "probabilities_of_all_vowels.scatter(\"Num Tiles\")"
   ]
  },
  {
   "cell_type": "markdown",
   "id": "f217fd7b",
   "metadata": {
    "deletable": false,
    "editable": false,
    "tags": []
   },
   "source": [
    "#### Part 2.4 (5 pts)\n"
   ]
  },
  {
   "cell_type": "markdown",
   "id": "cde08b72",
   "metadata": {
    "deletable": false,
    "editable": false
   },
   "source": [
    "For the last parts of this question, we will compute an empirical distribution for the proportion of letter E's in samples of `n` tiles drawn randomly from the full set of tiles.  As a first step, we'll need to be able to draw `n` random tiles from `scrabble_tile`.  We'll use [table.sample](https://www.cs.williams.edu/~cs104/auto/python-library-ref.html#sample).  Notice that we don't sample with replacement, since once we select a tile once, we don't want to select the same tile again.  Run the following cell a few times to verify our sample works as expected."
   ]
  },
  {
   "cell_type": "code",
   "execution_count": null,
   "id": "37d1707f",
   "metadata": {
    "deletable": false,
    "editable": false,
    "execution": {
     "iopub.execute_input": "2025-10-22T09:14:15.345057Z",
     "iopub.status.busy": "2025-10-22T09:14:15.344944Z",
     "iopub.status.idle": "2025-10-22T09:14:15.347681Z",
     "shell.execute_reply": "2025-10-22T09:14:15.347418Z"
    },
    "tags": []
   },
   "outputs": [],
   "source": [
    "scrabble_tiles.sample(5, with_replacement=False)"
   ]
  },
  {
   "cell_type": "markdown",
   "id": "d8d739ce",
   "metadata": {
    "deletable": false,
    "editable": false
   },
   "source": [
    "Complete the following function, `sample_letters`. This function creates a random tile sample of size `sample_size` and returns the letters from that sample as an array."
   ]
  },
  {
   "cell_type": "code",
   "execution_count": null,
   "id": "c7893395",
   "metadata": {
    "deletable": false,
    "execution": {
     "iopub.execute_input": "2025-10-22T09:14:15.349131Z",
     "iopub.status.busy": "2025-10-22T09:14:15.349035Z",
     "iopub.status.idle": "2025-10-22T09:14:15.350612Z",
     "shell.execute_reply": "2025-10-22T09:14:15.350390Z"
    },
    "tags": []
   },
   "outputs": [],
   "source": [
    "def sample_letters(sample_size):\n",
    "    ..."
   ]
  },
  {
   "cell_type": "code",
   "execution_count": null,
   "id": "3c4686bf",
   "metadata": {
    "deletable": false,
    "editable": false
   },
   "outputs": [],
   "source": [
    "grader.check(\"p2.4\")"
   ]
  },
  {
   "cell_type": "markdown",
   "id": "e6042ee1",
   "metadata": {
    "deletable": false,
    "editable": false,
    "tags": []
   },
   "source": [
    "#### Part 2.5 (5 pts)\n"
   ]
  },
  {
   "cell_type": "markdown",
   "id": "1a5a8fcb",
   "metadata": {
    "deletable": false,
    "editable": false
   },
   "source": [
    "Now, complete the following function `proportion_e`. This function takes `sample`, an array of letters, as input\n",
    "and returns the proportion of E's in that sample."
   ]
  },
  {
   "cell_type": "code",
   "execution_count": null,
   "id": "3b1b2c9c",
   "metadata": {
    "deletable": false,
    "execution": {
     "iopub.execute_input": "2025-10-22T09:14:15.364929Z",
     "iopub.status.busy": "2025-10-22T09:14:15.364834Z",
     "iopub.status.idle": "2025-10-22T09:14:15.366518Z",
     "shell.execute_reply": "2025-10-22T09:14:15.366291Z"
    },
    "tags": []
   },
   "outputs": [],
   "source": [
    "def proportion_e(sample):\n",
    "    ..."
   ]
  },
  {
   "cell_type": "code",
   "execution_count": null,
   "id": "620e4664",
   "metadata": {
    "deletable": false,
    "editable": false
   },
   "outputs": [],
   "source": [
    "grader.check(\"p2.5\")"
   ]
  },
  {
   "cell_type": "markdown",
   "id": "356047ac",
   "metadata": {
    "deletable": false,
    "editable": false
   },
   "source": [
    "#### Part 2.6 (5 pts)\n"
   ]
  },
  {
   "cell_type": "markdown",
   "id": "80d6e7de",
   "metadata": {
    "deletable": false,
    "editable": false
   },
   "source": [
    "Let's create an empirical distribution for the proportion of E's in `num_trials` samples, each of size `sample_size`.  \n",
    "\n",
    "*Hint:*\n",
    "This function can be written in one line using `simulate_sample_statistic` and the functions you created above."
   ]
  },
  {
   "cell_type": "code",
   "execution_count": null,
   "id": "b4211dc6",
   "metadata": {
    "deletable": false,
    "execution": {
     "iopub.execute_input": "2025-10-22T09:14:15.377918Z",
     "iopub.status.busy": "2025-10-22T09:14:15.377817Z",
     "iopub.status.idle": "2025-10-22T09:14:15.380907Z",
     "shell.execute_reply": "2025-10-22T09:14:15.380658Z"
    },
    "tags": []
   },
   "outputs": [],
   "source": [
    "def empirical_distribution_for_proprtion_e(sample_size, num_trials):\n",
    "    ...\n",
    "\n",
    "empirical_distribution_for_proprtion_e(15, 5)"
   ]
  },
  {
   "cell_type": "markdown",
   "id": "70964cb9",
   "metadata": {
    "deletable": false,
    "editable": false
   },
   "source": [
    "Here is one example use of the `empirical_distribution_for_proprtion_e` function you just wrote that uses our plotting code to draw the histogram of the computed distribution.  \n",
    "\n",
    "You do not need to change anything in the cells below. Use it to help debug your `empirical_distribution_for_proprtion_e` function. "
   ]
  },
  {
   "cell_type": "code",
   "execution_count": null,
   "id": "d61c4add",
   "metadata": {
    "deletable": false,
    "editable": false,
    "execution": {
     "iopub.execute_input": "2025-10-22T09:14:15.745727Z",
     "iopub.status.busy": "2025-10-22T09:14:15.745638Z",
     "iopub.status.idle": "2025-10-22T09:14:16.153812Z",
     "shell.execute_reply": "2025-10-22T09:14:16.153540Z"
    },
    "tags": []
   },
   "outputs": [],
   "source": [
    "def plot_empirical_distribution_for_proportion_e(sample_size, num_trials):\n",
    "    statistics = empirical_distribution_for_proprtion_e(sample_size, num_trials)\n",
    "    \n",
    "    # Create a histogram of our sample statistic.\n",
    "    Table().with_column(\"Proportion of E's\", statistics).hist(bins=np.arange(0,1.01,1/sample_size))\n",
    "    \n",
    "plot_empirical_distribution_for_proportion_e(15, 10000)"
   ]
  },
  {
   "cell_type": "code",
   "execution_count": null,
   "id": "68d0ccff",
   "metadata": {
    "deletable": false,
    "editable": false
   },
   "outputs": [],
   "source": [
    "grader.check(\"p2.6\")"
   ]
  },
  {
   "cell_type": "markdown",
   "id": "515eca04",
   "metadata": {
    "deletable": false,
    "editable": false
   },
   "source": [
    "Once your function is complete, you can run the following cell, which creates an interactive visualization where you can view the distributions for different choices sample size and number of trials."
   ]
  },
  {
   "cell_type": "code",
   "execution_count": null,
   "id": "5a4edfb9",
   "metadata": {
    "deletable": false,
    "editable": false,
    "execution": {
     "iopub.execute_input": "2025-10-22T09:14:16.155561Z",
     "iopub.status.busy": "2025-10-22T09:14:16.155443Z",
     "iopub.status.idle": "2025-10-22T09:14:16.250796Z",
     "shell.execute_reply": "2025-10-22T09:14:16.250512Z"
    },
    "tags": []
   },
   "outputs": [],
   "source": [
    "all_letters = np.unique(scrabble_tiles.sort(\"Letter\").column(\"Letter\"))\n",
    "interact(plot_empirical_distribution_for_proportion_e, sample_size = Slider(1,50,1), \n",
    "        num_trials=Choice(make_array(10,20,50,100,1000,10000)))"
   ]
  },
  {
   "cell_type": "markdown",
   "id": "7f2dfe34",
   "metadata": {
    "deletable": false,
    "editable": false
   },
   "source": [
    "#### Part 2.7 (5 pts)\n"
   ]
  },
  {
   "cell_type": "markdown",
   "id": "89f77212",
   "metadata": {
    "deletable": false,
    "editable": false
   },
   "source": [
    "Supposed you don't know how many of each letter are in your collection of 98 tiles.  We can use the empirical distribution of the number of E's found in randomly selected samples of size 15 to estimate the number of E's in the collection.\n",
    "\n",
    "We start by gathering our sample statistic (proportion of sample that is E) for 10000 samples:"
   ]
  },
  {
   "cell_type": "code",
   "execution_count": null,
   "id": "55aab092",
   "metadata": {
    "deletable": false,
    "editable": false,
    "execution": {
     "iopub.execute_input": "2025-10-22T09:14:16.252907Z",
     "iopub.status.busy": "2025-10-22T09:14:16.252825Z",
     "iopub.status.idle": "2025-10-22T09:14:16.669166Z",
     "shell.execute_reply": "2025-10-22T09:14:16.668882Z"
    },
    "tags": []
   },
   "outputs": [],
   "source": [
    "# No work necessary here. Just run this cell.\n",
    "sample_size = 15\n",
    "sample_statistics = empirical_distribution_for_proprtion_e(sample_size, 10000)\n",
    "Table().with_column(\"Proportion of E's in samples of size 15\", sample_statistics).hist(bins=np.arange(0,1,1/15))"
   ]
  },
  {
   "cell_type": "markdown",
   "id": "6824f5bb",
   "metadata": {
    "deletable": false,
    "editable": false
   },
   "source": [
    "If our samples are truly random, the average proportion of E's in our samples will approximate the proportion of E's in the population.  Here is that average proportion in our **samples**."
   ]
  },
  {
   "cell_type": "code",
   "execution_count": null,
   "id": "8a703dd9",
   "metadata": {
    "deletable": false,
    "editable": false,
    "execution": {
     "iopub.execute_input": "2025-10-22T09:14:16.670821Z",
     "iopub.status.busy": "2025-10-22T09:14:16.670706Z",
     "iopub.status.idle": "2025-10-22T09:14:16.672907Z",
     "shell.execute_reply": "2025-10-22T09:14:16.672656Z"
    },
    "tags": []
   },
   "outputs": [],
   "source": [
    "np.mean(sample_statistics)"
   ]
  },
  {
   "cell_type": "markdown",
   "id": "daf72d4f",
   "metadata": {
    "deletable": false,
    "editable": false
   },
   "source": [
    "Use this observation to estimate the number of E's in our collection, namely the whole **population** of 98 tiles.  Make sure your answer should be a whole number since we can't have fractional tiles."
   ]
  },
  {
   "cell_type": "code",
   "execution_count": null,
   "id": "d410250e",
   "metadata": {
    "deletable": false,
    "execution": {
     "iopub.execute_input": "2025-10-22T09:14:16.674464Z",
     "iopub.status.busy": "2025-10-22T09:14:16.674352Z",
     "iopub.status.idle": "2025-10-22T09:14:16.676559Z",
     "shell.execute_reply": "2025-10-22T09:14:16.676315Z"
    },
    "tags": []
   },
   "outputs": [],
   "source": [
    "estimate_of_es = ...\n",
    "estimate_of_es"
   ]
  },
  {
   "cell_type": "code",
   "execution_count": null,
   "id": "1d023fcb",
   "metadata": {
    "deletable": false,
    "editable": false
   },
   "outputs": [],
   "source": [
    "grader.check(\"p2.7\")"
   ]
  },
  {
   "cell_type": "markdown",
   "id": "c0c8f5d7",
   "metadata": {
    "deletable": false,
    "editable": false
   },
   "source": [
    "<hr class=\"m-0\" style=\"border: 3px solid #500082;\"/>\n",
    "\n",
    "# You're Done!\n",
    "Follow these steps to submit your work:\n",
    "* Run the tests and verify that they pass as you expect. \n",
    "* Choose **Save Notebook** from the **File** menu.\n",
    "* **Run the final cell** and click the link below to download the zip file. \n",
    "\n",
    "Once you have downloaded that file, go to [Gradescope](https://www.gradescope.com/) and submit the zip file to \n",
    "the corresponding assignment. For Prelab N, the assignment will be called \"Prelab N Autograder\".\n",
    "\n",
    "Once you have submitted, your Gradescope assignment should show you passing all the tests you passed in your assignment notebook.\n"
   ]
  },
  {
   "cell_type": "markdown",
   "id": "6bb4985d",
   "metadata": {
    "deletable": false,
    "editable": false
   },
   "source": [
    "## Submission\n",
    "\n",
    "Make sure you have run all cells in your notebook in order before running the cell below, so that all images/graphs appear in the output. The cell below will generate a zip file for you to submit. **Please save before exporting!**"
   ]
  },
  {
   "cell_type": "code",
   "execution_count": null,
   "id": "ae4da9b4",
   "metadata": {
    "deletable": false,
    "editable": false
   },
   "outputs": [],
   "source": [
    "# Save your notebook first, then run this cell to export your submission.\n",
    "grader.export(pdf=False, run_tests=True)"
   ]
  },
  {
   "cell_type": "markdown",
   "id": "e804ff94",
   "metadata": {},
   "source": [
    " "
   ]
  }
 ],
 "metadata": {
  "celltoolbar": "Edit Metadata",
  "kernelspec": {
   "display_name": "Python 3 (ipykernel)",
   "language": "python",
   "name": "python3"
  },
  "language_info": {
   "codemirror_mode": {
    "name": "ipython",
    "version": 3
   },
   "file_extension": ".py",
   "mimetype": "text/x-python",
   "name": "python",
   "nbconvert_exporter": "python",
   "pygments_lexer": "ipython3",
   "version": "3.9.19"
  },
  "otter": {
   "OK_FORMAT": true,
   "tests": {
    "p1.1": {
     "has_hidden": false,
     "name": "p1.1",
     "points": 5,
     "suites": [
      {
       "cases": [
        {
         "code": ">>> check_str('0 <= first_bullseye_on_third <= 1', locals())\n",
         "failure_message": "probabilities must be in the range [0,1]",
         "hidden": false,
         "locked": false,
         "submit_only": false,
         "success_message": "check(0 <= first_bullseye_on_third <= 1)"
        },
        {
         "code": ">>> check_str('first_bullseye_on_third == approx(0.032)', locals())\n",
         "failure_message": "incorrect final probability",
         "hidden": false,
         "locked": false,
         "submit_only": false,
         "success_message": "check(first_bullseye_on_third == approx(0.032))"
        }
       ],
       "scored": true,
       "setup": "",
       "teardown": "",
       "type": "doctest"
      }
     ]
    },
    "p1.2": {
     "has_hidden": false,
     "name": "p1.2",
     "points": 5,
     "suites": [
      {
       "cases": [
        {
         "code": ">>> check_str('0 <= bullseye_hit_all_six <= 1', locals())\n",
         "failure_message": "probabilities must be in the range [0,1]",
         "hidden": false,
         "locked": false,
         "submit_only": false,
         "success_message": "check(0 <= bullseye_hit_all_six <= 1)"
        },
        {
         "code": ">>> check_str('bullseye_hit_all_six == approx(0.26214)', locals())\n",
         "failure_message": "incorrect final probability",
         "hidden": false,
         "locked": false,
         "submit_only": false,
         "success_message": "check(bullseye_hit_all_six == approx(0.26214))"
        }
       ],
       "scored": true,
       "setup": "",
       "teardown": "",
       "type": "doctest"
      }
     ]
    },
    "p1.3": {
     "has_hidden": false,
     "name": "p1.3",
     "points": 5,
     "suites": [
      {
       "cases": [
        {
         "code": ">>> check_str('0 <= bullseye_missed_atleast_once <= 1', locals())\n",
         "failure_message": "probabilities must be in the range [0,1]",
         "hidden": false,
         "locked": false,
         "submit_only": false,
         "success_message": "check(0 <= bullseye_missed_atleast_once <= 1)"
        },
        {
         "code": ">>> check_str('bullseye_missed_atleast_once == approx(0.73786)', locals())\n",
         "failure_message": "incorrect final probability",
         "hidden": false,
         "locked": false,
         "submit_only": false,
         "success_message": "check(bullseye_missed_atleast_once == approx(0.73786))"
        }
       ],
       "scored": true,
       "setup": "",
       "teardown": "",
       "type": "doctest"
      }
     ]
    },
    "p1.4": {
     "has_hidden": false,
     "name": "p1.4",
     "points": 5,
     "suites": [
      {
       "cases": [
        {
         "code": ">>> check_str('len(hits) == 10000', locals())\n",
         "failure_message": "be sure to use 10,000 trials.",
         "hidden": false,
         "locked": false,
         "submit_only": false,
         "success_message": "check(len(hits) == 10000)"
        },
        {
         "code": ">>> check_str('0 <= hits <= 6', locals())\n",
         "failure_message": "hits should only contain values between 0 and 6.",
         "hidden": false,
         "locked": false,
         "submit_only": false,
         "success_message": "check(0 <= hits <= 6)"
        },
        {
         "code": ">>> check_str('0.25 <= np.mean(hits == 6) <= .30', locals())\n",
         "failure_message": "emprical estimate does not match true probability for 6 hits.",
         "hidden": false,
         "locked": false,
         "submit_only": false,
         "success_message": "check(0.25 <= np.mean(hits == 6) <= .30)"
        }
       ],
       "scored": true,
       "setup": "",
       "teardown": "",
       "type": "doctest"
      }
     ]
    },
    "p2.1": {
     "has_hidden": false,
     "name": "p2.1",
     "points": 5,
     "suites": [
      {
       "cases": [
        {
         "code": ">>> check_str('0 <= probability_of_drawing_letter(\\'Q\\') <= 1', locals())\n",
         "failure_message": "Probabilities must be in the range [0,1]",
         "hidden": false,
         "locked": false,
         "submit_only": false,
         "success_message": "check(0 <= probability_of_drawing_letter('Q') <= 1)"
        },
        {
         "code": ">>> check_str('probability_of_drawing_letter(\\'Q\\') == approx(1/98)', locals())\n",
         "failure_message": "check(probability_of_drawing_letter('Q') == approx(1/98))",
         "hidden": false,
         "locked": false,
         "submit_only": false,
         "success_message": "check(probability_of_drawing_letter('Q') == approx(1/98))"
        },
        {
         "code": ">>> check_str('probability_of_drawing_letter(\\'A\\') == approx(9/98)', locals())\n",
         "failure_message": "check(probability_of_drawing_letter('A') == approx(9/98))",
         "hidden": false,
         "locked": false,
         "submit_only": false,
         "success_message": "check(probability_of_drawing_letter('A') == approx(9/98))"
        }
       ],
       "scored": true,
       "setup": "",
       "teardown": "",
       "type": "doctest"
      }
     ]
    },
    "p2.2": {
     "has_hidden": false,
     "name": "p2.2",
     "points": 5,
     "suites": [
      {
       "cases": [
        {
         "code": ">>> check_str('0 <= probability_of_drawing_vowel <= 1', locals())\n",
         "failure_message": "Probabilities must be in the range [0,1]",
         "hidden": false,
         "locked": false,
         "submit_only": false,
         "success_message": "check(0 <= probability_of_drawing_vowel <= 1)"
        },
        {
         "code": ">>> check_str('probability_of_drawing_vowel == approx(0.42857)', locals())\n",
         "failure_message": "check(probability_of_drawing_vowel == approx(0.42857))",
         "hidden": false,
         "locked": false,
         "submit_only": false,
         "success_message": "check(probability_of_drawing_vowel == approx(0.42857))"
        }
       ],
       "scored": true,
       "setup": "",
       "teardown": "",
       "type": "doctest"
      }
     ]
    },
    "p2.3": {
     "has_hidden": false,
     "name": "p2.3",
     "points": 5,
     "suites": [
      {
       "cases": [
        {
         "code": ">>> check_str('0 <= probability_of_drawing_all_vowels(3) <= 1', locals())\n",
         "failure_message": "Probabilities must be in the range [0,1]",
         "hidden": false,
         "locked": false,
         "submit_only": false,
         "success_message": "check(0 <= probability_of_drawing_all_vowels(3) <= 1)"
        },
        {
         "code": ">>> check_str('probability_of_drawing_all_vowels(5) == approx(0.01446)', locals())\n",
         "failure_message": "check(probability_of_drawing_all_vowels(5) == approx(0.01446))",
         "hidden": false,
         "locked": false,
         "submit_only": false,
         "success_message": "check(probability_of_drawing_all_vowels(5) == approx(0.01446))"
        },
        {
         "code": ">>> check_str('probability_of_drawing_all_vowels(10) == approx(0.00021)', locals())\n",
         "failure_message": "check(probability_of_drawing_all_vowels(10) == approx(0.00021))",
         "hidden": false,
         "locked": false,
         "submit_only": false,
         "success_message": "check(probability_of_drawing_all_vowels(10) == approx(0.00021))"
        }
       ],
       "scored": true,
       "setup": "",
       "teardown": "",
       "type": "doctest"
      }
     ]
    },
    "p2.4": {
     "has_hidden": false,
     "name": "p2.4",
     "points": 5,
     "suites": [
      {
       "cases": [
        {
         "code": ">>> check_str('type(sample_letters(5)) == np.ndarray', locals())\n",
         "failure_message": "check(type(sample_letters(5)) == np.ndarray)",
         "hidden": false,
         "locked": false,
         "submit_only": false,
         "success_message": "check(type(sample_letters(5)) == np.ndarray)"
        },
        {
         "code": ">>> check_str('len(sample_letters(5)) == 5', locals())\n",
         "failure_message": "check(len(sample_letters(5)) == 5)",
         "hidden": false,
         "locked": false,
         "submit_only": false,
         "success_message": "check(len(sample_letters(5)) == 5)"
        },
        {
         "code": ">>> check_str('len(sample_letters(0)) == 0', locals())\n",
         "failure_message": "check(len(sample_letters(0)) == 0)",
         "hidden": false,
         "locked": false,
         "submit_only": false,
         "success_message": "check(len(sample_letters(0)) == 0)"
        },
        {
         "code": ">>> check_str('np.sort(sample_letters(98)) == scrabble_tiles.column(\"Letter\")', locals())\n",
         "failure_message": "check(np.sort(sample_letters(98)) == scrabble_tiles.column(\"Letter\"))",
         "hidden": false,
         "locked": false,
         "submit_only": false,
         "success_message": "check(np.sort(sample_letters(98)) == scrabble_tiles.column(\"Letter\"))"
        }
       ],
       "scored": true,
       "setup": "",
       "teardown": "",
       "type": "doctest"
      }
     ]
    },
    "p2.5": {
     "has_hidden": false,
     "name": "p2.5",
     "points": 5,
     "suites": [
      {
       "cases": [
        {
         "code": ">>> check_str('proportion_e(make_array(\"A\", \"E\", \"A\", \"E\", \"E\")) == approx(0.6)', locals())\n",
         "failure_message": "check(proportion_e(make_array(\"A\", \"E\", \"A\", \"E\", \"E\")) == approx(0.6))",
         "hidden": false,
         "locked": false,
         "submit_only": false,
         "success_message": "check(proportion_e(make_array(\"A\", \"E\", \"A\", \"E\", \"E\")) == approx(0.6))"
        },
        {
         "code": ">>> check_str('proportion_e(make_array(\"A\", \"B\", \"E\", \"E\", \"A\")) == approx(0.4)', locals())\n",
         "failure_message": "check(proportion_e(make_array(\"A\", \"B\", \"E\", \"E\", \"A\")) == approx(0.4))",
         "hidden": false,
         "locked": false,
         "submit_only": false,
         "success_message": "check(proportion_e(make_array(\"A\", \"B\", \"E\", \"E\", \"A\")) == approx(0.4))"
        },
        {
         "code": ">>> check_str('proportion_e(make_array(\"A\", \"B\", \"A\", \"B\", \"A\")) == approx(0)', locals())\n",
         "failure_message": "check(proportion_e(make_array(\"A\", \"B\", \"A\", \"B\", \"A\")) == approx(0))",
         "hidden": false,
         "locked": false,
         "submit_only": false,
         "success_message": "check(proportion_e(make_array(\"A\", \"B\", \"A\", \"B\", \"A\")) == approx(0))"
        }
       ],
       "scored": true,
       "setup": "",
       "teardown": "",
       "type": "doctest"
      }
     ]
    },
    "p2.6": {
     "has_hidden": false,
     "name": "p2.6",
     "points": 5,
     "suites": [
      {
       "cases": [
        {
         "code": ">>> check_str('0.11 <= np.mean(empirical_distribution_for_proprtion_e(15, 10000)) <= 0.14', locals())\n",
         "failure_message": "check(0.11 <= np.mean(empirical_distribution_for_proprtion_e(15, 10000)) <= 0.14)",
         "hidden": false,
         "locked": false,
         "submit_only": false,
         "success_message": "check(0.11 <= np.mean(empirical_distribution_for_proprtion_e(15, 10000)) <= 0.14)"
        }
       ],
       "scored": true,
       "setup": "",
       "teardown": "",
       "type": "doctest"
      }
     ]
    },
    "p2.7": {
     "has_hidden": false,
     "name": "p2.7",
     "points": 5,
     "suites": [
      {
       "cases": [
        {
         "code": ">>> check_str('estimate_of_es == 12', locals())\n",
         "failure_message": "check(estimate_of_es == 12)",
         "hidden": false,
         "locked": false,
         "submit_only": false,
         "success_message": "check(estimate_of_es == 12)"
        }
       ],
       "scored": true,
       "setup": "",
       "teardown": "",
       "type": "doctest"
      }
     ]
    }
   }
  },
  "vscode": {
   "interpreter": {
    "hash": "31f2aee4e71d21fbe5cf8b01ff0e069b9275f58929596ceb00d14d90e3e16cd6"
   }
  },
  "widgets": {
   "application/vnd.jupyter.widget-state+json": {
    "state": {
     "25543d67b5534c6ba68d98e95a827cfd": {
      "model_module": "@jupyter-widgets/controls",
      "model_module_version": "1.5.0",
      "model_name": "VBoxModel",
      "state": {
       "_dom_classes": [
        "widget-interact"
       ],
       "_model_module": "@jupyter-widgets/controls",
       "_model_module_version": "1.5.0",
       "_model_name": "VBoxModel",
       "_view_count": null,
       "_view_module": "@jupyter-widgets/controls",
       "_view_module_version": "1.5.0",
       "_view_name": "VBoxView",
       "box_style": "",
       "children": [
        "IPY_MODEL_be982e6f52a240d5bd0933e4364d6a51",
        "IPY_MODEL_5ccc3069964346368eb3f575e37a650f",
        "IPY_MODEL_549398d897664182963a7411aeaaafa0"
       ],
       "layout": "IPY_MODEL_4ef3215089fd4f82ab7fc74bbf5ff563"
      }
     },
     "2e1c1a9851ec472393d1ba6b8456dd01": {
      "model_module": "@jupyter-widgets/base",
      "model_module_version": "1.2.0",
      "model_name": "LayoutModel",
      "state": {
       "_model_module": "@jupyter-widgets/base",
       "_model_module_version": "1.2.0",
       "_model_name": "LayoutModel",
       "_view_count": null,
       "_view_module": "@jupyter-widgets/base",
       "_view_module_version": "1.2.0",
       "_view_name": "LayoutView",
       "align_content": null,
       "align_items": null,
       "align_self": null,
       "border": null,
       "bottom": null,
       "display": null,
       "flex": null,
       "flex_flow": null,
       "grid_area": null,
       "grid_auto_columns": null,
       "grid_auto_flow": null,
       "grid_auto_rows": null,
       "grid_column": null,
       "grid_gap": null,
       "grid_row": null,
       "grid_template_areas": null,
       "grid_template_columns": null,
       "grid_template_rows": null,
       "height": null,
       "justify_content": null,
       "justify_items": null,
       "left": null,
       "margin": null,
       "max_height": null,
       "max_width": null,
       "min_height": null,
       "min_width": null,
       "object_fit": null,
       "object_position": null,
       "order": null,
       "overflow": null,
       "overflow_x": null,
       "overflow_y": null,
       "padding": null,
       "right": null,
       "top": null,
       "visibility": null,
       "width": null
      }
     },
     "4ef3215089fd4f82ab7fc74bbf5ff563": {
      "model_module": "@jupyter-widgets/base",
      "model_module_version": "1.2.0",
      "model_name": "LayoutModel",
      "state": {
       "_model_module": "@jupyter-widgets/base",
       "_model_module_version": "1.2.0",
       "_model_name": "LayoutModel",
       "_view_count": null,
       "_view_module": "@jupyter-widgets/base",
       "_view_module_version": "1.2.0",
       "_view_name": "LayoutView",
       "align_content": null,
       "align_items": null,
       "align_self": null,
       "border": null,
       "bottom": null,
       "display": null,
       "flex": null,
       "flex_flow": null,
       "grid_area": null,
       "grid_auto_columns": null,
       "grid_auto_flow": null,
       "grid_auto_rows": null,
       "grid_column": null,
       "grid_gap": null,
       "grid_row": null,
       "grid_template_areas": null,
       "grid_template_columns": null,
       "grid_template_rows": null,
       "height": null,
       "justify_content": null,
       "justify_items": null,
       "left": null,
       "margin": null,
       "max_height": null,
       "max_width": null,
       "min_height": null,
       "min_width": null,
       "object_fit": null,
       "object_position": null,
       "order": null,
       "overflow": null,
       "overflow_x": null,
       "overflow_y": null,
       "padding": null,
       "right": null,
       "top": null,
       "visibility": null,
       "width": null
      }
     },
     "549398d897664182963a7411aeaaafa0": {
      "model_module": "@jupyter-widgets/output",
      "model_module_version": "1.0.0",
      "model_name": "OutputModel",
      "state": {
       "_dom_classes": [],
       "_model_module": "@jupyter-widgets/output",
       "_model_module_version": "1.0.0",
       "_model_name": "OutputModel",
       "_view_count": null,
       "_view_module": "@jupyter-widgets/output",
       "_view_module_version": "1.0.0",
       "_view_name": "OutputView",
       "layout": "IPY_MODEL_8bd5104fcff344b68df7e459b50680b9",
       "msg_id": "",
       "outputs": [
        {
         "data": {
          "image/png": "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",
          "text/plain": "<Figure size 600x400 with 1 Axes>"
         },
         "metadata": {},
         "output_type": "display_data"
        }
       ]
      }
     },
     "5ccc3069964346368eb3f575e37a650f": {
      "model_module": "@jupyter-widgets/controls",
      "model_module_version": "1.5.0",
      "model_name": "DropdownModel",
      "state": {
       "_dom_classes": [],
       "_model_module": "@jupyter-widgets/controls",
       "_model_module_version": "1.5.0",
       "_model_name": "DropdownModel",
       "_options_labels": [
        "10",
        "20",
        "50",
        "100",
        "1000",
        "10000"
       ],
       "_view_count": null,
       "_view_module": "@jupyter-widgets/controls",
       "_view_module_version": "1.5.0",
       "_view_name": "DropdownView",
       "description": "num_trials",
       "description_tooltip": null,
       "disabled": false,
       "index": 0,
       "layout": "IPY_MODEL_2e1c1a9851ec472393d1ba6b8456dd01",
       "style": "IPY_MODEL_6665820e0ab848ac936b5acc4dfe5241"
      }
     },
     "6665820e0ab848ac936b5acc4dfe5241": {
      "model_module": "@jupyter-widgets/controls",
      "model_module_version": "1.5.0",
      "model_name": "DescriptionStyleModel",
      "state": {
       "_model_module": "@jupyter-widgets/controls",
       "_model_module_version": "1.5.0",
       "_model_name": "DescriptionStyleModel",
       "_view_count": null,
       "_view_module": "@jupyter-widgets/base",
       "_view_module_version": "1.2.0",
       "_view_name": "StyleView",
       "description_width": ""
      }
     },
     "8bd5104fcff344b68df7e459b50680b9": {
      "model_module": "@jupyter-widgets/base",
      "model_module_version": "1.2.0",
      "model_name": "LayoutModel",
      "state": {
       "_model_module": "@jupyter-widgets/base",
       "_model_module_version": "1.2.0",
       "_model_name": "LayoutModel",
       "_view_count": null,
       "_view_module": "@jupyter-widgets/base",
       "_view_module_version": "1.2.0",
       "_view_name": "LayoutView",
       "align_content": null,
       "align_items": null,
       "align_self": null,
       "border": null,
       "bottom": null,
       "display": null,
       "flex": null,
       "flex_flow": null,
       "grid_area": null,
       "grid_auto_columns": null,
       "grid_auto_flow": null,
       "grid_auto_rows": null,
       "grid_column": null,
       "grid_gap": null,
       "grid_row": null,
       "grid_template_areas": null,
       "grid_template_columns": null,
       "grid_template_rows": null,
       "height": null,
       "justify_content": null,
       "justify_items": null,
       "left": null,
       "margin": null,
       "max_height": null,
       "max_width": null,
       "min_height": null,
       "min_width": null,
       "object_fit": null,
       "object_position": null,
       "order": null,
       "overflow": null,
       "overflow_x": null,
       "overflow_y": null,
       "padding": null,
       "right": null,
       "top": null,
       "visibility": null,
       "width": null
      }
     },
     "b1039edd21ca402db51da99247b0d9f6": {
      "model_module": "@jupyter-widgets/controls",
      "model_module_version": "1.5.0",
      "model_name": "SliderStyleModel",
      "state": {
       "_model_module": "@jupyter-widgets/controls",
       "_model_module_version": "1.5.0",
       "_model_name": "SliderStyleModel",
       "_view_count": null,
       "_view_module": "@jupyter-widgets/base",
       "_view_module_version": "1.2.0",
       "_view_name": "StyleView",
       "description_width": "",
       "handle_color": null
      }
     },
     "b28550c2e1c0402195aa271c1a06ee4a": {
      "model_module": "@jupyter-widgets/base",
      "model_module_version": "1.2.0",
      "model_name": "LayoutModel",
      "state": {
       "_model_module": "@jupyter-widgets/base",
       "_model_module_version": "1.2.0",
       "_model_name": "LayoutModel",
       "_view_count": null,
       "_view_module": "@jupyter-widgets/base",
       "_view_module_version": "1.2.0",
       "_view_name": "LayoutView",
       "align_content": null,
       "align_items": null,
       "align_self": null,
       "border": null,
       "bottom": null,
       "display": null,
       "flex": null,
       "flex_flow": null,
       "grid_area": null,
       "grid_auto_columns": null,
       "grid_auto_flow": null,
       "grid_auto_rows": null,
       "grid_column": null,
       "grid_gap": null,
       "grid_row": null,
       "grid_template_areas": null,
       "grid_template_columns": null,
       "grid_template_rows": null,
       "height": null,
       "justify_content": null,
       "justify_items": null,
       "left": null,
       "margin": null,
       "max_height": null,
       "max_width": null,
       "min_height": null,
       "min_width": null,
       "object_fit": null,
       "object_position": null,
       "order": null,
       "overflow": null,
       "overflow_x": null,
       "overflow_y": null,
       "padding": null,
       "right": null,
       "top": null,
       "visibility": null,
       "width": null
      }
     },
     "be982e6f52a240d5bd0933e4364d6a51": {
      "model_module": "@jupyter-widgets/controls",
      "model_module_version": "1.5.0",
      "model_name": "IntSliderModel",
      "state": {
       "_dom_classes": [],
       "_model_module": "@jupyter-widgets/controls",
       "_model_module_version": "1.5.0",
       "_model_name": "IntSliderModel",
       "_view_count": null,
       "_view_module": "@jupyter-widgets/controls",
       "_view_module_version": "1.5.0",
       "_view_name": "IntSliderView",
       "continuous_update": true,
       "description": "sample_size",
       "description_tooltip": null,
       "disabled": false,
       "layout": "IPY_MODEL_b28550c2e1c0402195aa271c1a06ee4a",
       "max": 50,
       "min": 1,
       "orientation": "horizontal",
       "readout": true,
       "readout_format": "d",
       "step": 1,
       "style": "IPY_MODEL_b1039edd21ca402db51da99247b0d9f6",
       "value": 25
      }
     }
    },
    "version_major": 2,
    "version_minor": 0
   }
  }
 },
 "nbformat": 4,
 "nbformat_minor": 5
}
