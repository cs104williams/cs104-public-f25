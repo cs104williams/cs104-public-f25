{
 "cells": [
  {
   "cell_type": "code",
   "execution_count": null,
   "id": "36e87cfa",
   "metadata": {
    "deletable": false,
    "editable": false
   },
   "outputs": [],
   "source": [
    "# Initialize Otter\n",
    "import otter\n",
    "grader = otter.Notebook(\"project2.ipynb\")"
   ]
  },
  {
   "cell_type": "markdown",
   "id": "0d363b13",
   "metadata": {
    "deletable": false,
    "editable": false
   },
   "source": [
    "<table style=\"width: 100%;\">\n",
    "<tr style=\"background-color: transparent;\">\n",
    "<td width=\"100px\"><img src=\"https://cs104williams.github.io/assets/cs104-logo.png\" width=\"90px\" style=\"text-align: center\"/></td>\n",
    "<td>\n",
    "  <p style=\"margin-bottom: 0px; text-align: left; font-size: 18pt;\"><strong>CSCI 104: Data Science and Computing for All</strong><br>\n",
    "                Williams College<br>\n",
    "                Fall 2025</p>\n",
    "</td>\n",
    "</tr>\n"
   ]
  },
  {
   "cell_type": "markdown",
   "id": "661c4a61",
   "metadata": {
    "deletable": false,
    "editable": false,
    "tags": []
   },
   "source": [
    "# Final Project"
   ]
  },
  {
   "cell_type": "markdown",
   "id": "cb4abe23",
   "metadata": {
    "deletable": false,
    "editable": false
   },
   "source": [
    "Please see the [Final Project Description](https://www.cs.williams.edu/~cs104/docs/project2.html) for instructions and deadlines.\n",
    "\n",
    "All work should appear in this notebook.  You may add as many additional cells as you like to each part.  Just click the `+` sign in this tab's toolbar to insert a new cell.  Then select \"Markdown\" from the toolbar's popup menu if you want the new cell to be for text, or \"Code\" if you want it to be for Python code.  Markdown cells can include basic formatting and are easily identified because they do not have the brackets `[ ]` in the left margin.  Click on any of our formatted text cells to see how to create lists, bold text, etc., or have a look [here](https://www.markdownguide.org/basic-syntax).\n"
   ]
  },
  {
   "cell_type": "code",
   "execution_count": null,
   "id": "6d91b09b",
   "metadata": {
    "deletable": false,
    "editable": false,
    "execution": {
     "iopub.execute_input": "2025-10-30T19:58:24.678174Z",
     "iopub.status.busy": "2025-10-30T19:58:24.677874Z",
     "iopub.status.idle": "2025-10-30T19:58:26.890819Z",
     "shell.execute_reply": "2025-10-30T19:58:26.890316Z"
    },
    "tags": []
   },
   "outputs": [],
   "source": [
    "# Run this cell to set up the notebook.\n",
    "# These lines import the numpy, datascience, and cs104 libraries.\n",
    "\n",
    "import numpy as np\n",
    "from datascience import *\n",
    "from cs104 import *\n",
    "%matplotlib inline"
   ]
  },
  {
   "cell_type": "markdown",
   "id": "540ae84d",
   "metadata": {
    "deletable": false,
    "editable": false
   },
   "source": [
    "<hr style=\"margin-bottom: 0px; padding:0; border: 2px solid #500082;\"/>\n"
   ]
  },
  {
   "cell_type": "markdown",
   "id": "b0fcd935",
   "metadata": {
    "deletable": false,
    "editable": false,
    "tags": []
   },
   "source": [
    "## 0. Source of data\n"
   ]
  },
  {
   "cell_type": "markdown",
   "id": "2f186651",
   "metadata": {
    "deletable": false,
    "editable": false
   },
   "source": [
    "Please tell us where you found the dataset(s) and what they include in general terms.\n",
    "- Include URLs for where the data was downloaded. \n",
    "- What are the sources for the data? Are these reputable sources? \n",
    "- Can you find who (the names of humans) collected or cleaned the dataset before you downloaded it?\n",
    "\n",
    "If you are having trouble getting started, here are a few places to look for data:\n",
    "* [Google's Dataset Search](https://datasetsearch.research.google.com/)\n",
    "* [Five-Thirty Eight](https://data.fivethirtyeight.com/)\n",
    "* [Data Is Plural](https://docs.google.com/spreadsheets/d/1wZhPLMCHKJvwOkP4juclhjFgqIY8fQFMemwKL2c64vk/edit#gid=0)\n",
    "* [Our World in Data](https://ourworldindata.org/)\n",
    "* [How to Find and Work with Data: Data Sources](https://libguides.williams.edu/c.php?g=1331301&p=9804550) (curated by our Williams data literacy librarian, Regan Schwartz)"
   ]
  },
  {
   "cell_type": "markdown",
   "id": "4c498ec1",
   "metadata": {
    "deletable": false,
    "editable": true
   },
   "source": [
    "*Write me.*"
   ]
  },
  {
   "cell_type": "markdown",
   "id": "d85116e3",
   "metadata": {
    "deletable": false,
    "editable": false
   },
   "source": [
    "<hr style=\"margin-bottom: 0px; padding:0; border: 2px solid #500082;\"/>\n"
   ]
  },
  {
   "cell_type": "markdown",
   "id": "b13d4e1f",
   "metadata": {
    "deletable": false,
    "editable": false,
    "tags": []
   },
   "source": [
    "## 1. Quantitative questions\n"
   ]
  },
  {
   "cell_type": "markdown",
   "id": "32a8c417",
   "metadata": {
    "deletable": false,
    "editable": false
   },
   "source": [
    "Pose at least two quantitative questions about the dataset. "
   ]
  },
  {
   "cell_type": "markdown",
   "id": "f7dd49ef",
   "metadata": {
    "deletable": false,
    "editable": false
   },
   "source": [
    "**Quantiative question 1:**"
   ]
  },
  {
   "cell_type": "markdown",
   "id": "f86316a1",
   "metadata": {
    "deletable": false,
    "editable": true
   },
   "source": [
    "*Write me.*"
   ]
  },
  {
   "cell_type": "markdown",
   "id": "5dd8600d",
   "metadata": {
    "deletable": false,
    "editable": false
   },
   "source": [
    "**Quantitative question 2:**"
   ]
  },
  {
   "cell_type": "markdown",
   "id": "c3569ce9",
   "metadata": {
    "deletable": false,
    "editable": true
   },
   "source": [
    "*Write me.*"
   ]
  },
  {
   "cell_type": "markdown",
   "id": "122b9cb2",
   "metadata": {
    "deletable": false,
    "editable": false
   },
   "source": [
    "<hr style=\"margin-bottom: 0px; padding:0; border: 2px solid #500082;\"/>\n"
   ]
  },
  {
   "cell_type": "markdown",
   "id": "88cae90c",
   "metadata": {
    "deletable": false,
    "editable": false,
    "tags": []
   },
   "source": [
    "## 2. Data: Loading and Cleaning\n",
    "\n",
    "Be sure to upload your csv files to the project on our server, and to clean your data if there are any missing values or other problems.  \n",
    "\n",
    "We highly encourage you return to Lab 6 and revist how you cleaned data with `tbl.take_clean()`, `tbl.take_messy()`, and `tbl.replace()`. "
   ]
  },
  {
   "cell_type": "code",
   "execution_count": null,
   "id": "b5b8b967",
   "metadata": {
    "deletable": false,
    "editable": true,
    "execution": {
     "iopub.execute_input": "2025-10-30T19:58:26.894398Z",
     "iopub.status.busy": "2025-10-30T19:58:26.894120Z",
     "iopub.status.idle": "2025-10-30T19:58:26.896702Z",
     "shell.execute_reply": "2025-10-30T19:58:26.896309Z"
    }
   },
   "outputs": [],
   "source": [
    "# code here"
   ]
  },
  {
   "cell_type": "markdown",
   "id": "ea9427e4",
   "metadata": {
    "deletable": false,
    "editable": false
   },
   "source": [
    "<hr style=\"margin-bottom: 0px; padding:0; border: 2px solid #500082;\"/>\n"
   ]
  },
  {
   "cell_type": "markdown",
   "id": "9ec665df",
   "metadata": {
    "deletable": false,
    "editable": false
   },
   "source": [
    "## 3. Descriptive statistics\n"
   ]
  },
  {
   "cell_type": "markdown",
   "id": "54c8b8ca",
   "metadata": {
    "deletable": false,
    "editable": false
   },
   "source": [
    "Use code and text to provide at least three descriptions of the dataset (e.g., number of rows, mean of one of the columns)."
   ]
  },
  {
   "cell_type": "code",
   "execution_count": null,
   "id": "2b0df469",
   "metadata": {
    "deletable": false,
    "editable": true,
    "execution": {
     "iopub.execute_input": "2025-10-30T19:58:26.899071Z",
     "iopub.status.busy": "2025-10-30T19:58:26.898908Z",
     "iopub.status.idle": "2025-10-30T19:58:26.901187Z",
     "shell.execute_reply": "2025-10-30T19:58:26.900679Z"
    }
   },
   "outputs": [],
   "source": [
    "# code here"
   ]
  },
  {
   "cell_type": "markdown",
   "id": "cf63342d",
   "metadata": {
    "deletable": false,
    "editable": false
   },
   "source": [
    "<hr style=\"margin-bottom: 0px; padding:0; border: 2px solid #500082;\"/>\n"
   ]
  },
  {
   "cell_type": "markdown",
   "id": "98190ca4",
   "metadata": {
    "deletable": false,
    "editable": false
   },
   "source": [
    "## 4. Data wrangling\n"
   ]
  },
  {
   "cell_type": "markdown",
   "id": "1d15e03f",
   "metadata": {
    "deletable": false,
    "editable": false
   },
   "source": [
    "Use at least two Table methods (e.g., `sort`, `where`, `take`, `apply`, `pivot`, `join`, `group`) to do something meaningful with the data. Describes (in full English sentences) what those Table methods are doing."
   ]
  },
  {
   "cell_type": "code",
   "execution_count": null,
   "id": "7b57af98",
   "metadata": {
    "deletable": false,
    "editable": true,
    "execution": {
     "iopub.execute_input": "2025-10-30T19:58:26.903658Z",
     "iopub.status.busy": "2025-10-30T19:58:26.903497Z",
     "iopub.status.idle": "2025-10-30T19:58:26.905731Z",
     "shell.execute_reply": "2025-10-30T19:58:26.905261Z"
    }
   },
   "outputs": [],
   "source": [
    "# code here"
   ]
  },
  {
   "cell_type": "markdown",
   "id": "f9e1ebef",
   "metadata": {
    "deletable": false,
    "editable": false
   },
   "source": [
    "<hr style=\"margin-bottom: 0px; padding:0; border: 2px solid #500082;\"/>\n"
   ]
  },
  {
   "cell_type": "markdown",
   "id": "08bd81f1",
   "metadata": {
    "deletable": false,
    "editable": false
   },
   "source": [
    "## 5. Visualizations\n"
   ]
  },
  {
   "cell_type": "markdown",
   "id": "b674478b",
   "metadata": {
    "deletable": false,
    "editable": false
   },
   "source": [
    "Create at least two visualizations of the dataset (e.g., a scatter and line plot, or two histograms). Describs (using full English sentences) any interesting findings from the visualizations."
   ]
  },
  {
   "cell_type": "code",
   "execution_count": null,
   "id": "af3a9e73",
   "metadata": {
    "deletable": false,
    "editable": true,
    "execution": {
     "iopub.execute_input": "2025-10-30T19:58:26.908067Z",
     "iopub.status.busy": "2025-10-30T19:58:26.907910Z",
     "iopub.status.idle": "2025-10-30T19:58:26.910016Z",
     "shell.execute_reply": "2025-10-30T19:58:26.909646Z"
    }
   },
   "outputs": [],
   "source": [
    "# code here"
   ]
  },
  {
   "cell_type": "code",
   "execution_count": null,
   "id": "0634dc2b",
   "metadata": {
    "deletable": false,
    "editable": true,
    "execution": {
     "iopub.execute_input": "2025-10-30T19:58:26.912094Z",
     "iopub.status.busy": "2025-10-30T19:58:26.911945Z",
     "iopub.status.idle": "2025-10-30T19:58:26.914268Z",
     "shell.execute_reply": "2025-10-30T19:58:26.913784Z"
    }
   },
   "outputs": [],
   "source": [
    "# code here"
   ]
  },
  {
   "cell_type": "markdown",
   "id": "57ab03b5",
   "metadata": {
    "deletable": false,
    "editable": false
   },
   "source": [
    "<hr style=\"margin-bottom: 0px; padding:0; border: 2px solid #500082;\"/>\n"
   ]
  },
  {
   "cell_type": "markdown",
   "id": "1b9e7f2f",
   "metadata": {
    "deletable": false,
    "editable": false
   },
   "source": [
    "## 6. Statistical Inference\n",
    "\n",
    "Correctly complete at least two statistical inference procedures (e.g., a hypothesis test and a bootstrap confidence interval; or two association). Discuss (in full English sentences) the implications of the statistical inference procedures.\n",
    "\n",
    "Categories: \n",
    "- Hypothesis tests\n",
    "- Estimation (e.g., confidence intervals via bootstrapping) \n",
    "- Association (e.g., correlation or a linear regression line fit from a scatter plot) "
   ]
  },
  {
   "cell_type": "code",
   "execution_count": null,
   "id": "c6d1f5bb",
   "metadata": {
    "deletable": false,
    "editable": true,
    "execution": {
     "iopub.execute_input": "2025-10-30T19:58:26.916452Z",
     "iopub.status.busy": "2025-10-30T19:58:26.916290Z",
     "iopub.status.idle": "2025-10-30T19:58:26.919189Z",
     "shell.execute_reply": "2025-10-30T19:58:26.918637Z"
    }
   },
   "outputs": [],
   "source": [
    "# code here"
   ]
  },
  {
   "cell_type": "markdown",
   "id": "9b8c3a5e",
   "metadata": {
    "deletable": false,
    "editable": false
   },
   "source": [
    "<hr style=\"margin-bottom: 0px; padding:0; border: 2px solid #500082;\"/>\n"
   ]
  },
  {
   "cell_type": "markdown",
   "id": "2f0c6d90",
   "metadata": {
    "deletable": false,
    "editable": false
   },
   "source": [
    "## 8. * Additional work\n"
   ]
  },
  {
   "cell_type": "markdown",
   "id": "c406c40e",
   "metadata": {
    "deletable": false,
    "editable": false
   },
   "source": [
    "Use the cells below to add any additional work that supports exploring your data or answering quantitative questions. \n",
    "\n",
    "**Mastery and creativity.** A truly masterful data science project will go above and beyond the minimum requirements and creatively incorporate the concepts we have learned and practiced in this class. Feel free to go beyond the scope of what we have learned in this class if you have completed all other requirements."
   ]
  },
  {
   "cell_type": "code",
   "execution_count": null,
   "id": "994bd431",
   "metadata": {
    "deletable": false,
    "editable": true,
    "execution": {
     "iopub.execute_input": "2025-10-30T19:58:26.922106Z",
     "iopub.status.busy": "2025-10-30T19:58:26.921897Z",
     "iopub.status.idle": "2025-10-30T19:58:26.924252Z",
     "shell.execute_reply": "2025-10-30T19:58:26.923794Z"
    }
   },
   "outputs": [],
   "source": [
    "# code here"
   ]
  },
  {
   "cell_type": "markdown",
   "id": "c973d055",
   "metadata": {
    "deletable": false,
    "editable": false
   },
   "source": [
    "<hr style=\"margin-bottom: 0px; padding:0; border: 2px solid #500082;\"/>\n"
   ]
  },
  {
   "cell_type": "markdown",
   "id": "454df92d",
   "metadata": {
    "deletable": false,
    "editable": false
   },
   "source": [
    "## 7. Ethics\n"
   ]
  },
  {
   "cell_type": "markdown",
   "id": "45d158be",
   "metadata": {
    "deletable": false,
    "editable": false
   },
   "source": [
    "Discuss (in full English sentences) at least one possible ethical consideration of using the dataset or doing analysis of the dataset (e.g., the potential harms of using the data from a Consequentialist or Deontologist perspective)."
   ]
  },
  {
   "cell_type": "markdown",
   "id": "029636f6",
   "metadata": {
    "deletable": false,
    "editable": true
   },
   "source": [
    "*Write me.*"
   ]
  },
  {
   "cell_type": "markdown",
   "id": "7eb4c8e3",
   "metadata": {
    "deletable": false,
    "editable": false
   },
   "source": [
    "<hr style=\"margin-bottom: 0px; padding:0; border: 2px solid #500082;\"/>\n"
   ]
  },
  {
   "cell_type": "markdown",
   "id": "d4672518",
   "metadata": {
    "deletable": false,
    "editable": false
   },
   "source": [
    "## 8. Conclusions\n"
   ]
  },
  {
   "cell_type": "markdown",
   "id": "e8c456d4",
   "metadata": {
    "deletable": false,
    "editable": false
   },
   "source": [
    "Describe (in full English sentences) what has been learned and address the original quantitative questions."
   ]
  },
  {
   "cell_type": "markdown",
   "id": "de506dce",
   "metadata": {
    "deletable": false,
    "editable": true
   },
   "source": [
    "*Write me.*"
   ]
  },
  {
   "cell_type": "markdown",
   "id": "3473bfb4",
   "metadata": {
    "deletable": false,
    "editable": false
   },
   "source": [
    "# You're Done!"
   ]
  },
  {
   "cell_type": "markdown",
   "id": "1c7f7beb",
   "metadata": {
    "deletable": false,
    "editable": false
   },
   "source": [
    "**Important submission information:** Follow these steps to submit your work:\n",
    "* Choose **Save Notebook** from the **File** menu.\n",
    "* **Run the final cell** and click the link below to download the zip file. \n",
    "\n",
    "Once you have downloaded that file, go to [Gradescope](https://www.gradescope.com/) and submit the zip file to the corresponding assignment. The name of this assignment is \"Final Project\". **Be sure your work is saved before running the last cell!**"
   ]
  },
  {
   "cell_type": "code",
   "execution_count": null,
   "id": "f4770c64",
   "metadata": {
    "deletable": false,
    "editable": false,
    "execution": {
     "iopub.execute_input": "2025-10-30T19:58:26.927540Z",
     "iopub.status.busy": "2025-10-30T19:58:26.927354Z",
     "iopub.status.idle": "2025-10-30T19:58:27.175313Z",
     "shell.execute_reply": "2025-10-30T19:58:27.174860Z"
    }
   },
   "outputs": [],
   "source": [
    "# Save your notebook first, then run this cell to export your submission.\n",
    "import glob \n",
    "grader.export(pdf=False,files=glob.glob(\"*.csv\") + glob.glob(\"*.ipynb\") + glob.glob(\"*.py\"))"
   ]
  }
 ],
 "metadata": {
  "kernelspec": {
   "display_name": "Python 3 (ipykernel)",
   "language": "python",
   "name": "python3"
  },
  "language_info": {
   "codemirror_mode": {
    "name": "ipython",
    "version": 3
   },
   "file_extension": ".py",
   "mimetype": "text/x-python",
   "name": "python",
   "nbconvert_exporter": "python",
   "pygments_lexer": "ipython3",
   "version": "3.11.13"
  },
  "otter": {
   "OK_FORMAT": true,
   "tests": {}
  },
  "vscode": {
   "interpreter": {
    "hash": "e9a7af6fc709cc25e111b0d6e28f738a78907138b7e48b682edcf6dfb7dc8bee"
   }
  }
 },
 "nbformat": 4,
 "nbformat_minor": 5
}
