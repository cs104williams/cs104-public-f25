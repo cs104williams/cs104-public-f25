{
 "cells": [
  {
   "cell_type": "code",
   "execution_count": null,
   "id": "06b59965",
   "metadata": {
    "deletable": false,
    "editable": false
   },
   "outputs": [],
   "source": [
    "# Initialize Otter\n",
    "import otter\n",
    "grader = otter.Notebook(\"lab03.ipynb\")"
   ]
  },
  {
   "cell_type": "markdown",
   "id": "1dd6aa55",
   "metadata": {
    "deletable": false,
    "editable": false
   },
   "source": [
    "<table style=\"width: 100%;\">\n",
    "<tr style=\"background-color: transparent;\">\n",
    "<td width=\"100px\"><img src=\"https://cs104williams.github.io/assets/cs104-logo.png\" width=\"90px\" style=\"text-align: center\"/></td>\n",
    "<td>\n",
    "  <p style=\"margin-bottom: 0px; text-align: left; font-size: 18pt;\"><strong>CSCI 104: Data Science and Computing for All</strong><br>\n",
    "                Williams College<br>\n",
    "                Fall 2025</p>\n",
    "</td>\n",
    "</tr>\n"
   ]
  },
  {
   "cell_type": "markdown",
   "id": "312f5c10",
   "metadata": {
    "deletable": false,
    "editable": false,
    "tags": []
   },
   "source": [
    "# Lab 3: Table Manipulation and Visualization"
   ]
  },
  {
   "cell_type": "markdown",
   "id": "3a0ed978",
   "metadata": {
    "deletable": false,
    "editable": false,
    "tags": []
   },
   "source": [
    "<hr style=\"margin: 0px; border: 3px solid #500082;\"/>\n",
    "\n",
    "<h2>Instructions</h2>\n",
    "\n",
    "- Before you begin, execute the cell at the TOP of the notebook to load the provided tests, as well as the following cell to setup the notebook by importing some helpful libraries. Each time you start your server, you will need to execute these cells again.  \n",
    "- Be sure to consult your [Python Reference](https://cs104williams.github.io/assets/python-library-ref.html)!\n",
    "- Complete this notebook by filling in the cells provided. For problems asking you to write explanations, you **must** provide your answer in the designated space. \n",
    "- Please be sure to not re-assign variables throughout the notebook.  For example, if you use `max_temperature` in your answer to one question, do not reassign it later on. Otherwise, you will fail tests that you thought you were passing previously.\n",
    "- This lab has hidden tests on it. That means even though tests may say 100% passed, doesn't mean your final grade will be 100%. We will be running more tests for correctness once everyone turns in the lab.\n",
    "- To use one or more late days on this lab, please fill out our [late day form](https://forms.gle/4sD16h3hN1xRqQM27) **before** the due date.\n",
    "\n",
    "<hr/>\n",
    "<h2>Setup</h2>\n"
   ]
  },
  {
   "cell_type": "code",
   "execution_count": null,
   "id": "c950e800",
   "metadata": {
    "deletable": false,
    "editable": false,
    "execution": {
     "iopub.execute_input": "2025-09-18T10:42:53.395397Z",
     "iopub.status.busy": "2025-09-18T10:42:53.395038Z",
     "iopub.status.idle": "2025-09-18T10:42:55.253360Z",
     "shell.execute_reply": "2025-09-18T10:42:55.252580Z"
    },
    "tags": []
   },
   "outputs": [],
   "source": [
    "# Run this cell to set up the notebook.\n",
    "# These lines import the numpy, datascience, and cs104 libraries.\n",
    "\n",
    "import numpy as np\n",
    "from datascience import *\n",
    "from cs104 import *\n",
    "%matplotlib inline"
   ]
  },
  {
   "cell_type": "markdown",
   "id": "32ec7ff0",
   "metadata": {
    "deletable": false,
    "editable": false
   },
   "source": [
    "<hr style=\"margin-bottom: 0px; padding:0; border: 2px solid #500082;\"/>\n"
   ]
  },
  {
   "cell_type": "markdown",
   "id": "31144054",
   "metadata": {
    "deletable": false,
    "editable": false,
    "tags": []
   },
   "source": [
    "## 1. Unemployment Data (35 pts)\n",
    "\n"
   ]
  },
  {
   "cell_type": "markdown",
   "id": "8f1a02c2",
   "metadata": {
    "deletable": false,
    "editable": false
   },
   "source": [
    "<font color='#B1008E'>\n",
    "    \n",
    "##### Learning objectives\n",
    "- Sort data in tables\n",
    "- Select and manipulate rows and columns in tables in order to answer quantitative questions \n",
    "- Create and analyze line plots\n",
    "</font>"
   ]
  },
  {
   "cell_type": "markdown",
   "id": "bebefcdd",
   "metadata": {
    "deletable": false,
    "editable": false
   },
   "source": [
    "The Federal Reserve Bank of St. Louis publishes data about jobs in the US.  Below, we've loaded data on unemployment in the United States. There are many ways of defining unemployment, and our dataset includes two notions of the unemployment rate:\n",
    "\n",
    "1. **NEI:** Among people who are able to work and are looking for a full-time job, the percentage who can't find a job.  This is called the Non-Employment Index, or NEI.\n",
    "2. **NEI-PTER:** Among people who are able to work and are looking for a full-time job, the percentage who can't find a job *or* are only working at a part-time job.  The latter group is called \"Part-Time for Economic Reasons\", or PTER.  The acronym for this index of unemployment is NEI-PTER. \n",
    "\n",
    "The source of the data is [here](https://fred.stlouisfed.org/categories/33509)."
   ]
  },
  {
   "cell_type": "markdown",
   "id": "708eb18c",
   "metadata": {
    "deletable": false,
    "editable": false
   },
   "source": [
    "#### Part 1.1 (5 pts)\n"
   ]
  },
  {
   "cell_type": "markdown",
   "id": "40fa1cbf",
   "metadata": {
    "deletable": false,
    "editable": false
   },
   "source": [
    " The data are in a CSV file called `unemployment.csv`.  Load that file into a table called `unemployment`. \n",
    "\n"
   ]
  },
  {
   "cell_type": "code",
   "execution_count": null,
   "id": "e4d15319",
   "metadata": {
    "deletable": false,
    "execution": {
     "iopub.execute_input": "2025-09-18T10:42:55.257124Z",
     "iopub.status.busy": "2025-09-18T10:42:55.256815Z",
     "iopub.status.idle": "2025-09-18T10:42:55.264308Z",
     "shell.execute_reply": "2025-09-18T10:42:55.263835Z"
    },
    "tags": []
   },
   "outputs": [],
   "source": [
    "unemployment = ...\n",
    "unemployment"
   ]
  },
  {
   "cell_type": "code",
   "execution_count": null,
   "id": "3dbc8be3",
   "metadata": {
    "deletable": false,
    "editable": false
   },
   "outputs": [],
   "source": [
    "grader.check(\"p1.1\")"
   ]
  },
  {
   "cell_type": "markdown",
   "id": "2b99bef1",
   "metadata": {
    "deletable": false,
    "editable": false
   },
   "source": [
    "#### Part 1.2 (5 pts)\n"
   ]
  },
  {
   "cell_type": "markdown",
   "id": "2e027066",
   "metadata": {
    "deletable": false,
    "editable": false
   },
   "source": [
    " Sort the data in descending order by NEI, naming the sorted table `by_nei`.  Create another table called `by_nei_pter` that's sorted in descending order by NEI-PTER instead. \n",
    "\n"
   ]
  },
  {
   "cell_type": "code",
   "execution_count": null,
   "id": "4b0e46d5",
   "metadata": {
    "deletable": false,
    "execution": {
     "iopub.execute_input": "2025-09-18T10:42:55.278130Z",
     "iopub.status.busy": "2025-09-18T10:42:55.277921Z",
     "iopub.status.idle": "2025-09-18T10:42:55.281051Z",
     "shell.execute_reply": "2025-09-18T10:42:55.280528Z"
    },
    "tags": []
   },
   "outputs": [],
   "source": [
    "by_nei = ...\n",
    "by_nei_pter = ..."
   ]
  },
  {
   "cell_type": "code",
   "execution_count": null,
   "id": "457b3bbf",
   "metadata": {
    "deletable": false,
    "editable": false
   },
   "outputs": [],
   "source": [
    "grader.check(\"p1.2\")"
   ]
  },
  {
   "cell_type": "code",
   "execution_count": null,
   "id": "e58a640a",
   "metadata": {
    "deletable": false,
    "editable": false,
    "execution": {
     "iopub.execute_input": "2025-09-18T10:42:55.294356Z",
     "iopub.status.busy": "2025-09-18T10:42:55.294163Z",
     "iopub.status.idle": "2025-09-18T10:42:55.297630Z",
     "shell.execute_reply": "2025-09-18T10:42:55.297204Z"
    }
   },
   "outputs": [],
   "source": [
    "# Run this cell to check your by_nei table. You do not need to change the code.\n",
    "by_nei.show(5)"
   ]
  },
  {
   "cell_type": "code",
   "execution_count": null,
   "id": "fbc0ca3c",
   "metadata": {
    "deletable": false,
    "editable": false,
    "execution": {
     "iopub.execute_input": "2025-09-18T10:42:55.299797Z",
     "iopub.status.busy": "2025-09-18T10:42:55.299620Z",
     "iopub.status.idle": "2025-09-18T10:42:55.302929Z",
     "shell.execute_reply": "2025-09-18T10:42:55.302527Z"
    }
   },
   "outputs": [],
   "source": [
    "# Run this cell to check your by_nei_pter table. You do not need to change the code.\n",
    "by_nei_pter.show(5)"
   ]
  },
  {
   "cell_type": "markdown",
   "id": "0abb5ba2",
   "metadata": {
    "deletable": false,
    "editable": false
   },
   "source": [
    "#### Part 1.3 (5 pts)\n"
   ]
  },
  {
   "cell_type": "markdown",
   "id": "ceddb689",
   "metadata": {
    "deletable": false,
    "editable": false
   },
   "source": [
    " Use `take` to make a table containing the data for the 10 quarters when NEI was greatest.  Call that table `greatest_nei`.\n",
    "\n",
    "`greatest_nei` should be sorted in descending order of `NEI`. Note that each row of `unemployment` represents a quarter. "
   ]
  },
  {
   "cell_type": "code",
   "execution_count": null,
   "id": "438cf81d",
   "metadata": {
    "deletable": false,
    "execution": {
     "iopub.execute_input": "2025-09-18T10:42:55.305392Z",
     "iopub.status.busy": "2025-09-18T10:42:55.305219Z",
     "iopub.status.idle": "2025-09-18T10:42:55.309348Z",
     "shell.execute_reply": "2025-09-18T10:42:55.308853Z"
    },
    "tags": []
   },
   "outputs": [],
   "source": [
    "greatest_nei = ...\n",
    "greatest_nei"
   ]
  },
  {
   "cell_type": "code",
   "execution_count": null,
   "id": "8320d17a",
   "metadata": {
    "deletable": false,
    "editable": false
   },
   "outputs": [],
   "source": [
    "grader.check(\"p1.3\")"
   ]
  },
  {
   "cell_type": "markdown",
   "id": "3d342770",
   "metadata": {
    "deletable": false,
    "editable": false
   },
   "source": [
    "#### Part 1.4 (5 pts)\n"
   ]
  },
  {
   "cell_type": "markdown",
   "id": "6f56bc29",
   "metadata": {
    "deletable": false,
    "editable": false
   },
   "source": [
    "Economists care about PTER (recall: \"Part-Time for Economic Reasons\") for many reasons. For example, it's believed that many people became PTER  in the \"Great Recession\" of 2008-2009.   \n",
    " \n",
    "Compute an array containing the percentage of people who were PTER in each quarter.  (The first element of the array should correspond to the first row of `unemployment`, and so on.) \n",
    "\n",
    "*Notes:* \n",
    "- Use the original `unemployment` table for this.\n",
    "- Recall, NEI is the percentage of people who are unemployed; and NEI-PTER is the percentage of people who are unemployed (included in the NEI) plus the percentage of people who are PTER. \n",
    "\n",
    "As a sanity check, the quaterly PTER you compute should be less than 2% for all of the quarters in this data."
   ]
  },
  {
   "cell_type": "code",
   "execution_count": null,
   "id": "51ad8a92",
   "metadata": {
    "deletable": false,
    "execution": {
     "iopub.execute_input": "2025-09-18T10:42:55.322585Z",
     "iopub.status.busy": "2025-09-18T10:42:55.322386Z",
     "iopub.status.idle": "2025-09-18T10:42:55.326924Z",
     "shell.execute_reply": "2025-09-18T10:42:55.326448Z"
    },
    "tags": []
   },
   "outputs": [],
   "source": [
    "pter = ...\n",
    "pter"
   ]
  },
  {
   "cell_type": "code",
   "execution_count": null,
   "id": "f9ac7b61",
   "metadata": {
    "deletable": false,
    "editable": false
   },
   "outputs": [],
   "source": [
    "grader.check(\"p1.4\")"
   ]
  },
  {
   "cell_type": "markdown",
   "id": "8d13dc06",
   "metadata": {
    "deletable": false,
    "editable": false
   },
   "source": [
    "#### Part 1.5 (5 pts)\n"
   ]
  },
  {
   "cell_type": "markdown",
   "id": "5a79a92d",
   "metadata": {
    "deletable": false,
    "editable": false
   },
   "source": [
    "Extend the `unemployment` table with a new column named `PTER` that contains the values in the `pter` array.  Sort the resulting table by that column in descending order.  Call the resulting table `by_pter`."
   ]
  },
  {
   "cell_type": "code",
   "execution_count": null,
   "id": "c0ff021c",
   "metadata": {
    "deletable": false,
    "execution": {
     "iopub.execute_input": "2025-09-18T10:42:55.339594Z",
     "iopub.status.busy": "2025-09-18T10:42:55.339435Z",
     "iopub.status.idle": "2025-09-18T10:42:55.343479Z",
     "shell.execute_reply": "2025-09-18T10:42:55.343100Z"
    },
    "tags": []
   },
   "outputs": [],
   "source": [
    "by_pter = ...\n",
    "by_pter"
   ]
  },
  {
   "cell_type": "code",
   "execution_count": null,
   "id": "b891e152",
   "metadata": {
    "deletable": false,
    "editable": false
   },
   "outputs": [],
   "source": [
    "grader.check(\"p1.5\")"
   ]
  },
  {
   "cell_type": "markdown",
   "id": "01647129",
   "metadata": {
    "deletable": false,
    "editable": false
   },
   "source": [
    "<!-- BEGIN QUESTION -->\n",
    "\n",
    "#### Part 1.6 (5 pts)\n"
   ]
  },
  {
   "cell_type": "markdown",
   "id": "655bb907",
   "metadata": {
    "deletable": false,
    "editable": false
   },
   "source": [
    "Create a line plot of PTER over time. \n",
    "\n",
    "To do this, create a new table called `pter_over_time` that adds the `year` array and the `pter` array to the `unemployment` table. Label these columns `Year` and `PTER`. Then, generate a line plot using one of the table methods you've learned in class.\n",
    "\n",
    "The order of the columns matter for our correctness tests, so be sure `Year` comes before `PTER`. \n",
    "\n",
    "*Clarification: When constructing `pter_over_time`, do not just add the `year` column to the `by_pter` table. Please follow the directions in the question above.*"
   ]
  },
  {
   "cell_type": "code",
   "execution_count": null,
   "id": "b7c91705",
   "metadata": {
    "deletable": false,
    "execution": {
     "iopub.execute_input": "2025-09-18T10:42:55.355296Z",
     "iopub.status.busy": "2025-09-18T10:42:55.355143Z",
     "iopub.status.idle": "2025-09-18T10:42:55.577030Z",
     "shell.execute_reply": "2025-09-18T10:42:55.576557Z"
    },
    "tags": []
   },
   "outputs": [],
   "source": [
    "year = 1994 + np.arange(by_pter.num_rows)/4 #this accounts for the quarters \n",
    "pter_over_time = ...\n",
    "plot = ...\n",
    "\n",
    "# This line will sets the bounds on the y-axis\n",
    "plot.set_ylim(0,2) "
   ]
  },
  {
   "cell_type": "code",
   "execution_count": null,
   "id": "b57d6870",
   "metadata": {
    "deletable": false,
    "editable": false
   },
   "outputs": [],
   "source": [
    "grader.check(\"p1.6\")"
   ]
  },
  {
   "cell_type": "markdown",
   "id": "96898397",
   "metadata": {
    "deletable": false,
    "editable": false
   },
   "source": [
    "<!-- END QUESTION -->\n",
    "\n",
    "#### Part 1.7 (5 pts)\n"
   ]
  },
  {
   "cell_type": "markdown",
   "id": "dfd66f41",
   "metadata": {
    "deletable": false,
    "editable": false
   },
   "source": [
    " Were PTER rates high during the Great Recession (that is to say, were PTER rates particularly high in the years 2008 through 2011)? Examine the line plot you just created. Then assign `highPTER` to `True` if you think PTER rates were high in this period, or `False` if you think they weren't. "
   ]
  },
  {
   "cell_type": "code",
   "execution_count": null,
   "id": "a0786082",
   "metadata": {
    "deletable": false,
    "execution": {
     "iopub.execute_input": "2025-09-18T10:42:55.604832Z",
     "iopub.status.busy": "2025-09-18T10:42:55.604529Z",
     "iopub.status.idle": "2025-09-18T10:42:55.607015Z",
     "shell.execute_reply": "2025-09-18T10:42:55.606549Z"
    },
    "tags": []
   },
   "outputs": [],
   "source": [
    "highPTER = ..."
   ]
  },
  {
   "cell_type": "code",
   "execution_count": null,
   "id": "184e2da4",
   "metadata": {
    "deletable": false,
    "editable": false
   },
   "outputs": [],
   "source": [
    "grader.check(\"p1.7\")"
   ]
  },
  {
   "cell_type": "markdown",
   "id": "61dc8dee",
   "metadata": {
    "deletable": false,
    "editable": false
   },
   "source": [
    "<hr style=\"margin-bottom: 0px; padding:0; border: 2px solid #500082;\"/>\n"
   ]
  },
  {
   "cell_type": "markdown",
   "id": "81afc60c",
   "metadata": {
    "deletable": false,
    "editable": false
   },
   "source": [
    "## 2. Birth Rates (30 pts)\n",
    "\n"
   ]
  },
  {
   "cell_type": "markdown",
   "id": "5ea2532e",
   "metadata": {
    "deletable": false,
    "editable": false
   },
   "source": [
    "<font color='#B1008E'>\n",
    "    \n",
    "##### Learning objectives\n",
    "- Use built-in Table functions, Python functions, and numpy functions to answer quantitative questions about a dataset\n",
    "- Create visualizations to analyze trends in data\n",
    "</font>"
   ]
  },
  {
   "cell_type": "markdown",
   "id": "39d4111e",
   "metadata": {
    "deletable": false,
    "editable": false
   },
   "source": [
    "The following table gives census-based population estimates for each state on both July 1, 2015 and July 1, 2016. The last four columns describe the components of the estimated change in population during this time interval. **For all questions below, assume that the word \"states\" refers to all 52 rows including Puerto Rico & the District of Columbia.**\n",
    "- The data was taken from [here](http://www2.census.gov/programs-surveys/popest/datasets/2010-2016/national/totals/nst-est2016-alldata.csv) and cleaned up. \n",
    "- If you want to read more about the different column descriptions, click [here](http://www2.census.gov/programs-surveys/popest/datasets/2010-2015/national/totals/nst-est2015-alldata.pdf)."
   ]
  },
  {
   "cell_type": "code",
   "execution_count": null,
   "id": "d846a2d0",
   "metadata": {
    "deletable": false,
    "editable": false,
    "execution": {
     "iopub.execute_input": "2025-09-18T10:42:55.618719Z",
     "iopub.status.busy": "2025-09-18T10:42:55.618551Z",
     "iopub.status.idle": "2025-09-18T10:42:55.624223Z",
     "shell.execute_reply": "2025-09-18T10:42:55.623840Z"
    },
    "tags": []
   },
   "outputs": [],
   "source": [
    "pop = Table().read_table(\"nst-est2016-clean.csv\")\n",
    "pop.show(5)"
   ]
  },
  {
   "cell_type": "markdown",
   "id": "77a6b316",
   "metadata": {
    "deletable": false,
    "editable": false
   },
   "source": [
    "#### Part 2.1 (5 pts)\n"
   ]
  },
  {
   "cell_type": "markdown",
   "id": "da416752",
   "metadata": {
    "deletable": false,
    "editable": false
   },
   "source": [
    "Assign the variable `us_birth_rate` to the total US annual birth rate (across all states) during this time interval. The annual birth rate for a year-long period is the total number of births in that period as a proportion of the population size at the start of the time period. \n",
    "\n",
    "*Hint:* Which year corresponds to the start of the time period?\n",
    "\n"
   ]
  },
  {
   "cell_type": "code",
   "execution_count": null,
   "id": "668f8d52",
   "metadata": {
    "deletable": false,
    "execution": {
     "iopub.execute_input": "2025-09-18T10:42:55.626662Z",
     "iopub.status.busy": "2025-09-18T10:42:55.626509Z",
     "iopub.status.idle": "2025-09-18T10:42:55.629598Z",
     "shell.execute_reply": "2025-09-18T10:42:55.629223Z"
    },
    "tags": []
   },
   "outputs": [],
   "source": [
    "us_birth_rate = ...\n",
    "us_birth_rate"
   ]
  },
  {
   "cell_type": "code",
   "execution_count": null,
   "id": "2086a5cc",
   "metadata": {
    "deletable": false,
    "editable": false
   },
   "outputs": [],
   "source": [
    "grader.check(\"p2.1\")"
   ]
  },
  {
   "cell_type": "markdown",
   "id": "ed90da86",
   "metadata": {
    "deletable": false,
    "editable": false
   },
   "source": [
    "#### Part 2.2 (5 pts)\n"
   ]
  },
  {
   "cell_type": "markdown",
   "id": "f50be44b",
   "metadata": {
    "deletable": false,
    "editable": false
   },
   "source": [
    "Create a table `movers` which contains *at minimum* the same information as `pop` but only includes states for which the **absolute value** of the **annual rate of migration** was higher than 1%. \n",
    " \n",
    "- The `MIGRATION` column contains estimated annual net migration counts by state. \n",
    "- The annual rate of migration for a year-long period is the net number of migrations (in and out) as a proportion of the population size at the start of the period. You may wish to create a temporary table `migration_rates` that contains the migration rates for each state."
   ]
  },
  {
   "cell_type": "code",
   "execution_count": null,
   "id": "0eb87832",
   "metadata": {
    "deletable": false,
    "execution": {
     "iopub.execute_input": "2025-09-18T10:42:55.641070Z",
     "iopub.status.busy": "2025-09-18T10:42:55.640909Z",
     "iopub.status.idle": "2025-09-18T10:42:55.646330Z",
     "shell.execute_reply": "2025-09-18T10:42:55.645879Z"
    },
    "tags": []
   },
   "outputs": [],
   "source": [
    "# First, create a new table with the data in pop, plus migration rates.\n",
    "migration_rates = ...\n",
    "movers = ...\n",
    "movers"
   ]
  },
  {
   "cell_type": "code",
   "execution_count": null,
   "id": "0ac7abe4",
   "metadata": {
    "deletable": false,
    "editable": false
   },
   "outputs": [],
   "source": [
    "grader.check(\"p2.2\")"
   ]
  },
  {
   "cell_type": "markdown",
   "id": "1fa5a083",
   "metadata": {
    "deletable": false,
    "editable": false
   },
   "source": [
    "#### Part 2.3 (5 pts)\n"
   ]
  },
  {
   "cell_type": "markdown",
   "id": "a405a92d",
   "metadata": {
    "deletable": false,
    "editable": false
   },
   "source": [
    "Assign `west_births` to the total number of births that occurred in region 4 (the Western US). "
   ]
  },
  {
   "cell_type": "code",
   "execution_count": null,
   "id": "bad576d3",
   "metadata": {
    "deletable": false,
    "execution": {
     "iopub.execute_input": "2025-09-18T10:42:55.657863Z",
     "iopub.status.busy": "2025-09-18T10:42:55.657700Z",
     "iopub.status.idle": "2025-09-18T10:42:55.661269Z",
     "shell.execute_reply": "2025-09-18T10:42:55.660858Z"
    },
    "tags": []
   },
   "outputs": [],
   "source": [
    "west_births = ...\n",
    "west_births"
   ]
  },
  {
   "cell_type": "code",
   "execution_count": null,
   "id": "e8638efe",
   "metadata": {
    "deletable": false,
    "editable": false
   },
   "outputs": [],
   "source": [
    "grader.check(\"p2.3\")"
   ]
  },
  {
   "cell_type": "markdown",
   "id": "62093640",
   "metadata": {
    "deletable": false,
    "editable": false
   },
   "source": [
    "#### Part 2.4 (5 pts)\n"
   ]
  },
  {
   "cell_type": "markdown",
   "id": "276bd6a1",
   "metadata": {
    "deletable": false,
    "editable": false
   },
   "source": [
    " \n",
    "\n",
    "In the next question, you will be creating a visualization to understand the relationship between birth and death rates. The annual death rate for a year-long period is the total number of deaths in that period as a proportion of the population size at the start of the time period.\n",
    "\n",
    "*Note:* We will comparing *each* of the 52 states' birth rate and death rate (*not* the overall birth and death rate for the entire population). \n",
    "\n",
    "What visualization is most appropriate to see if there is an association between birth and death rates during a given time interval? \n",
    "\n",
    "1. Line Graph\n",
    "<br>\n",
    "2. Bar Chart\n",
    "<br>\n",
    "3. Scatter Plot\n",
    "\n",
    "Assign `visualization` below to the number corresponding to the correct visualization. \n",
    "\n"
   ]
  },
  {
   "cell_type": "code",
   "execution_count": null,
   "id": "c84fd0de",
   "metadata": {
    "deletable": false,
    "execution": {
     "iopub.execute_input": "2025-09-18T10:42:55.672780Z",
     "iopub.status.busy": "2025-09-18T10:42:55.672606Z",
     "iopub.status.idle": "2025-09-18T10:42:55.674998Z",
     "shell.execute_reply": "2025-09-18T10:42:55.674512Z"
    },
    "tags": []
   },
   "outputs": [],
   "source": [
    "visualization = ..."
   ]
  },
  {
   "cell_type": "code",
   "execution_count": null,
   "id": "cc6438a2",
   "metadata": {
    "deletable": false,
    "editable": false
   },
   "outputs": [],
   "source": [
    "grader.check(\"p2.4\")"
   ]
  },
  {
   "cell_type": "markdown",
   "id": "0ab4ea1f",
   "metadata": {
    "deletable": false,
    "editable": false
   },
   "source": [
    "<!-- BEGIN QUESTION -->\n",
    "\n",
    "#### Part 2.5 (5 pts)\n"
   ]
  },
  {
   "cell_type": "markdown",
   "id": "ee702544",
   "metadata": {
    "deletable": false,
    "editable": false
   },
   "source": [
    " In the code cell below, create a visualization based on your answer above in order to determine if there is an association between birth rate and death rate during this time interval. It may be helpful to create an intermediate table here. "
   ]
  },
  {
   "cell_type": "code",
   "execution_count": null,
   "id": "d10e67c8",
   "metadata": {
    "deletable": false,
    "execution": {
     "iopub.execute_input": "2025-09-18T10:42:55.686718Z",
     "iopub.status.busy": "2025-09-18T10:42:55.686558Z",
     "iopub.status.idle": "2025-09-18T10:42:55.889369Z",
     "shell.execute_reply": "2025-09-18T10:42:55.888872Z"
    },
    "tags": []
   },
   "outputs": [],
   "source": [
    "# In this cell, use birth_rates and death_rates to generate your chart\n",
    "birth_rates = ...\n",
    "death_rates = ...\n",
    "..."
   ]
  },
  {
   "cell_type": "markdown",
   "id": "a5868305",
   "metadata": {
    "deletable": false,
    "editable": false
   },
   "source": [
    "<!-- END QUESTION -->\n",
    "\n",
    "#### Part 2.6 (5 pts)\n"
   ]
  },
  {
   "cell_type": "markdown",
   "id": "7acf30e9",
   "metadata": {
    "deletable": false,
    "editable": false
   },
   "source": [
    "True or False: There is an association between birth rate and death rate during this time interval. \n",
    "\n",
    "Assign `assoc` to `True` or `False` in the cell below.  Base your conclusion on your inspection of the visualization you created for the last part."
   ]
  },
  {
   "cell_type": "code",
   "execution_count": null,
   "id": "5b2d5754",
   "metadata": {
    "deletable": false,
    "execution": {
     "iopub.execute_input": "2025-09-18T10:42:55.892271Z",
     "iopub.status.busy": "2025-09-18T10:42:55.892092Z",
     "iopub.status.idle": "2025-09-18T10:42:55.894491Z",
     "shell.execute_reply": "2025-09-18T10:42:55.894023Z"
    },
    "tags": []
   },
   "outputs": [],
   "source": [
    "assoc = ..."
   ]
  },
  {
   "cell_type": "code",
   "execution_count": null,
   "id": "3d60b90d",
   "metadata": {
    "deletable": false,
    "editable": false
   },
   "outputs": [],
   "source": [
    "grader.check(\"p2.6\")"
   ]
  },
  {
   "cell_type": "markdown",
   "id": "ea6eee3c",
   "metadata": {
    "deletable": false,
    "editable": false
   },
   "source": [
    "<hr style=\"margin-bottom: 0px; padding:0; border: 2px solid #500082;\"/>\n"
   ]
  },
  {
   "cell_type": "markdown",
   "id": "83d92a41",
   "metadata": {
    "deletable": false,
    "editable": false,
    "tags": []
   },
   "source": [
    "## 3. Uber data (30 pts)\n",
    "\n"
   ]
  },
  {
   "cell_type": "markdown",
   "id": "4f3d1285",
   "metadata": {
    "deletable": false,
    "editable": false
   },
   "source": [
    "<font color='#B1008E'>\n",
    "    \n",
    "##### Learning objectives\n",
    "- Use built-in Table functions, Python functions, and numpy functions to answer quantitative questions about a dataset\n",
    "- Create histograms from data and understand the histograms' quantitative significance\n",
    "</font>"
   ]
  },
  {
   "cell_type": "markdown",
   "id": "bda58336",
   "metadata": {
    "deletable": false,
    "editable": false
   },
   "source": [
    "Below we load tables containing 200,000 weekday Uber rides in the Manila, Philippines, and Boston, Massachusetts metropolitan areas from the [Uber Movement](https://movement.uber.com) project. \n",
    "- The `sourceid` and `dstid` columns contain codes corresponding to start (\"source id\") and end (\"destination id\") locations respectively of each ride. \n",
    "- The `hod` column contains codes corresponding to the \"hour of the day\" the ride took place. \n",
    "- The `ride time` column contains the length of the ride, **in minutes**."
   ]
  },
  {
   "cell_type": "code",
   "execution_count": null,
   "id": "5c4dda23",
   "metadata": {
    "deletable": false,
    "editable": false,
    "execution": {
     "iopub.execute_input": "2025-09-18T10:42:55.905870Z",
     "iopub.status.busy": "2025-09-18T10:42:55.905722Z",
     "iopub.status.idle": "2025-09-18T10:42:56.844779Z",
     "shell.execute_reply": "2025-09-18T10:42:56.844265Z"
    }
   },
   "outputs": [],
   "source": [
    "boston = Table.read_table(\"boston.csv\")\n",
    "manila = Table.read_table(\"manila.csv\")\n",
    "print(\"Boston Table\")\n",
    "boston.show(4)\n",
    "print(\"Manila Table\")\n",
    "manila.show(4)"
   ]
  },
  {
   "cell_type": "markdown",
   "id": "c70fe238",
   "metadata": {
    "deletable": false,
    "editable": false
   },
   "source": [
    "<!-- BEGIN QUESTION -->\n",
    "\n",
    "#### Part 3.1 (5 pts)\n"
   ]
  },
  {
   "cell_type": "markdown",
   "id": "7f095fe9",
   "metadata": {
    "deletable": false,
    "editable": false
   },
   "source": [
    "Produce a histogram that visualizes the distributions of all ride times in Boston using the given bins.  Set the plots title to \"Boston Uber Rides\" by storing your plot in the `boston_plot` variable and then using the [`set_title` method](https://cs104williams.github.io/assets/python-library-ref.html#set-labels) for `boston_plot`."
   ]
  },
  {
   "cell_type": "code",
   "execution_count": null,
   "id": "5eb10609",
   "metadata": {
    "deletable": false,
    "execution": {
     "iopub.execute_input": "2025-09-18T10:42:56.847669Z",
     "iopub.status.busy": "2025-09-18T10:42:56.847458Z",
     "iopub.status.idle": "2025-09-18T10:42:57.197403Z",
     "shell.execute_reply": "2025-09-18T10:42:57.196819Z"
    },
    "tags": []
   },
   "outputs": [],
   "source": [
    "equal_bins = np.arange(0, 120, 5)\n",
    "boston_plot = ...\n",
    "..."
   ]
  },
  {
   "cell_type": "code",
   "execution_count": null,
   "id": "fa1f1832",
   "metadata": {
    "deletable": false,
    "editable": false
   },
   "outputs": [],
   "source": [
    "grader.check(\"p3.1\")"
   ]
  },
  {
   "cell_type": "markdown",
   "id": "c180ad8f",
   "metadata": {
    "deletable": false,
    "editable": false,
    "tags": []
   },
   "source": [
    "<!-- END QUESTION -->\n",
    "\n",
    "#### Part 3.2 (5 pts)\n"
   ]
  },
  {
   "cell_type": "markdown",
   "id": "fd3df42e",
   "metadata": {
    "deletable": false,
    "editable": false
   },
   "source": [
    "According to your histogram, what percent of rides in Boston are between 20 and 25 minutes?  *Note:* Recall that the x-axis units are minutes"
   ]
  },
  {
   "cell_type": "code",
   "execution_count": null,
   "id": "57e74f05",
   "metadata": {
    "deletable": false,
    "execution": {
     "iopub.execute_input": "2025-09-18T10:42:57.206736Z",
     "iopub.status.busy": "2025-09-18T10:42:57.206484Z",
     "iopub.status.idle": "2025-09-18T10:42:57.209295Z",
     "shell.execute_reply": "2025-09-18T10:42:57.208793Z"
    },
    "tags": []
   },
   "outputs": [],
   "source": [
    "rides_between_20_and_25 = ..."
   ]
  },
  {
   "cell_type": "code",
   "execution_count": null,
   "id": "549986a7",
   "metadata": {
    "deletable": false,
    "editable": false
   },
   "outputs": [],
   "source": [
    "grader.check(\"p3.2\")"
   ]
  },
  {
   "cell_type": "markdown",
   "id": "9ce3f509",
   "metadata": {
    "deletable": false,
    "editable": false
   },
   "source": [
    "<!-- BEGIN QUESTION -->\n",
    "\n",
    "#### Part 3.3 (5 pts)\n"
   ]
  },
  {
   "cell_type": "markdown",
   "id": "8c7e2846",
   "metadata": {
    "deletable": false,
    "editable": false
   },
   "source": [
    "Now, produce a histogram that visualizes the distribution of all ride times in Manila using the given bins."
   ]
  },
  {
   "cell_type": "markdown",
   "id": "3a41f012",
   "metadata": {
    "deletable": false,
    "editable": false
   },
   "source": [
    "Set the y-axis of your Manila histogram to be between 0 to 5%. This will make it easier to compare your Boston and Manila plots. To do that, store the result of making your histogram in a local variable `manila_plot` and then use the `manila_plot`'s [`set_ylim` method](https://cs104williams.github.io/assets/python-library-ref.html#set-limits).  \n",
    "\n",
    "Set your plot's title to be \"Manila Uber Rides\" with the `set_title` method for plots."
   ]
  },
  {
   "cell_type": "code",
   "execution_count": null,
   "id": "47fa29e9",
   "metadata": {
    "deletable": false,
    "execution": {
     "iopub.execute_input": "2025-09-18T10:42:57.217788Z",
     "iopub.status.busy": "2025-09-18T10:42:57.217568Z",
     "iopub.status.idle": "2025-09-18T10:42:57.546232Z",
     "shell.execute_reply": "2025-09-18T10:42:57.545824Z"
    },
    "tags": []
   },
   "outputs": [],
   "source": [
    "equal_bins = np.arange(0, 120, 5)\n",
    "manila_plot = ...\n",
    "...\n",
    "..."
   ]
  },
  {
   "cell_type": "code",
   "execution_count": null,
   "id": "017e34a5",
   "metadata": {
    "deletable": false,
    "editable": false
   },
   "outputs": [],
   "source": [
    "grader.check(\"p3.3\")"
   ]
  },
  {
   "cell_type": "markdown",
   "id": "f3ff6531",
   "metadata": {
    "deletable": false,
    "editable": false
   },
   "source": [
    "<!-- END QUESTION -->\n",
    "\n",
    "#### Part 3.4 (5 pts)\n"
   ]
  },
  {
   "cell_type": "markdown",
   "id": "f4ba0ce8",
   "metadata": {
    "deletable": false,
    "editable": false
   },
   "source": [
    "Let's *manually* compare and inspect these Boston and Manilla histograms. \n",
    "\n",
    "Assign `boston_under_15` and `manila_under_15` to the percentage of rides that are less than 15 minutes in their respective metropolitan areas. \n",
    " \n",
    " To help you we have provide the \"height\" of various bars from the histogram you created above. Use the height variables that we have defined for you below in order to compute the percentages. Your solution should only use height variables, numbers, and mathematical operations. You should **not** access the tables `boston` and `manila` in any way.  \n",
    " \n",
    " *Hint:* How does the *width* of the bars in the histogram factor into your answer?"
   ]
  },
  {
   "cell_type": "code",
   "execution_count": null,
   "id": "40085ea6",
   "metadata": {
    "deletable": false,
    "execution": {
     "iopub.execute_input": "2025-09-18T10:42:57.559106Z",
     "iopub.status.busy": "2025-09-18T10:42:57.558767Z",
     "iopub.status.idle": "2025-09-18T10:42:57.562539Z",
     "shell.execute_reply": "2025-09-18T10:42:57.562114Z"
    },
    "tags": []
   },
   "outputs": [],
   "source": [
    "boston_under_5_height = 1.2\n",
    "manila_under_5_height = 0.6\n",
    "boston_5_to_under_10_height = 3.2\n",
    "manila_5_to_under_10_height = 1.4\n",
    "boston_10_to_under_15_height = 4.9\n",
    "manila_10_to_under_15_height = 2.2\n",
    "\n",
    "boston_under_15 = ...\n",
    "manila_under_15 = ...\n",
    "\n",
    "boston_under_15, manila_under_15"
   ]
  },
  {
   "cell_type": "code",
   "execution_count": null,
   "id": "596105e9",
   "metadata": {
    "deletable": false,
    "editable": false
   },
   "outputs": [],
   "source": [
    "grader.check(\"p3.4\")"
   ]
  },
  {
   "cell_type": "markdown",
   "id": "47233c58",
   "metadata": {
    "deletable": false,
    "editable": false
   },
   "source": [
    "#### Part 3.5 (5 pts)\n"
   ]
  },
  {
   "cell_type": "markdown",
   "id": "be40c87e",
   "metadata": {
    "deletable": false,
    "editable": false
   },
   "source": [
    "Manually examine the histogram for the distribution of ride times in Boston. You can use this histogram to find the median ride time for Boston. \n",
    "\n",
    "Assign `boston_median_bin` to an integer (1, 2, 3, 4, or 5) that corresponds to the bin that contains the median time. \n",
    "\n",
    "1. 0-5 minutes  \n",
    "2. 5-10 minutes  \n",
    "3. 10-15 minutes  \n",
    "4. 15-20 minutes  \n",
    "5. 20-25 minutes  \n",
    "\n",
    "*Hint:* The median of a sorted list has half of the list elements to its left, and half to its right.  Your previous answer may help you determine where the median is."
   ]
  },
  {
   "cell_type": "code",
   "execution_count": null,
   "id": "1fe441c4",
   "metadata": {
    "deletable": false,
    "execution": {
     "iopub.execute_input": "2025-09-18T10:42:57.583607Z",
     "iopub.status.busy": "2025-09-18T10:42:57.583444Z",
     "iopub.status.idle": "2025-09-18T10:42:57.586516Z",
     "shell.execute_reply": "2025-09-18T10:42:57.586141Z"
    },
    "tags": []
   },
   "outputs": [],
   "source": [
    "boston_median_bin = ...\n",
    "boston_median_bin"
   ]
  },
  {
   "cell_type": "code",
   "execution_count": null,
   "id": "fb714399",
   "metadata": {
    "deletable": false,
    "editable": false
   },
   "outputs": [],
   "source": [
    "grader.check(\"p3.5\")"
   ]
  },
  {
   "cell_type": "markdown",
   "id": "41d4e709",
   "metadata": {
    "deletable": false,
    "editable": false
   },
   "source": [
    "<!-- BEGIN QUESTION -->\n",
    "\n",
    "#### Part 3.6 (5 pts)\n"
   ]
  },
  {
   "cell_type": "markdown",
   "id": "5c6f84a8",
   "metadata": {
    "deletable": false,
    "editable": false
   },
   "source": [
    "Identify one difference between the histograms, in terms of actual histogram properties. Based on the following two readings, why are the distributions for Boston and Manila different? \n",
    "\n",
    "- [Boston reading](https://www.climatestotravel.com/climate/united-states/boston)\n",
    "- [Manila reading](https://newsinfo.inquirer.net/1383983/metro-manila-traffic-2nd-worst-in-the-world-report)\n",
    "\n",
    "*Hint:* Try thinking about external factors of the two cities that may be causing the difference!\n",
    "\n"
   ]
  },
  {
   "cell_type": "markdown",
   "id": "255e2e50",
   "metadata": {
    "deletable": false,
    "editable": false
   },
   "source": [
    "<hr style=\"margin:0; border: 1px solid #FFBE0A;\"/><font color='#FFBE0A'>Written Answer:</font>"
   ]
  },
  {
   "cell_type": "markdown",
   "id": "629c4b81",
   "metadata": {
    "deletable": false
   },
   "source": [
    "_Type your answer here, replacing this text._\n"
   ]
  },
  {
   "cell_type": "markdown",
   "id": "9c5b65f7",
   "metadata": {
    "deletable": false,
    "editable": false
   },
   "source": [
    "<hr style=\"margin:0; border: 1px solid #FFBE0A;\"/>"
   ]
  },
  {
   "cell_type": "markdown",
   "id": "e8a4348d",
   "metadata": {
    "deletable": false,
    "editable": false
   },
   "source": [
    "<!-- END QUESTION -->\n",
    "\n",
    "<hr style=\"margin-bottom: 0px; padding:0; border: 2px solid #500082;\"/>\n"
   ]
  },
  {
   "cell_type": "markdown",
   "id": "857e245a",
   "metadata": {
    "deletable": false,
    "editable": false
   },
   "source": [
    "## 4. Iris Varieties (10 pts)\n",
    "\n"
   ]
  },
  {
   "cell_type": "markdown",
   "id": "ef763111",
   "metadata": {
    "deletable": false,
    "editable": false
   },
   "source": [
    "<font color='#B1008E'>\n",
    "    \n",
    "##### Learning objectives\n",
    "- Create plots to aid in exploring a new data set\n",
    "- Complete a more open-ended data visualization and analysis task\n",
    "</font>"
   ]
  },
  {
   "cell_type": "markdown",
   "id": "04fe8da2",
   "metadata": {
    "deletable": false,
    "editable": false
   },
   "source": [
    "<!-- BEGIN QUESTION -->\n",
    "\n",
    "#### Part 4.1 (10 pts)\n"
   ]
  },
  {
   "cell_type": "markdown",
   "id": "d6cc57bc",
   "metadata": {
    "deletable": false,
    "editable": false
   },
   "source": [
    "The Iris dataset is a famous data set dating back to 1936.  It contains the sepal and petal lengths and widths for fifty flowers of three different varieties of irises (a type of flower).  Sepals and petals are identified in the figure below for the three varieties.  We provide an extra file `iris.csv` containing this data set in the lab this week.  All measurements are in cm.\n",
    "\n",
    "\n",
    "<img src=\"https://s3.amazonaws.com/assets.datacamp.com/blog_assets/Machine+Learning+R/iris-machinelearning.png\" width=100%>\n",
    "\n",
    "This question is *very* open ended. Your task is simply this: perform exploratory data analysis on this data set.\n",
    "\n",
    "Giving such an open-ended problem gives you maximum flexibility for thinking and exploration, and also to simulate \"real life.\" \n",
    "To give you an idea of our expectations, you should try (and display) several types of plots to explore the data. Consider, for example, whether there are corrleations between sepal/petal length and width, and between sepal and petal dimensions.  Are some varieties more uniform in their petal/sepal dimensions?  Are some varieties generally larger than others?  You should comment on your approach and what you learn from the plots.  **Also, be sure each plot has appropriate titles and labels.**\n",
    "\n",
    "You may do as little or as much as you like in answering this question, but drawing perhaps around three interesting conclusions about the iris varieties will be sufficient to earn full credit.  More importantly, have fun exploring the data!\n",
    "\n",
    "*Note:* We give you one \"Markdown\" cell for text and one code cell for your Python code below.  You may add as many additional cells as you like.  Just click the `+` sign in this tab's toolbar to insert a new cell.  Then select \"Markdown\" from the toolbar's popup menu if you want the new cell to be for text, or \"Code\" if you want it to be for Python code.  Markdown cells can include basic formatting.  Click on any of our formatted text cells to see how to create lists, bold text, etc., or have a look [here](https://www.markdownguide.org/basic-syntax)."
   ]
  },
  {
   "cell_type": "markdown",
   "id": "5f57b0f1",
   "metadata": {
    "deletable": false,
    "editable": false
   },
   "source": [
    "<hr style=\"margin:0; border: 1px solid #FFBE0A;\"/><font color='#FFBE0A'>Written Answer:</font>"
   ]
  },
  {
   "cell_type": "markdown",
   "id": "b99dc2c2",
   "metadata": {
    "deletable": false
   },
   "source": [
    "_Type your answer here, replacing this text._\n"
   ]
  },
  {
   "cell_type": "markdown",
   "id": "5d346628",
   "metadata": {
    "deletable": false,
    "editable": false
   },
   "source": [
    "<hr style=\"margin:0; border: 1px solid #FFBE0A;\"/>"
   ]
  },
  {
   "cell_type": "code",
   "execution_count": null,
   "id": "93ba1514",
   "metadata": {
    "deletable": false,
    "execution": {
     "iopub.execute_input": "2025-09-18T10:42:57.600304Z",
     "iopub.status.busy": "2025-09-18T10:42:57.600111Z",
     "iopub.status.idle": "2025-09-18T10:42:57.602461Z",
     "shell.execute_reply": "2025-09-18T10:42:57.602043Z"
    },
    "tags": []
   },
   "outputs": [],
   "source": [
    "# This is a code cell where you can get started on your work."
   ]
  },
  {
   "cell_type": "markdown",
   "id": "f4deba4e",
   "metadata": {
    "deletable": false,
    "editable": false
   },
   "source": [
    "<!-- END QUESTION -->\n",
    "\n",
    "<hr class=\"m-0\" style=\"border: 3px solid #500082;\"/>\n",
    "\n",
    "# You're Done!\n",
    "Follow these steps to submit your work:\n",
    "* Run the tests and verify that they pass as you expect. \n",
    "* Choose **Save Notebook** from the **File** menu.\n",
    "* **Run the final cell** and click the link below to download the zip file. \n",
    "\n",
    "Once you have downloaded that file, go to [Gradescope](https://www.gradescope.com/) and submit the zip file to \n",
    "the corresponding assignment. For Lab N, the assignment will be called \"Lab N Autograder\".\n",
    "\n",
    "Once you have submitted, your Gradescope assignment should show you passing all the tests you passed in your assignment notebook.\n"
   ]
  },
  {
   "cell_type": "markdown",
   "id": "da802adf",
   "metadata": {
    "deletable": false,
    "editable": false
   },
   "source": [
    "## Submission\n",
    "\n",
    "Make sure you have run all cells in your notebook in order before running the cell below, so that all images/graphs appear in the output. The cell below will generate a zip file for you to submit. **Please save before exporting!**"
   ]
  },
  {
   "cell_type": "code",
   "execution_count": null,
   "id": "8b023978",
   "metadata": {
    "deletable": false,
    "editable": false
   },
   "outputs": [],
   "source": [
    "# Save your notebook first, then run this cell to export your submission.\n",
    "grader.export(run_tests=True)"
   ]
  },
  {
   "cell_type": "markdown",
   "id": "255989e9",
   "metadata": {},
   "source": [
    " "
   ]
  }
 ],
 "metadata": {
  "kernelspec": {
   "display_name": "Python 3 (ipykernel)",
   "language": "python",
   "name": "python3"
  },
  "language_info": {
   "codemirror_mode": {
    "name": "ipython",
    "version": 3
   },
   "file_extension": ".py",
   "mimetype": "text/x-python",
   "name": "python",
   "nbconvert_exporter": "python",
   "pygments_lexer": "ipython3",
   "version": "3.11.13"
  },
  "otter": {
   "OK_FORMAT": true,
   "tests": {
    "p1.1": {
     "has_hidden": false,
     "name": "p1.1",
     "points": 5,
     "suites": [
      {
       "cases": [
        {
         "code": ">>> check_str('unemployment.select(\\'Date\\', \\'NEI\\', \\'NEI-PTER\\').column(\\'Date\\').item(0) == \\'1994-01-01\\'', locals())\n",
         "failure_message": "check(unemployment.select('Date', 'NEI', 'NEI-PTER').column('Date').item(0) == '1994-01-01')",
         "hidden": false,
         "locked": false,
         "submit_only": false,
         "success_message": "check(unemployment.select('Date', 'NEI', 'NEI-PTER').column('Date').item(0) == '1994-01-01')"
        },
        {
         "code": ">>> check_str('unemployment.num_rows == 90', locals())\n",
         "failure_message": "check(unemployment.num_rows == 90)",
         "hidden": false,
         "locked": false,
         "submit_only": false,
         "success_message": "check(unemployment.num_rows == 90)"
        }
       ],
       "scored": true,
       "setup": "",
       "teardown": "",
       "type": "doctest"
      }
     ]
    },
    "p1.2": {
     "has_hidden": false,
     "name": "p1.2",
     "points": 5,
     "suites": [
      {
       "cases": [
        {
         "code": ">>> check_str('by_nei.column(\\'Date\\').item(0) == \\'2009-10-01\\'', locals())\n",
         "failure_message": "check(by_nei.column('Date').item(0) == '2009-10-01')",
         "hidden": false,
         "locked": false,
         "submit_only": false,
         "success_message": "check(by_nei.column('Date').item(0) == '2009-10-01')"
        },
        {
         "code": ">>> check_str('by_nei_pter.column(\\'Date\\').item(0) == \\'2009-10-01\\'', locals())\n",
         "failure_message": "check(by_nei_pter.column('Date').item(0) == '2009-10-01')",
         "hidden": false,
         "locked": false,
         "submit_only": false,
         "success_message": "check(by_nei_pter.column('Date').item(0) == '2009-10-01')"
        }
       ],
       "scored": true,
       "setup": "",
       "teardown": "",
       "type": "doctest"
      }
     ]
    },
    "p1.3": {
     "has_hidden": false,
     "name": "p1.3",
     "points": 5,
     "suites": [
      {
       "cases": [
        {
         "code": ">>> check_str('greatest_nei.num_rows == 10', locals())\n",
         "failure_message": "check(greatest_nei.num_rows == 10)",
         "hidden": false,
         "locked": false,
         "submit_only": false,
         "success_message": "check(greatest_nei.num_rows == 10)"
        },
        {
         "code": ">>> check_str('greatest_nei.column(\\'Date\\').item(0) == \\'2009-10-01\\'', locals())\n",
         "failure_message": "check(greatest_nei.column('Date').item(0) == '2009-10-01')",
         "hidden": false,
         "locked": false,
         "submit_only": false,
         "success_message": "check(greatest_nei.column('Date').item(0) == '2009-10-01')"
        }
       ],
       "scored": true,
       "setup": "",
       "teardown": "",
       "type": "doctest"
      }
     ]
    },
    "p1.4": {
     "has_hidden": false,
     "name": "p1.4",
     "points": 5,
     "suites": [
      {
       "cases": [
        {
         "code": ">>> check_str('len(pter) == 90', locals())\n",
         "failure_message": "check(len(pter) == 90)",
         "hidden": false,
         "locked": false,
         "submit_only": false,
         "success_message": "check(len(pter) == 90)"
        },
        {
         "code": ">>> check_str('pter.item(6) == approx(1.128199)', locals())\n",
         "failure_message": "check(pter.item(6) == approx(1.128199))",
         "hidden": false,
         "locked": false,
         "submit_only": false,
         "success_message": "check(pter.item(6) == approx(1.128199))"
        }
       ],
       "scored": true,
       "setup": "",
       "teardown": "",
       "type": "doctest"
      }
     ]
    },
    "p1.5": {
     "has_hidden": false,
     "name": "p1.5",
     "points": 5,
     "suites": [
      {
       "cases": [
        {
         "code": ">>> check_str('by_pter.column(\\'Date\\').item(0) == \\'2009-07-01\\'', locals())\n",
         "failure_message": "check(by_pter.column('Date').item(0) == '2009-07-01')",
         "hidden": false,
         "locked": false,
         "submit_only": false,
         "success_message": "check(by_pter.column('Date').item(0) == '2009-07-01')"
        },
        {
         "code": ">>> check_str('by_pter.column(\\'PTER\\').item(0) == approx(1.9315)', locals())\n",
         "failure_message": "check(by_pter.column('PTER').item(0) == approx(1.9315))",
         "hidden": false,
         "locked": false,
         "submit_only": false,
         "success_message": "check(by_pter.column('PTER').item(0) == approx(1.9315))"
        }
       ],
       "scored": true,
       "setup": "",
       "teardown": "",
       "type": "doctest"
      }
     ]
    },
    "p1.6": {
     "has_hidden": true,
     "name": "p1.6",
     "points": 0,
     "suites": [
      {
       "cases": [
        {
         "code": ">>> check_str('type(pter_over_time) == Table', locals())\n",
         "failure_message": "Be sure to store a new Table in the pter_over_time variable.",
         "hidden": false,
         "locked": false,
         "submit_only": false,
         "success_message": "check(type(pter_over_time) == Table)"
        },
        {
         "code": ">>> check_str('pter_over_time.column(\"Date\").item(0) == \\'1994-01-01\\'', locals())\n",
         "failure_message": "check(pter_over_time.column(\"Date\").item(0) == '1994-01-01')",
         "hidden": false,
         "locked": false,
         "submit_only": false,
         "success_message": "check(pter_over_time.column(\"Date\").item(0) == '1994-01-01')"
        }
       ],
       "scored": true,
       "setup": "",
       "teardown": "",
       "type": "doctest"
      }
     ]
    },
    "p1.7": {
     "has_hidden": true,
     "name": "p1.7",
     "points": 5,
     "suites": [
      {
       "cases": [
        {
         "code": ">>> check_str('type(highPTER) == bool', locals())\n",
         "failure_message": "check(type(highPTER) == bool)",
         "hidden": false,
         "locked": false,
         "submit_only": false,
         "success_message": "check(type(highPTER) == bool)"
        }
       ],
       "scored": true,
       "setup": "",
       "teardown": "",
       "type": "doctest"
      }
     ]
    },
    "p2.1": {
     "has_hidden": true,
     "name": "p2.1",
     "points": 5,
     "suites": [
      {
       "cases": [
        {
         "code": ">>> check_str('us_birth_rate in between_or_equal(0, 1)', locals())\n",
         "failure_message": "check(us_birth_rate in between_or_equal(0, 1))",
         "hidden": false,
         "locked": false,
         "submit_only": false,
         "success_message": "check(us_birth_rate in between_or_equal(0, 1))"
        }
       ],
       "scored": true,
       "setup": "",
       "teardown": "",
       "type": "doctest"
      }
     ]
    },
    "p2.2": {
     "has_hidden": true,
     "name": "p2.2",
     "points": 5,
     "suites": [
      {
       "cases": [
        {
         "code": ">>> check_str('movers.num_rows in between_or_equal(0, 52)', locals())\n",
         "failure_message": "check(movers.num_rows in between_or_equal(0, 52))",
         "hidden": false,
         "locked": false,
         "submit_only": false,
         "success_message": "check(movers.num_rows in between_or_equal(0, 52))"
        }
       ],
       "scored": true,
       "setup": "",
       "teardown": "",
       "type": "doctest"
      }
     ]
    },
    "p2.3": {
     "has_hidden": true,
     "name": "p2.3",
     "points": 5,
     "suites": [
      {
       "cases": [
        {
         "code": ">>> check_str('5e5 <= west_births <= 1e6', locals())\n",
         "failure_message": "check(5e5 <= west_births <= 1e6)",
         "hidden": false,
         "locked": false,
         "submit_only": false,
         "success_message": "check(5e5 <= west_births <= 1e6)"
        }
       ],
       "scored": true,
       "setup": "",
       "teardown": "",
       "type": "doctest"
      }
     ]
    },
    "p2.4": {
     "has_hidden": false,
     "name": "p2.4",
     "points": 5,
     "suites": [
      {
       "cases": [
        {
         "code": ">>> check_str('visualization in [1,2,3]', locals())\n",
         "failure_message": "visualization should be set to 1, 2, or 3.",
         "hidden": false,
         "locked": false,
         "submit_only": false,
         "success_message": "check(visualization in [1,2,3])"
        },
        {
         "code": ">>> check_str('visualization == 3', locals())\n",
         "failure_message": "check(visualization == 3)",
         "hidden": false,
         "locked": false,
         "submit_only": false,
         "success_message": "check(visualization == 3)"
        }
       ],
       "scored": true,
       "setup": "",
       "teardown": "",
       "type": "doctest"
      }
     ]
    },
    "p2.6": {
     "has_hidden": true,
     "name": "p2.6",
     "points": 5,
     "suites": [
      {
       "cases": [
        {
         "code": ">>> check_str('type(assoc) == bool', locals())\n",
         "failure_message": "assoc should be set to True or False.",
         "hidden": false,
         "locked": false,
         "submit_only": false,
         "success_message": "check(type(assoc) == bool)"
        }
       ],
       "scored": true,
       "setup": "",
       "teardown": "",
       "type": "doctest"
      }
     ]
    },
    "p3.1": {
     "has_hidden": false,
     "name": "p3.1",
     "points": 0,
     "suites": [
      {
       "cases": [
        {
         "code": ">>> check_str('boston_plot.get_title()==\\'Boston Uber Rides\\'', locals())\n",
         "failure_message": "check(boston_plot.get_title()=='Boston Uber Rides')",
         "hidden": false,
         "locked": false,
         "submit_only": false,
         "success_message": "check(boston_plot.get_title()=='Boston Uber Rides')"
        }
       ],
       "scored": true,
       "setup": "",
       "teardown": "",
       "type": "doctest"
      }
     ]
    },
    "p3.2": {
     "has_hidden": false,
     "name": "p3.2",
     "points": 5,
     "suites": [
      {
       "cases": [
        {
         "code": ">>> check_str('rides_between_20_and_25 in between(14,16)', locals())\n",
         "failure_message": "check(rides_between_20_and_25 in between(14,16))",
         "hidden": false,
         "locked": false,
         "submit_only": false,
         "success_message": "check(rides_between_20_and_25 in between(14,16))"
        }
       ],
       "scored": true,
       "setup": "",
       "teardown": "",
       "type": "doctest"
      }
     ]
    },
    "p3.3": {
     "has_hidden": false,
     "name": "p3.3",
     "points": 0,
     "suites": [
      {
       "cases": [
        {
         "code": ">>> check_str('manila_plot.get_title() == \\'Manila Uber Rides\\'', locals())\n",
         "failure_message": "check(manila_plot.get_title() == 'Manila Uber Rides')",
         "hidden": false,
         "locked": false,
         "submit_only": false,
         "success_message": "check(manila_plot.get_title() == 'Manila Uber Rides')"
        },
        {
         "code": ">>> check_str('manila_plot.get_ylim() == (0,0.05)', locals())\n",
         "failure_message": "check(manila_plot.get_ylim() == (0,0.05))",
         "hidden": false,
         "locked": false,
         "submit_only": false,
         "success_message": "check(manila_plot.get_ylim() == (0,0.05))"
        }
       ],
       "scored": true,
       "setup": "",
       "teardown": "",
       "type": "doctest"
      }
     ]
    },
    "p3.4": {
     "has_hidden": true,
     "name": "p3.4",
     "points": 5,
     "suites": [
      {
       "cases": [
        {
         "code": ">>> check_str('boston_under_15 in between_or_equal(0, 100)', locals())\n",
         "failure_message": "check(boston_under_15 in between_or_equal(0, 100))",
         "hidden": false,
         "locked": false,
         "submit_only": false,
         "success_message": "check(boston_under_15 in between_or_equal(0, 100))"
        },
        {
         "code": ">>> check_str('manila_under_15 in between_or_equal(0, 100)', locals())\n",
         "failure_message": "check(manila_under_15 in between_or_equal(0, 100))",
         "hidden": false,
         "locked": false,
         "submit_only": false,
         "success_message": "check(manila_under_15 in between_or_equal(0, 100))"
        }
       ],
       "scored": true,
       "setup": "",
       "teardown": "",
       "type": "doctest"
      }
     ]
    },
    "p3.5": {
     "has_hidden": true,
     "name": "p3.5",
     "points": 5,
     "suites": [
      {
       "cases": [
        {
         "code": ">>> check_str('boston_median_bin in [1,2,3,4,5]', locals())\n",
         "failure_message": "check(boston_median_bin in [1,2,3,4,5])",
         "hidden": false,
         "locked": false,
         "submit_only": false,
         "success_message": "check(boston_median_bin in [1,2,3,4,5])"
        }
       ],
       "scored": true,
       "setup": "",
       "teardown": "",
       "type": "doctest"
      }
     ]
    }
   }
  },
  "vscode": {
   "interpreter": {
    "hash": "e9a7af6fc709cc25e111b0d6e28f738a78907138b7e48b682edcf6dfb7dc8bee"
   }
  }
 },
 "nbformat": 4,
 "nbformat_minor": 5
}
