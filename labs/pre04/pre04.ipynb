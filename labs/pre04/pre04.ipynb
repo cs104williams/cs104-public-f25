{
 "cells": [
  {
   "cell_type": "code",
   "execution_count": null,
   "id": "354acf56",
   "metadata": {
    "deletable": false,
    "editable": false
   },
   "outputs": [],
   "source": [
    "# Initialize Otter\n",
    "import otter\n",
    "grader = otter.Notebook(\"pre04.ipynb\")"
   ]
  },
  {
   "cell_type": "markdown",
   "id": "2e9e2dd5",
   "metadata": {
    "deletable": false,
    "editable": false
   },
   "source": [
    "<table style=\"width: 100%;\">\n",
    "<tr style=\"background-color: transparent;\">\n",
    "<td width=\"100px\"><img src=\"https://cs104williams.github.io/assets/cs104-logo.png\" width=\"90px\" style=\"text-align: center\"/></td>\n",
    "<td>\n",
    "  <p style=\"margin-bottom: 0px; text-align: left; font-size: 18pt;\"><strong>CSCI 104: Data Science and Computing for All</strong><br>\n",
    "                Williams College<br>\n",
    "                Fall 2025</p>\n",
    "</td>\n",
    "</tr>\n"
   ]
  },
  {
   "cell_type": "markdown",
   "id": "80ce85e5",
   "metadata": {
    "deletable": false,
    "editable": false
   },
   "source": [
    "# Prelab 4: Functions"
   ]
  },
  {
   "cell_type": "markdown",
   "id": "5846eb44",
   "metadata": {
    "deletable": false,
    "editable": false,
    "tags": []
   },
   "source": [
    "**Instructions**\n",
    "- Before you begin, execute the cell at the TOP of the notebook to load the provided tests, as well as the following cell to setup the notebook by importing some helpful libraries. Each time you start your server, you will need to execute these cells again.  \n",
    "- Be sure to consult your [Python Reference](https://cs104williams.github.io/assets/python-library-ref.html)!\n",
    "- Complete this notebook by filling in the cells provided. \n",
    "- Please be sure to not re-assign variables throughout the notebook.  For example, if you use `max_temperature` in your answer to one question, do not reassign it later on. Otherwise, you will fail tests that you thought you were passing previously.\n",
    "- There are no hidden tests in prelabs.\n",
    "\n",
    "<hr/>\n",
    "<h2>Setup</h2>\n"
   ]
  },
  {
   "cell_type": "code",
   "execution_count": null,
   "id": "9db7057d",
   "metadata": {
    "deletable": false,
    "editable": false,
    "execution": {
     "iopub.execute_input": "2025-09-24T10:30:41.028334Z",
     "iopub.status.busy": "2025-09-24T10:30:41.028046Z",
     "iopub.status.idle": "2025-09-24T10:30:42.622602Z",
     "shell.execute_reply": "2025-09-24T10:30:42.622090Z"
    },
    "tags": []
   },
   "outputs": [],
   "source": [
    "# Run this cell to set up the notebook.\n",
    "# These lines import the numpy, datascience, and cs104 libraries.\n",
    "\n",
    "import numpy as np\n",
    "from datascience import *\n",
    "from cs104 import *\n",
    "%matplotlib inline"
   ]
  },
  {
   "cell_type": "markdown",
   "id": "466056bf",
   "metadata": {
    "deletable": false,
    "editable": false
   },
   "source": [
    "<hr style=\"margin-bottom: 0px; padding:0; border: 2px solid #500082;\"/>\n"
   ]
  },
  {
   "cell_type": "markdown",
   "id": "81a143ac",
   "metadata": {
    "deletable": false,
    "editable": false
   },
   "source": [
    "## 1. Defining Functions (25 pts)\n",
    "\n"
   ]
  },
  {
   "cell_type": "markdown",
   "id": "ad2932be",
   "metadata": {
    "deletable": false,
    "editable": false
   },
   "source": [
    "<font color='#B1008E'>\n",
    "    \n",
    "##### Learning objectives\n",
    "- Understand the components of a *function* in Python \n",
    "- Create Python functions\n",
    "- Distinguish `print()` and `return` \n",
    "</font>"
   ]
  },
  {
   "cell_type": "markdown",
   "id": "d1597396",
   "metadata": {
    "deletable": false,
    "editable": false
   },
   "source": [
    "A function definition has a few parts, which we review using the `double` function from lecture:"
   ]
  },
  {
   "cell_type": "markdown",
   "id": "ba9a53bc",
   "metadata": {
    "deletable": false,
    "editable": false,
    "tags": []
   },
   "source": [
    "<img width=75% src=\"double.png\"/>"
   ]
  },
  {
   "cell_type": "markdown",
   "id": "ae5a953e",
   "metadata": {
    "deletable": false,
    "editable": false
   },
   "source": [
    "* **Name**: the name of the function.  Like other names we've defined, it can't start with a number or contain spaces. \n",
    "* **Parameters**: the number and the names of the parameters to your function.  A function can have any number of arguments (including 0). \n",
    "    \n",
    "    If we want our function to take more than one argument, we add a comma between each argument name. Note that if we had zero arguments, we'd still place the parentheses () after the function's name. \n",
    "    \n",
    "* **Signature**: We call the \"function signature line\" the line that contains the keyword `def` (which tells Python we're \"defining\" a function) the function name, and the function parameters. \n",
    "\n",
    "* **Docstring**: Functions can perform sophisticated computations, so you should write an explanation of what your function does.  For small functions, this is less important, but it's a good habit to learn from the start.  Conventionally, Python functions are documented by writing an **indented** triple-quoted string right after the the function's signature line.\n",
    "\n",
    "* **Body**: This is the code that runs when the function is called.  Every line **must be indented with a tab**. Some notes about the body of the function:\n",
    "    - We can write code that we would write anywhere else.  \n",
    "    - We use the arguments defined in the function signature. We can do this because we assume that when we call the function, values are already assigned to those arguments.\n",
    "    - We generally avoid referencing variables defined *outside* the function. If you would like to reference variables outside of the function, pass them through as arguments.\n",
    "\n",
    "* **Return statement**: The keyword `return` is part of the function's body and tells Python to make the value of the function call equal to whatever comes right after `return`.  A `return` instruction only makes sense in the context of a function, and **can never be used outside of a function**. Also, `return` is always the last line of the function because Python stops executing the body of a function once it hits a `return` statement. If a function does not have a return statement, it will not return anything; if you expect a value back from the function, make sure to include a return statement. \n",
    "\n",
    "    *Note:*  `return` inside a function tells Python what value the function evaluates to. However, there are other functions, like `print`, that have no `return` value. For example, `print` simply prints a certain value out to the console. `return` and `print` are **very** different. "
   ]
  },
  {
   "cell_type": "markdown",
   "id": "5a276657",
   "metadata": {
    "deletable": false,
    "editable": false
   },
   "source": [
    "#### Part 1.1 (5 pts)\n"
   ]
  },
  {
   "cell_type": "markdown",
   "id": "7bfe71c7",
   "metadata": {
    "deletable": false,
    "editable": false
   },
   "source": [
    "Let's write a function `to_percentage` that converts a proportion to a percentage by multiplying it by 100.  For example, the value of `to_percentage(0.5)` should be the number 50 (no percent sign).\n",
    "\n",
    "Complete the definition of `to_percentage` in the cell below.  Call your function to convert the proportion .2 to a percentage.  Name that percentage `twenty_percent`.\n",
    "\n"
   ]
  },
  {
   "cell_type": "code",
   "execution_count": null,
   "id": "526a071f",
   "metadata": {
    "deletable": false,
    "execution": {
     "iopub.execute_input": "2025-09-24T10:30:42.626751Z",
     "iopub.status.busy": "2025-09-24T10:30:42.626467Z",
     "iopub.status.idle": "2025-09-24T10:30:42.630061Z",
     "shell.execute_reply": "2025-09-24T10:30:42.629652Z"
    },
    "tags": []
   },
   "outputs": [],
   "source": [
    "def to_percentage(proportion):\n",
    "    \"\"\"Converts a proportion to a percentage.\"\"\"\n",
    "    factor = 100 # factor to multipy by the input parameter\n",
    "    return ...\n",
    "    \n",
    "twenty_percent = to_percentage(...)\n",
    "twenty_percent"
   ]
  },
  {
   "cell_type": "code",
   "execution_count": null,
   "id": "57854957",
   "metadata": {
    "deletable": false,
    "editable": false
   },
   "outputs": [],
   "source": [
    "grader.check(\"p1.1\")"
   ]
  },
  {
   "cell_type": "markdown",
   "id": "bca750f6",
   "metadata": {
    "deletable": false,
    "editable": false
   },
   "source": [
    "Here's something important about functions: the names assigned *within* a function body are only accessible within the function body. Once the function has returned, those names are gone.  So even if you created a variable called `factor` and defined `factor = 100` inside of the body of the `to_percentage` function and then called `to_percentage`, `factor` would not have a value assigned to it outside of the body of `to_percentage`:"
   ]
  },
  {
   "cell_type": "code",
   "execution_count": null,
   "id": "12500fca",
   "metadata": {
    "deletable": false,
    "editable": false,
    "execution": {
     "iopub.execute_input": "2025-09-24T10:30:42.641906Z",
     "iopub.status.busy": "2025-09-24T10:30:42.641751Z",
     "iopub.status.idle": "2025-09-24T10:30:42.869954Z",
     "shell.execute_reply": "2025-09-24T10:30:42.869448Z"
    },
    "tags": []
   },
   "outputs": [],
   "source": [
    "# You should get an error when you run this.  (If you don't, \n",
    "# you might have defined factor somewhere above.)\n",
    "factor"
   ]
  },
  {
   "cell_type": "markdown",
   "id": "6d410ba4",
   "metadata": {
    "deletable": false,
    "editable": false
   },
   "source": [
    "#### Part 1.2 (5 pts)\n"
   ]
  },
  {
   "cell_type": "markdown",
   "id": "1413ff61",
   "metadata": {
    "deletable": false,
    "editable": false
   },
   "source": [
    "Use `to_percentage` again to convert the proportion named `a_proportion` (defined below) to a percentage called `a_percentage`.\n",
    "\n",
    "*Note:* You don't need to define `to_percentage` again!  Like other named values, functions stick around after you define them."
   ]
  },
  {
   "cell_type": "code",
   "execution_count": null,
   "id": "10ebb6df",
   "metadata": {
    "deletable": false,
    "execution": {
     "iopub.execute_input": "2025-09-24T10:30:42.872616Z",
     "iopub.status.busy": "2025-09-24T10:30:42.872424Z",
     "iopub.status.idle": "2025-09-24T10:30:42.876308Z",
     "shell.execute_reply": "2025-09-24T10:30:42.875822Z"
    },
    "tags": []
   },
   "outputs": [],
   "source": [
    "a_proportion = 2**(0.5) / 2\n",
    "a_percentage = ...\n",
    "a_percentage"
   ]
  },
  {
   "cell_type": "code",
   "execution_count": null,
   "id": "682d11b3",
   "metadata": {
    "deletable": false,
    "editable": false
   },
   "outputs": [],
   "source": [
    "grader.check(\"p1.2\")"
   ]
  },
  {
   "cell_type": "markdown",
   "id": "e9d7a71c",
   "metadata": {
    "deletable": false,
    "editable": false
   },
   "source": [
    "As we've seen with built-in functions, functions can also take strings (or arrays, or tables) as arguments, and they can return those things, too.\n",
    "\n",
    "In the following cell, we will define a function called `disemvowel`.  It takes in a single string as its argument. It returns a copy of that string, but with all the characters that are vowels removed.  (In English, the vowels are the characters \"a\", \"e\", \"i\", \"o\", and \"u\".) \n",
    "\n",
    "To remove all the \"a\"s from a string, we used `a_string.replace(\"a\", \"\")`.  The `.replace` method for strings returns a new string, so we can call `replace` multiple times, one after the other. "
   ]
  },
  {
   "cell_type": "code",
   "execution_count": null,
   "id": "5777fea2",
   "metadata": {
    "deletable": false,
    "editable": false,
    "execution": {
     "iopub.execute_input": "2025-09-24T10:30:42.884256Z",
     "iopub.status.busy": "2025-09-24T10:30:42.884075Z",
     "iopub.status.idle": "2025-09-24T10:30:42.888151Z",
     "shell.execute_reply": "2025-09-24T10:30:42.887704Z"
    },
    "tags": []
   },
   "outputs": [],
   "source": [
    "def disemvowel(text):\n",
    "    \"\"\"Removes all vowels from a string.\"\"\"\n",
    "    return text.replace(\"a\", \"\").replace(\"e\", \"\").replace(\"i\", \"\").replace(\"o\", \"\").replace(\"u\", \"\")\n",
    "\n",
    "# An example call to the function.  (It's often helpful to run\n",
    "# an example call from time to time while we're writing a function,\n",
    "# to see how it currently works.)\n",
    "disemvowel(\"Can you read this without vowels?\")"
   ]
  },
  {
   "cell_type": "markdown",
   "id": "334f6a34",
   "metadata": {
    "deletable": false,
    "editable": false
   },
   "source": [
    "#### Calls on calls on calls\n",
    "\n",
    "Just as you write a series of lines to build up a complex computation, it's useful to define a series of small functions that **build on each other**.  Since you can write any code inside a function's body, you can call other functions you've written.\n",
    "\n",
    "If a function is a like a **recipe**, defining a function in terms of other functions is like having a recipe for cake telling you to follow another recipe to make the frosting, and another to make the jam filling.  This makes the cake recipe shorter and clearer, and it avoids having a bunch of duplicated frosting recipes.  It's a foundation of productive programming.\n",
    "\n",
    "For example, suppose you want to count the number of characters *that aren't vowels* in a piece of text.  One way to do that is this to remove all the vowels and count the size of the remaining string."
   ]
  },
  {
   "cell_type": "markdown",
   "id": "dfc83254",
   "metadata": {
    "deletable": false,
    "editable": false
   },
   "source": [
    "#### Part 1.3 (5 pts)\n"
   ]
  },
  {
   "cell_type": "markdown",
   "id": "50a73383",
   "metadata": {
    "deletable": false,
    "editable": false
   },
   "source": [
    "Write a function called `num_non_vowels` to do that.  It should take a string as its argument and return a number.  That number should be the number of characters (including spaces) in the argument string that aren't vowels. You should use the `disemvowel` function we provided above inside of the `num_non_vowels` function.\n",
    "\n",
    "*Hint:* Remember that the function `len` takes a string as its argument and returns the number of characters in it."
   ]
  },
  {
   "cell_type": "code",
   "execution_count": null,
   "id": "7e19a15a",
   "metadata": {
    "deletable": false,
    "execution": {
     "iopub.execute_input": "2025-09-24T10:30:42.891154Z",
     "iopub.status.busy": "2025-09-24T10:30:42.890967Z",
     "iopub.status.idle": "2025-09-24T10:30:42.894518Z",
     "shell.execute_reply": "2025-09-24T10:30:42.894069Z"
    },
    "tags": []
   },
   "outputs": [],
   "source": [
    "def num_non_vowels(text):\n",
    "    \"\"\"The number of characters in a string, minus the vowels.\"\"\"\n",
    "    ...\n",
    "\n",
    "# Try calling your function yourself to make sure the output is what\n",
    "# you expect. \n",
    "\n",
    "num_non_vowels(\"hoo hoo hoo\")   # should be 5: 3 h's, and 2 spaces"
   ]
  },
  {
   "cell_type": "code",
   "execution_count": null,
   "id": "d034b73a",
   "metadata": {
    "deletable": false,
    "editable": false
   },
   "outputs": [],
   "source": [
    "grader.check(\"p1.3\")"
   ]
  },
  {
   "cell_type": "markdown",
   "id": "23aca554",
   "metadata": {
    "deletable": false,
    "editable": false
   },
   "source": [
    "Functions can also encapsulate code that *displays output* instead of computing a value. For example, if you call `print` inside a function, and then call that function, something will get printed.\n",
    "\n",
    "Let's use the `majors` dataset which we explored in lecture. This contains the average number of majors at Williams per year for two year ranges. "
   ]
  },
  {
   "cell_type": "code",
   "execution_count": null,
   "id": "26bdf34f",
   "metadata": {
    "deletable": false,
    "editable": false,
    "execution": {
     "iopub.execute_input": "2025-09-24T10:30:42.901169Z",
     "iopub.status.busy": "2025-09-24T10:30:42.901004Z",
     "iopub.status.idle": "2025-09-24T10:30:42.907377Z",
     "shell.execute_reply": "2025-09-24T10:30:42.906915Z"
    },
    "tags": []
   },
   "outputs": [],
   "source": [
    "majors = Table.read_table(\"majors.csv\")\n",
    "majors.show(5)"
   ]
  },
  {
   "cell_type": "markdown",
   "id": "5824a733",
   "metadata": {
    "deletable": false,
    "editable": false
   },
   "source": [
    "Suppose you'd like to display the year with the 5th most popular major in 2018-2021, printed in a human-readable way.  You might do this:"
   ]
  },
  {
   "cell_type": "code",
   "execution_count": null,
   "id": "54313825",
   "metadata": {
    "deletable": false,
    "editable": false,
    "execution": {
     "iopub.execute_input": "2025-09-24T10:30:42.910383Z",
     "iopub.status.busy": "2025-09-24T10:30:42.910168Z",
     "iopub.status.idle": "2025-09-24T10:30:42.913762Z",
     "shell.execute_reply": "2025-09-24T10:30:42.913212Z"
    },
    "tags": []
   },
   "outputs": [],
   "source": [
    "rank = 5\n",
    "major_fifth_from_top = majors.sort(\"2018-2021\", descending=True).column(\"Major\").item(rank-1)\n",
    "print(\"Major ranked\", rank, \"by size in 2018-2021 was\", major_fifth_from_top)"
   ]
  },
  {
   "cell_type": "markdown",
   "id": "e06c9748",
   "metadata": {
    "deletable": false,
    "editable": false
   },
   "source": [
    "After writing this, you realize you also wanted to print out the 1st and 3rd largest majors too.  Instead of copying your code, you decide to put it in a function.  Since the rank varies, you make that an argument to your function."
   ]
  },
  {
   "cell_type": "markdown",
   "id": "d1c6720f",
   "metadata": {
    "deletable": false,
    "editable": false
   },
   "source": [
    "#### Part 1.4 (5 pts)\n"
   ]
  },
  {
   "cell_type": "markdown",
   "id": "3487bb2f",
   "metadata": {
    "deletable": false,
    "editable": false
   },
   "source": [
    "Write a function called `print_kth_top_major`.  It should take a single argument, the rank *k* (like 2, 3, or 5 in the above examples).  It should print out a message like the one above.  \n",
    "\n",
    "*Note:* Your function shouldn't have a `return` statement."
   ]
  },
  {
   "cell_type": "code",
   "execution_count": null,
   "id": "89bd9f8c",
   "metadata": {
    "deletable": false,
    "execution": {
     "iopub.execute_input": "2025-09-24T10:30:42.916108Z",
     "iopub.status.busy": "2025-09-24T10:30:42.915943Z",
     "iopub.status.idle": "2025-09-24T10:30:42.919182Z",
     "shell.execute_reply": "2025-09-24T10:30:42.918783Z"
    },
    "tags": []
   },
   "outputs": [],
   "source": [
    "def print_kth_top_major(k):\n",
    "    \"\"\"\n",
    "    Prints the kth top major where \n",
    "    k is the rank of the major\n",
    "    \"\"\"\n",
    "    major_kth_from_top = ...\n",
    "    ...\n",
    "    \n",
    "# Example calls to your function:\n",
    "print_kth_top_major(1)\n",
    "print_kth_top_major(3)"
   ]
  },
  {
   "cell_type": "markdown",
   "id": "a1cc038a",
   "metadata": {
    "deletable": false,
    "editable": false
   },
   "source": [
    "The two calls to your function above should print:\n",
    "\n",
    "    Major ranked 1 by size in 2018-2021 was Economics\n",
    "    Major ranked 3 by size in 2018-2021 was Mathematics\n",
    "\n",
    "Try passing in other values too!  1, 11, 21, ..."
   ]
  },
  {
   "cell_type": "markdown",
   "id": "5dbb5881",
   "metadata": {
    "deletable": false,
    "editable": false
   },
   "source": [
    "There are no grader tests for this one since all it does is print messages...  You'll get credit for this part as long as you try it!"
   ]
  },
  {
   "cell_type": "markdown",
   "id": "ae19ce40",
   "metadata": {
    "deletable": false,
    "editable": false
   },
   "source": [
    "**Interactive cells.** We'll now show you how to make interactive cells that allow you to select inputs to a function using pop ups or slides. This is how we've been making our interactive graph visualizations in lecture.  \n",
    "\n",
    "To do so, we make use of a new library function `interact` that takes as its first argument a function you'd like to interact with.  Subsequent arguments describe the possible values for each argument to that function.   Below, our function is `print_kth_top_major` and we will let the user choose a value of `k` using a slider that goes from 1 to 10."
   ]
  },
  {
   "cell_type": "code",
   "execution_count": null,
   "id": "069cd6ca",
   "metadata": {
    "deletable": false,
    "editable": false,
    "execution": {
     "iopub.execute_input": "2025-09-24T10:30:42.921453Z",
     "iopub.status.busy": "2025-09-24T10:30:42.921304Z",
     "iopub.status.idle": "2025-09-24T10:30:42.930490Z",
     "shell.execute_reply": "2025-09-24T10:30:42.930007Z"
    },
    "tags": []
   },
   "outputs": [],
   "source": [
    "interact(print_kth_top_major, k=Slider(1, 10))"
   ]
  },
  {
   "cell_type": "markdown",
   "id": "d2b45b07",
   "metadata": {
    "deletable": false,
    "editable": false
   },
   "source": [
    "#### Part 1.5 (5 pts)\n"
   ]
  },
  {
   "cell_type": "markdown",
   "id": "26f1fa61",
   "metadata": {
    "deletable": false,
    "editable": false
   },
   "source": [
    "Write a new function called `kth_top_major_for_years`.  It should take a two arguments, a rank, and then the label for the column with the desire year ranges (eg: `'2008-2012'`).  \n",
    "\n",
    "For this function, return the appropriate major without printing any messages.  That is, your function should end with a `return` statement rather than a `print` statement."
   ]
  },
  {
   "cell_type": "code",
   "execution_count": null,
   "id": "8e1bc604",
   "metadata": {
    "deletable": false,
    "execution": {
     "iopub.execute_input": "2025-09-24T10:32:12.955026Z",
     "iopub.status.busy": "2025-09-24T10:32:12.954336Z",
     "iopub.status.idle": "2025-09-24T10:32:12.958264Z",
     "shell.execute_reply": "2025-09-24T10:32:12.957876Z"
    },
    "tags": []
   },
   "outputs": [],
   "source": [
    "def kth_top_major_for_years(k, year_range):\n",
    "    \"\"\"k is the rank of the major; year_range is a string indicating the year range\"\"\"\n",
    "    major_kth_from_top = ...\n",
    "    ...\n",
    "    \n",
    "# Example calls to your function:\n",
    "print('5th most popular in 2008-2012:', kth_top_major_for_years(5, '2008-2012'))\n",
    "print('5th most popular in 2018-2011:', kth_top_major_for_years(5, '2018-2021'))"
   ]
  },
  {
   "cell_type": "code",
   "execution_count": null,
   "id": "7f1285e1",
   "metadata": {
    "deletable": false,
    "editable": false
   },
   "outputs": [],
   "source": [
    "grader.check(\"p1.5\")"
   ]
  },
  {
   "cell_type": "markdown",
   "id": "51cc4157",
   "metadata": {
    "deletable": false,
    "editable": false
   },
   "source": [
    "#### Note: `print` is not the same as `return`\n",
    "The `print_kth_top_major(k)` function prints the major at the given rank for 2018-2021.  However, since we did not return any value in this function, we can not use it after we call it. Let's look at an example of another function that prints a value but does not return it."
   ]
  },
  {
   "cell_type": "code",
   "execution_count": null,
   "id": "75e8a34a",
   "metadata": {
    "deletable": false,
    "editable": false,
    "execution": {
     "iopub.execute_input": "2025-09-24T10:32:12.973290Z",
     "iopub.status.busy": "2025-09-24T10:32:12.972819Z",
     "iopub.status.idle": "2025-09-24T10:32:12.975827Z",
     "shell.execute_reply": "2025-09-24T10:32:12.975332Z"
    },
    "tags": []
   },
   "outputs": [],
   "source": [
    "def print_number_five():\n",
    "    print(5)"
   ]
  },
  {
   "cell_type": "code",
   "execution_count": null,
   "id": "8ad05313",
   "metadata": {
    "deletable": false,
    "editable": false,
    "execution": {
     "iopub.execute_input": "2025-09-24T10:32:12.978514Z",
     "iopub.status.busy": "2025-09-24T10:32:12.977996Z",
     "iopub.status.idle": "2025-09-24T10:32:12.981037Z",
     "shell.execute_reply": "2025-09-24T10:32:12.980646Z"
    },
    "tags": []
   },
   "outputs": [],
   "source": [
    "print_number_five()"
   ]
  },
  {
   "cell_type": "markdown",
   "id": "5ce4a76b",
   "metadata": {
    "deletable": false,
    "editable": false
   },
   "source": [
    "However, if we try to use the output of `print_number_five()`, we see that the value `5` is printed but we get a TypeError when we try to add the number 2 to it!"
   ]
  },
  {
   "cell_type": "code",
   "execution_count": null,
   "id": "ed1331ef",
   "metadata": {
    "deletable": false,
    "editable": false,
    "execution": {
     "iopub.execute_input": "2025-09-24T10:32:12.983761Z",
     "iopub.status.busy": "2025-09-24T10:32:12.983588Z",
     "iopub.status.idle": "2025-09-24T10:32:13.007202Z",
     "shell.execute_reply": "2025-09-24T10:32:13.006320Z"
    },
    "tags": []
   },
   "outputs": [],
   "source": [
    "print_number_five_output = print_number_five()\n",
    "print_number_five_output + 2"
   ]
  },
  {
   "cell_type": "markdown",
   "id": "db4d3231",
   "metadata": {
    "deletable": false,
    "editable": false
   },
   "source": [
    "It may seem that `print_number_five()` is returning a value, 5. In reality, it just displays the number 5 to you without giving you the actual value! If your function prints out a value **without returning it** and you try to use that value, you will run into errors, so be careful."
   ]
  },
  {
   "cell_type": "markdown",
   "id": "62bce2c7",
   "metadata": {
    "deletable": false,
    "editable": false
   },
   "source": [
    "<hr style=\"margin-bottom: 0px; padding:0; border: 2px solid #500082;\"/>\n"
   ]
  },
  {
   "cell_type": "markdown",
   "id": "cef447f4",
   "metadata": {
    "deletable": false,
    "editable": false
   },
   "source": [
    "## 2. Apply (10 pts)\n",
    "\n"
   ]
  },
  {
   "cell_type": "markdown",
   "id": "5a93dfe0",
   "metadata": {
    "deletable": false,
    "editable": false
   },
   "source": [
    "<font color='#B1008E'>\n",
    "    \n",
    "##### Learning objectives\n",
    "- Use apply to perform operations on all values in Table columns.\n",
    "- Write helper functions to support transforming Table data.\n",
    "</font>"
   ]
  },
  {
   "cell_type": "markdown",
   "id": "68fe7b3d",
   "metadata": {
    "deletable": false,
    "editable": false
   },
   "source": [
    "[Cricket Creek Farm](https://cricketcreekfarm.com/) is a local, organic dairy farm in Williamstown, MA that makes cheese.  We'll use some information about their cheese varieties to practice using the [apply method](https://www.cs.williams.edu/~cs104/auto/python-library-ref.html#apply) on tables.  First, load the data by running the following cell."
   ]
  },
  {
   "cell_type": "code",
   "execution_count": null,
   "id": "8db145d1",
   "metadata": {
    "deletable": false,
    "editable": false,
    "execution": {
     "iopub.execute_input": "2025-09-24T10:32:13.009663Z",
     "iopub.status.busy": "2025-09-24T10:32:13.009505Z",
     "iopub.status.idle": "2025-09-24T10:32:13.015543Z",
     "shell.execute_reply": "2025-09-24T10:32:13.014705Z"
    },
    "tags": []
   },
   "outputs": [],
   "source": [
    "cheeses = Table.read_table(\"cricket_creek_cheeses.csv\")\n",
    "cheeses"
   ]
  },
  {
   "cell_type": "markdown",
   "id": "65a7bbea",
   "metadata": {
    "deletable": false,
    "editable": false
   },
   "source": [
    "Notice that the `weight` of the cheese wheels or blocks for each variety is given as a string like `'5lbs'`, indicating five pounds.  \n",
    "\n",
    "We'd like to change those strings to `float` values representing weights in ounces.  \n",
    "\n",
    "Given that there are 16 ounces in a pound, we'd this like to convert the string `'0.5lbs`' into the number 8.0. Let's apply the following steps: \n",
    "1. First, replace `'lbs'` with the empty string `''`, as we did about for vowels in `disemvowel`.\n",
    "1. Then use `float()` to convert the remaining string (`'0.5'` in this case) to a float. \n",
    "1. Finally, apply the conversion of pounds to ounces.\n",
    "\n",
    "Running the following cell demonstrates why we cannot just use array broadcasting:"
   ]
  },
  {
   "cell_type": "code",
   "execution_count": null,
   "id": "1e0c0d27",
   "metadata": {
    "deletable": false,
    "editable": false,
    "execution": {
     "iopub.execute_input": "2025-09-24T10:32:13.018142Z",
     "iopub.status.busy": "2025-09-24T10:32:13.017877Z",
     "iopub.status.idle": "2025-09-24T10:32:13.044314Z",
     "shell.execute_reply": "2025-09-24T10:32:13.043869Z"
    },
    "tags": []
   },
   "outputs": [],
   "source": [
    "float(cheeses.column(\"weight\").replace('lbs', '')) * 16"
   ]
  },
  {
   "cell_type": "markdown",
   "id": "e1d5eace",
   "metadata": {
    "deletable": false,
    "editable": false
   },
   "source": [
    "In essence, the `replace` method for strings is not designed to be broadcast to the elements of an array.  Thus, we will define a method to do our coversion and then use `apply` on our table."
   ]
  },
  {
   "cell_type": "markdown",
   "id": "52d26af9",
   "metadata": {
    "deletable": false,
    "editable": false
   },
   "source": [
    "#### Part 2.1 (5 pts)\n"
   ]
  },
  {
   "cell_type": "markdown",
   "id": "94c8d7ef",
   "metadata": {
    "deletable": false,
    "editable": false
   },
   "source": [
    "Complete the following definition of `lbs_string_to_oz` that takes a parameter `weight_text` as a string of the form `'5lbs'` and returns that weight in ounces as a `float`.  \n",
    "\n",
    "*Note:* You won't need to use the `cheeses` table in this part -- we'll use that table in the next part."
   ]
  },
  {
   "cell_type": "code",
   "execution_count": null,
   "id": "844f5147",
   "metadata": {
    "deletable": false,
    "execution": {
     "iopub.execute_input": "2025-09-24T10:32:13.047431Z",
     "iopub.status.busy": "2025-09-24T10:32:13.047244Z",
     "iopub.status.idle": "2025-09-24T10:32:13.050984Z",
     "shell.execute_reply": "2025-09-24T10:32:13.050512Z"
    },
    "tags": []
   },
   "outputs": [],
   "source": [
    "def lbs_string_to_oz(weight_text):\n",
    "    \"\"\"Takes a weight_text as a string containing a number followed by 'lbs'.  \n",
    "       Returns that weight as a number of ounces.\"\"\"\n",
    "    ...\n",
    "\n",
    "# Two calls to manually test your code.\n",
    "print('Converting 5lbs produces', lbs_string_to_oz('5lbs'))   # Should be 80.0\n",
    "print('Converting 0.5625lbs produces', lbs_string_to_oz('0.5625lbs'))   # Should be 9.0"
   ]
  },
  {
   "cell_type": "code",
   "execution_count": null,
   "id": "0e4c0931",
   "metadata": {
    "deletable": false,
    "editable": false
   },
   "outputs": [],
   "source": [
    "grader.check(\"p2.1\")"
   ]
  },
  {
   "cell_type": "markdown",
   "id": "12740385",
   "metadata": {
    "deletable": false,
    "editable": false
   },
   "source": [
    "#### Part 2.2 (5 pts)\n"
   ]
  },
  {
   "cell_type": "markdown",
   "id": "d1825c87",
   "metadata": {
    "deletable": false,
    "editable": false
   },
   "source": [
    "Now, we'll use the `lbs_string_to_oz` function we just created to convert the `'weight'` column into a column storing weights in ounces. We've given you most of the code.  You just need to fill in the parameters to `apply`.  See the documentation for [apply](https://www.cs.williams.edu/~cs104/auto/python-library-ref.html#apply) to see a description of the parameters and examples."
   ]
  },
  {
   "cell_type": "code",
   "execution_count": null,
   "id": "62700153",
   "metadata": {
    "deletable": false,
    "execution": {
     "iopub.execute_input": "2025-09-24T10:32:13.068761Z",
     "iopub.status.busy": "2025-09-24T10:32:13.068552Z",
     "iopub.status.idle": "2025-09-24T10:32:13.073466Z",
     "shell.execute_reply": "2025-09-24T10:32:13.073047Z"
    },
    "tags": []
   },
   "outputs": [],
   "source": [
    "weights_in_oz = cheeses.apply(..., ...)\n",
    "\n",
    "cheese_with_oz = cheeses.with_column(\"weight (ounces)\", weights_in_oz)\n",
    "cheese_with_oz"
   ]
  },
  {
   "cell_type": "code",
   "execution_count": null,
   "id": "c2fda560",
   "metadata": {
    "deletable": false,
    "editable": false
   },
   "outputs": [],
   "source": [
    "grader.check(\"p2.2\")"
   ]
  },
  {
   "cell_type": "markdown",
   "id": "3526c43d",
   "metadata": {
    "deletable": false,
    "editable": false
   },
   "source": [
    "<hr style=\"margin-bottom: 0px; padding:0; border: 2px solid #500082;\"/>\n"
   ]
  },
  {
   "cell_type": "markdown",
   "id": "fbf28c9a",
   "metadata": {
    "deletable": false,
    "editable": false,
    "tags": []
   },
   "source": [
    "## 3. Group (15 pts)\n",
    "\n"
   ]
  },
  {
   "cell_type": "markdown",
   "id": "65ae8963",
   "metadata": {
    "deletable": false,
    "editable": false
   },
   "source": [
    "<font color='#B1008E'>\n",
    "    \n",
    "##### Learning objectives\n",
    "- Use `group` to aggregate information from related rows in a table.\n",
    "</font>"
   ]
  },
  {
   "cell_type": "markdown",
   "id": "0b0edb45",
   "metadata": {
    "deletable": false,
    "editable": false
   },
   "source": [
    "As we've seen in lecture, our table's [group](https://www.cs.williams.edu/~cs104/auto/python-library-ref.html#group) method aggregates all rows with the same value for a given column into a single row in the resulting table.  Here, we'll write a few grouping operations on our Williams majors from 2018-2021 to gain a better intuition for what it means to aggregate rows into a single row.  \n",
    "\n",
    "First, run the following cell to load and subset the data:"
   ]
  },
  {
   "cell_type": "code",
   "execution_count": null,
   "id": "d878814e",
   "metadata": {
    "deletable": false,
    "editable": false,
    "execution": {
     "iopub.execute_input": "2025-09-24T10:32:13.092625Z",
     "iopub.status.busy": "2025-09-24T10:32:13.092455Z",
     "iopub.status.idle": "2025-09-24T10:32:13.100457Z",
     "shell.execute_reply": "2025-09-24T10:32:13.098988Z"
    },
    "tags": []
   },
   "outputs": [],
   "source": [
    "majors_2018_2021 = Table.read_table(\"majors.csv\")\n",
    "majors_2018_2021 = majors.drop(\"2008-2012\")\n",
    "majors_2018_2021"
   ]
  },
  {
   "cell_type": "markdown",
   "id": "b52adb69",
   "metadata": {
    "deletable": false,
    "editable": false
   },
   "source": [
    "#### Part 3.1 (5 pts)\n"
   ]
  },
  {
   "cell_type": "markdown",
   "id": "35ec5620",
   "metadata": {
    "deletable": false,
    "editable": false
   },
   "source": [
    "Let's count the number of distinct Major degrees in each Division. For example, American Studies, Anthropology are both Majors in Division 2.  \n",
    "\n",
    "To do so, we give only one parameter to `group`, namely the column with the values we're using to divide the rows into groups.  \n",
    "\n",
    "Complete the following code to compute the counts for each Division. \n",
    "\n",
    "*Note:* Be sure to carefully examine the labels of the columns in the resulting table. "
   ]
  },
  {
   "cell_type": "code",
   "execution_count": null,
   "id": "4984b0fb",
   "metadata": {
    "deletable": false,
    "execution": {
     "iopub.execute_input": "2025-09-24T10:32:13.105579Z",
     "iopub.status.busy": "2025-09-24T10:32:13.105254Z",
     "iopub.status.idle": "2025-09-24T10:32:13.114253Z",
     "shell.execute_reply": "2025-09-24T10:32:13.113173Z"
    },
    "tags": []
   },
   "outputs": [],
   "source": [
    "division_counts = majors_2018_2021.group(...)\n",
    "division_counts"
   ]
  },
  {
   "cell_type": "code",
   "execution_count": null,
   "id": "19f5e658",
   "metadata": {
    "deletable": false,
    "editable": false
   },
   "outputs": [],
   "source": [
    "grader.check(\"p3.1\")"
   ]
  },
  {
   "cell_type": "markdown",
   "id": "a76a0f25",
   "metadata": {
    "deletable": false,
    "editable": false
   },
   "source": [
    "#### Part 3.2 (5 pts)\n"
   ]
  },
  {
   "cell_type": "markdown",
   "id": "a082d4d8",
   "metadata": {
    "deletable": false,
    "editable": false
   },
   "source": [
    "Now, we'll use the second form of group that takes two parameters: \n",
    "1. The name of the column containing the values we're using the group the rows \n",
    "2. The function to apply to the array of values in each other column for that group.  \n",
    "\n",
    "We'll start by computing the total number of student majors in each Division.  \n",
    "\n",
    "*Hint*: Recall, the `sum` function?    \n",
    "\n",
    "Again, notice the column names in the resulting table, and also that if the aggregation function doesn't make sense for data in a column, you will just see an empty column in the result.   You can always drop those columns so they don't clutter your tables, but for now we'll just leave them in."
   ]
  },
  {
   "cell_type": "code",
   "execution_count": null,
   "id": "a925aada",
   "metadata": {
    "deletable": false,
    "execution": {
     "iopub.execute_input": "2025-09-24T10:32:13.139886Z",
     "iopub.status.busy": "2025-09-24T10:32:13.139625Z",
     "iopub.status.idle": "2025-09-24T10:32:13.145411Z",
     "shell.execute_reply": "2025-09-24T10:32:13.144758Z"
    },
    "tags": []
   },
   "outputs": [],
   "source": [
    "majors_by_division = majors_2018_2021.group(..., ...)\n",
    "majors_by_division"
   ]
  },
  {
   "cell_type": "code",
   "execution_count": null,
   "id": "5b254e3a",
   "metadata": {
    "deletable": false,
    "editable": false
   },
   "outputs": [],
   "source": [
    "grader.check(\"p3.2\")"
   ]
  },
  {
   "cell_type": "markdown",
   "id": "bd1e0c45",
   "metadata": {
    "deletable": false,
    "editable": false
   },
   "source": [
    "#### Part 3.3 (5 pts)\n"
   ]
  },
  {
   "cell_type": "markdown",
   "id": "279b1104",
   "metadata": {
    "deletable": false,
    "editable": false
   },
   "source": [
    "Let's do one last quick `group` operation.  \n",
    "\n",
    "Using `max` as the aggregation function, create a table that, for each division, shows the size of the largest major within that division.  You'll want to drop the \"Major\" column before grouping, since we are not interested in the name of the major.  Moreover, the group operation computes the values for the `Major` and `2018-2021` columns separately, so there is no guarantee that the \"Major\" column in the resulting table will match the data in the \"2018-2021\" column.  (You can try your group operation without first dropping \"Major\" to see this potential pitfall.)"
   ]
  },
  {
   "cell_type": "code",
   "execution_count": null,
   "id": "4b63e54b",
   "metadata": {
    "deletable": false,
    "execution": {
     "iopub.execute_input": "2025-09-24T10:32:13.164472Z",
     "iopub.status.busy": "2025-09-24T10:32:13.164301Z",
     "iopub.status.idle": "2025-09-24T10:32:13.168804Z",
     "shell.execute_reply": "2025-09-24T10:32:13.168296Z"
    },
    "tags": []
   },
   "outputs": [],
   "source": [
    "max_by_division = ...\n",
    "max_by_division"
   ]
  },
  {
   "cell_type": "code",
   "execution_count": null,
   "id": "ce7c91e0",
   "metadata": {
    "deletable": false,
    "editable": false
   },
   "outputs": [],
   "source": [
    "grader.check(\"p3.3\")"
   ]
  },
  {
   "cell_type": "markdown",
   "id": "f9585843",
   "metadata": {
    "deletable": false,
    "editable": false
   },
   "source": [
    "## Submission\n",
    "\n",
    "Make sure you have run all cells in your notebook in order before running the cell below, so that all images/graphs appear in the output. The cell below will generate a zip file for you to submit. **Please save before exporting!**"
   ]
  },
  {
   "cell_type": "code",
   "execution_count": null,
   "id": "d034c58d",
   "metadata": {
    "deletable": false,
    "editable": false
   },
   "outputs": [],
   "source": [
    "# Save your notebook first, then run this cell to export your submission.\n",
    "grader.export(pdf=False, run_tests=True)"
   ]
  },
  {
   "cell_type": "markdown",
   "id": "e2705d1d",
   "metadata": {},
   "source": [
    " "
   ]
  }
 ],
 "metadata": {
  "kernelspec": {
   "display_name": "Python 3 (ipykernel)",
   "language": "python",
   "name": "python3"
  },
  "language_info": {
   "codemirror_mode": {
    "name": "ipython",
    "version": 3
   },
   "file_extension": ".py",
   "mimetype": "text/x-python",
   "name": "python",
   "nbconvert_exporter": "python",
   "pygments_lexer": "ipython3",
   "version": "3.11.13"
  },
  "otter": {
   "OK_FORMAT": true,
   "tests": {
    "p1.1": {
     "has_hidden": false,
     "name": "p1.1",
     "points": 5,
     "suites": [
      {
       "cases": [
        {
         "code": ">>> check_str('twenty_percent == 20.0', locals())\n",
         "failure_message": "check(twenty_percent == 20.0)",
         "hidden": false,
         "locked": false,
         "submit_only": false,
         "success_message": "check(twenty_percent == 20.0)"
        },
        {
         "code": ">>> check_str('to_percentage(0.5) == 50.0', locals())\n",
         "failure_message": "check(to_percentage(0.5) == 50.0)",
         "hidden": false,
         "locked": false,
         "submit_only": false,
         "success_message": "check(to_percentage(0.5) == 50.0)"
        }
       ],
       "scored": true,
       "setup": "",
       "teardown": "",
       "type": "doctest"
      }
     ]
    },
    "p1.2": {
     "has_hidden": false,
     "name": "p1.2",
     "points": 5,
     "suites": [
      {
       "cases": [
        {
         "code": ">>> check_str('a_percentage == approx(70.711)', locals())\n",
         "failure_message": "check(a_percentage == approx(70.711))",
         "hidden": false,
         "locked": false,
         "submit_only": false,
         "success_message": "check(a_percentage == approx(70.711))"
        }
       ],
       "scored": true,
       "setup": "",
       "teardown": "",
       "type": "doctest"
      }
     ]
    },
    "p1.3": {
     "has_hidden": false,
     "name": "p1.3",
     "points": 5,
     "suites": [
      {
       "cases": [
        {
         "code": ">>> check_str('num_non_vowels(\"hoo hoo hoo\") == 5', locals())\n",
         "failure_message": "check(num_non_vowels(\"hoo hoo hoo\") == 5)",
         "hidden": false,
         "locked": false,
         "submit_only": false,
         "success_message": "check(num_non_vowels(\"hoo hoo hoo\") == 5)"
        }
       ],
       "scored": true,
       "setup": "",
       "teardown": "",
       "type": "doctest"
      }
     ]
    },
    "p1.5": {
     "has_hidden": false,
     "name": "p1.5",
     "points": 5,
     "suites": [
      {
       "cases": [
        {
         "code": ">>> check_str('kth_top_major_for_years(3, \\'2008-2012\\') == \\'Psychology\\'', locals())\n",
         "failure_message": "check(kth_top_major_for_years(3, '2008-2012') == 'Psychology')",
         "hidden": false,
         "locked": false,
         "submit_only": false,
         "success_message": "check(kth_top_major_for_years(3, '2008-2012') == 'Psychology')"
        },
        {
         "code": ">>> check_str('kth_top_major_for_years(3, \\'2018-2021\\') == \\'Mathematics\\'', locals())\n",
         "failure_message": "check(kth_top_major_for_years(3, '2018-2021') == 'Mathematics')",
         "hidden": false,
         "locked": false,
         "submit_only": false,
         "success_message": "check(kth_top_major_for_years(3, '2018-2021') == 'Mathematics')"
        }
       ],
       "scored": true,
       "setup": "",
       "teardown": "",
       "type": "doctest"
      }
     ]
    },
    "p2.1": {
     "has_hidden": false,
     "name": "p2.1",
     "points": 5,
     "suites": [
      {
       "cases": [
        {
         "code": ">>> check_str('lbs_string_to_oz(\"5lbs\") == 80.0', locals())\n",
         "failure_message": "check(lbs_string_to_oz(\"5lbs\") == 80.0)",
         "hidden": false,
         "locked": false,
         "submit_only": false,
         "success_message": "check(lbs_string_to_oz(\"5lbs\") == 80.0)"
        },
        {
         "code": ">>> check_str('lbs_string_to_oz(\"10lbs\") == 160.0', locals())\n",
         "failure_message": "check(lbs_string_to_oz(\"10lbs\") == 160.0)",
         "hidden": false,
         "locked": false,
         "submit_only": false,
         "success_message": "check(lbs_string_to_oz(\"10lbs\") == 160.0)"
        },
        {
         "code": ">>> check_str('lbs_string_to_oz(\"0.5625lbs\") == 9.0', locals())\n",
         "failure_message": "check(lbs_string_to_oz(\"0.5625lbs\") == 9.0)",
         "hidden": false,
         "locked": false,
         "submit_only": false,
         "success_message": "check(lbs_string_to_oz(\"0.5625lbs\") == 9.0)"
        }
       ],
       "scored": true,
       "setup": "",
       "teardown": "",
       "type": "doctest"
      }
     ]
    },
    "p2.2": {
     "has_hidden": false,
     "name": "p2.2",
     "points": 5,
     "suites": [
      {
       "cases": [
        {
         "code": ">>> check_str('cheese_with_oz.num_rows == 7', locals())\n",
         "failure_message": "check(cheese_with_oz.num_rows == 7)",
         "hidden": false,
         "locked": false,
         "submit_only": false,
         "success_message": "check(cheese_with_oz.num_rows == 7)"
        },
        {
         "code": ">>> check_str('cheese_with_oz.column(\"weight (ounces)\").item(0) == 80.0', locals())\n",
         "failure_message": "check(cheese_with_oz.column(\"weight (ounces)\").item(0) == 80.0)",
         "hidden": false,
         "locked": false,
         "submit_only": false,
         "success_message": "check(cheese_with_oz.column(\"weight (ounces)\").item(0) == 80.0)"
        },
        {
         "code": ">>> check_str('cheese_with_oz.column(\"weight (ounces)\").item(4) == 9.0', locals())\n",
         "failure_message": "check(cheese_with_oz.column(\"weight (ounces)\").item(4) == 9.0)",
         "hidden": false,
         "locked": false,
         "submit_only": false,
         "success_message": "check(cheese_with_oz.column(\"weight (ounces)\").item(4) == 9.0)"
        }
       ],
       "scored": true,
       "setup": "",
       "teardown": "",
       "type": "doctest"
      }
     ]
    },
    "p3.1": {
     "has_hidden": false,
     "name": "p3.1",
     "points": 5,
     "suites": [
      {
       "cases": [
        {
         "code": ">>> check_str('division_counts.labels == (\\'Division\\', \\'count\\')', locals())\n",
         "failure_message": "check(division_counts.labels == ('Division', 'count'))",
         "hidden": false,
         "locked": false,
         "submit_only": false,
         "success_message": "check(division_counts.labels == ('Division', 'count'))"
        },
        {
         "code": ">>> check_str('division_counts.column(\\'count\\').item(0) == 15', locals())\n",
         "failure_message": "check(division_counts.column('count').item(0) == 15)",
         "hidden": false,
         "locked": false,
         "submit_only": false,
         "success_message": "check(division_counts.column('count').item(0) == 15)"
        },
        {
         "code": ">>> check_str('division_counts.column(\\'count\\').item(2) == 10', locals())\n",
         "failure_message": "check(division_counts.column('count').item(2) == 10)",
         "hidden": false,
         "locked": false,
         "submit_only": false,
         "success_message": "check(division_counts.column('count').item(2) == 10)"
        }
       ],
       "scored": true,
       "setup": "",
       "teardown": "",
       "type": "doctest"
      }
     ]
    },
    "p3.2": {
     "has_hidden": false,
     "name": "p3.2",
     "points": 5,
     "suites": [
      {
       "cases": [
        {
         "code": ">>> check_str('majors_by_division.labels == (\\'Division\\', \\'Major sum\\', \\'2018-2021 sum\\')', locals())\n",
         "failure_message": "check(majors_by_division.labels == ('Division', 'Major sum', '2018-2021 sum'))",
         "hidden": false,
         "locked": false,
         "submit_only": false,
         "success_message": "check(majors_by_division.labels == ('Division', 'Major sum', '2018-2021 sum'))"
        },
        {
         "code": ">>> check_str('majors_by_division.column(\\'2018-2021 sum\\').item(0) == 161', locals())\n",
         "failure_message": "check(majors_by_division.column('2018-2021 sum').item(0) == 161)",
         "hidden": false,
         "locked": false,
         "submit_only": false,
         "success_message": "check(majors_by_division.column('2018-2021 sum').item(0) == 161)"
        },
        {
         "code": ">>> check_str('majors_by_division.column(\\'2018-2021 sum\\').item(2) == 297', locals())\n",
         "failure_message": "check(majors_by_division.column('2018-2021 sum').item(2) == 297)",
         "hidden": false,
         "locked": false,
         "submit_only": false,
         "success_message": "check(majors_by_division.column('2018-2021 sum').item(2) == 297)"
        }
       ],
       "scored": true,
       "setup": "",
       "teardown": "",
       "type": "doctest"
      }
     ]
    },
    "p3.3": {
     "has_hidden": false,
     "name": "p3.3",
     "points": 5,
     "suites": [
      {
       "cases": [
        {
         "code": ">>> check_str('max_by_division.labels == (\\'Division\\', \\'2018-2021 max\\')', locals())\n",
         "failure_message": "check(max_by_division.labels == ('Division', '2018-2021 max'))",
         "hidden": false,
         "locked": false,
         "submit_only": false,
         "success_message": "check(max_by_division.labels == ('Division', '2018-2021 max'))"
        },
        {
         "code": ">>> check_str('max_by_division.num_rows == 3', locals())\n",
         "failure_message": "check(max_by_division.num_rows == 3)",
         "hidden": false,
         "locked": false,
         "submit_only": false,
         "success_message": "check(max_by_division.num_rows == 3)"
        },
        {
         "code": ">>> check_str('max_by_division.column(\\'2018-2021 max\\').item(0) == 50', locals())\n",
         "failure_message": "check(max_by_division.column('2018-2021 max').item(0) == 50)",
         "hidden": false,
         "locked": false,
         "submit_only": false,
         "success_message": "check(max_by_division.column('2018-2021 max').item(0) == 50)"
        },
        {
         "code": ">>> check_str('max_by_division.column(\\'2018-2021 max\\').item(1) == 105', locals())\n",
         "failure_message": "check(max_by_division.column('2018-2021 max').item(1) == 105)",
         "hidden": false,
         "locked": false,
         "submit_only": false,
         "success_message": "check(max_by_division.column('2018-2021 max').item(1) == 105)"
        },
        {
         "code": ">>> check_str('max_by_division.column(\\'2018-2021 max\\').item(2) == 61', locals())\n",
         "failure_message": "check(max_by_division.column('2018-2021 max').item(2) == 61)",
         "hidden": false,
         "locked": false,
         "submit_only": false,
         "success_message": "check(max_by_division.column('2018-2021 max').item(2) == 61)"
        }
       ],
       "scored": true,
       "setup": "",
       "teardown": "",
       "type": "doctest"
      }
     ]
    }
   }
  },
  "vscode": {
   "interpreter": {
    "hash": "b181b7ac44b61709e1e9acd3475e041866d62bfe876365f68179fcb4e3bc0c2d"
   }
  },
  "widgets": {
   "application/vnd.jupyter.widget-state+json": {
    "state": {
     "10331384ffcc4ef288cfce193d0210c6": {
      "model_module": "@jupyter-widgets/controls",
      "model_module_version": "1.5.0",
      "model_name": "SliderStyleModel",
      "state": {
       "_model_module": "@jupyter-widgets/controls",
       "_model_module_version": "1.5.0",
       "_model_name": "SliderStyleModel",
       "_view_count": null,
       "_view_module": "@jupyter-widgets/base",
       "_view_module_version": "1.2.0",
       "_view_name": "StyleView",
       "description_width": "",
       "handle_color": null
      }
     },
     "5cc69164301c46cc92406f073d10b957": {
      "model_module": "@jupyter-widgets/output",
      "model_module_version": "1.0.0",
      "model_name": "OutputModel",
      "state": {
       "_dom_classes": [],
       "_model_module": "@jupyter-widgets/output",
       "_model_module_version": "1.0.0",
       "_model_name": "OutputModel",
       "_view_count": null,
       "_view_module": "@jupyter-widgets/output",
       "_view_module_version": "1.0.0",
       "_view_name": "OutputView",
       "layout": "IPY_MODEL_c7ae27ab4bf84ffe9ec6bcd8fa1a4985",
       "msg_id": "",
       "outputs": [
        {
         "name": "stdout",
         "output_type": "stream",
         "text": "Major ranked 5 by size in 2018-2021 was Computer Science\n"
        }
       ]
      }
     },
     "a3e034c2ffb042f98117c6dddd02436b": {
      "model_module": "@jupyter-widgets/controls",
      "model_module_version": "1.5.0",
      "model_name": "IntSliderModel",
      "state": {
       "_dom_classes": [],
       "_model_module": "@jupyter-widgets/controls",
       "_model_module_version": "1.5.0",
       "_model_name": "IntSliderModel",
       "_view_count": null,
       "_view_module": "@jupyter-widgets/controls",
       "_view_module_version": "1.5.0",
       "_view_name": "IntSliderView",
       "continuous_update": true,
       "description": "k",
       "description_tooltip": null,
       "disabled": false,
       "layout": "IPY_MODEL_f57c12ae1ab847258c9f36502af18fa3",
       "max": 10,
       "min": 1,
       "orientation": "horizontal",
       "readout": true,
       "readout_format": "d",
       "step": 1,
       "style": "IPY_MODEL_10331384ffcc4ef288cfce193d0210c6",
       "value": 5
      }
     },
     "a846ebd0a0e747628d83f444e8013d28": {
      "model_module": "@jupyter-widgets/controls",
      "model_module_version": "1.5.0",
      "model_name": "VBoxModel",
      "state": {
       "_dom_classes": [
        "widget-interact"
       ],
       "_model_module": "@jupyter-widgets/controls",
       "_model_module_version": "1.5.0",
       "_model_name": "VBoxModel",
       "_view_count": null,
       "_view_module": "@jupyter-widgets/controls",
       "_view_module_version": "1.5.0",
       "_view_name": "VBoxView",
       "box_style": "",
       "children": [
        "IPY_MODEL_a3e034c2ffb042f98117c6dddd02436b",
        "IPY_MODEL_5cc69164301c46cc92406f073d10b957"
       ],
       "layout": "IPY_MODEL_cc3b7d9a24fc43f9b910d6461c39dc7b"
      }
     },
     "c7ae27ab4bf84ffe9ec6bcd8fa1a4985": {
      "model_module": "@jupyter-widgets/base",
      "model_module_version": "1.2.0",
      "model_name": "LayoutModel",
      "state": {
       "_model_module": "@jupyter-widgets/base",
       "_model_module_version": "1.2.0",
       "_model_name": "LayoutModel",
       "_view_count": null,
       "_view_module": "@jupyter-widgets/base",
       "_view_module_version": "1.2.0",
       "_view_name": "LayoutView",
       "align_content": null,
       "align_items": null,
       "align_self": null,
       "border": null,
       "bottom": null,
       "display": null,
       "flex": null,
       "flex_flow": null,
       "grid_area": null,
       "grid_auto_columns": null,
       "grid_auto_flow": null,
       "grid_auto_rows": null,
       "grid_column": null,
       "grid_gap": null,
       "grid_row": null,
       "grid_template_areas": null,
       "grid_template_columns": null,
       "grid_template_rows": null,
       "height": null,
       "justify_content": null,
       "justify_items": null,
       "left": null,
       "margin": null,
       "max_height": null,
       "max_width": null,
       "min_height": null,
       "min_width": null,
       "object_fit": null,
       "object_position": null,
       "order": null,
       "overflow": null,
       "overflow_x": null,
       "overflow_y": null,
       "padding": null,
       "right": null,
       "top": null,
       "visibility": null,
       "width": null
      }
     },
     "cc3b7d9a24fc43f9b910d6461c39dc7b": {
      "model_module": "@jupyter-widgets/base",
      "model_module_version": "1.2.0",
      "model_name": "LayoutModel",
      "state": {
       "_model_module": "@jupyter-widgets/base",
       "_model_module_version": "1.2.0",
       "_model_name": "LayoutModel",
       "_view_count": null,
       "_view_module": "@jupyter-widgets/base",
       "_view_module_version": "1.2.0",
       "_view_name": "LayoutView",
       "align_content": null,
       "align_items": null,
       "align_self": null,
       "border": null,
       "bottom": null,
       "display": null,
       "flex": null,
       "flex_flow": null,
       "grid_area": null,
       "grid_auto_columns": null,
       "grid_auto_flow": null,
       "grid_auto_rows": null,
       "grid_column": null,
       "grid_gap": null,
       "grid_row": null,
       "grid_template_areas": null,
       "grid_template_columns": null,
       "grid_template_rows": null,
       "height": null,
       "justify_content": null,
       "justify_items": null,
       "left": null,
       "margin": null,
       "max_height": null,
       "max_width": null,
       "min_height": null,
       "min_width": null,
       "object_fit": null,
       "object_position": null,
       "order": null,
       "overflow": null,
       "overflow_x": null,
       "overflow_y": null,
       "padding": null,
       "right": null,
       "top": null,
       "visibility": null,
       "width": null
      }
     },
     "f57c12ae1ab847258c9f36502af18fa3": {
      "model_module": "@jupyter-widgets/base",
      "model_module_version": "1.2.0",
      "model_name": "LayoutModel",
      "state": {
       "_model_module": "@jupyter-widgets/base",
       "_model_module_version": "1.2.0",
       "_model_name": "LayoutModel",
       "_view_count": null,
       "_view_module": "@jupyter-widgets/base",
       "_view_module_version": "1.2.0",
       "_view_name": "LayoutView",
       "align_content": null,
       "align_items": null,
       "align_self": null,
       "border": null,
       "bottom": null,
       "display": null,
       "flex": null,
       "flex_flow": null,
       "grid_area": null,
       "grid_auto_columns": null,
       "grid_auto_flow": null,
       "grid_auto_rows": null,
       "grid_column": null,
       "grid_gap": null,
       "grid_row": null,
       "grid_template_areas": null,
       "grid_template_columns": null,
       "grid_template_rows": null,
       "height": null,
       "justify_content": null,
       "justify_items": null,
       "left": null,
       "margin": null,
       "max_height": null,
       "max_width": null,
       "min_height": null,
       "min_width": null,
       "object_fit": null,
       "object_position": null,
       "order": null,
       "overflow": null,
       "overflow_x": null,
       "overflow_y": null,
       "padding": null,
       "right": null,
       "top": null,
       "visibility": null,
       "width": null
      }
     }
    },
    "version_major": 2,
    "version_minor": 0
   }
  }
 },
 "nbformat": 4,
 "nbformat_minor": 5
}
