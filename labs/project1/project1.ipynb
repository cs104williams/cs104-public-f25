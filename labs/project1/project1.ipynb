{
 "cells": [
  {
   "cell_type": "code",
   "execution_count": null,
   "id": "b27db03e",
   "metadata": {
    "deletable": false,
    "editable": false
   },
   "outputs": [],
   "source": [
    "# Initialize Otter\n",
    "import otter\n",
    "grader = otter.Notebook(\"project1.ipynb\")"
   ]
  },
  {
   "cell_type": "markdown",
   "id": "343fc8e0",
   "metadata": {
    "deletable": false,
    "editable": false
   },
   "source": [
    "<table style=\"width: 100%;\">\n",
    "<tr style=\"background-color: transparent;\">\n",
    "<td width=\"100px\"><img src=\"https://cs104williams.github.io/assets/cs104-logo.png\" width=\"90px\" style=\"text-align: center\"/></td>\n",
    "<td>\n",
    "  <p style=\"margin-bottom: 0px; text-align: left; font-size: 18pt;\"><strong>CSCI 104: Data Science and Computing for All</strong><br>\n",
    "                Williams College<br>\n",
    "                Fall 2025</p>\n",
    "</td>\n",
    "</tr>\n"
   ]
  },
  {
   "cell_type": "markdown",
   "id": "b123676b",
   "metadata": {
    "deletable": false,
    "editable": false
   },
   "source": [
    "<hr style=\"margin-bottom: 0px; padding:0; border: 2px solid #500082;\"/>"
   ]
  },
  {
   "cell_type": "markdown",
   "id": "8fab1d0d",
   "metadata": {
    "deletable": false,
    "editable": false
   },
   "source": [
    "# Midterm Project: World Progress\n",
    "\n",
    "In this project, you'll explore data from [Gapminder.org](http://gapminder.org), a website dedicated to providing a fact-based view of the world and how it has changed. That site includes several data visualizations and presentations, and it also publishes the raw data that we will use in this project to recreate and extend some of their most famous visualizations.\n",
    "\n",
    "The Gapminder website collects data from many sources and compiles them into tables that describe many countries around the world. All of the data they aggregate are published in the [Systema Globalis](https://github.com/open-numbers/ddf--gapminder--systema_globalis/blob/master/README.md). Their goal is \"to compile all public statistics; Social, Economic and Environmental; into a comparable total dataset.\" All data sets in this project are copied directly from the Systema Globalis without any changes.\n",
    "\n",
    "\n",
    "## Honor Code\n",
    "\n",
    "This project aims to synthesize the material we have covered in this course so far and assess the python and data wrangling skills you have all learned.  As such, **this project is to be completed on your own**. Specifically, the Honor Code as interpreted for this assignment is as follows:\n",
    "\n",
    "* **You may consult the text, your notes, your lab work, our lecture examples, and the web pages associated with the course web page.  No other resources are permitted.**  You may not search the web, use ChatGPT or similar systems, or any materials other than your own or those provided by the instructors through the course web pages.\n",
    "\n",
    "* **You may discuss these questions and review general concepts from the class materials with the course instructors and TAs.**  While we expect you to develop your solutions independently, we're happy to answer clarification questions, help you interpret Python error messages, offer general debugging advice, review lecture and lab materials, etc.\n",
    "\n",
    "* **You may not discuss this project or your solutions with anyone else until after the final submission deadline.**\n",
    "\n",
    "*Do not hesitate to ask if you are in doubt as to what is appropriate. We're happy to discuss this anytime.*\n",
    "\n",
    "\n",
    "## Deadlines\n",
    "\n",
    "* **10pm on Friday, Oct 11: Checkpoint.**  You must complete the first 8 questions, and pass the public autograder tests for those parts.  Submitting this checkpoint is worth 5% of your entire project grade.  After you've submitted the checkpoint, you may still change your answers before the project deadline - only your final submission, to the Project 1 assignment, will be graded for correctness. \n",
    "\n",
    "* **10pm on Thursday, Oct 17: Final Due Date.**  The full project must be submitted to Gradescope.\n",
    "\n",
    "Late days may not be used on the project.\n",
    "\n",
    "## Instructions\n",
    "\n",
    "- Before you begin, execute the cell at the TOP of the notebook to load the provided tests, as well as the following cell to setup the notebook by importing some helpful libraries. Each time you start your server, you will need to execute these cells again.  \n",
    "\n",
    "- Be sure to consult your [Python Reference](https://cs104williams.github.io/assets/python-library-ref.html)!\n",
    "\n",
    "- Complete this notebook by filling in the cells provided. For problems asking you to write explanations, you **must** provide your answer in the designated space. \n",
    "\n",
    "- Please be sure to not re-assign variables throughout the notebook.  For example, if you use `max_temperature` in your answer to one question, do not reassign it later on. Otherwise, you will fail tests that you thought you were passing previously.\n",
    "\n",
    "- This project has hidden tests for some parts. That means even though tests may say 100% passed, doesn't mean your final grade will be 100%. We will be running more tests for correctness once everyone turns in the lab.\n",
    "\n",
    "## Hints for Success\n",
    "\n",
    "- You may find some parts of this project challenging.  Keep in mind that a perfect score is not necessary to be highly successful in this class.  Do your best, but please do not worry if you are unable to complete all parts.\n",
    "\n",
    "- Along those lines, give yourself ample time to think about the material and develop your solutions.  Don't wait until the last minute!\n",
    "\n",
    "- Develop your answers incrementally. To perform a complicated table manipulation, break it up into steps, perform each step on a different line, give a new name to each result, and check that each intermediate result is what you expect. \n",
    "\n",
    "- You may add any additional names or functions you want to the provided cells. Be sure to use distinct and meaningful variable names throughout the notebook, but do not reassign to names we have already used in the notebook. Recall, in the file menu you can select `Kernel > Restart Kernel and Run All Cells` to ensure variables you have deleted are not still in the computer's memory and to run everything from scratch.\n"
   ]
  },
  {
   "cell_type": "markdown",
   "id": "8b1ba937",
   "metadata": {
    "deletable": false,
    "editable": false
   },
   "source": [
    "<hr/>"
   ]
  },
  {
   "cell_type": "code",
   "execution_count": null,
   "id": "7fbc259f",
   "metadata": {
    "deletable": false,
    "editable": false,
    "execution": {
     "iopub.execute_input": "2025-09-30T10:36:11.206898Z",
     "iopub.status.busy": "2025-09-30T10:36:11.206503Z",
     "iopub.status.idle": "2025-09-30T10:36:12.760122Z",
     "shell.execute_reply": "2025-09-30T10:36:12.759555Z"
    },
    "tags": []
   },
   "outputs": [],
   "source": [
    "# Run this cell to set up the notebook.\n",
    "# These lines import the numpy, datascience, and cs104 libraries.\n",
    "\n",
    "import numpy as np\n",
    "from datascience import *\n",
    "from cs104 import *\n",
    "%matplotlib inline"
   ]
  },
  {
   "cell_type": "markdown",
   "id": "53a08e79",
   "metadata": {
    "deletable": false,
    "editable": false
   },
   "source": [
    "The global population of humans reached 1 billion around 1800, 3 billion around 1960, and 7 billion around 2011. The potential impact of exponential population growth has concerned scientists, economists, and politicians alike.\n",
    "\n",
    "The UN Population Division estimates that the world population will likely continue to grow throughout the 21st century, but at a slower rate, perhaps reaching 11 billion by 2100. However, the UN does not rule out scenarios of more extreme growth.\n",
    "\n",
    "<a href=\"http://www.pewresearch.org/fact-tank/2015/06/08/scientists-more-worried-than-public-about-worlds-growing-population/ft_15-06-04_popcount/\"> \n",
    " <img src=\"pew_population_projection.png\"/> \n",
    "</a>\n",
    "\n",
    "We  begin the project by examining some of the factors that influence population growth and how they have been changing over the years and around the world. There are two main sub-parts of this analysis.\n",
    "\n",
    "- First, we  examine the data for one country, Bangladesh. We will see how factors such as life expectancy, fertility rate, and child mortality have changed over time in Bangladesh, and how they are related to the rate of population growth.\n",
    "- Next, we  examine whether the changes we have observed for Bangladesh are particular to that country or whether they reflect general patterns observable in other countries too. We will study aspects of world population growth and see how they have been changing.\n",
    "\n",
    "The first table we  consider contains the total population of each country over time. Run the cell below.    (The population csv file can also be found [here](https://github.com/open-numbers/ddf--gapminder--systema_globalis/blob/master/countries-etc-datapoints/ddf--datapoints--population_total--by--geo--time.csv).)"
   ]
  },
  {
   "cell_type": "code",
   "execution_count": null,
   "id": "dd2843ca",
   "metadata": {
    "deletable": false,
    "editable": false,
    "execution": {
     "iopub.execute_input": "2025-09-30T10:36:12.762901Z",
     "iopub.status.busy": "2025-09-30T10:36:12.762618Z",
     "iopub.status.idle": "2025-09-30T10:36:12.867378Z",
     "shell.execute_reply": "2025-09-30T10:36:12.866916Z"
    },
    "tags": []
   },
   "outputs": [],
   "source": [
    "population = Table.read_table('population.csv').where('Time', are.below(2021))\n",
    "population.show(3)"
   ]
  },
  {
   "cell_type": "markdown",
   "id": "d48c528d",
   "metadata": {
    "deletable": false,
    "editable": false
   },
   "source": [
    "In this table, the `geo` column contains three-letter codes established by the [International Organization for Standardization](https://en.wikipedia.org/wiki/International_Organization_for_Standardization) (ISO) in the [Alpha-3](https://en.wikipedia.org/wiki/ISO_3166-1_alpha-3#Current_codes) standard."
   ]
  },
  {
   "cell_type": "markdown",
   "id": "5d6fed5b",
   "metadata": {
    "deletable": false,
    "editable": false
   },
   "source": [
    "<hr style=\"margin-bottom: 0px; padding:0; border: 2px solid #500082;\"/>\n"
   ]
  },
  {
   "cell_type": "markdown",
   "id": "faa94219",
   "metadata": {
    "deletable": false,
    "editable": false
   },
   "source": [
    "## 1. Population Growth: Bangladesh (40 pts)\n",
    "\n"
   ]
  },
  {
   "cell_type": "markdown",
   "id": "12a540fb",
   "metadata": {
    "deletable": false,
    "editable": false
   },
   "source": [
    "The nation of [Bangladesh](https://en.wikipedia.org/wiki/Bangladesh#People's_Republic_of_Bangladesh) was established as a parliamentary democracy after the Bangladesh Liberation War ended in 1971. The war-ravaged fledgling nation was almost immediately faced with floods and famine. In this section of the project, we will examine aspects of the development of Bangladesh since that time. \n",
    "\n",
    "Before proceeding, consult the [Alpha-3](https://en.wikipedia.org/wiki/ISO_3166-1_alpha-3#Current_codes) link above to find the 3-letter code for Bangladesh."
   ]
  },
  {
   "cell_type": "markdown",
   "id": "d5e91f8d",
   "metadata": {
    "deletable": false,
    "editable": false
   },
   "source": [
    "#### Part 1.1 (5 pts)\n"
   ]
  },
  {
   "cell_type": "markdown",
   "id": "df0bf7e9",
   "metadata": {
    "deletable": false,
    "editable": false
   },
   "source": [
    "Create a table called `b_pop` that has two columns labeled `Time` and `Population` (in that exact order). The first column should contain the years from 1970 through 2020 (including both 1970 and 2020) and the second should contain the population of Bangladesh in each of those years.\n",
    "\n"
   ]
  },
  {
   "cell_type": "code",
   "execution_count": null,
   "id": "62c3864f",
   "metadata": {
    "deletable": false,
    "execution": {
     "iopub.execute_input": "2025-09-30T10:36:12.870622Z",
     "iopub.status.busy": "2025-09-30T10:36:12.870446Z",
     "iopub.status.idle": "2025-09-30T10:36:12.904097Z",
     "shell.execute_reply": "2025-09-30T10:36:12.903549Z"
    },
    "tags": []
   },
   "outputs": [],
   "source": [
    "...\n",
    "b_pop = ...\n",
    "b_pop"
   ]
  },
  {
   "cell_type": "code",
   "execution_count": null,
   "id": "62d26e2d",
   "metadata": {
    "deletable": false,
    "editable": false
   },
   "outputs": [],
   "source": [
    "grader.check(\"p1.1\")"
   ]
  },
  {
   "cell_type": "markdown",
   "id": "1aab20c6",
   "metadata": {
    "deletable": false,
    "editable": false
   },
   "source": [
    "Run the following cell to create a table called `b_five` that has the population of Bangladesh every five years. At a glance, it appears that the population of Bangladesh has been growing quickly indeed!\n",
    "\n",
    "*Note:* You do not need to change or add anything to the cell below. "
   ]
  },
  {
   "cell_type": "code",
   "execution_count": null,
   "id": "50a1fb27",
   "metadata": {
    "deletable": false,
    "editable": false,
    "execution": {
     "iopub.execute_input": "2025-09-30T10:36:12.928919Z",
     "iopub.status.busy": "2025-09-30T10:36:12.928748Z",
     "iopub.status.idle": "2025-09-30T10:36:12.932871Z",
     "shell.execute_reply": "2025-09-30T10:36:12.932497Z"
    },
    "tags": []
   },
   "outputs": [],
   "source": [
    "b_pop.set_format('Population', NumberFormatter)  # Prints populations with commas\n",
    "\n",
    "fives = np.arange(1970, 2021, 5) # 1970, 1975, 1980, ...\n",
    "b_five = b_pop.sort('Time').where('Time', are.contained_in(fives))\n",
    "b_five.show()"
   ]
  },
  {
   "cell_type": "markdown",
   "id": "4a3f8d5b",
   "metadata": {
    "deletable": false,
    "editable": false
   },
   "source": [
    "#### Part 1.2 (5 pts)\n"
   ]
  },
  {
   "cell_type": "markdown",
   "id": "d07ff95a",
   "metadata": {
    "deletable": false,
    "editable": false
   },
   "source": [
    "Let's write code to find the population growth rate. \n",
    "\n",
    "Assign `initial` to an array that contains the population for every five year interval from 1970 to 2015 (inclusive). Then, assign `changed` to an array that contains the population for every five year interval from 1975 to 2020 (inclusive). The first array should include both 1970 and 2015, and the second array should include both 1975 and 2020. \n",
    "\n",
    "You should use the `b_five` table to create both arrays, by first filtering the table to only contain the relevant years.\n",
    "\n",
    "We have provided the code below that uses  `initial` and `changed` in order to add a column to `b_five` called `annual_growth`. Don't worry about the calculation of the growth rates; run the test below to test your solution.\n",
    "\n",
    "If you are interested in how we came up with the formula for growth rates, consult the [growth rates](https://inferentialthinking.com/chapters/03/2/1/Growth.html) section of the textbook.\n",
    "\n"
   ]
  },
  {
   "cell_type": "code",
   "execution_count": null,
   "id": "f6917818",
   "metadata": {
    "deletable": false,
    "execution": {
     "iopub.execute_input": "2025-09-30T10:36:12.935171Z",
     "iopub.status.busy": "2025-09-30T10:36:12.935013Z",
     "iopub.status.idle": "2025-09-30T10:36:12.940594Z",
     "shell.execute_reply": "2025-09-30T10:36:12.940012Z"
    },
    "tags": []
   },
   "outputs": [],
   "source": [
    "initial = ...\n",
    "changed = ...\n",
    "\n",
    "b_1970_through_2015 = b_five.where('Time', are.below_or_equal_to(2015)) \n",
    "b_five_growth = b_1970_through_2015.with_column('Annual Growth', (changed/initial)**(1/5)-1)\n",
    "b_five_growth.set_format('Annual Growth', PercentFormatter)"
   ]
  },
  {
   "cell_type": "code",
   "execution_count": null,
   "id": "3751d2b8",
   "metadata": {
    "deletable": false,
    "editable": false
   },
   "outputs": [],
   "source": [
    "grader.check(\"p1.2\")"
   ]
  },
  {
   "cell_type": "markdown",
   "id": "1c431efc",
   "metadata": {
    "deletable": false,
    "editable": false
   },
   "source": [
    "While the population has grown every five years since 1970, the annual growth rate decreased dramatically from 1985 to 2015. Let's look at some other information in order to develop a possible explanation. Run the next cell to load three additional tables of measurements about countries over time."
   ]
  },
  {
   "cell_type": "code",
   "execution_count": null,
   "id": "7bf58be4",
   "metadata": {
    "deletable": false,
    "editable": false,
    "execution": {
     "iopub.execute_input": "2025-09-30T10:36:12.985248Z",
     "iopub.status.busy": "2025-09-30T10:36:12.985091Z",
     "iopub.status.idle": "2025-09-30T10:36:13.283942Z",
     "shell.execute_reply": "2025-09-30T10:36:13.283027Z"
    },
    "tags": []
   },
   "outputs": [],
   "source": [
    "life_expectancy = Table.read_table('life_expectancy.csv').where('Time', are.below(2021))\n",
    "child_mortality = Table.read_table('child_mortality.csv').where('Time', are.below(2021))\n",
    "fertility = Table.read_table('fertility.csv').where('Time', are.below(2021))"
   ]
  },
  {
   "cell_type": "markdown",
   "id": "92d4167b",
   "metadata": {
    "deletable": false,
    "editable": false
   },
   "source": [
    "The `life_expectancy` table contains a statistic that is often used to measure how long people live, called *life expectancy at birth*. This number, for a country in a given year, [does not measure how long babies born in that year are expected to live](http://blogs.worldbank.org/opendata/what-does-life-expectancy-birth-really-mean). Instead, it measures how long someone would live, on average, if the *mortality conditions* in that year persisted throughout their lifetime. These \"mortality conditions\" describe what fraction of people at each age survived the year. So, it is a way of measuring the proportion of people that are staying alive, aggregated over different age groups in the population."
   ]
  },
  {
   "cell_type": "markdown",
   "id": "4acf72d2",
   "metadata": {
    "deletable": false,
    "editable": false
   },
   "source": [
    "Run the following cells below to see `life_expectancy`, `child_mortality`, and `fertility`. Refer back to these tables as they will be helpful for answering further questions!"
   ]
  },
  {
   "cell_type": "code",
   "execution_count": null,
   "id": "79f792f7",
   "metadata": {
    "deletable": false,
    "editable": false,
    "execution": {
     "iopub.execute_input": "2025-09-30T10:36:13.287204Z",
     "iopub.status.busy": "2025-09-30T10:36:13.286975Z",
     "iopub.status.idle": "2025-09-30T10:36:13.291960Z",
     "shell.execute_reply": "2025-09-30T10:36:13.291419Z"
    },
    "tags": []
   },
   "outputs": [],
   "source": [
    "life_expectancy.show(3)"
   ]
  },
  {
   "cell_type": "code",
   "execution_count": null,
   "id": "5bf16e87",
   "metadata": {
    "deletable": false,
    "editable": false,
    "execution": {
     "iopub.execute_input": "2025-09-30T10:36:13.294265Z",
     "iopub.status.busy": "2025-09-30T10:36:13.294040Z",
     "iopub.status.idle": "2025-09-30T10:36:13.297784Z",
     "shell.execute_reply": "2025-09-30T10:36:13.297330Z"
    },
    "tags": []
   },
   "outputs": [],
   "source": [
    "child_mortality.show(3)"
   ]
  },
  {
   "cell_type": "code",
   "execution_count": null,
   "id": "3d4310f4",
   "metadata": {
    "deletable": false,
    "editable": false,
    "execution": {
     "iopub.execute_input": "2025-09-30T10:36:13.300211Z",
     "iopub.status.busy": "2025-09-30T10:36:13.300036Z",
     "iopub.status.idle": "2025-09-30T10:36:13.303834Z",
     "shell.execute_reply": "2025-09-30T10:36:13.303180Z"
    },
    "tags": []
   },
   "outputs": [],
   "source": [
    "fertility.show(3)"
   ]
  },
  {
   "cell_type": "markdown",
   "id": "a5ebcff1",
   "metadata": {
    "deletable": false,
    "editable": false
   },
   "source": [
    "<!-- BEGIN QUESTION -->\n",
    "\n",
    "#### Part 1.3 (5 pts)\n"
   ]
  },
  {
   "cell_type": "markdown",
   "id": "75a0fe3d",
   "metadata": {
    "deletable": false,
    "editable": false
   },
   "source": [
    "Let's explore the hypothesis that the population is growing more slowly because people aren't living as long. \n",
    "\n",
    "Use the `life_expectancy` table to draw a line graph with the years 1970 and later on the horizontal axis that shows how the *life expectancy at birth* has changed in Bangladesh.\n",
    " \n",
    "*Note:* We are still focusing only on Bangladesh and no other countries at the moment. "
   ]
  },
  {
   "cell_type": "code",
   "execution_count": null,
   "id": "9b808ffc",
   "metadata": {
    "deletable": false,
    "execution": {
     "iopub.execute_input": "2025-09-30T10:36:13.306972Z",
     "iopub.status.busy": "2025-09-30T10:36:13.306646Z",
     "iopub.status.idle": "2025-09-30T10:36:13.557838Z",
     "shell.execute_reply": "2025-09-30T10:36:13.557345Z"
    },
    "tags": []
   },
   "outputs": [],
   "source": [
    "..."
   ]
  },
  {
   "cell_type": "markdown",
   "id": "e90fac19",
   "metadata": {
    "deletable": false,
    "editable": false
   },
   "source": [
    "<!-- END QUESTION -->\n",
    "\n",
    "<!-- BEGIN QUESTION -->\n",
    "\n",
    "#### Part 1.4 (5 pts)\n"
   ]
  },
  {
   "cell_type": "markdown",
   "id": "725257ef",
   "metadata": {
    "deletable": false,
    "editable": false
   },
   "source": [
    " Assuming everything else stays the same, do the trends in life expectancy in the graph above directly explain why the population growth rate decreased from 1985 to 2015 in Bangladesh? Why or why not? \n",
    "\n",
    "*Hint:* What happened in Bangladesh in 1991, and does that event explain the overall change in population growth rate? This [webpage](https://en.wikipedia.org/wiki/1991_Bangladesh_cyclone) provides relevant context.\n",
    "\n"
   ]
  },
  {
   "cell_type": "markdown",
   "id": "126258c3",
   "metadata": {
    "deletable": false,
    "editable": false
   },
   "source": [
    "<hr style=\"margin:0; border: 1px solid #FFBE0A;\"/><font color='#FFBE0A'>Written Answer:</font>"
   ]
  },
  {
   "cell_type": "markdown",
   "id": "32ce37a5",
   "metadata": {
    "deletable": false
   },
   "source": [
    "_Type your answer here, replacing this text._\n"
   ]
  },
  {
   "cell_type": "markdown",
   "id": "80f90929",
   "metadata": {
    "deletable": false,
    "editable": false
   },
   "source": [
    "<hr style=\"margin:0; border: 1px solid #FFBE0A;\"/>"
   ]
  },
  {
   "cell_type": "markdown",
   "id": "bfb14bda",
   "metadata": {
    "deletable": false,
    "editable": false
   },
   "source": [
    "<!-- END QUESTION -->\n",
    "\n",
    "#### Part 1.5 (5 pts)\n"
   ]
  },
  {
   "cell_type": "markdown",
   "id": "6f6441ac",
   "metadata": {
    "deletable": false,
    "editable": false
   },
   "source": [
    "The `fertility` table contains a statistic that is often used to measure how many babies are being born, the *total fertility rate*. This number describes the [number of children a woman would have in her lifetime](https://www.measureevaluation.org/prh/rh_indicators/specific/fertility/total-fertility-rate), on average, if the current rates of birth by age of the mother persisted throughout her child bearing years, assuming she survived through age 49. "
   ]
  },
  {
   "cell_type": "markdown",
   "id": "84755b72",
   "metadata": {
    "deletable": false,
    "editable": false
   },
   "source": [
    "For this part, complete the function `fertility_over_time`. The function has two parameters: \n",
    " - `country_code`: an Alpha-3 code of a country\n",
    " - `start`: the start year of the returned table (inclusive) \n",
    " \n",
    "The function returns a two-column table with labels `Year` and `Children per woman` with the country's fertility rate each year, starting at the `start` year (it should include all later years that appear in the `fertility` table). \n",
    "\n",
    "After you've written the function, use the provided code  to plot how Bangladesh's fertility rate has changed since 1970. **The expression that draws the line plot is provided for you; please don't change it.**\n",
    "\n",
    "*Note:* The function `fertility_over_time` should return a table, not the plot itself. "
   ]
  },
  {
   "cell_type": "code",
   "execution_count": null,
   "id": "4117316e",
   "metadata": {
    "deletable": false,
    "execution": {
     "iopub.execute_input": "2025-09-30T10:36:13.561844Z",
     "iopub.status.busy": "2025-09-30T10:36:13.561661Z",
     "iopub.status.idle": "2025-09-30T10:36:13.805747Z",
     "shell.execute_reply": "2025-09-30T10:36:13.805141Z"
    },
    "tags": []
   },
   "outputs": [],
   "source": [
    "def fertility_over_time(country_code, start):\n",
    "    # Return a two-column table that describes a country's total fertility rate each year.\n",
    "    ...\n",
    "\n",
    "fertility_over_time('bgd', 1970).plot('Year', 'Children per woman') # You should *not* change this line."
   ]
  },
  {
   "cell_type": "code",
   "execution_count": null,
   "id": "1317da26",
   "metadata": {
    "deletable": false,
    "editable": false
   },
   "outputs": [],
   "source": [
    "grader.check(\"p1.5\")"
   ]
  },
  {
   "cell_type": "markdown",
   "id": "08c49c07",
   "metadata": {
    "deletable": false,
    "editable": false
   },
   "source": [
    "<!-- BEGIN QUESTION -->\n",
    "\n",
    "#### Part 1.6 (5 pts)\n"
   ]
  },
  {
   "cell_type": "markdown",
   "id": "19b53bf1",
   "metadata": {
    "deletable": false,
    "editable": false
   },
   "source": [
    " Assuming everything else is constant, do the trends in fertility in the graph above help explain why the population growth rate decreased from 1980 to 2020 in Bangladesh? Why or why not?\n",
    "\n"
   ]
  },
  {
   "cell_type": "markdown",
   "id": "cad6f3d4",
   "metadata": {
    "deletable": false,
    "editable": false
   },
   "source": [
    "<hr style=\"margin:0; border: 1px solid #FFBE0A;\"/><font color='#FFBE0A'>Written Answer:</font>"
   ]
  },
  {
   "cell_type": "markdown",
   "id": "9133642c",
   "metadata": {
    "deletable": false
   },
   "source": [
    "_Type your answer here, replacing this text._\n"
   ]
  },
  {
   "cell_type": "markdown",
   "id": "1dc57f02",
   "metadata": {
    "deletable": false,
    "editable": false
   },
   "source": [
    "<hr style=\"margin:0; border: 1px solid #FFBE0A;\"/>"
   ]
  },
  {
   "cell_type": "markdown",
   "id": "51f59cc7",
   "metadata": {
    "deletable": false,
    "editable": false
   },
   "source": [
    "<!-- END QUESTION -->\n",
    "\n",
    "#### Part 1.7 (5 pts)\n"
   ]
  },
  {
   "cell_type": "markdown",
   "id": "bdb33cdd",
   "metadata": {
    "deletable": false,
    "editable": false
   },
   "source": [
    "It has been [observed](https://www.ageing.ox.ac.uk/download/143) that lower fertility rates are often associated with lower child mortality rates. The link has been attributed to family planning: if parents can expect that their children will all survive into adulthood, then they will choose to have fewer children. In the reverse direction, having fewer children may allow families to devote more resources to each child, reducing child mortality. We can see if this association is evident in Bangladesh by plotting the relationship between total fertility rate and [child mortality rate per 1000 children](https://en.wikipedia.org/wiki/Child_mortality)."
   ]
  },
  {
   "cell_type": "markdown",
   "id": "677f2d4d",
   "metadata": {
    "deletable": false,
    "editable": false
   },
   "source": [
    "Using both the `fertility` and `child_mortality` tables, we will draw a scatter diagram that has Bangladesh's total fertility on the horizontal axis and its child mortality on the vertical axis with one point for each year, starting with 1970.\n",
    "\n",
    "**The code that draws the scatter diagram is provided for you; please don't change it.** \n",
    "\n",
    "For your part, create a table called `post_1969_fertility_and_child_mortality` with the appropriate column labels and data in order to generate the chart correctly. Use the label `Children per woman` to describe total fertility and the label `Child deaths per 1000 born` to describe child mortality.  Your table should also have a `Time` column.\n",
    "\n",
    "*Note*: Do not drop the `Time` column or you will get an error in the scatterplot in the next cell!"
   ]
  },
  {
   "cell_type": "code",
   "execution_count": null,
   "id": "8d19016f",
   "metadata": {
    "deletable": false,
    "execution": {
     "iopub.execute_input": "2025-09-30T10:36:13.986333Z",
     "iopub.status.busy": "2025-09-30T10:36:13.986151Z",
     "iopub.status.idle": "2025-09-30T10:36:14.314222Z",
     "shell.execute_reply": "2025-09-30T10:36:14.313753Z"
    },
    "tags": []
   },
   "outputs": [],
   "source": [
    "...\n",
    "post_1969_fertility_and_child_mortality = ...\n",
    "\n",
    "# Don't change anything below this line!\n",
    "x_births = post_1969_fertility_and_child_mortality.column('Children per woman')\n",
    "y_deaths = post_1969_fertility_and_child_mortality.column('Child deaths per 1000 born')\n",
    "time_colors = post_1969_fertility_and_child_mortality.column('Time')\n",
    "\n",
    "import matplotlib.pyplot as plots\n",
    "plots.figure(figsize=(6,6))\n",
    "plots.scatter(x_births, y_deaths, c=time_colors, cmap=\"Blues_r\")\n",
    "plots.colorbar()\n",
    "plots.xlabel('Children per woman')\n",
    "plots.ylabel('Child deaths per 1000 born');"
   ]
  },
  {
   "cell_type": "code",
   "execution_count": null,
   "id": "1c06453e",
   "metadata": {
    "deletable": false,
    "editable": false
   },
   "outputs": [],
   "source": [
    "grader.check(\"p1.7\")"
   ]
  },
  {
   "cell_type": "markdown",
   "id": "8507d6c0",
   "metadata": {
    "deletable": false,
    "editable": false
   },
   "source": [
    "The plot above uses **color** to encode data about the `time` column from the table `post_1969_fertility_and_child_mortality`. The colors, ranging from dark blue to white, represent the passing of time between the 1970s to the 2020s. For example, a point on the scatter plot representing data from the 1970s would appear as **dark blue** and a point from the 2010s would appear as **light blue**.\n"
   ]
  },
  {
   "cell_type": "markdown",
   "id": "0fb54da6",
   "metadata": {
    "deletable": false,
    "editable": false
   },
   "source": [
    "<!-- BEGIN QUESTION -->\n",
    "\n",
    "#### Part 1.8 (5 pts)\n"
   ]
  },
  {
   "cell_type": "markdown",
   "id": "74b72515",
   "metadata": {
    "deletable": false,
    "editable": false
   },
   "source": [
    " In one or two sentences, describe the association (if any) that is illustrated by this scatter diagram. Does the diagram show that reduced child mortality *causes* parents to choose to have fewer children?\n",
    "\n"
   ]
  },
  {
   "cell_type": "markdown",
   "id": "773a17c5",
   "metadata": {
    "deletable": false,
    "editable": false
   },
   "source": [
    "<hr style=\"margin:0; border: 1px solid #FFBE0A;\"/><font color='#FFBE0A'>Written Answer:</font>"
   ]
  },
  {
   "cell_type": "markdown",
   "id": "f7ca89b2",
   "metadata": {
    "deletable": false
   },
   "source": [
    "_Type your answer here, replacing this text._\n"
   ]
  },
  {
   "cell_type": "markdown",
   "id": "0a0132e9",
   "metadata": {
    "deletable": false,
    "editable": false
   },
   "source": [
    "<hr style=\"margin:0; border: 1px solid #FFBE0A;\"/>"
   ]
  },
  {
   "cell_type": "markdown",
   "id": "630a2484",
   "metadata": {
    "deletable": false,
    "editable": false,
    "tags": []
   },
   "source": [
    "<!-- END QUESTION -->\n",
    "\n",
    "### Checkpoint\n",
    "\n",
    "Congratulations, you have reached the checkpoint!  Follow these steps to submit your work:\n",
    "* Run the tests and verify that they pass as you expect, and that all images/graphs appear in the output.\n",
    "* Choose **Save Notebook** from the **File** menu.\n",
    "* **Run the following cell** and click the link below to download the zip file. \n",
    "\n",
    "Once you have downloaded that file, go to [Gradescope](https://www.gradescope.com/) and submit the zip file to the assignment is \"Project 1 Checkpoint\"."
   ]
  },
  {
   "cell_type": "code",
   "execution_count": null,
   "id": "ccc56319",
   "metadata": {
    "deletable": false,
    "editable": false,
    "execution": {
     "iopub.execute_input": "2025-09-30T10:36:14.362285Z",
     "iopub.status.busy": "2025-09-30T10:36:14.362117Z",
     "iopub.status.idle": "2025-09-30T10:36:14.644265Z",
     "shell.execute_reply": "2025-09-30T10:36:14.643843Z"
    },
    "tags": [
     "raises-exception"
    ]
   },
   "outputs": [],
   "source": [
    "# Save your notebook first, then run this cell to export your submission.\n",
    "grader.export(pdf=True)"
   ]
  },
  {
   "cell_type": "markdown",
   "id": "bb730ea9",
   "metadata": {
    "deletable": false,
    "editable": false
   },
   "source": [
    "<hr style=\"margin-bottom: 0px; padding:0; border: 2px solid #500082;\"/>\n"
   ]
  },
  {
   "cell_type": "markdown",
   "id": "dca332d2",
   "metadata": {
    "deletable": false,
    "editable": false,
    "tags": []
   },
   "source": [
    "## 2. Population Growth: The World (45 pts)\n",
    "\n",
    "\n",
    "The change observed in Bangladesh since 1970 can also be observed in many other developing countries: health services improve, life expectancy increases, and child mortality decreases. At the same time, the fertility rate often plummets, and so the population growth rate decreases despite increasing longevity."
   ]
  },
  {
   "cell_type": "markdown",
   "id": "33ef51ef",
   "metadata": {
    "deletable": false,
    "editable": false
   },
   "source": [
    "Run the cell below to generate two overlaid histograms, one for 1960 and one for 2010, that show the distributions of total fertility rates for these two years among all 201 countries in the `fertility` table."
   ]
  },
  {
   "cell_type": "code",
   "execution_count": null,
   "id": "98c3ca0a",
   "metadata": {
    "deletable": false,
    "editable": false,
    "execution": {
     "iopub.execute_input": "2025-09-30T10:36:14.646711Z",
     "iopub.status.busy": "2025-09-30T10:36:14.646539Z",
     "iopub.status.idle": "2025-09-30T10:36:15.166350Z",
     "shell.execute_reply": "2025-09-30T10:36:15.165911Z"
    },
    "tags": []
   },
   "outputs": [],
   "source": [
    "fertility_1960_2010 = Table().with_columns(\n",
    "    '1960', fertility.where('Time', 1960).column('Children per woman'),\n",
    "    '2010', fertility.where('Time', 2010).column('Children per woman')\n",
    ")\n",
    "plot = fertility_1960_2010.hist(bins=np.arange(0, 10, 0.5), unit='Children per woman')\n",
    "plot.set_xlabel('Children per woman (Fertility rate)')"
   ]
  },
  {
   "cell_type": "markdown",
   "id": "58e901eb",
   "metadata": {
    "deletable": false,
    "editable": false
   },
   "source": [
    "#### Part 2.1 (4 pts)\n"
   ]
  },
  {
   "cell_type": "markdown",
   "id": "9caf3d53",
   "metadata": {
    "deletable": false,
    "editable": false
   },
   "source": [
    "Using the histogram above, please answer the following two questions:\n",
    "\n",
    "1. In 2010, roughly what percent of countries had a fertility rate between 1.5 and 2?\n",
    "2. In 1960, roughly what percent of countries had a fertility rate below 3?\n",
    "\n",
    "Assign your answers to the variables `percent_2010` and `percent_1960` below.  They need not be exact, but simply a reasonable estimate based on you reading the histogram properly."
   ]
  },
  {
   "cell_type": "code",
   "execution_count": null,
   "id": "a652bfb0",
   "metadata": {
    "deletable": false,
    "execution": {
     "iopub.execute_input": "2025-09-30T10:36:15.169029Z",
     "iopub.status.busy": "2025-09-30T10:36:15.168851Z",
     "iopub.status.idle": "2025-09-30T10:36:15.171363Z",
     "shell.execute_reply": "2025-09-30T10:36:15.170924Z"
    },
    "tags": []
   },
   "outputs": [],
   "source": [
    "percent_2010 = ...\n",
    "percent_1960 = ..."
   ]
  },
  {
   "cell_type": "code",
   "execution_count": null,
   "id": "b6dfef6d",
   "metadata": {
    "deletable": false,
    "editable": false
   },
   "outputs": [],
   "source": [
    "grader.check(\"p2.1\")"
   ]
  },
  {
   "cell_type": "markdown",
   "id": "5a193c51",
   "metadata": {
    "deletable": false,
    "editable": false
   },
   "source": [
    "<!-- BEGIN QUESTION -->\n",
    "\n",
    "#### Part 2.2 (4 pts)\n"
   ]
  },
  {
   "cell_type": "markdown",
   "id": "c105c757",
   "metadata": {
    "deletable": false,
    "editable": false
   },
   "source": [
    "Describe the most striking distinction you see between fertility rates in 1960 and 2010?  In one or two sentences, quantify that distinction using the data presented in the histogram above."
   ]
  },
  {
   "cell_type": "markdown",
   "id": "101b0cc0",
   "metadata": {
    "deletable": false,
    "editable": false
   },
   "source": [
    "<hr style=\"margin:0; border: 1px solid #FFBE0A;\"/><font color='#FFBE0A'>Written Answer:</font>"
   ]
  },
  {
   "cell_type": "markdown",
   "id": "950365cb",
   "metadata": {
    "deletable": false
   },
   "source": [
    "_Type your answer here, replacing this text._\n"
   ]
  },
  {
   "cell_type": "markdown",
   "id": "c284a0fa",
   "metadata": {
    "deletable": false,
    "editable": false
   },
   "source": [
    "<hr style=\"margin:0; border: 1px solid #FFBE0A;\"/>"
   ]
  },
  {
   "cell_type": "markdown",
   "id": "c8dfd3a0",
   "metadata": {
    "deletable": false,
    "editable": false
   },
   "source": [
    "<!-- END QUESTION -->\n",
    "\n",
    "<!-- BEGIN QUESTION -->\n",
    "\n",
    "#### Part 2.3 (5 pts)\n"
   ]
  },
  {
   "cell_type": "markdown",
   "id": "cac6745d",
   "metadata": {
    "deletable": false,
    "editable": false
   },
   "source": [
    "Create line graph of the world population from 1800 through 2020 (inclusive of both endpoints). The world population is the sum of all of the countries' populations. You should use the `population` table defined earlier in the project. \n",
    "\n"
   ]
  },
  {
   "cell_type": "code",
   "execution_count": null,
   "id": "634243ba",
   "metadata": {
    "deletable": false,
    "execution": {
     "iopub.execute_input": "2025-09-30T10:36:15.194395Z",
     "iopub.status.busy": "2025-09-30T10:36:15.194211Z",
     "iopub.status.idle": "2025-09-30T10:36:15.795300Z",
     "shell.execute_reply": "2025-09-30T10:36:15.794739Z"
    },
    "tags": []
   },
   "outputs": [],
   "source": [
    "#Fill in code here\n",
    "..."
   ]
  },
  {
   "cell_type": "markdown",
   "id": "701a64be",
   "metadata": {
    "deletable": false,
    "editable": false
   },
   "source": [
    "<!-- END QUESTION -->\n",
    "\n",
    "#### Part 2.4 (5 pts)\n"
   ]
  },
  {
   "cell_type": "markdown",
   "id": "3662143a",
   "metadata": {
    "deletable": false,
    "editable": false
   },
   "source": [
    " Create a function `stats_for_year` that takes a `year` as a parameter and returns a table of statistics.\n",
    " \n",
    " The table it returns should have four columns: \n",
    " - `Geo`\n",
    " - `Population`\n",
    " - `Children per woman`\n",
    " - `Child deaths per 1000 born`\n",
    "in that order. \n",
    "\n",
    "Each row should contain one unique Alpha-3 country code and three statistics: population, fertility rate, and child mortality for that `year` from the `population`, `fertility` and `child_mortality` tables. Only include rows for which all three statistics are available for the country and year.\n",
    "\n",
    "In addition, restrict the result to country codes that appears in `big_50`, an array of the 50 most populous countries in 2020. This restriction will speed up computations later in the project.\n",
    "\n",
    "After you write `stats_for_year`, try calling `stats_for_year` on any year between 1960 and 2020. Look at the output of `stats_for_year` and see if you can make sense of it.\n",
    "\n",
    "*Hint*: The tests for this question are quite comprehensive, so if you pass the tests, your function is probably correct. However, without calling your function yourself and looking at the output, it will be very difficult to understand any problems you have, so try your best to write the function correctly and check that it works before you rely on the `grader` tests to confirm your work.\n",
    "\n",
    "*Hint*: What do all three tables have in common (pay attention to column names)?"
   ]
  },
  {
   "cell_type": "code",
   "execution_count": null,
   "id": "0987589c",
   "metadata": {
    "deletable": false,
    "execution": {
     "iopub.execute_input": "2025-09-30T10:36:15.798018Z",
     "iopub.status.busy": "2025-09-30T10:36:15.797849Z",
     "iopub.status.idle": "2025-09-30T10:36:16.434391Z",
     "shell.execute_reply": "2025-09-30T10:36:16.433921Z"
    },
    "tags": []
   },
   "outputs": [],
   "source": [
    "# We first create a population table that only includes the \n",
    "# 50 countries with the largest 2020 populations. We focus on \n",
    "# these 50 countries only so that plotting later will run faster.\n",
    "big_50 = population.where('Time', are.equal_to(2020)).sort('Population', descending=True).take(np.arange(50)).column('Geo')\n",
    "population_of_big_50 = population.where('Time', are.above_or_equal_to(1960)).where('Geo', are.contained_in(big_50))\n",
    "\n",
    "def stats_for_year(year):\n",
    "    \"\"\"Return a table of the stats for each country in big_50 for that year.\"\"\"\n",
    "    p = population_of_big_50.where('Time', are.equal_to(year)).drop('Time')\n",
    "    f = fertility.where('Time', are.equal_to(year)).drop('Time')\n",
    "    c = child_mortality.where('Time', are.equal_to(year)).drop('Time')\n",
    "    ...\n",
    "\n",
    "stats_for_year(2020)  "
   ]
  },
  {
   "cell_type": "code",
   "execution_count": null,
   "id": "49151930",
   "metadata": {
    "deletable": false,
    "editable": false
   },
   "outputs": [],
   "source": [
    "grader.check(\"p2.4\")"
   ]
  },
  {
   "cell_type": "markdown",
   "id": "13c53181",
   "metadata": {
    "deletable": false,
    "editable": false
   },
   "source": [
    "#### Part 2.5 (5 pts)\n"
   ]
  },
  {
   "cell_type": "markdown",
   "id": "a15b36cb",
   "metadata": {
    "deletable": false,
    "editable": false
   },
   "source": [
    "In the next two question parts, we will build up to creating a table with the world population for the first year of each decade. "
   ]
  },
  {
   "cell_type": "markdown",
   "id": "3bb35a34",
   "metadata": {
    "deletable": false,
    "editable": false
   },
   "source": [
    "First, create a helper function `pop_for_year` that computes the total population per year for all countries in the `big_50` table defined above. \n",
    "\n",
    "*Hint:* Your answer should use the `stats_for_year` function from the previous question."
   ]
  },
  {
   "cell_type": "code",
   "execution_count": null,
   "id": "2985d26d",
   "metadata": {
    "deletable": false,
    "execution": {
     "iopub.execute_input": "2025-09-30T10:36:17.749038Z",
     "iopub.status.busy": "2025-09-30T10:36:17.748836Z",
     "iopub.status.idle": "2025-09-30T10:36:17.751673Z",
     "shell.execute_reply": "2025-09-30T10:36:17.751167Z"
    },
    "tags": []
   },
   "outputs": [],
   "source": [
    "def pop_for_year(year):\n",
    "    \"\"\"Return the total population for the specified year.\"\"\"\n",
    "    ..."
   ]
  },
  {
   "cell_type": "code",
   "execution_count": null,
   "id": "e4382ee3",
   "metadata": {
    "deletable": false,
    "editable": false
   },
   "outputs": [],
   "source": [
    "grader.check(\"p2.5\")"
   ]
  },
  {
   "cell_type": "markdown",
   "id": "91ef5695",
   "metadata": {
    "deletable": false,
    "editable": false
   },
   "source": [
    "#### Part 2.6 (5 pts)\n"
   ]
  },
  {
   "cell_type": "markdown",
   "id": "babf7ce7",
   "metadata": {
    "deletable": false,
    "editable": false
   },
   "source": [
    "Now that you've defined your helper function, create a table called `pop_by_decade` with two columns called `Decade` and `Population`, in that order. \n",
    "\n",
    "The `pop_by_decade` table should have a row for each year that starts a decade, in increasing order starting with 1960 and ending with 2020. For example, 1960 is the start of the 1960's decade. \n",
    "\n",
    "Within the `pop_by_decade` table, the `Population` column should contain the total population of all countries included in the result of `stats_for_year(year)` for the first `year` of the decade. You should see that these countries contain most of the world's population.\n",
    "\n",
    "*Hint:* `.apply()` might be helpful here. "
   ]
  },
  {
   "cell_type": "code",
   "execution_count": null,
   "id": "e1e637be",
   "metadata": {
    "deletable": false,
    "execution": {
     "iopub.execute_input": "2025-09-30T10:36:19.069715Z",
     "iopub.status.busy": "2025-09-30T10:36:19.069556Z",
     "iopub.status.idle": "2025-09-30T10:36:21.450766Z",
     "shell.execute_reply": "2025-09-30T10:36:21.450301Z"
    },
    "tags": []
   },
   "outputs": [],
   "source": [
    "# Table with the years starting each decade\n",
    "decades = Table().with_column('Decade', np.arange(1960, 2021, 10))\n",
    "\n",
    "...\n",
    "pop_by_decade = ...\n",
    "\n",
    "pop_by_decade.set_format(1, NumberFormatter)  # Make the numbers have ,'s for readability."
   ]
  },
  {
   "cell_type": "code",
   "execution_count": null,
   "id": "72615dac",
   "metadata": {
    "deletable": false,
    "editable": false
   },
   "outputs": [],
   "source": [
    "grader.check(\"p2.6\")"
   ]
  },
  {
   "cell_type": "markdown",
   "id": "dc4fd025",
   "metadata": {
    "deletable": false,
    "editable": false
   },
   "source": [
    "#### Part 2.7 (5 pts)\n"
   ]
  },
  {
   "cell_type": "markdown",
   "id": "f5c5076a",
   "metadata": {
    "deletable": false,
    "editable": false
   },
   "source": [
    "The `countries` table below describes various characteristics of countries. The `Country` column contains the same codes as the `Geo` column in each of the other data tables (`population`, `fertility`, and `child_mortality`). The `World6 region` column classifies each country into a region of the world. Run the cell below to inspect the data."
   ]
  },
  {
   "cell_type": "code",
   "execution_count": null,
   "id": "b4a603a2",
   "metadata": {
    "deletable": false,
    "editable": false,
    "execution": {
     "iopub.execute_input": "2025-09-30T10:36:21.486685Z",
     "iopub.status.busy": "2025-09-30T10:36:21.486534Z",
     "iopub.status.idle": "2025-09-30T10:36:21.492893Z",
     "shell.execute_reply": "2025-09-30T10:36:21.492506Z"
    },
    "tags": []
   },
   "outputs": [],
   "source": [
    "countries = Table.read_table('countries.csv')\n",
    "countries = countries.select('Country', 'Name', 'World6 region')\n",
    "countries"
   ]
  },
  {
   "cell_type": "markdown",
   "id": "878434bc",
   "metadata": {
    "deletable": false,
    "editable": false
   },
   "source": [
    " Create a table called `region_counts`. It should contain two columns called `region` and `count`. The `region` column should contain regions of the world, and the `count` column should contain the number of countries in each region that appears in the result of `stats_for_year(2020)`. \n",
    "\n",
    "For example, one row would have `south_asia` as its `region` value and an integer as its `count` value: the number of large South Asian countries for which we have population, fertility, and child mortality numbers from 2020.\n",
    "\n",
    "*Hint*: You may have to relabel a column to name it `region`. \n",
    "\n"
   ]
  },
  {
   "cell_type": "code",
   "execution_count": null,
   "id": "14f114aa",
   "metadata": {
    "deletable": false,
    "execution": {
     "iopub.execute_input": "2025-09-30T10:36:21.495280Z",
     "iopub.status.busy": "2025-09-30T10:36:21.494963Z",
     "iopub.status.idle": "2025-09-30T10:36:21.812036Z",
     "shell.execute_reply": "2025-09-30T10:36:21.811582Z"
    },
    "tags": []
   },
   "outputs": [],
   "source": [
    "stats_for_2020 = stats_for_year(2020)\n",
    "\n",
    "...\n",
    "region_counts = ...\n",
    "region_counts"
   ]
  },
  {
   "cell_type": "code",
   "execution_count": null,
   "id": "ddef1959",
   "metadata": {
    "deletable": false,
    "editable": false
   },
   "outputs": [],
   "source": [
    "grader.check(\"p2.7\")"
   ]
  },
  {
   "cell_type": "markdown",
   "id": "2e97440a",
   "metadata": {
    "deletable": false,
    "editable": false
   },
   "source": [
    "<!-- BEGIN QUESTION -->\n",
    "\n",
    "#### Part 2.8 (3 pts)\n"
   ]
  },
  {
   "cell_type": "markdown",
   "id": "ed0cfde7",
   "metadata": {
    "deletable": false,
    "editable": false
   },
   "source": [
    "The following scatter diagram compares total fertility rate and child mortality rate for each country in 1960. The area of each dot represents the population of the country, and the color represents its region of the world. Run the cell. Do you think you can identify any of the dots?"
   ]
  },
  {
   "cell_type": "code",
   "execution_count": null,
   "id": "a3e57c89",
   "metadata": {
    "deletable": false,
    "editable": false,
    "execution": {
     "iopub.execute_input": "2025-09-30T10:36:21.834349Z",
     "iopub.status.busy": "2025-09-30T10:36:21.834182Z",
     "iopub.status.idle": "2025-09-30T10:36:22.513262Z",
     "shell.execute_reply": "2025-09-30T10:36:22.512703Z"
    },
    "tags": []
   },
   "outputs": [],
   "source": [
    "def fertility_vs_child_mortality(year):\n",
    "    \"\"\"Draw a color scatter diagram comparing child mortality and fertility.\"\"\"\n",
    "    with_region = stats_for_year(year).join('Geo', countries.select('Country', 'World6 region'), 'Country')\n",
    "    plot = with_region.scatter('Children per woman', \n",
    "                        'Child deaths per 1000 born', \n",
    "                        sizes='Population', \n",
    "                        group='World6 region', \n",
    "                        s=500)\n",
    "    plot.set_xlim(0,10)\n",
    "    plot.set_ylim(-50, 500)\n",
    "    plot.set_title(year)\n",
    "\n",
    "fertility_vs_child_mortality(1960)"
   ]
  },
  {
   "cell_type": "markdown",
   "id": "c1279dbc",
   "metadata": {
    "deletable": false,
    "editable": false
   },
   "source": [
    "As a whole, which region had the lowest child mortality rate?  Justify your answer in one sentence using the scatter plot above."
   ]
  },
  {
   "cell_type": "markdown",
   "id": "265e77cc",
   "metadata": {
    "deletable": false,
    "editable": false
   },
   "source": [
    "<hr style=\"margin:0; border: 1px solid #FFBE0A;\"/><font color='#FFBE0A'>Written Answer:</font>"
   ]
  },
  {
   "cell_type": "markdown",
   "id": "55d901e7",
   "metadata": {
    "deletable": false
   },
   "source": [
    "_Type your answer here, replacing this text._\n"
   ]
  },
  {
   "cell_type": "markdown",
   "id": "202c7beb",
   "metadata": {
    "deletable": false,
    "editable": false
   },
   "source": [
    "<hr style=\"margin:0; border: 1px solid #FFBE0A;\"/>"
   ]
  },
  {
   "cell_type": "markdown",
   "id": "5528b444",
   "metadata": {
    "deletable": false,
    "editable": false
   },
   "source": [
    "<!-- END QUESTION -->\n",
    "\n",
    "<!-- BEGIN QUESTION -->\n",
    "\n",
    "#### Part 2.9 (3 pts)\n"
   ]
  },
  {
   "cell_type": "markdown",
   "id": "2f054ff7",
   "metadata": {
    "deletable": false,
    "editable": false
   },
   "source": [
    "Complete this statement: \"Most regions have a fertility rate above ...\".  Justify your answer in one sentence using the scatter plot above."
   ]
  },
  {
   "cell_type": "markdown",
   "id": "edded1bc",
   "metadata": {
    "deletable": false,
    "editable": false
   },
   "source": [
    "<hr style=\"margin:0; border: 1px solid #FFBE0A;\"/><font color='#FFBE0A'>Written Answer:</font>"
   ]
  },
  {
   "cell_type": "markdown",
   "id": "a4f2f8c7",
   "metadata": {
    "deletable": false
   },
   "source": [
    "_Type your answer here, replacing this text._\n"
   ]
  },
  {
   "cell_type": "markdown",
   "id": "0f921c33",
   "metadata": {
    "deletable": false,
    "editable": false
   },
   "source": [
    "<hr style=\"margin:0; border: 1px solid #FFBE0A;\"/>"
   ]
  },
  {
   "cell_type": "markdown",
   "id": "d1fb33fc",
   "metadata": {
    "deletable": false,
    "editable": false
   },
   "source": [
    "<!-- END QUESTION -->\n",
    "\n",
    "<!-- BEGIN QUESTION -->\n",
    "\n",
    "#### Part 2.10 (3 pts)\n"
   ]
  },
  {
   "cell_type": "markdown",
   "id": "e8facd14",
   "metadata": {
    "deletable": false,
    "editable": false
   },
   "source": [
    "Is there any association between child mortality and fertility? Why? Is it causal?"
   ]
  },
  {
   "cell_type": "markdown",
   "id": "ae196aef",
   "metadata": {
    "deletable": false,
    "editable": false
   },
   "source": [
    "<hr style=\"margin:0; border: 1px solid #FFBE0A;\"/><font color='#FFBE0A'>Written Answer:</font>"
   ]
  },
  {
   "cell_type": "markdown",
   "id": "d7d83e6e",
   "metadata": {
    "deletable": false
   },
   "source": [
    "_Type your answer here, replacing this text._\n"
   ]
  },
  {
   "cell_type": "markdown",
   "id": "fc5a63f0",
   "metadata": {
    "deletable": false,
    "editable": false
   },
   "source": [
    "<hr style=\"margin:0; border: 1px solid #FFBE0A;\"/>"
   ]
  },
  {
   "cell_type": "markdown",
   "id": "2a0ba9ae",
   "metadata": {
    "deletable": false,
    "editable": false
   },
   "source": [
    "<!-- END QUESTION -->\n",
    "\n",
    "<!-- BEGIN QUESTION -->\n",
    "\n",
    "#### Part 2.11 (3 pts)\n"
   ]
  },
  {
   "cell_type": "markdown",
   "id": "22f7d29e",
   "metadata": {
    "deletable": false,
    "editable": false
   },
   "source": [
    "Is there any relationship between the largest countries by population and the child mortality rates?  Justify your answer in one sentence using the scatter plot above."
   ]
  },
  {
   "cell_type": "markdown",
   "id": "fa811384",
   "metadata": {
    "deletable": false,
    "editable": false
   },
   "source": [
    "<hr style=\"margin:0; border: 1px solid #FFBE0A;\"/><font color='#FFBE0A'>Written Answer:</font>"
   ]
  },
  {
   "cell_type": "markdown",
   "id": "5b138eea",
   "metadata": {
    "deletable": false
   },
   "source": [
    "_Type your answer here, replacing this text._\n"
   ]
  },
  {
   "cell_type": "markdown",
   "id": "e42cea31",
   "metadata": {
    "deletable": false,
    "editable": false
   },
   "source": [
    "<hr style=\"margin:0; border: 1px solid #FFBE0A;\"/>"
   ]
  },
  {
   "cell_type": "markdown",
   "id": "c58c4e85",
   "metadata": {
    "deletable": false,
    "editable": false
   },
   "source": [
    "<!-- END QUESTION -->\n",
    "\n",
    "### Visualizing Changes Over Time"
   ]
  },
  {
   "cell_type": "markdown",
   "id": "b1d6437c",
   "metadata": {
    "deletable": false,
    "editable": false
   },
   "source": [
    "The result of the cell below is interactive. Drag the slider to the right to see how countries have changed over time. You'll find that the great divide between so-called \"Western\" and \"developing\" countries that existed in the 1960's has nearly disappeared. This shift in fertility rates is the reason that the global population is expected to grow more slowly in the 21st century than it did in the 19th and 20th centuries."
   ]
  },
  {
   "cell_type": "code",
   "execution_count": null,
   "id": "9479217e",
   "metadata": {
    "deletable": false,
    "editable": false,
    "execution": {
     "iopub.execute_input": "2025-09-30T10:36:22.519418Z",
     "iopub.status.busy": "2025-09-30T10:36:22.519146Z",
     "iopub.status.idle": "2025-09-30T10:36:23.133204Z",
     "shell.execute_reply": "2025-09-30T10:36:23.132704Z"
    },
    "tags": []
   },
   "outputs": [],
   "source": [
    "interact(fertility_vs_child_mortality, year=Slider(1960, 2020))"
   ]
  },
  {
   "cell_type": "markdown",
   "id": "07d82059",
   "metadata": {
    "deletable": false,
    "editable": false
   },
   "source": [
    "Now is a great time to take a break and watch the same data presented by [Hans Rosling in a 2010 TEDx talk](https://www.gapminder.org/videos/reducing-child-mortality-a-moral-and-environmental-imperative) with smoother animation and witty commentary."
   ]
  },
  {
   "cell_type": "markdown",
   "id": "8fbffcca",
   "metadata": {
    "deletable": false,
    "editable": false
   },
   "source": [
    "<hr style=\"margin-bottom: 0px; padding:0; border: 2px solid #500082;\"/>\n"
   ]
  },
  {
   "cell_type": "markdown",
   "id": "2c911c65",
   "metadata": {
    "deletable": false,
    "editable": false
   },
   "source": [
    "## 3. Global Poverty (35 pts)\n",
    "\n"
   ]
  },
  {
   "cell_type": "markdown",
   "id": "8684aeb0",
   "metadata": {
    "deletable": false,
    "editable": false
   },
   "source": [
    "In 1800, 85% of the world's 1 billion people lived in [extreme poverty](https://en.wikipedia.org/wiki/Extreme_poverty), defined by the United Nations as \"a condition characterized by severe deprivation of basic human needs, including food, safe drinking water, sanitation facilities, health, shelter, education and information.\" At the time when the data in this project were gathered, a common definition of extreme poverty was a person living on less than \\$1.25 a day.\n",
    "\n",
    "In 2018, the proportion of people living in extreme poverty was estimated to be [about 9\\%](https://unstats.un.org/sdgs/report/2019/goal-01/). Although the world rate of extreme poverty has declined consistently for hundreds of years, the number of people living in extreme poverty is still over 600 million. The United Nations adopted an [ambitious goal](http://www.un.org/sustainabledevelopment/poverty/): \"By 2030, eradicate extreme poverty for all people everywhere.\" In this part of the project we will examine aspects of global poverty that might affect whether the goal is achievable."
   ]
  },
  {
   "cell_type": "markdown",
   "id": "d4c28131",
   "metadata": {
    "deletable": false,
    "editable": false
   },
   "source": [
    "First, load the population and poverty rate by country and year and the country descriptions. While the `population` table has values for every recent year for many countries, the `poverty` table only includes certain years for each country in which a measurement of the rate of extreme poverty was available."
   ]
  },
  {
   "cell_type": "code",
   "execution_count": null,
   "id": "13545eca",
   "metadata": {
    "deletable": false,
    "editable": false,
    "execution": {
     "iopub.execute_input": "2025-09-30T10:37:52.524022Z",
     "iopub.status.busy": "2025-09-30T10:37:52.523559Z",
     "iopub.status.idle": "2025-09-30T10:37:52.616517Z",
     "shell.execute_reply": "2025-09-30T10:37:52.616093Z"
    },
    "tags": []
   },
   "outputs": [],
   "source": [
    "population = Table.read_table('population.csv')\n",
    "countries = Table.read_table('countries.csv')\n",
    "poverty = Table.read_table('poverty.csv')\n",
    "poverty.show(3)"
   ]
  },
  {
   "cell_type": "markdown",
   "id": "dcd1df6a",
   "metadata": {
    "deletable": false,
    "editable": false
   },
   "source": [
    "#### Part 3.1 (5 pts)\n"
   ]
  },
  {
   "cell_type": "markdown",
   "id": "ac2bcd2c",
   "metadata": {
    "deletable": false,
    "editable": false
   },
   "source": [
    " Assign `latest_poverty` to a three-column table with one row for each country that appears in the `poverty` table. \n",
    " - The first column should contain the 3-letter code for the country. \n",
    " - The second column should contain the most recent year for which an extreme poverty rate is available for the country. \n",
    " - The third column should contain the poverty percent in that year. \n",
    " \n",
    "**Do not change the last line, so that the labels of your table are set correctly.**\n",
    "\n",
    "*Hint*: It will be useful to keep in mind how ```group``` works: it searches the table from top to bottom, collecting values in the order in which they appear.  It then applies the aggregation function to an array containing those values in the order in which they were found.  Thus, the first item in the array passed to the aggregation function corresponds to the first row found that is part of the group being processed.  The `first` function may be helpful, provided you sort the table appropriately before grouping..."
   ]
  },
  {
   "cell_type": "code",
   "execution_count": null,
   "id": "fcb45e1d",
   "metadata": {
    "deletable": false,
    "execution": {
     "iopub.execute_input": "2025-09-30T10:37:52.619206Z",
     "iopub.status.busy": "2025-09-30T10:37:52.618974Z",
     "iopub.status.idle": "2025-09-30T10:37:52.633330Z",
     "shell.execute_reply": "2025-09-30T10:37:52.632884Z"
    },
    "tags": []
   },
   "outputs": [],
   "source": [
    "def first(values):\n",
    "    return values.item(0)\n",
    "\n",
    "latest_poverty = ...\n",
    "\n",
    "# You should *not* change this line.\n",
    "latest_poverty = latest_poverty.relabeled(1, 'Time').relabeled(2, 'Poverty percent') \n",
    "latest_poverty"
   ]
  },
  {
   "cell_type": "code",
   "execution_count": null,
   "id": "35c15b77",
   "metadata": {
    "deletable": false,
    "editable": false
   },
   "outputs": [],
   "source": [
    "grader.check(\"p3.1\")"
   ]
  },
  {
   "cell_type": "markdown",
   "id": "724a95f6",
   "metadata": {
    "deletable": false,
    "editable": false
   },
   "source": [
    "#### Part 3.2 (5 pts)\n"
   ]
  },
  {
   "cell_type": "markdown",
   "id": "cb23c5f4",
   "metadata": {
    "deletable": false,
    "editable": false
   },
   "source": [
    " Using both `latest_poverty` and `population`, create a four-column table called `recent_poverty_total` with one row for each country in `latest_poverty`. The four columns should have the following labels and contents:\n",
    "1. `Geo` contains the 3-letter country code,\n",
    "1. `Poverty percent` contains the poverty percentage for the most recent year we have available,\n",
    "1. `Population` contains the population of the country in 2010,\n",
    "1. `Poverty total` contains the number of people in poverty **rounded to the nearest integer**, based on the 2010 population and most recent poverty rate.\n"
   ]
  },
  {
   "cell_type": "code",
   "execution_count": null,
   "id": "55cb788e",
   "metadata": {
    "deletable": false,
    "execution": {
     "iopub.execute_input": "2025-09-30T10:37:52.654868Z",
     "iopub.status.busy": "2025-09-30T10:37:52.654724Z",
     "iopub.status.idle": "2025-09-30T10:37:52.867921Z",
     "shell.execute_reply": "2025-09-30T10:37:52.867436Z"
    },
    "tags": []
   },
   "outputs": [],
   "source": [
    "...\n",
    "recent_poverty_total = ...\n",
    "recent_poverty_total"
   ]
  },
  {
   "cell_type": "code",
   "execution_count": null,
   "id": "f145cdbd",
   "metadata": {
    "deletable": false,
    "editable": false
   },
   "outputs": [],
   "source": [
    "grader.check(\"p3.2\")"
   ]
  },
  {
   "cell_type": "markdown",
   "id": "498acc90",
   "metadata": {
    "deletable": false,
    "editable": false
   },
   "source": [
    "#### Part 3.3 (5 pts)\n"
   ]
  },
  {
   "cell_type": "markdown",
   "id": "881012fb",
   "metadata": {
    "deletable": false,
    "editable": false
   },
   "source": [
    " Assign the variable `poverty_percent` to the known percentage of the world’s 2010 population that were living in extreme poverty.\n",
    " \n",
    " \n",
    "Assume that the `poverty_total` numbers in the `recent_poverty_total` table describe **all** people in 2010 living in extreme poverty. You should get a number that is above the 2018 global estimate of 9%, since many country-specific poverty rates are older than 2018.\n",
    "\n",
    "*Hints*: \n",
    "* Break this up into multiple lines to make it easier to debug.\n",
    "* The sum of the `Population` column in the `recent_poverty_total` table is not the world population, because only a subset of the world's countries are included in this `recent_poverty_total` table (only some countries have known poverty rates). Use the `population` table to compute the world's 2010 total population.\n",
    "* We are computing a percentage (value between 0 and 100), not a proportion (value between 0 and 1).\n"
   ]
  },
  {
   "cell_type": "code",
   "execution_count": null,
   "id": "933ff83e",
   "metadata": {
    "deletable": false,
    "execution": {
     "iopub.execute_input": "2025-09-30T10:37:52.890614Z",
     "iopub.status.busy": "2025-09-30T10:37:52.890456Z",
     "iopub.status.idle": "2025-09-30T10:37:53.092780Z",
     "shell.execute_reply": "2025-09-30T10:37:53.092282Z"
    },
    "tags": []
   },
   "outputs": [],
   "source": [
    "...\n",
    "poverty_percent = ...\n",
    "poverty_percent"
   ]
  },
  {
   "cell_type": "code",
   "execution_count": null,
   "id": "853c1e46",
   "metadata": {
    "deletable": false,
    "editable": false
   },
   "outputs": [],
   "source": [
    "grader.check(\"p3.3\")"
   ]
  },
  {
   "cell_type": "markdown",
   "id": "6be69d95",
   "metadata": {
    "deletable": false,
    "editable": false
   },
   "source": [
    "#### Part 3.4 (5 pts)\n"
   ]
  },
  {
   "cell_type": "markdown",
   "id": "65f5020b",
   "metadata": {
    "deletable": false,
    "editable": false
   },
   "source": [
    "The `countries` table includes not only the name and region of countries, but also their positions on the globe.  \n",
    "\n",
    "*Note*: We're using the World4 region desigation in the following parts.  This is a coarser designation that the World6 designation used above.  It places countries in one of four regions: `americas`, `africa`, `europe`, or `asia`."
   ]
  },
  {
   "cell_type": "code",
   "execution_count": null,
   "id": "ca7f93af",
   "metadata": {
    "deletable": false,
    "editable": false,
    "execution": {
     "iopub.execute_input": "2025-09-30T10:37:53.105827Z",
     "iopub.status.busy": "2025-09-30T10:37:53.105659Z",
     "iopub.status.idle": "2025-09-30T10:37:53.109550Z",
     "shell.execute_reply": "2025-09-30T10:37:53.109170Z"
    },
    "tags": []
   },
   "outputs": [],
   "source": [
    "countries.select('Country', 'Name', 'World4 region', 'Latitude', 'Longitude')"
   ]
  },
  {
   "cell_type": "markdown",
   "id": "076bfcab",
   "metadata": {
    "deletable": false,
    "editable": false
   },
   "source": [
    " Using both `countries` and `recent_poverty_total`, create a five-column table called `poverty_map` with one row for every country in `recent_poverty_total`.  The five columns should have the following labels and contents:\n",
    "1. `Latitude` contains the country's latitude,\n",
    "1. `Longitude` contains the country's longitude,\n",
    "1. `Name` contains the country's name,\n",
    "1. `Region` contains the country's region from the `World4 region` column of `countries`,\n",
    "1. `Poverty total` contains the country's poverty total.\n",
    "\n",
    "*Hint:*  Be sure to put the columns in the order specified.  You may find it useful to remember that that a call to `table.select(...)` puts columns in the order that they are specified as parameters in the call to select."
   ]
  },
  {
   "cell_type": "code",
   "execution_count": null,
   "id": "43c98ab7",
   "metadata": {
    "deletable": false,
    "execution": {
     "iopub.execute_input": "2025-09-30T10:37:53.112037Z",
     "iopub.status.busy": "2025-09-30T10:37:53.111849Z",
     "iopub.status.idle": "2025-09-30T10:37:53.121894Z",
     "shell.execute_reply": "2025-09-30T10:37:53.121464Z"
    },
    "tags": []
   },
   "outputs": [],
   "source": [
    "...\n",
    "poverty_map = ...\n",
    "poverty_map"
   ]
  },
  {
   "cell_type": "code",
   "execution_count": null,
   "id": "d21fb6a0",
   "metadata": {
    "deletable": false,
    "editable": false
   },
   "outputs": [],
   "source": [
    "grader.check(\"p3.4\")"
   ]
  },
  {
   "cell_type": "markdown",
   "id": "1f133e29",
   "metadata": {
    "deletable": false,
    "editable": false
   },
   "source": [
    "Run the cell below to draw a map of the world in which the areas of circles represent the number of people living in extreme poverty. Double-click on the map to zoom in."
   ]
  },
  {
   "cell_type": "code",
   "execution_count": null,
   "id": "cfb58079",
   "metadata": {
    "deletable": false,
    "editable": false,
    "execution": {
     "iopub.execute_input": "2025-09-30T10:37:53.146753Z",
     "iopub.status.busy": "2025-09-30T10:37:53.146563Z",
     "iopub.status.idle": "2025-09-30T10:37:53.336293Z",
     "shell.execute_reply": "2025-09-30T10:37:53.335846Z"
    },
    "tags": []
   },
   "outputs": [],
   "source": [
    "# It may take a few seconds to generate this map.\n",
    "colors = {'africa': 'blue', 'europe': 'black', 'asia': 'red', 'americas': 'green'}\n",
    "scaled = poverty_map.with_columns(\n",
    "    'labels', poverty_map.column('Name'),\n",
    "    'colors', poverty_map.apply(colors.get, 'Region'),\n",
    "    'areas', 1e-4 * poverty_map.column('Poverty total')\n",
    ").drop('Name', 'region', 'Poverty total')\n",
    "\n",
    "Circle.map_table(scaled)"
   ]
  },
  {
   "cell_type": "markdown",
   "id": "8bf9fa92",
   "metadata": {
    "deletable": false,
    "editable": false
   },
   "source": [
    "Although people lived in extreme poverty throughout the world in 2010 (with more than 5 million in the United States), the largest numbers were in Asia and Africa."
   ]
  },
  {
   "cell_type": "markdown",
   "id": "e444614c",
   "metadata": {
    "deletable": false,
    "editable": false
   },
   "source": [
    "#### Part 3.5 (5 pts)\n"
   ]
  },
  {
   "cell_type": "markdown",
   "id": "187e2d46",
   "metadata": {
    "deletable": false,
    "editable": false
   },
   "source": [
    " Assign `largest` to a two-column table with columns `Name` (not the 3-letter code) and `Poverty total` of the 10 countries with the largest number of people living in extreme poverty.\n",
    "\n",
    "*Hint*: How can we use `take` and `np.arange` in conjunction with each other?"
   ]
  },
  {
   "cell_type": "code",
   "execution_count": null,
   "id": "b7ef58ed",
   "metadata": {
    "deletable": false,
    "execution": {
     "iopub.execute_input": "2025-09-30T10:37:53.339073Z",
     "iopub.status.busy": "2025-09-30T10:37:53.338889Z",
     "iopub.status.idle": "2025-09-30T10:37:53.343192Z",
     "shell.execute_reply": "2025-09-30T10:37:53.342809Z"
    },
    "tags": []
   },
   "outputs": [],
   "source": [
    "...\n",
    "largest = ...\n",
    "\n",
    "# Do not change the following line. It makes the table view more readable. \n",
    "largest.set_format('Poverty total', NumberFormatter)"
   ]
  },
  {
   "cell_type": "code",
   "execution_count": null,
   "id": "23ceb417",
   "metadata": {
    "deletable": false,
    "editable": false
   },
   "outputs": [],
   "source": [
    "grader.check(\"p3.5\")"
   ]
  },
  {
   "cell_type": "markdown",
   "id": "96f1f724",
   "metadata": {
    "deletable": false,
    "editable": false
   },
   "source": [
    "<!-- BEGIN QUESTION -->\n",
    "\n",
    "#### Part 3.6 (5 pts)\n"
   ]
  },
  {
   "cell_type": "markdown",
   "id": "7f54a3b5",
   "metadata": {
    "deletable": false,
    "editable": false
   },
   "source": [
    "It is important to study the absolute number of people living in poverty, not just the percent. The absolute number is an important factor in determining the amount of resources needed to support people living in poverty. "
   ]
  },
  {
   "cell_type": "markdown",
   "id": "93ee4ab4",
   "metadata": {
    "deletable": false,
    "editable": false
   },
   "source": [
    "To do that, we'll now write a function called `poverty_timeline` that takes **the name of a country** (not the geo code) as its argument. The function should draw a line graph of the number of people living in poverty in that country with time on the horizontal axis. The line graph should have a point for each row in the `poverty` table for that country. \n",
    "\n",
    "*Hints:*\n",
    "- To compute the population living in poverty from a poverty percentage, multiply by the population of the country **in that year**.\n",
    "- To make your plot, you will first need to make a table.\n",
    "- Feel free to use the `country_name_to_geo` function we provided for you. \n",
    "- This question is more involved than other parts. Feel free to create cells and experiment. You can create cells by going to the toolbar and hitting the `+` button.\n"
   ]
  },
  {
   "cell_type": "code",
   "execution_count": null,
   "id": "05e36a57",
   "metadata": {
    "deletable": false,
    "execution": {
     "iopub.execute_input": "2025-09-30T10:37:53.364430Z",
     "iopub.status.busy": "2025-09-30T10:37:53.364276Z",
     "iopub.status.idle": "2025-09-30T10:37:53.368340Z",
     "shell.execute_reply": "2025-09-30T10:37:53.367915Z"
    },
    "tags": []
   },
   "outputs": [],
   "source": [
    "def country_name_to_geo(country_name):\n",
    "    \"\"\"Compute the geo code for the given country name.\"\"\"\n",
    "    country_col = countries.where('Name', are.equal_to(country_name)).column('Country')\n",
    "    assert len(country_col) > 0, 'Country ' + country_name + ' could not be found.'\n",
    "    return country_col.item(0)\n",
    "\n",
    "def poverty_timeline(country_name):\n",
    "    '''Draw a timeline of people living in extreme poverty in a country.'''\n",
    "    geo = country_name_to_geo(country_name)\n",
    "    # This solution will take multiple lines of code. Use as many as you need.\n",
    "    ...\n",
    "    plot = ...\n",
    "    # Don't change anything below this line. \n",
    "    plot.set_title(country_name)\n",
    "    plot.set_ylim(0)"
   ]
  },
  {
   "cell_type": "code",
   "execution_count": null,
   "id": "1900efa1",
   "metadata": {
    "deletable": false,
    "execution": {
     "iopub.execute_input": "2025-09-30T10:37:53.370810Z",
     "iopub.status.busy": "2025-09-30T10:37:53.370648Z",
     "iopub.status.idle": "2025-09-30T10:37:53.618592Z",
     "shell.execute_reply": "2025-09-30T10:37:53.617862Z"
    },
    "tags": []
   },
   "outputs": [],
   "source": [
    "poverty_timeline('India')  # sample call"
   ]
  },
  {
   "cell_type": "markdown",
   "id": "81fd9e94",
   "metadata": {
    "deletable": false,
    "editable": false
   },
   "source": [
    "<!-- END QUESTION -->\n",
    "\n",
    "Finally, draw the line plots below to see how the world is changing. Pay attention to the axes! You can check your work by comparing your graphs to the ones on [gapminder.org](https://www.gapminder.org/tools/#$state$entities$show$country$/$in@=ind;;;;&marker$axis_y$which=number_of_people_in_poverty&scaleType=linear&spaceRef:null;;;&chart-type=linechart).\n",
    "\n"
   ]
  },
  {
   "cell_type": "code",
   "execution_count": null,
   "id": "0df92531",
   "metadata": {
    "deletable": false,
    "editable": false,
    "execution": {
     "iopub.execute_input": "2025-09-30T10:37:53.621315Z",
     "iopub.status.busy": "2025-09-30T10:37:53.621133Z",
     "iopub.status.idle": "2025-09-30T10:37:56.053148Z",
     "shell.execute_reply": "2025-09-30T10:37:56.052705Z"
    },
    "tags": []
   },
   "outputs": [],
   "source": [
    "with Figure(2,3):\n",
    "    poverty_timeline('India')\n",
    "    poverty_timeline('Nigeria')\n",
    "    poverty_timeline('China')\n",
    "    poverty_timeline('Colombia')\n",
    "    poverty_timeline('United States')\n",
    "    poverty_timeline('Norway')"
   ]
  },
  {
   "cell_type": "markdown",
   "id": "d65fb8b2",
   "metadata": {
    "deletable": false,
    "editable": false
   },
   "source": [
    "<!-- BEGIN QUESTION -->\n",
    "\n",
    "#### Part 3.7 (5 pts)\n"
   ]
  },
  {
   "cell_type": "markdown",
   "id": "f6abf6b4",
   "metadata": {
    "deletable": false,
    "editable": false
   },
   "source": [
    "In one or two sentences, relate the increases and decreases in these six plots to the overall trend in the percent of people living extreme poverty worldwide that was cited at the top of [Question 3](#3.-Global-Poverty)."
   ]
  },
  {
   "cell_type": "markdown",
   "id": "3e112349",
   "metadata": {
    "deletable": false,
    "editable": false
   },
   "source": [
    "<hr style=\"margin:0; border: 1px solid #FFBE0A;\"/><font color='#FFBE0A'>Written Answer:</font>"
   ]
  },
  {
   "cell_type": "markdown",
   "id": "93469fbd",
   "metadata": {
    "deletable": false
   },
   "source": [
    "_Type your answer here, replacing this text._\n"
   ]
  },
  {
   "cell_type": "markdown",
   "id": "e57d2981",
   "metadata": {
    "deletable": false,
    "editable": false
   },
   "source": [
    "<hr style=\"margin:0; border: 1px solid #FFBE0A;\"/>"
   ]
  },
  {
   "cell_type": "markdown",
   "id": "2b3d096f",
   "metadata": {
    "deletable": false,
    "editable": false
   },
   "source": [
    "<!-- END QUESTION -->\n",
    "\n",
    "To learn more, watch [Hans Rosling in a 2015 film](https://www.gapminder.org/videos/dont-panic-end-poverty/) about the UN goal of eradicating extreme poverty from the world. "
   ]
  },
  {
   "cell_type": "markdown",
   "id": "daa96c7b",
   "metadata": {
    "deletable": false,
    "editable": false
   },
   "source": [
    "### Visualizing the Poverty Timeline in All Countries"
   ]
  },
  {
   "cell_type": "markdown",
   "id": "c861e553",
   "metadata": {
    "deletable": false,
    "editable": false
   },
   "source": [
    "Below, we've also added one last interactive visualization for `poverty_timeline` graphs for other countries if you're curious to explore the data more."
   ]
  },
  {
   "cell_type": "code",
   "execution_count": null,
   "id": "a1e27821",
   "metadata": {
    "deletable": false,
    "editable": false,
    "execution": {
     "iopub.execute_input": "2025-09-30T10:37:56.056526Z",
     "iopub.status.busy": "2025-09-30T10:37:56.056332Z",
     "iopub.status.idle": "2025-09-30T10:37:56.275635Z",
     "shell.execute_reply": "2025-09-30T10:37:56.275160Z"
    },
    "tags": []
   },
   "outputs": [],
   "source": [
    "# Just run this cell\n",
    "\n",
    "all_countries = poverty_map.sort('Name').column('Name')\n",
    "interact(poverty_timeline, country_name=Choice(all_countries))"
   ]
  },
  {
   "cell_type": "markdown",
   "id": "9c93a787",
   "metadata": {
    "deletable": false,
    "editable": false,
    "tags": [
     "Raises-Exception",
     "raises-exception"
    ]
   },
   "source": [
    "# You're Done!\n",
    "Follow these steps to submit your work:\n",
    "* Run the tests and verify that they pass as you expect. \n",
    "* Choose **Save Notebook** from the **File** menu.\n",
    "* **Run the final cell** and click the link below to download the zip file. \n",
    "\n",
    "Once you have downloaded that file, go to [Gradescope](https://www.gradescope.com/) and submit the zip file to \n",
    "the the \"Project 1 Autograder\" assignment.\n",
    "\n",
    "Once you have submitted, your Gradescope assignment should show you passing all the tests you passed in your assignment notebook.\n"
   ]
  },
  {
   "cell_type": "markdown",
   "id": "a14c0096",
   "metadata": {
    "deletable": false,
    "editable": false
   },
   "source": [
    "## Submission\n",
    "\n",
    "Make sure you have run all cells in your notebook in order before running the cell below, so that all images/graphs appear in the output. The cell below will generate a zip file for you to submit. **Please save before exporting!**"
   ]
  },
  {
   "cell_type": "code",
   "execution_count": null,
   "id": "0b3ebe82",
   "metadata": {
    "deletable": false,
    "editable": false
   },
   "outputs": [],
   "source": [
    "# Save your notebook first, then run this cell to export your submission.\n",
    "grader.export(run_tests=True)"
   ]
  },
  {
   "cell_type": "markdown",
   "id": "359058ea",
   "metadata": {},
   "source": [
    " "
   ]
  }
 ],
 "metadata": {
  "kernelspec": {
   "display_name": "Python 3 (ipykernel)",
   "language": "python",
   "name": "python3"
  },
  "language_info": {
   "codemirror_mode": {
    "name": "ipython",
    "version": 3
   },
   "file_extension": ".py",
   "mimetype": "text/x-python",
   "name": "python",
   "nbconvert_exporter": "python",
   "pygments_lexer": "ipython3",
   "version": "3.11.13"
  },
  "otter": {
   "OK_FORMAT": true,
   "tests": {
    "p1.1": {
     "has_hidden": true,
     "name": "p1.1",
     "points": 5,
     "suites": [
      {
       "cases": [
        {
         "code": ">>> check_str('b_pop.labels == (\\'Time\\', \\'Population\\')', locals())\n",
         "failure_message": "Check your column labels and spelling",
         "hidden": false,
         "locked": false,
         "submit_only": false,
         "success_message": "check(b_pop.labels == ('Time', 'Population'))"
        },
        {
         "code": ">>> check_str('b_pop.sort(\\'Time\\').column(\\'Time\\') == np.arange(1970, 2021)', locals())\n",
         "failure_message": "Times should range from 1970 through 2020, and you should only have data for bgd",
         "hidden": false,
         "locked": false,
         "submit_only": false,
         "success_message": "check(b_pop.sort('Time').column('Time') == np.arange(1970, 2021))"
        }
       ],
       "scored": true,
       "setup": "",
       "teardown": "",
       "type": "doctest"
      }
     ]
    },
    "p1.2": {
     "has_hidden": true,
     "name": "p1.2",
     "points": 5,
     "suites": [
      {
       "cases": [
        {
         "code": ">>> check_str('0.005 <= b_five_growth.sort(\\'Time\\').column(\\'Annual Growth\\').item(0) <= 0.05', locals())\n",
         "failure_message": "check(0.005 <= b_five_growth.sort('Time').column('Annual Growth').item(0) <= 0.05)",
         "hidden": false,
         "locked": false,
         "submit_only": false,
         "success_message": "check(0.005 <= b_five_growth.sort('Time').column('Annual Growth').item(0) <= 0.05)"
        },
        {
         "code": ">>> check_str('0.01 < max(b_five_growth.column(\\'Annual Growth\\')) < 0.03', locals())\n",
         "failure_message": "check(0.01 < max(b_five_growth.column('Annual Growth')) < 0.03)",
         "hidden": false,
         "locked": false,
         "submit_only": false,
         "success_message": "check(0.01 < max(b_five_growth.column('Annual Growth')) < 0.03)"
        }
       ],
       "scored": true,
       "setup": "",
       "teardown": "",
       "type": "doctest"
      }
     ]
    },
    "p1.5": {
     "has_hidden": true,
     "name": "p1.5",
     "points": 5,
     "suites": [
      {
       "cases": [
        {
         "code": ">>> check_str('fertility_over_time(\\'usa\\', 2010).labels == (\\'Year\\', \\'Children per woman\\')', locals())\n",
         "failure_message": "Check your column labels and spelling",
         "hidden": false,
         "locked": false,
         "submit_only": false,
         "success_message": "check(fertility_over_time('usa', 2010).labels == ('Year', 'Children per woman'))"
        },
        {
         "code": ">>> check_str('fertility_over_time(\\'usa\\', 2010).column(\\'Year\\') == np.arange(2010, 2021)', locals())\n",
         "failure_message": "Check that you use the start year to determine the data range.",
         "hidden": false,
         "locked": false,
         "submit_only": false,
         "success_message": "check(fertility_over_time('usa', 2010).column('Year') == np.arange(2010, 2021))"
        },
        {
         "code": ">>> check_str('fertility_over_time(\\'usa\\', 2005).column(\\'Year\\') == np.arange(2005, 2021)', locals())\n",
         "failure_message": "Check that you use the start year to determine the data range.",
         "hidden": false,
         "locked": false,
         "submit_only": false,
         "success_message": "check(fertility_over_time('usa', 2005).column('Year') == np.arange(2005, 2021))"
        }
       ],
       "scored": true,
       "setup": "",
       "teardown": "",
       "type": "doctest"
      }
     ]
    },
    "p1.7": {
     "has_hidden": true,
     "name": "p1.7",
     "points": 5,
     "suites": [
      {
       "cases": [
        {
         "code": ">>> check_str('\\'Child deaths per 1000 born\\' in post_1969_fertility_and_child_mortality.labels', locals())\n",
         "failure_message": "Make sure your column labels are correct",
         "hidden": false,
         "locked": false,
         "submit_only": false,
         "success_message": "check('Child deaths per 1000 born' in post_1969_fertility_and_child_mortality.labels)"
        },
        {
         "code": ">>> check_str('\\'Children per woman\\' in post_1969_fertility_and_child_mortality.labels', locals())\n",
         "failure_message": "Make sure your column labels are correct",
         "hidden": false,
         "locked": false,
         "submit_only": false,
         "success_message": "check('Children per woman' in post_1969_fertility_and_child_mortality.labels)"
        },
        {
         "code": ">>> check_str('post_1969_fertility_and_child_mortality.num_rows == 51', locals())\n",
         "failure_message": "Make sure you are using the date range 1970-2020 and only looking at bgd",
         "hidden": false,
         "locked": false,
         "submit_only": false,
         "success_message": "check(post_1969_fertility_and_child_mortality.num_rows == 51)"
        }
       ],
       "scored": true,
       "setup": "",
       "teardown": "",
       "type": "doctest"
      }
     ]
    },
    "p2.1": {
     "has_hidden": true,
     "name": "p2.1",
     "points": 4,
     "suites": [
      {
       "cases": [
        {
         "code": ">>> check_str('0 <= percent_2010 <= 100', locals())\n",
         "failure_message": "Your answer should be a number between 0 and 100.",
         "hidden": false,
         "locked": false,
         "submit_only": false,
         "success_message": "check(0 <= percent_2010 <= 100)"
        },
        {
         "code": ">>> check_str('0 <= percent_1960 <= 100', locals())\n",
         "failure_message": "Your answer should be a number between 0 and 100.",
         "hidden": false,
         "locked": false,
         "submit_only": false,
         "success_message": "check(0 <= percent_1960 <= 100)"
        }
       ],
       "scored": true,
       "setup": "",
       "teardown": "",
       "type": "doctest"
      }
     ]
    },
    "p2.4": {
     "has_hidden": false,
     "name": "p2.4",
     "points": 5,
     "suites": [
      {
       "cases": [
        {
         "code": ">>> check_str('stats_for_year(1990).labels == (\\'Geo\\', \\'Population\\', \\'Children per woman\\', \\'Child deaths per 1000 born\\')', locals())\n",
         "failure_message": "check(stats_for_year(1990).labels == ('Geo', 'Population', 'Children per woman', 'Child deaths per 1000 born'))",
         "hidden": false,
         "locked": false,
         "submit_only": false,
         "success_message": "check(stats_for_year(1990).labels == ('Geo', 'Population', 'Children per woman', 'Child deaths per 1000 born'))"
        },
        {
         "code": ">>> check_str('stats_for_year(1990).num_rows == 50', locals())\n",
         "failure_message": "check(stats_for_year(1990).num_rows == 50)",
         "hidden": false,
         "locked": false,
         "submit_only": false,
         "success_message": "check(stats_for_year(1990).num_rows == 50)"
        },
        {
         "code": ">>> check_str('stats_for_year(1960).sort(\\'Geo\\').column(\\'Geo\\').item(49) == \\'zaf\\'', locals())\n",
         "failure_message": "check(stats_for_year(1960).sort('Geo').column('Geo').item(49) == 'zaf')",
         "hidden": false,
         "locked": false,
         "submit_only": false,
         "success_message": "check(stats_for_year(1960).sort('Geo').column('Geo').item(49) == 'zaf')"
        },
        {
         "code": ">>> check_str('stats_for_year(2010).sort(\\'Geo\\').take(np.arange(3, 50, 5)).column(\\'Geo\\') == [\\'bgd\\', \\'col\\', \\'eth\\', \\'ind\\', \\'ken\\', \\'moz\\', \\'per\\', \\'sdn\\', \\'ukr\\', \\'yem\\']', locals())\n",
         "failure_message": "check(stats_for_year(2010).sort('Geo').take(np.arange(3, 50, 5)).column('Geo') == ['bgd', 'col', 'eth', 'ind', 'ken', 'moz', 'per', 'sdn', 'ukr', 'yem'])",
         "hidden": false,
         "locked": false,
         "submit_only": false,
         "success_message": "check(stats_for_year(2010).sort('Geo').take(np.arange(3, 50, 5)).column('Geo') == ['bgd', 'col', 'eth', 'ind', 'ken', 'moz', 'per', 'sdn', 'ukr', 'yem'])"
        }
       ],
       "scored": true,
       "setup": "",
       "teardown": "",
       "type": "doctest"
      }
     ]
    },
    "p2.5": {
     "has_hidden": false,
     "name": "p2.5",
     "points": 5,
     "suites": [
      {
       "cases": [
        {
         "code": ">>> check_str('pop_for_year(1972) == 3355562066', locals())\n",
         "failure_message": "check(pop_for_year(1972) == 3355562066)",
         "hidden": false,
         "locked": false,
         "submit_only": false,
         "success_message": "check(pop_for_year(1972) == 3355562066)"
        },
        {
         "code": ">>> check_str('pop_for_year(2020) == 6765161289', locals())\n",
         "failure_message": "check(pop_for_year(2020) == 6765161289)",
         "hidden": false,
         "locked": false,
         "submit_only": false,
         "success_message": "check(pop_for_year(2020) == 6765161289)"
        },
        {
         "code": ">>> check_str('pop_for_year(1989) == 4576679948', locals())\n",
         "failure_message": "check(pop_for_year(1989) == 4576679948)",
         "hidden": false,
         "locked": false,
         "submit_only": false,
         "success_message": "check(pop_for_year(1989) == 4576679948)"
        },
        {
         "code": ">>> check_str('pop_for_year(2002) == 5514129422', locals())\n",
         "failure_message": "check(pop_for_year(2002) == 5514129422)",
         "hidden": false,
         "locked": false,
         "submit_only": false,
         "success_message": "check(pop_for_year(2002) == 5514129422)"
        }
       ],
       "scored": true,
       "setup": "",
       "teardown": "",
       "type": "doctest"
      }
     ]
    },
    "p2.6": {
     "has_hidden": true,
     "name": "p2.6",
     "points": 5,
     "suites": [
      {
       "cases": [
        {
         "code": ">>> check_str('pop_by_decade.labels == (\\'Decade\\', \\'Population\\')', locals())\n",
         "failure_message": "Check column labels",
         "hidden": false,
         "locked": false,
         "submit_only": false,
         "success_message": "check(pop_by_decade.labels == ('Decade', 'Population'))"
        },
        {
         "code": ">>> check_str('pop_by_decade.column(0).item(0) == 1960', locals())\n",
         "failure_message": "First row should be for 1960",
         "hidden": false,
         "locked": false,
         "submit_only": false,
         "success_message": "check(pop_by_decade.column(0).item(0) == 1960)"
        }
       ],
       "scored": true,
       "setup": "",
       "teardown": "",
       "type": "doctest"
      }
     ]
    },
    "p2.7": {
     "has_hidden": true,
     "name": "p2.7",
     "points": 5,
     "suites": [
      {
       "cases": [
        {
         "code": ">>> check_str('region_counts.labels == (\\'region\\', \\'count\\')', locals())\n",
         "failure_message": "Check your column labels and spelling",
         "hidden": false,
         "locked": false,
         "submit_only": false,
         "success_message": "check(region_counts.labels == ('region', 'count'))"
        },
        {
         "code": ">>> check_str('sum(region_counts.column(\\'count\\')) == 50', locals())\n",
         "failure_message": "Counts must sum to 50",
         "hidden": false,
         "locked": false,
         "submit_only": false,
         "success_message": "check(sum(region_counts.column('count')) == 50)"
        }
       ],
       "scored": true,
       "setup": "",
       "teardown": "",
       "type": "doctest"
      }
     ]
    },
    "p3.1": {
     "has_hidden": true,
     "name": "p3.1",
     "points": 5,
     "suites": [
      {
       "cases": [
        {
         "code": ">>> check_str('latest_poverty.labels == (\\'Geo\\', \\'Time\\',\\'Poverty percent\\')', locals())\n",
         "failure_message": "check(latest_poverty.labels == ('Geo', 'Time','Poverty percent'))",
         "hidden": false,
         "locked": false,
         "submit_only": false,
         "success_message": "check(latest_poverty.labels == ('Geo', 'Time','Poverty percent'))"
        },
        {
         "code": ">>> check_str('latest_poverty.num_rows == 145', locals())\n",
         "failure_message": "The result should have one row per country.",
         "hidden": false,
         "locked": false,
         "submit_only": false,
         "success_message": "check(latest_poverty.num_rows == 145)"
        }
       ],
       "scored": true,
       "setup": "",
       "teardown": "",
       "type": "doctest"
      }
     ]
    },
    "p3.2": {
     "has_hidden": true,
     "name": "p3.2",
     "points": 5,
     "suites": [
      {
       "cases": [
        {
         "code": ">>> check_str('recent_poverty_total.labels==(\\'Geo\\',\\'Poverty percent\\',\\'Population\\',\\'Poverty total\\')', locals())\n",
         "failure_message": "Check your column labels and spelling",
         "hidden": false,
         "locked": false,
         "submit_only": false,
         "success_message": "check(recent_poverty_total.labels==('Geo','Poverty percent','Population','Poverty total'))"
        },
        {
         "code": ">>> check_str('recent_poverty_total.where(\\'Geo\\',are.equal_to(\\'aus\\')).column(\\'Population\\').item(0) == 22154687', locals())\n",
         "failure_message": "Careful, the population of Australia in 2010 was 22,154,687",
         "hidden": false,
         "locked": false,
         "submit_only": false,
         "success_message": "check(recent_poverty_total.where('Geo',are.equal_to('aus')).column('Population').item(0) == 22154687)"
        },
        {
         "code": ">>> check_str('recent_poverty_total.where(\\'Geo\\', \\'aus\\').column(\\'Poverty total\\').item(0) == approx(301304)', locals())\n",
         "failure_message": "The number of people estimated to be living in extreme poverty in Australia should be 301,304. That's 22,154,687 * 0.0136 rounded to the nearest integer.",
         "hidden": false,
         "locked": false,
         "submit_only": false,
         "success_message": "check(recent_poverty_total.where('Geo', 'aus').column('Poverty total').item(0) == approx(301304))"
        }
       ],
       "scored": true,
       "setup": "",
       "teardown": "",
       "type": "doctest"
      }
     ]
    },
    "p3.3": {
     "has_hidden": true,
     "name": "p3.3",
     "points": 5,
     "suites": [
      {
       "cases": [
        {
         "code": ">>> check_str('10 <= poverty_percent <= 20', locals())\n",
         "failure_message": "check(10 <= poverty_percent <= 20)",
         "hidden": false,
         "locked": false,
         "submit_only": false,
         "success_message": "check(10 <= poverty_percent <= 20)"
        }
       ],
       "scored": true,
       "setup": "",
       "teardown": "",
       "type": "doctest"
      }
     ]
    },
    "p3.4": {
     "has_hidden": true,
     "name": "p3.4",
     "points": 5,
     "suites": [
      {
       "cases": [
        {
         "code": ">>> check_str('poverty_map.labels == (\\'Latitude\\',\\'Longitude\\',\\'Name\\',\\'Region\\',\\'Poverty total\\')', locals())\n",
         "failure_message": "Check your column labels and spelling",
         "hidden": false,
         "locked": false,
         "submit_only": false,
         "success_message": "check(poverty_map.labels == ('Latitude','Longitude','Name','Region','Poverty total'))"
        },
        {
         "code": ">>> check_str('np.sort(np.unique(poverty_map.column(\\'Region\\'))) == [\\'africa\\', \\'americas\\', \\'asia\\', \\'europe\\']', locals())\n",
         "failure_message": "Something is wrong with your region column.",
         "hidden": false,
         "locked": false,
         "submit_only": false,
         "success_message": "check(np.sort(np.unique(poverty_map.column('Region'))) == ['africa', 'americas', 'asia', 'europe'])"
        }
       ],
       "scored": true,
       "setup": "",
       "teardown": "",
       "type": "doctest"
      }
     ]
    },
    "p3.5": {
     "has_hidden": true,
     "name": "p3.5",
     "points": 5,
     "suites": [
      {
       "cases": [
        {
         "code": ">>> check_str('largest.labels == (\\'Name\\', \\'Poverty total\\')', locals())\n",
         "failure_message": "Check your column labels and spelling",
         "hidden": false,
         "locked": false,
         "submit_only": false,
         "success_message": "check(largest.labels == ('Name', 'Poverty total'))"
        },
        {
         "code": ">>> # FAILURE India is the country with the largest number of people living in extreme poverty.\n>>> check_str('largest.column(\\'Name\\').item(0) == \\'India\\'', locals())\n",
         "failure_message": "check(largest.column('Name').item(0) == 'India')",
         "hidden": false,
         "locked": false,
         "submit_only": false,
         "success_message": "check(largest.column('Name').item(0) == 'India')"
        },
        {
         "code": ">>> check_str('largest.num_rows == 10', locals())\n",
         "failure_message": "The table should contain exactly 10 rows.",
         "hidden": false,
         "locked": false,
         "submit_only": false,
         "success_message": "check(largest.num_rows == 10)"
        }
       ],
       "scored": true,
       "setup": "",
       "teardown": "",
       "type": "doctest"
      }
     ]
    }
   }
  },
  "widgets": {
   "application/vnd.jupyter.widget-state+json": {
    "state": {
     "0662604033e44ce7996c70e24ddad11b": {
      "model_module": "@jupyter-widgets/base",
      "model_module_version": "1.2.0",
      "model_name": "LayoutModel",
      "state": {
       "_model_module": "@jupyter-widgets/base",
       "_model_module_version": "1.2.0",
       "_model_name": "LayoutModel",
       "_view_count": null,
       "_view_module": "@jupyter-widgets/base",
       "_view_module_version": "1.2.0",
       "_view_name": "LayoutView",
       "align_content": null,
       "align_items": null,
       "align_self": null,
       "border": null,
       "bottom": null,
       "display": null,
       "flex": null,
       "flex_flow": null,
       "grid_area": null,
       "grid_auto_columns": null,
       "grid_auto_flow": null,
       "grid_auto_rows": null,
       "grid_column": null,
       "grid_gap": null,
       "grid_row": null,
       "grid_template_areas": null,
       "grid_template_columns": null,
       "grid_template_rows": null,
       "height": null,
       "justify_content": null,
       "justify_items": null,
       "left": null,
       "margin": null,
       "max_height": null,
       "max_width": null,
       "min_height": null,
       "min_width": null,
       "object_fit": null,
       "object_position": null,
       "order": null,
       "overflow": null,
       "overflow_x": null,
       "overflow_y": null,
       "padding": null,
       "right": null,
       "top": null,
       "visibility": null,
       "width": null
      }
     },
     "195f2124784346e08bef576bd39122d3": {
      "model_module": "@jupyter-widgets/base",
      "model_module_version": "1.2.0",
      "model_name": "LayoutModel",
      "state": {
       "_model_module": "@jupyter-widgets/base",
       "_model_module_version": "1.2.0",
       "_model_name": "LayoutModel",
       "_view_count": null,
       "_view_module": "@jupyter-widgets/base",
       "_view_module_version": "1.2.0",
       "_view_name": "LayoutView",
       "align_content": null,
       "align_items": null,
       "align_self": null,
       "border": null,
       "bottom": null,
       "display": null,
       "flex": null,
       "flex_flow": null,
       "grid_area": null,
       "grid_auto_columns": null,
       "grid_auto_flow": null,
       "grid_auto_rows": null,
       "grid_column": null,
       "grid_gap": null,
       "grid_row": null,
       "grid_template_areas": null,
       "grid_template_columns": null,
       "grid_template_rows": null,
       "height": null,
       "justify_content": null,
       "justify_items": null,
       "left": null,
       "margin": null,
       "max_height": null,
       "max_width": null,
       "min_height": null,
       "min_width": null,
       "object_fit": null,
       "object_position": null,
       "order": null,
       "overflow": null,
       "overflow_x": null,
       "overflow_y": null,
       "padding": null,
       "right": null,
       "top": null,
       "visibility": null,
       "width": null
      }
     },
     "1e11bdbf4ab14124940ea56306e05281": {
      "model_module": "@jupyter-widgets/output",
      "model_module_version": "1.0.0",
      "model_name": "OutputModel",
      "state": {
       "_dom_classes": [],
       "_model_module": "@jupyter-widgets/output",
       "_model_module_version": "1.0.0",
       "_model_name": "OutputModel",
       "_view_count": null,
       "_view_module": "@jupyter-widgets/output",
       "_view_module_version": "1.0.0",
       "_view_name": "OutputView",
       "layout": "IPY_MODEL_b04b276a8e3b454abc9fb46795e2608b",
       "msg_id": "",
       "outputs": [
        {
         "data": {
          "image/png": "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",
          "text/plain": "<Figure size 600x600 with 1 Axes>"
         },
         "metadata": {},
         "output_type": "display_data"
        }
       ]
      }
     },
     "2433d78b7fa448519a9e0f245e5f2e01": {
      "model_module": "@jupyter-widgets/base",
      "model_module_version": "1.2.0",
      "model_name": "LayoutModel",
      "state": {
       "_model_module": "@jupyter-widgets/base",
       "_model_module_version": "1.2.0",
       "_model_name": "LayoutModel",
       "_view_count": null,
       "_view_module": "@jupyter-widgets/base",
       "_view_module_version": "1.2.0",
       "_view_name": "LayoutView",
       "align_content": null,
       "align_items": null,
       "align_self": null,
       "border": null,
       "bottom": null,
       "display": null,
       "flex": null,
       "flex_flow": null,
       "grid_area": null,
       "grid_auto_columns": null,
       "grid_auto_flow": null,
       "grid_auto_rows": null,
       "grid_column": null,
       "grid_gap": null,
       "grid_row": null,
       "grid_template_areas": null,
       "grid_template_columns": null,
       "grid_template_rows": null,
       "height": null,
       "justify_content": null,
       "justify_items": null,
       "left": null,
       "margin": null,
       "max_height": null,
       "max_width": null,
       "min_height": null,
       "min_width": null,
       "object_fit": null,
       "object_position": null,
       "order": null,
       "overflow": null,
       "overflow_x": null,
       "overflow_y": null,
       "padding": null,
       "right": null,
       "top": null,
       "visibility": null,
       "width": null
      }
     },
     "36dcc7bb75f04896854ecf362bc66b62": {
      "model_module": "@jupyter-widgets/controls",
      "model_module_version": "1.5.0",
      "model_name": "VBoxModel",
      "state": {
       "_dom_classes": [
        "widget-interact"
       ],
       "_model_module": "@jupyter-widgets/controls",
       "_model_module_version": "1.5.0",
       "_model_name": "VBoxModel",
       "_view_count": null,
       "_view_module": "@jupyter-widgets/controls",
       "_view_module_version": "1.5.0",
       "_view_name": "VBoxView",
       "box_style": "",
       "children": [
        "IPY_MODEL_6371c7c22c8145faa789e989cb78e25a",
        "IPY_MODEL_db7dd600bb254a75821ddb71eb12c361"
       ],
       "layout": "IPY_MODEL_b9f0244aae3248f7909a31b4280e8dd0"
      }
     },
     "45e92e87e60f44a3b65c0aa2e9d6f269": {
      "model_module": "@jupyter-widgets/controls",
      "model_module_version": "1.5.0",
      "model_name": "VBoxModel",
      "state": {
       "_dom_classes": [
        "widget-interact"
       ],
       "_model_module": "@jupyter-widgets/controls",
       "_model_module_version": "1.5.0",
       "_model_name": "VBoxModel",
       "_view_count": null,
       "_view_module": "@jupyter-widgets/controls",
       "_view_module_version": "1.5.0",
       "_view_name": "VBoxView",
       "box_style": "",
       "children": [
        "IPY_MODEL_79879ee03bf646f4b383919039b832c7",
        "IPY_MODEL_1e11bdbf4ab14124940ea56306e05281"
       ],
       "layout": "IPY_MODEL_2433d78b7fa448519a9e0f245e5f2e01"
      }
     },
     "6371c7c22c8145faa789e989cb78e25a": {
      "model_module": "@jupyter-widgets/controls",
      "model_module_version": "1.5.0",
      "model_name": "IntSliderModel",
      "state": {
       "_dom_classes": [],
       "_model_module": "@jupyter-widgets/controls",
       "_model_module_version": "1.5.0",
       "_model_name": "IntSliderModel",
       "_view_count": null,
       "_view_module": "@jupyter-widgets/controls",
       "_view_module_version": "1.5.0",
       "_view_name": "IntSliderView",
       "continuous_update": true,
       "description": "year",
       "description_tooltip": null,
       "disabled": false,
       "layout": "IPY_MODEL_838abc6c96c04504afdff97ba65f0ef1",
       "max": 2020,
       "min": 1960,
       "orientation": "horizontal",
       "readout": true,
       "readout_format": "d",
       "step": 1,
       "style": "IPY_MODEL_89024d97cd18460288ff9566a2c7c749",
       "value": 1990
      }
     },
     "79879ee03bf646f4b383919039b832c7": {
      "model_module": "@jupyter-widgets/controls",
      "model_module_version": "1.5.0",
      "model_name": "DropdownModel",
      "state": {
       "_dom_classes": [],
       "_model_module": "@jupyter-widgets/controls",
       "_model_module_version": "1.5.0",
       "_model_name": "DropdownModel",
       "_options_labels": [
        "Albania",
        "Algeria",
        "Angola",
        "Argentina",
        "Armenia",
        "Australia",
        "Austria",
        "Azerbaijan",
        "Bangladesh",
        "Belarus",
        "Belgium",
        "Belize",
        "Benin",
        "Bhutan",
        "Bolivia",
        "Bosnia and Herzegovina",
        "Botswana",
        "Brazil",
        "Bulgaria",
        "Burkina Faso",
        "Burundi",
        "Cambodia",
        "Cameroon",
        "Canada",
        "Cape Verde",
        "Central African Republic",
        "Chad",
        "Chile",
        "China",
        "Colombia",
        "Comoros",
        "Congo, Dem. Rep.",
        "Congo, Rep.",
        "Costa Rica",
        "Cote d'Ivoire",
        "Croatia",
        "Czech Republic",
        "Denmark",
        "Djibouti",
        "Dominican Republic",
        "Ecuador",
        "Egypt",
        "El Salvador",
        "Estonia",
        "Ethiopia",
        "Fiji",
        "Finland",
        "France",
        "Gabon",
        "Gambia",
        "Georgia",
        "Germany",
        "Ghana",
        "Greece",
        "Guatemala",
        "Guinea",
        "Guinea-Bissau",
        "Guyana",
        "Haiti",
        "Honduras",
        "Hungary",
        "India",
        "Indonesia",
        "Iran",
        "Iraq",
        "Ireland",
        "Israel",
        "Italy",
        "Jamaica",
        "Japan",
        "Jordan",
        "Kazakhstan",
        "Kenya",
        "Kyrgyz Republic",
        "Lao",
        "Latvia",
        "Lesotho",
        "Liberia",
        "Lithuania",
        "Madagascar",
        "Malawi",
        "Malaysia",
        "Maldives",
        "Mali",
        "Mauritania",
        "Mexico",
        "Micronesia, Fed. Sts.",
        "Moldova",
        "Montenegro",
        "Morocco",
        "Mozambique",
        "Namibia",
        "Nepal",
        "Netherlands",
        "Nicaragua",
        "Niger",
        "Nigeria",
        "North Macedonia",
        "Norway",
        "Pakistan",
        "Palestine",
        "Panama",
        "Papua New Guinea",
        "Paraguay",
        "Peru",
        "Philippines",
        "Poland",
        "Romania",
        "Russia",
        "Rwanda",
        "Sao Tome and Principe",
        "Senegal",
        "Serbia",
        "Seychelles",
        "Sierra Leone",
        "Slovak Republic",
        "Slovenia",
        "South Africa",
        "Spain",
        "Sri Lanka",
        "St. Lucia",
        "Sudan",
        "Suriname",
        "Swaziland",
        "Sweden",
        "Switzerland",
        "Syria",
        "Tajikistan",
        "Tanzania",
        "Thailand",
        "Timor-Leste",
        "Togo",
        "Trinidad and Tobago",
        "Tunisia",
        "Turkey",
        "Turkmenistan",
        "Uganda",
        "Ukraine",
        "United Kingdom",
        "United States",
        "Uruguay",
        "Venezuela",
        "Vietnam",
        "Yemen",
        "Zambia"
       ],
       "_view_count": null,
       "_view_module": "@jupyter-widgets/controls",
       "_view_module_version": "1.5.0",
       "_view_name": "DropdownView",
       "description": "country_name",
       "description_tooltip": null,
       "disabled": false,
       "index": 0,
       "layout": "IPY_MODEL_0662604033e44ce7996c70e24ddad11b",
       "style": "IPY_MODEL_b00a4096a8224cfeae6d04d39366bb1f"
      }
     },
     "838abc6c96c04504afdff97ba65f0ef1": {
      "model_module": "@jupyter-widgets/base",
      "model_module_version": "1.2.0",
      "model_name": "LayoutModel",
      "state": {
       "_model_module": "@jupyter-widgets/base",
       "_model_module_version": "1.2.0",
       "_model_name": "LayoutModel",
       "_view_count": null,
       "_view_module": "@jupyter-widgets/base",
       "_view_module_version": "1.2.0",
       "_view_name": "LayoutView",
       "align_content": null,
       "align_items": null,
       "align_self": null,
       "border": null,
       "bottom": null,
       "display": null,
       "flex": null,
       "flex_flow": null,
       "grid_area": null,
       "grid_auto_columns": null,
       "grid_auto_flow": null,
       "grid_auto_rows": null,
       "grid_column": null,
       "grid_gap": null,
       "grid_row": null,
       "grid_template_areas": null,
       "grid_template_columns": null,
       "grid_template_rows": null,
       "height": null,
       "justify_content": null,
       "justify_items": null,
       "left": null,
       "margin": null,
       "max_height": null,
       "max_width": null,
       "min_height": null,
       "min_width": null,
       "object_fit": null,
       "object_position": null,
       "order": null,
       "overflow": null,
       "overflow_x": null,
       "overflow_y": null,
       "padding": null,
       "right": null,
       "top": null,
       "visibility": null,
       "width": null
      }
     },
     "89024d97cd18460288ff9566a2c7c749": {
      "model_module": "@jupyter-widgets/controls",
      "model_module_version": "1.5.0",
      "model_name": "SliderStyleModel",
      "state": {
       "_model_module": "@jupyter-widgets/controls",
       "_model_module_version": "1.5.0",
       "_model_name": "SliderStyleModel",
       "_view_count": null,
       "_view_module": "@jupyter-widgets/base",
       "_view_module_version": "1.2.0",
       "_view_name": "StyleView",
       "description_width": "",
       "handle_color": null
      }
     },
     "b00a4096a8224cfeae6d04d39366bb1f": {
      "model_module": "@jupyter-widgets/controls",
      "model_module_version": "1.5.0",
      "model_name": "DescriptionStyleModel",
      "state": {
       "_model_module": "@jupyter-widgets/controls",
       "_model_module_version": "1.5.0",
       "_model_name": "DescriptionStyleModel",
       "_view_count": null,
       "_view_module": "@jupyter-widgets/base",
       "_view_module_version": "1.2.0",
       "_view_name": "StyleView",
       "description_width": ""
      }
     },
     "b04b276a8e3b454abc9fb46795e2608b": {
      "model_module": "@jupyter-widgets/base",
      "model_module_version": "1.2.0",
      "model_name": "LayoutModel",
      "state": {
       "_model_module": "@jupyter-widgets/base",
       "_model_module_version": "1.2.0",
       "_model_name": "LayoutModel",
       "_view_count": null,
       "_view_module": "@jupyter-widgets/base",
       "_view_module_version": "1.2.0",
       "_view_name": "LayoutView",
       "align_content": null,
       "align_items": null,
       "align_self": null,
       "border": null,
       "bottom": null,
       "display": null,
       "flex": null,
       "flex_flow": null,
       "grid_area": null,
       "grid_auto_columns": null,
       "grid_auto_flow": null,
       "grid_auto_rows": null,
       "grid_column": null,
       "grid_gap": null,
       "grid_row": null,
       "grid_template_areas": null,
       "grid_template_columns": null,
       "grid_template_rows": null,
       "height": null,
       "justify_content": null,
       "justify_items": null,
       "left": null,
       "margin": null,
       "max_height": null,
       "max_width": null,
       "min_height": null,
       "min_width": null,
       "object_fit": null,
       "object_position": null,
       "order": null,
       "overflow": null,
       "overflow_x": null,
       "overflow_y": null,
       "padding": null,
       "right": null,
       "top": null,
       "visibility": null,
       "width": null
      }
     },
     "b9f0244aae3248f7909a31b4280e8dd0": {
      "model_module": "@jupyter-widgets/base",
      "model_module_version": "1.2.0",
      "model_name": "LayoutModel",
      "state": {
       "_model_module": "@jupyter-widgets/base",
       "_model_module_version": "1.2.0",
       "_model_name": "LayoutModel",
       "_view_count": null,
       "_view_module": "@jupyter-widgets/base",
       "_view_module_version": "1.2.0",
       "_view_name": "LayoutView",
       "align_content": null,
       "align_items": null,
       "align_self": null,
       "border": null,
       "bottom": null,
       "display": null,
       "flex": null,
       "flex_flow": null,
       "grid_area": null,
       "grid_auto_columns": null,
       "grid_auto_flow": null,
       "grid_auto_rows": null,
       "grid_column": null,
       "grid_gap": null,
       "grid_row": null,
       "grid_template_areas": null,
       "grid_template_columns": null,
       "grid_template_rows": null,
       "height": null,
       "justify_content": null,
       "justify_items": null,
       "left": null,
       "margin": null,
       "max_height": null,
       "max_width": null,
       "min_height": null,
       "min_width": null,
       "object_fit": null,
       "object_position": null,
       "order": null,
       "overflow": null,
       "overflow_x": null,
       "overflow_y": null,
       "padding": null,
       "right": null,
       "top": null,
       "visibility": null,
       "width": null
      }
     },
     "db7dd600bb254a75821ddb71eb12c361": {
      "model_module": "@jupyter-widgets/output",
      "model_module_version": "1.0.0",
      "model_name": "OutputModel",
      "state": {
       "_dom_classes": [],
       "_model_module": "@jupyter-widgets/output",
       "_model_module_version": "1.0.0",
       "_model_name": "OutputModel",
       "_view_count": null,
       "_view_module": "@jupyter-widgets/output",
       "_view_module_version": "1.0.0",
       "_view_name": "OutputView",
       "layout": "IPY_MODEL_195f2124784346e08bef576bd39122d3",
       "msg_id": "",
       "outputs": [
        {
         "data": {
          "image/png": "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",
          "text/plain": "<Figure size 600x600 with 1 Axes>"
         },
         "metadata": {},
         "output_type": "display_data"
        }
       ]
      }
     }
    },
    "version_major": 2,
    "version_minor": 0
   }
  }
 },
 "nbformat": 4,
 "nbformat_minor": 5
}
