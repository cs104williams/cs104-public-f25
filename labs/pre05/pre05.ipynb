{
 "cells": [
  {
   "cell_type": "code",
   "execution_count": null,
   "id": "a4fec664",
   "metadata": {
    "deletable": false,
    "editable": false
   },
   "outputs": [],
   "source": [
    "# Initialize Otter\n",
    "import otter\n",
    "grader = otter.Notebook(\"pre05.ipynb\")"
   ]
  },
  {
   "cell_type": "markdown",
   "id": "e1bcddd5",
   "metadata": {
    "deletable": false,
    "editable": false
   },
   "source": [
    "<table style=\"width: 100%;\">\n",
    "<tr style=\"background-color: transparent;\">\n",
    "<td width=\"100px\"><img src=\"https://cs104williams.github.io/assets/cs104-logo.png\" width=\"90px\" style=\"text-align: center\"/></td>\n",
    "<td>\n",
    "  <p style=\"margin-bottom: 0px; text-align: left; font-size: 18pt;\"><strong>CSCI 104: Data Science and Computing for All</strong><br>\n",
    "                Williams College<br>\n",
    "                Fall 2025</p>\n",
    "</td>\n",
    "</tr>\n"
   ]
  },
  {
   "cell_type": "markdown",
   "id": "d52c30c0",
   "metadata": {
    "deletable": false,
    "editable": false,
    "tags": []
   },
   "source": [
    "# Prelab 5: Conditionals and Simulations"
   ]
  },
  {
   "cell_type": "markdown",
   "id": "efb757b3",
   "metadata": {
    "deletable": false,
    "editable": false,
    "tags": []
   },
   "source": [
    "**Instructions**\n",
    "- Before you begin, execute the cell at the TOP of the notebook to load the provided tests, as well as the following cell to setup the notebook by importing some helpful libraries. Each time you start your server, you will need to execute these cells again.  \n",
    "- Be sure to consult your [Python Reference](https://cs104williams.github.io/assets/python-library-ref.html)!\n",
    "- Complete this notebook by filling in the cells provided. \n",
    "- Please be sure to not re-assign variables throughout the notebook.  For example, if you use `max_temperature` in your answer to one question, do not reassign it later on. Otherwise, you will fail tests that you thought you were passing previously.\n",
    "- There are no hidden tests in prelabs.\n",
    "\n",
    "<hr/>\n",
    "<h2>Setup</h2>\n"
   ]
  },
  {
   "cell_type": "code",
   "execution_count": null,
   "id": "ed259510",
   "metadata": {
    "deletable": false,
    "editable": false,
    "execution": {
     "iopub.execute_input": "2025-10-17T09:54:42.607716Z",
     "iopub.status.busy": "2025-10-17T09:54:42.607493Z",
     "iopub.status.idle": "2025-10-17T09:54:43.697908Z",
     "shell.execute_reply": "2025-10-17T09:54:43.697638Z"
    },
    "tags": []
   },
   "outputs": [],
   "source": [
    "# Run this cell to set up the notebook.\n",
    "# These lines import the numpy, datascience, and cs104 libraries.\n",
    "\n",
    "import numpy as np\n",
    "from datascience import *\n",
    "from cs104 import *\n",
    "%matplotlib inline"
   ]
  },
  {
   "cell_type": "markdown",
   "id": "3d6dae98",
   "metadata": {
    "deletable": false,
    "editable": false
   },
   "source": [
    "### Conditionals Review"
   ]
  },
  {
   "cell_type": "markdown",
   "id": "955276b9",
   "metadata": {
    "deletable": false,
    "editable": false
   },
   "source": [
    "In Python, the boolean data type contains only two unique values:  `True` and `False`. Expressions containing comparison operators such as `<` (less than), `>` (greater than), and `==` (equal to) evaluate to Boolean values. A list of common comparison operators can be found below!\n",
    "\n",
    "| Comparision    | True example | False example | \n",
    "| -------------- | ------------ | ------------- |\n",
    "| Less than      | 2 < 3        | 2 < 2         | \n",
    "| Greater than   | 3 > 2        | 2 > 2         | \n",
    "| Less than or equal | 2 <= 2   | 3 <= 2        |\n",
    "| Greater than or equal | 2 >= 2   | 2 >= 3     |\n",
    "| Equal          | 3 == 3       | 3 == 2        |\n",
    "| Not equal      | 3 != 2       | 3 != 3        |"
   ]
  },
  {
   "cell_type": "markdown",
   "id": "31689dda",
   "metadata": {
    "deletable": false,
    "editable": false
   },
   "source": [
    "Run the cell below to see an example of a comparison operator in action."
   ]
  },
  {
   "cell_type": "code",
   "execution_count": null,
   "id": "eab61eaf",
   "metadata": {
    "deletable": false,
    "editable": false,
    "execution": {
     "iopub.execute_input": "2025-10-17T09:54:43.699797Z",
     "iopub.status.busy": "2025-10-17T09:54:43.699635Z",
     "iopub.status.idle": "2025-10-17T09:54:43.704077Z",
     "shell.execute_reply": "2025-10-17T09:54:43.703851Z"
    },
    "tags": []
   },
   "outputs": [],
   "source": [
    "3 > 1 + 1"
   ]
  },
  {
   "cell_type": "markdown",
   "id": "5b3c3ec6",
   "metadata": {
    "deletable": false,
    "editable": false
   },
   "source": [
    "We can even assign the result of a comparison operation to a variable."
   ]
  },
  {
   "cell_type": "code",
   "execution_count": null,
   "id": "5d65048b",
   "metadata": {
    "deletable": false,
    "editable": false,
    "execution": {
     "iopub.execute_input": "2025-10-17T09:54:43.705588Z",
     "iopub.status.busy": "2025-10-17T09:54:43.705477Z",
     "iopub.status.idle": "2025-10-17T09:54:43.707513Z",
     "shell.execute_reply": "2025-10-17T09:54:43.707288Z"
    },
    "tags": []
   },
   "outputs": [],
   "source": [
    "result = 10 / 2 == 5\n",
    "result"
   ]
  },
  {
   "cell_type": "markdown",
   "id": "0f7fa730",
   "metadata": {
    "deletable": false,
    "editable": false
   },
   "source": [
    "We can also combine two comparisons with `or` (at least one test is true) and `and` (both tests must be true):"
   ]
  },
  {
   "cell_type": "code",
   "execution_count": null,
   "id": "617536a3",
   "metadata": {
    "deletable": false,
    "editable": false,
    "execution": {
     "iopub.execute_input": "2025-10-17T09:54:43.708908Z",
     "iopub.status.busy": "2025-10-17T09:54:43.708824Z",
     "iopub.status.idle": "2025-10-17T09:54:43.710764Z",
     "shell.execute_reply": "2025-10-17T09:54:43.710516Z"
    },
    "tags": []
   },
   "outputs": [],
   "source": [
    "x = 1\n",
    "y = 1\n",
    "print(y > 0 and x < 2)\n",
    "print(y > 1 and x < 2)\n",
    "print(y > 1 or  x < 2)"
   ]
  },
  {
   "cell_type": "markdown",
   "id": "a085907a",
   "metadata": {
    "deletable": false,
    "editable": false
   },
   "source": [
    "Arrays are compatible with comparison operators. The output is an array of boolean values."
   ]
  },
  {
   "cell_type": "code",
   "execution_count": null,
   "id": "d9aadf01",
   "metadata": {
    "deletable": false,
    "editable": false,
    "execution": {
     "iopub.execute_input": "2025-10-17T09:54:43.712150Z",
     "iopub.status.busy": "2025-10-17T09:54:43.712066Z",
     "iopub.status.idle": "2025-10-17T09:54:43.714203Z",
     "shell.execute_reply": "2025-10-17T09:54:43.713994Z"
    },
    "tags": []
   },
   "outputs": [],
   "source": [
    "make_array(1, 5, 7, 8, 3, -1) > 3"
   ]
  },
  {
   "cell_type": "markdown",
   "id": "7b996e80",
   "metadata": {
    "deletable": false,
    "editable": false
   },
   "source": [
    "Conditional tests are often used in conditional statements that enables you to choose among different code alternatives based on the truth value of an expression.\n",
    "\n",
    "Here is a basic example.\n",
    "\n",
    "```\n",
    "def sign(x):\n",
    "    if x > 0:\n",
    "        return 'Positive'\n",
    "    else:\n",
    "        return 'Negative'\n",
    "```\n",
    "\n",
    "If the input `x` is greater than `0`, we return the string `'Positive'`. Otherwise, we return `'Negative'`.\n",
    "\n",
    "If we want to test multiple conditions at once, we use the following general format.\n",
    "\n",
    "```\n",
    "if <if expression>:\n",
    "    <if body>\n",
    "elif <elif expression 0>:\n",
    "    <elif body 0>\n",
    "elif <elif expression 1>:\n",
    "    <elif body 1>\n",
    "...\n",
    "else:\n",
    "    <else body>\n",
    "```\n",
    "\n",
    "Only the body for the first conditional expression that is true will be evaluated. Each `if` and `elif` expression is evaluated and considered in order, starting at the top. As soon as a true value is found, the corresponding body is executed, and the rest of the conditional statement is skipped. If none of the `if` or `elif` expressions are true, then the `else body` is executed. "
   ]
  },
  {
   "cell_type": "markdown",
   "id": "23cca0b6",
   "metadata": {
    "deletable": false,
    "editable": false
   },
   "source": [
    "<hr style=\"margin-bottom: 0px; padding:0; border: 2px solid #500082;\"/>\n"
   ]
  },
  {
   "cell_type": "markdown",
   "id": "d2183917",
   "metadata": {
    "deletable": false,
    "editable": false
   },
   "source": [
    "## 1. Conditional Tests and Statements (20 pts)\n",
    "\n"
   ]
  },
  {
   "cell_type": "markdown",
   "id": "963e7501",
   "metadata": {
    "deletable": false,
    "editable": false,
    "tags": []
   },
   "source": [
    "<font color='#B1008E'>\n",
    "\n",
    "##### Learning objectives\n",
    "    \n",
    "- Use Python's conditional operators\n",
    "- Use if statements to conditionally execute statements\n",
    "</font>"
   ]
  },
  {
   "cell_type": "markdown",
   "id": "843cca7f",
   "metadata": {
    "deletable": false,
    "editable": false
   },
   "source": [
    "The following cell loads blood pressure data collected by the [National Center for Health Statistics](https://www.cdc.gov/nchs/index.htm) at the CDC.  It includes measurements for about 5,500 people.  Recall that blood pressure is usually reported as two numbers:\n",
    "\n",
    "* the **systolic pressure** measures the pressure in your arteries when your heart beats; and\n",
    "* the **diastolic pressure** measures the pressure in your arteries when your heart rests between beats.\n",
    "\n",
    "\"Normal\" blood pressure would be measurements like \"110 over 80\", or a systolic pressure of 110 and diastolic pressure of 80."
   ]
  },
  {
   "cell_type": "code",
   "execution_count": null,
   "id": "eae3938d",
   "metadata": {
    "deletable": false,
    "editable": false,
    "execution": {
     "iopub.execute_input": "2025-10-17T09:54:43.715762Z",
     "iopub.status.busy": "2025-10-17T09:54:43.715690Z",
     "iopub.status.idle": "2025-10-17T09:54:43.724765Z",
     "shell.execute_reply": "2025-10-17T09:54:43.724490Z"
    },
    "tags": []
   },
   "outputs": [],
   "source": [
    "bp = Table().read_table(\"blood_pressure.csv\")\n",
    "bp.show(5)"
   ]
  },
  {
   "cell_type": "markdown",
   "id": "644685ac",
   "metadata": {
    "deletable": false,
    "editable": false
   },
   "source": [
    "#### Part 1.1 (5 pts)\n"
   ]
  },
  {
   "cell_type": "markdown",
   "id": "513fae5b",
   "metadata": {
    "deletable": false,
    "editable": false
   },
   "source": [
    "We will add new columns to our table.  The first new column will classify each individual as either \"young\" or \"old\", depending on whether they are younger than 65 or not.  To do this, first complete the following function that returns \"young\" or \"old\" for the given age."
   ]
  },
  {
   "cell_type": "code",
   "execution_count": null,
   "id": "7394e2e5",
   "metadata": {
    "deletable": false,
    "execution": {
     "iopub.execute_input": "2025-10-17T09:54:43.726357Z",
     "iopub.status.busy": "2025-10-17T09:54:43.726272Z",
     "iopub.status.idle": "2025-10-17T09:54:43.728595Z",
     "shell.execute_reply": "2025-10-17T09:54:43.728360Z"
    },
    "tags": []
   },
   "outputs": [],
   "source": [
    "def age_category(age):\n",
    "    if ...:\n",
    "        ...\n",
    "    else:\n",
    "        ...\n",
    "\n",
    "\n",
    "print(50, \"is\", age_category(50))\n",
    "print(70, \"is\", age_category(70))\n"
   ]
  },
  {
   "cell_type": "code",
   "execution_count": null,
   "id": "3bf6ba15",
   "metadata": {
    "deletable": false,
    "editable": false
   },
   "outputs": [],
   "source": [
    "grader.check(\"p1.1\")"
   ]
  },
  {
   "cell_type": "markdown",
   "id": "b16b5107",
   "metadata": {
    "deletable": false,
    "editable": false
   },
   "source": [
    "#### Part 1.2 (5 pts)\n"
   ]
  },
  {
   "cell_type": "markdown",
   "id": "85090e8d",
   "metadata": {
    "deletable": false,
    "editable": false
   },
   "source": [
    "Use Table's `apply` method to apply your `age_category` function to all rows in your `bp` table.  Save that array in `age_categories`.  Then create a new copy of `bp` called `bp_age` with an additional column `Age category` containing the results."
   ]
  },
  {
   "cell_type": "code",
   "execution_count": null,
   "id": "e12691af",
   "metadata": {
    "deletable": false,
    "execution": {
     "iopub.execute_input": "2025-10-17T09:54:43.739379Z",
     "iopub.status.busy": "2025-10-17T09:54:43.739298Z",
     "iopub.status.idle": "2025-10-17T09:54:43.742682Z",
     "shell.execute_reply": "2025-10-17T09:54:43.742453Z"
    },
    "tags": []
   },
   "outputs": [],
   "source": [
    "age_categories = ...\n",
    "bp_age = ...\n",
    "bp_age.show(10)"
   ]
  },
  {
   "cell_type": "markdown",
   "id": "da756e23",
   "metadata": {
    "deletable": false,
    "editable": false
   },
   "source": [
    "Here is a histogram of systolic pressure for the two groups.  Later in the class we'll be able to quantify the difference in groups, but this histogram suggests there is a difference in the two age groups."
   ]
  },
  {
   "cell_type": "code",
   "execution_count": null,
   "id": "a42413c0",
   "metadata": {
    "deletable": false,
    "editable": false,
    "execution": {
     "iopub.execute_input": "2025-10-17T09:54:43.758391Z",
     "iopub.status.busy": "2025-10-17T09:54:43.758312Z",
     "iopub.status.idle": "2025-10-17T09:54:43.907830Z",
     "shell.execute_reply": "2025-10-17T09:54:43.907280Z"
    },
    "tags": []
   },
   "outputs": [],
   "source": [
    "bp_age.hist('Systolic', group='Age category')"
   ]
  },
  {
   "cell_type": "code",
   "execution_count": null,
   "id": "412d3e16",
   "metadata": {
    "deletable": false,
    "editable": false
   },
   "outputs": [],
   "source": [
    "grader.check(\"p1.2\")"
   ]
  },
  {
   "cell_type": "markdown",
   "id": "c5869243",
   "metadata": {
    "deletable": false,
    "editable": false
   },
   "source": [
    "#### Part 1.3 (5 pts)\n"
   ]
  },
  {
   "cell_type": "markdown",
   "id": "6838295a",
   "metadata": {
    "deletable": false,
    "editable": false
   },
   "source": [
    "High blood pressure can cause various serious medical conditions.  The American Heart Associations categorizes blood publishes the following [standards](https://www.heart.org/en/health-topics/high-blood-pressure/understanding-blood-pressure-readings) for assessing elevated pressure levels:\n",
    "\n",
    "\n",
    "|   BLOOD PRESSURE CATEGORY   | SYSTOLIC      | and/or | DIASTOLIC |\n",
    "| --------------------------- | --------      |  -     |  ----------|\n",
    "| 1. Normal                  | less than 120 | and    | less than 80  |\n",
    "| 2. Elevated                | 120-129       | and    | less than 80  |\n",
    "| 3. High (Stage 1)          | 130-139       | or     | 80-89         |\n",
    "| 4. High (Stage 2)          | 140 or higher | or     | 90 or higher  |\n",
    "| 5. Crisis                  | 180 or higher | or     | 120 or higher |\n",
    "\n",
    "We'll now categorize the blood pressure of our study participants using these rules.  First, complete the following function to return the category for a measurement.  The categories are \"1. Normal\", \"2. Elevated\", etc.  Be sure to include the numbers at the start of the category names to match our tests.\n",
    "\n",
    "There are many ways to write this.  One approach is to test in the opposite order as the cases are listed.  Try to keep your logic as simple as possible."
   ]
  },
  {
   "cell_type": "code",
   "execution_count": null,
   "id": "f27dfa8a",
   "metadata": {
    "deletable": false,
    "execution": {
     "iopub.execute_input": "2025-10-17T09:54:43.910289Z",
     "iopub.status.busy": "2025-10-17T09:54:43.910155Z",
     "iopub.status.idle": "2025-10-17T09:54:43.912797Z",
     "shell.execute_reply": "2025-10-17T09:54:43.912305Z"
    },
    "tags": []
   },
   "outputs": [],
   "source": [
    "def bp_category(systolic, diastolic):\n",
    "    if systolic >= 180 or diastolic >= 120:\n",
    "        return \"5. Crisis\"\n",
    "    elif ...:\n",
    "        ...\n",
    "    ...\n",
    "    else:\n",
    "        ...\n"
   ]
  },
  {
   "cell_type": "code",
   "execution_count": null,
   "id": "4a7bf3cc",
   "metadata": {
    "deletable": false,
    "editable": false
   },
   "outputs": [],
   "source": [
    "grader.check(\"p1.3\")"
   ]
  },
  {
   "cell_type": "markdown",
   "id": "21cfdadd",
   "metadata": {
    "deletable": false,
    "editable": false
   },
   "source": [
    "#### Part 1.4 (5 pts)\n"
   ]
  },
  {
   "cell_type": "markdown",
   "id": "7711cd0b",
   "metadata": {
    "deletable": false,
    "editable": false
   },
   "source": [
    "Apply your `bp_category` function to the measurements in all rows in your `bp_age` table, and create a new copy of the table with an additional column `BP Category` containing the results."
   ]
  },
  {
   "cell_type": "code",
   "execution_count": null,
   "id": "8b60b449",
   "metadata": {
    "deletable": false,
    "execution": {
     "iopub.execute_input": "2025-10-17T09:54:43.952994Z",
     "iopub.status.busy": "2025-10-17T09:54:43.952879Z",
     "iopub.status.idle": "2025-10-17T09:54:43.957694Z",
     "shell.execute_reply": "2025-10-17T09:54:43.957428Z"
    },
    "tags": []
   },
   "outputs": [],
   "source": [
    "bp_categories = ...\n",
    "bp_full = ...\n",
    "bp_full.show(10)"
   ]
  },
  {
   "cell_type": "code",
   "execution_count": null,
   "id": "611e7d24",
   "metadata": {
    "deletable": false,
    "editable": false
   },
   "outputs": [],
   "source": [
    "grader.check(\"p1.4\")"
   ]
  },
  {
   "cell_type": "markdown",
   "id": "11d80696",
   "metadata": {
    "deletable": false,
    "editable": false
   },
   "source": [
    "Here's a bar chart again illustrating how our two groups of participants differ in their blood pressure categories.  In the coming weeks, we'll learn how to take our general observation that the two age groups differ and make that a precise, quantitative conclusion."
   ]
  },
  {
   "cell_type": "code",
   "execution_count": null,
   "id": "f20a59e9",
   "metadata": {
    "deletable": false,
    "editable": false,
    "execution": {
     "iopub.execute_input": "2025-10-17T09:54:44.036544Z",
     "iopub.status.busy": "2025-10-17T09:54:44.036404Z",
     "iopub.status.idle": "2025-10-17T09:54:44.188221Z",
     "shell.execute_reply": "2025-10-17T09:54:44.187724Z"
    },
    "tags": []
   },
   "outputs": [],
   "source": [
    "bp_by_category = bp_full.pivot('Age category', 'BP Category')\n",
    "bp_by_category = bp_by_category.with_columns('young', bp_by_category.column('young') / sum(bp_by_category.column('young')))\n",
    "bp_by_category = bp_by_category.with_columns('old', bp_by_category.column('old') / sum(bp_by_category.column('old')))\n",
    "bp_by_category.barh('BP Category')"
   ]
  },
  {
   "cell_type": "markdown",
   "id": "8099684d",
   "metadata": {
    "deletable": false,
    "editable": false
   },
   "source": [
    "<hr style=\"margin-bottom: 0px; padding:0; border: 2px solid #500082;\"/>\n"
   ]
  },
  {
   "cell_type": "markdown",
   "id": "1d800fe9",
   "metadata": {
    "deletable": false,
    "editable": false
   },
   "source": [
    "## 2. For Loops (5 pts)\n",
    "\n"
   ]
  },
  {
   "cell_type": "markdown",
   "id": "cd59aab8",
   "metadata": {
    "deletable": false,
    "editable": false
   },
   "source": [
    "<font color='#B1008E'>\n",
    "    \n",
    "##### Learning objectives\n",
    "- Use for loops to iterate over elements of an array\n",
    "</font>"
   ]
  },
  {
   "cell_type": "markdown",
   "id": "1b7a8b99",
   "metadata": {
    "deletable": false,
    "editable": false
   },
   "source": [
    "You may wish to go back and review the Loops lecture notebook and video if you are not sure how to approach writing this part."
   ]
  },
  {
   "cell_type": "markdown",
   "id": "f83048ee",
   "metadata": {
    "deletable": false,
    "editable": false
   },
   "source": [
    "#### Part 2.1 (5 pts)\n"
   ]
  },
  {
   "cell_type": "markdown",
   "id": "9c4078f9",
   "metadata": {
    "deletable": false,
    "editable": false
   },
   "source": [
    "This part and the next explore properties of five-letter English words.  We begin by loading the array of five-letter words we saw earlier in the semester."
   ]
  },
  {
   "cell_type": "code",
   "execution_count": null,
   "id": "e2144215",
   "metadata": {
    "deletable": false,
    "editable": false,
    "execution": {
     "iopub.execute_input": "2025-10-17T09:54:44.190598Z",
     "iopub.status.busy": "2025-10-17T09:54:44.190476Z",
     "iopub.status.idle": "2025-10-17T09:54:44.195990Z",
     "shell.execute_reply": "2025-10-17T09:54:44.195614Z"
    },
    "tags": []
   },
   "outputs": [],
   "source": [
    "fives = Table().read_table('fives.csv').column('Five Letter Words')\n",
    "print(np.random.choice(fives, 10))  # show ten random words from the table"
   ]
  },
  {
   "cell_type": "markdown",
   "id": "b632c5a2",
   "metadata": {
    "deletable": false,
    "editable": false
   },
   "source": [
    "We'd like to compute the proportion of words that contain a given letter.  For example, the proportion of words containing at least one 'a' is about 0.38. Complete the function `proportion_with_letter` to calculate this. The following conditional test will be useful:"
   ]
  },
  {
   "cell_type": "code",
   "execution_count": null,
   "id": "53b537cf",
   "metadata": {
    "deletable": false,
    "editable": false,
    "execution": {
     "iopub.execute_input": "2025-10-17T09:54:44.197816Z",
     "iopub.status.busy": "2025-10-17T09:54:44.197697Z",
     "iopub.status.idle": "2025-10-17T09:54:44.199957Z",
     "shell.execute_reply": "2025-10-17T09:54:44.199509Z"
    },
    "tags": []
   },
   "outputs": [],
   "source": [
    "# An example of how to test if a letter is in a word\n",
    "word = 'okapi'\n",
    "if 'a' in word:\n",
    "    print('okapi has an a')\n",
    "if 'b' in word:\n",
    "    print('okapi has a b')"
   ]
  },
  {
   "cell_type": "code",
   "execution_count": null,
   "id": "5f984541",
   "metadata": {
    "deletable": false,
    "execution": {
     "iopub.execute_input": "2025-10-17T09:54:44.202058Z",
     "iopub.status.busy": "2025-10-17T09:54:44.201933Z",
     "iopub.status.idle": "2025-10-17T09:54:44.205852Z",
     "shell.execute_reply": "2025-10-17T09:54:44.205310Z"
    },
    "tags": []
   },
   "outputs": [],
   "source": [
    "def proportion_with_letter(letter):\n",
    "    count = ...\n",
    "    for ... in ...:\n",
    "        ...\n",
    "    return ...\n",
    "\n",
    "proportion_with_letter('a')"
   ]
  },
  {
   "cell_type": "code",
   "execution_count": null,
   "id": "9c455dc8",
   "metadata": {
    "deletable": false,
    "editable": false
   },
   "outputs": [],
   "source": [
    "grader.check(\"p2.1\")"
   ]
  },
  {
   "cell_type": "markdown",
   "id": "e8ef5fd7",
   "metadata": {
    "deletable": false,
    "editable": false
   },
   "source": [
    "With your function, we can now create a bar chart with the proportion of words containing each letter in the alphabet. \n",
    "\n",
    "Let's look at the top 10! "
   ]
  },
  {
   "cell_type": "code",
   "execution_count": null,
   "id": "90e1ed4e",
   "metadata": {
    "deletable": false,
    "editable": false,
    "execution": {
     "iopub.execute_input": "2025-10-17T09:54:44.221872Z",
     "iopub.status.busy": "2025-10-17T09:54:44.221759Z",
     "iopub.status.idle": "2025-10-17T09:54:44.340912Z",
     "shell.execute_reply": "2025-10-17T09:54:44.340564Z"
    },
    "tags": []
   },
   "outputs": [],
   "source": [
    "letters = Table().with_columns(\"letter\", make_array('a', 'b', 'c', 'd', 'e', 'f', 'g', 'h', 'i', \n",
    "                                                        'j', 'k', 'l', 'm', 'n', 'o', 'p', 'q', 'r', \n",
    "                                                        's', 't', 'u', 'v', 'w', 'x', 'y', 'z'))\n",
    "proportions = letters.with_columns(\"proportion\", letters.apply(proportion_with_letter, \"letter\"))\n",
    "top_k_letters = proportions.sort('proportion',descending=True).take(np.arange(10))\n",
    "top_k_letters.barh('letter', 'proportion')"
   ]
  },
  {
   "cell_type": "markdown",
   "id": "268c596b",
   "metadata": {
    "deletable": false,
    "editable": false
   },
   "source": [
    "<hr style=\"margin-bottom: 0px; padding:0; border: 2px solid #500082;\"/>\n"
   ]
  },
  {
   "cell_type": "markdown",
   "id": "0c653858",
   "metadata": {
    "deletable": false,
    "editable": false,
    "tags": []
   },
   "source": [
    "## 3. Simulation and Random Choice (10 pts)\n",
    "\n"
   ]
  },
  {
   "cell_type": "markdown",
   "id": "6771c196",
   "metadata": {
    "deletable": false,
    "editable": false
   },
   "source": [
    "<font color='#B1008E'>\n",
    "    \n",
    "##### Learning objectives\n",
    "- Use `np.random_choice`\n",
    "- Use loops to simulate the outcome multiple trials involving random chance\n",
    "</font>"
   ]
  },
  {
   "cell_type": "markdown",
   "id": "d083e4eb",
   "metadata": {
    "deletable": false,
    "editable": false
   },
   "source": [
    "The `np.random.choice` function picks and item at random from an  array. It is equally likely to pick any of the items. Run the cell below several times, and observe how the results change."
   ]
  },
  {
   "cell_type": "code",
   "execution_count": null,
   "id": "19996aaa",
   "metadata": {
    "deletable": false,
    "editable": false,
    "execution": {
     "iopub.execute_input": "2025-10-17T09:54:44.343033Z",
     "iopub.status.busy": "2025-10-17T09:54:44.342904Z",
     "iopub.status.idle": "2025-10-17T09:54:44.345912Z",
     "shell.execute_reply": "2025-10-17T09:54:44.345417Z"
    },
    "tags": []
   },
   "outputs": [],
   "source": [
    "# Run several times and observe changes \n",
    "nums = make_array(1,2,3,4)\n",
    "np.random.choice(nums)"
   ]
  },
  {
   "cell_type": "markdown",
   "id": "47a66af7",
   "metadata": {
    "deletable": false,
    "editable": false
   },
   "source": [
    "If you pass in an integer `n` as the second argument, the function return return an array of `n` different random choices.  By default, `np.random.choice` samples **with replacement**, meaning that each of the `n` items is drawn from all of the items appearing in the array, even if those items have already been picked one or more times.\n",
    "\n",
    "Run the next cell to see an example of sampling with replacement 10 times from the `nums` array."
   ]
  },
  {
   "cell_type": "code",
   "execution_count": null,
   "id": "10997715",
   "metadata": {
    "deletable": false,
    "editable": false,
    "execution": {
     "iopub.execute_input": "2025-10-17T09:54:44.347775Z",
     "iopub.status.busy": "2025-10-17T09:54:44.347693Z",
     "iopub.status.idle": "2025-10-17T09:54:44.350531Z",
     "shell.execute_reply": "2025-10-17T09:54:44.350093Z"
    },
    "tags": []
   },
   "outputs": [],
   "source": [
    "# Run several times and observe changes \n",
    "np.random.choice(nums, 10)"
   ]
  },
  {
   "cell_type": "markdown",
   "id": "3ef59868",
   "metadata": {
    "deletable": false,
    "editable": false,
    "tags": [],
    "toc-hr-collapsed": true
   },
   "source": [
    "#### Part 3.1 (5 pts)\n"
   ]
  },
  {
   "cell_type": "markdown",
   "id": "fad74102",
   "metadata": {
    "deletable": false,
    "editable": false
   },
   "source": [
    "We have a dartboard containing ten equal-sized zones with scores taking point values from 1 to 10.  We throw 1,000 darts at the board, and given our level of skill, they land randomly across those 10 zones.  Write code that simulates our total score after 1000 dart tosses.  Here, we'll want to use [np.random.choice](https://cs104williams.github.io/assets/python-library-ref.html#random.choice) to simulate multiple trials.\n",
    "\n",
    "*Hint*: How can we create the `dart_values` we want? Either `make_array` or `np.arange` could be helpful here.  "
   ]
  },
  {
   "cell_type": "code",
   "execution_count": null,
   "id": "b4bd5403",
   "metadata": {
    "deletable": false,
    "execution": {
     "iopub.execute_input": "2025-10-17T09:54:44.352463Z",
     "iopub.status.busy": "2025-10-17T09:54:44.352346Z",
     "iopub.status.idle": "2025-10-17T09:54:44.355814Z",
     "shell.execute_reply": "2025-10-17T09:54:44.355309Z"
    },
    "tags": []
   },
   "outputs": [],
   "source": [
    "num_tosses = 1000\n",
    "dart_values = ... \n",
    "simulated_tosses = ...\n",
    "total_score = ...\n",
    "total_score"
   ]
  },
  {
   "cell_type": "code",
   "execution_count": null,
   "id": "f3d1a155",
   "metadata": {
    "deletable": false,
    "editable": false
   },
   "outputs": [],
   "source": [
    "grader.check(\"p3.1\")"
   ]
  },
  {
   "cell_type": "markdown",
   "id": "6e9a67c4",
   "metadata": {
    "deletable": false,
    "editable": false
   },
   "source": [
    "#### Part 3.2 (5 pts)\n"
   ]
  },
  {
   "cell_type": "markdown",
   "id": "9b68c8e3",
   "metadata": {
    "deletable": false,
    "editable": false
   },
   "source": [
    "We'll now write a slightly more sophisticated simulation using our `fives` array from the previous question.  \n",
    "\n",
    "In particular, using a simulation with 10,000 trials, assign `same_start_count` to the number of times (in 10,000 trials) that two words picked uniformly at random (with replacement) from `fives` start with the same letter.  \n",
    "\n",
    "\n",
    "\n",
    "*Hints: \n",
    "- We have given you a helper function `first_letter` to returns the first letter of a string.  \n",
    "- If you have strings `a` and `b`, the test `first_letter(a) == first_letter(b)` will compute whether `a` and `b` start with the same letter.\n",
    "- This is a difficult problem! We recommend adding some \"scratch\" cells and testing intermediate pieces of your solution. "
   ]
  },
  {
   "cell_type": "code",
   "execution_count": null,
   "id": "21acb78a",
   "metadata": {
    "deletable": false,
    "execution": {
     "iopub.execute_input": "2025-10-17T09:54:44.361716Z",
     "iopub.status.busy": "2025-10-17T09:54:44.361570Z",
     "iopub.status.idle": "2025-10-17T09:54:44.458725Z",
     "shell.execute_reply": "2025-10-17T09:54:44.458419Z"
    },
    "tags": []
   },
   "outputs": [],
   "source": [
    "def first_letter(word):\n",
    "    return word[0]\n",
    "\n",
    "trials = 10000\n",
    "same_start_count = ...\n",
    "\n",
    "for ... in ...:\n",
    "    ...\n",
    "\n",
    "same_start_count"
   ]
  },
  {
   "cell_type": "code",
   "execution_count": null,
   "id": "14030f56",
   "metadata": {
    "deletable": false,
    "editable": false
   },
   "outputs": [],
   "source": [
    "grader.check(\"p3.2\")"
   ]
  },
  {
   "cell_type": "markdown",
   "id": "0c59fa35",
   "metadata": {
    "deletable": false,
    "editable": false
   },
   "source": [
    "<hr style=\"margin-bottom: 0px; padding:0; border: 2px solid #500082;\"/>\n"
   ]
  },
  {
   "cell_type": "markdown",
   "id": "52b1da1b",
   "metadata": {
    "deletable": false,
    "editable": false,
    "tags": []
   },
   "source": [
    "## 4. Putting it All Together (30 pts)\n",
    "\n"
   ]
  },
  {
   "cell_type": "markdown",
   "id": "17d298d1",
   "metadata": {
    "deletable": false,
    "editable": false
   },
   "source": [
    "<font color='#B1008E'>\n",
    "    \n",
    "##### Learning objectives\n",
    "- Use `np.count_nonzero` and `np.random_choice`\n",
    "- Use loops to simulate the outcome of multiple trials involving random chance.\n",
    "</font>"
   ]
  },
  {
   "cell_type": "markdown",
   "id": "6240814f",
   "metadata": {
    "deletable": false,
    "editable": false
   },
   "source": [
    "This question puts together all of this weeks material and is an opportunity to use conditionals, loops, and randomness in the larger context of simulation the payouts for a slot machine.  Our slot machine has three wheels each containing four symbols -- '🍒', '🔔', '🍋', and '🍉'.  When you take a turn, you insert a coin, pull a lever, and spin the wheels.  The payout for the spin depends on the three symbols that are showing when the wheels stop.  The payout may be negative, meaning you lose your money, or non-negative meaning you break even or win money."
   ]
  },
  {
   "cell_type": "markdown",
   "id": "4f86d346",
   "metadata": {
    "deletable": false,
    "editable": false
   },
   "source": [
    "We'll use `np.random.choice` to \"spin\" our wheels:"
   ]
  },
  {
   "cell_type": "code",
   "execution_count": null,
   "id": "700e4413",
   "metadata": {
    "deletable": false,
    "editable": false,
    "execution": {
     "iopub.execute_input": "2025-10-17T09:54:44.464910Z",
     "iopub.status.busy": "2025-10-17T09:54:44.464795Z",
     "iopub.status.idle": "2025-10-17T09:54:44.467593Z",
     "shell.execute_reply": "2025-10-17T09:54:44.467135Z"
    },
    "tags": []
   },
   "outputs": [],
   "source": [
    "symbols = make_array('🍒', '🔔', '🍋', '🍉')\n",
    "np.random.choice(symbols)"
   ]
  },
  {
   "cell_type": "markdown",
   "id": "639a14bf",
   "metadata": {
    "deletable": false,
    "editable": false
   },
   "source": [
    "Recal that if you pass in an integer `n` as the second argument, the function return return an array of `n` different random choices."
   ]
  },
  {
   "cell_type": "code",
   "execution_count": null,
   "id": "61663fb2",
   "metadata": {
    "deletable": false,
    "editable": false,
    "execution": {
     "iopub.execute_input": "2025-10-17T09:54:44.469485Z",
     "iopub.status.busy": "2025-10-17T09:54:44.469373Z",
     "iopub.status.idle": "2025-10-17T09:54:44.472107Z",
     "shell.execute_reply": "2025-10-17T09:54:44.471599Z"
    },
    "tags": []
   },
   "outputs": [],
   "source": [
    "np.random.choice(symbols, 10)"
   ]
  },
  {
   "cell_type": "markdown",
   "id": "1669b499",
   "metadata": {
    "deletable": false,
    "editable": false
   },
   "source": [
    "To count the number of times a certain type of symbol is randomly chosen, we can use `np.count_nonzero`, a function that counts the number of non-zero values that appear in an array. When an array of boolean values are passed through the function, it will count the number of `True` values.\n",
    "\n",
    "Run the next cell to see an example that uses `np.count_nonzero`."
   ]
  },
  {
   "cell_type": "code",
   "execution_count": null,
   "id": "8577cb28",
   "metadata": {
    "deletable": false,
    "editable": false,
    "execution": {
     "iopub.execute_input": "2025-10-17T09:54:44.473962Z",
     "iopub.status.busy": "2025-10-17T09:54:44.473848Z",
     "iopub.status.idle": "2025-10-17T09:54:44.476317Z",
     "shell.execute_reply": "2025-10-17T09:54:44.475917Z"
    },
    "tags": []
   },
   "outputs": [],
   "source": [
    "np.count_nonzero(make_array(True, False, False, True, True))"
   ]
  },
  {
   "cell_type": "markdown",
   "id": "432e7f0b",
   "metadata": {
    "deletable": false,
    "editable": false
   },
   "source": [
    "#### Part 4.1 (5 pts)\n"
   ]
  },
  {
   "cell_type": "markdown",
   "id": "cc4f22ea",
   "metadata": {
    "deletable": false,
    "editable": false
   },
   "source": [
    "Assume we took ten symbols at random, and stored the results in an array called `ten_symbols`, as below. Find the number of bell symbols using code (do not hardcode the answer).  \n",
    "\n",
    "*Hint:* Our solution involves a comparison operator (e.g. `=`, `<`, ...) and the `np.count_nonzero` function."
   ]
  },
  {
   "cell_type": "code",
   "execution_count": null,
   "id": "17064ffa",
   "metadata": {
    "deletable": false,
    "execution": {
     "iopub.execute_input": "2025-10-17T09:54:44.478649Z",
     "iopub.status.busy": "2025-10-17T09:54:44.478362Z",
     "iopub.status.idle": "2025-10-17T09:54:44.481620Z",
     "shell.execute_reply": "2025-10-17T09:54:44.481071Z"
    },
    "tags": []
   },
   "outputs": [],
   "source": [
    "ten_symbols = make_array('🍉', '🍋', '🍉', '🍉', '🍒', '🍉', '🔔', '🍒', '🔔', '🔔')\n",
    "number_bells = ...\n",
    "number_bells"
   ]
  },
  {
   "cell_type": "code",
   "execution_count": null,
   "id": "1c052fb7",
   "metadata": {
    "deletable": false,
    "editable": false
   },
   "outputs": [],
   "source": [
    "grader.check(\"p4.1\")"
   ]
  },
  {
   "cell_type": "markdown",
   "id": "9206d195",
   "metadata": {
    "deletable": false,
    "editable": false,
    "tags": []
   },
   "source": [
    "#### Part 4.2 (5 pts)\n"
   ]
  },
  {
   "cell_type": "markdown",
   "id": "da9afd5b",
   "metadata": {
    "deletable": false,
    "editable": false
   },
   "source": [
    "We'll now simulate the outcome of playing the slot machine from lecture 10,000 times.  Here's our slot machine's `payout_for_symbols` function:"
   ]
  },
  {
   "cell_type": "code",
   "execution_count": null,
   "id": "a5f1f7b2",
   "metadata": {
    "deletable": false,
    "editable": false,
    "execution": {
     "iopub.execute_input": "2025-10-17T09:54:44.487611Z",
     "iopub.status.busy": "2025-10-17T09:54:44.487527Z",
     "iopub.status.idle": "2025-10-17T09:54:44.490484Z",
     "shell.execute_reply": "2025-10-17T09:54:44.490175Z"
    },
    "tags": []
   },
   "outputs": [],
   "source": [
    "slot_symbols = make_array('🍒', '🔔', '🍋', '🍉')\n",
    "\n",
    "def payout_for_symbols(symbols):\n",
    "    \"\"\"\n",
    "    Given an array of three symbols drawn from slot_symbols, this function\n",
    "    computes the payout for that combination.\n",
    "    \"\"\"\n",
    "    if np.count_nonzero(symbols == '🍋') > 0:  \n",
    "        # any lemons means we lose\n",
    "        return -1  \n",
    "    elif np.count_nonzero(symbols == '🍒') == len(symbols):\n",
    "        # all cherries means jackpot!\n",
    "        return 15\n",
    "    else:\n",
    "        # otherwise, we count the bells.\n",
    "        return 3 * np.count_nonzero(symbols == '🔔')\n",
    "\n",
    "check(payout_for_symbols(make_array('🍒', '🍒', '🍒')) == 15)"
   ]
  },
  {
   "cell_type": "markdown",
   "id": "039fd756",
   "metadata": {
    "deletable": false,
    "editable": false
   },
   "source": [
    "Use that function in a new function that draws three random symbols from `slot_symbols` and returns the payout for those symbols."
   ]
  },
  {
   "cell_type": "code",
   "execution_count": null,
   "id": "6c3f7833",
   "metadata": {
    "deletable": false,
    "execution": {
     "iopub.execute_input": "2025-10-17T09:54:44.492314Z",
     "iopub.status.busy": "2025-10-17T09:54:44.492200Z",
     "iopub.status.idle": "2025-10-17T09:54:44.494193Z",
     "shell.execute_reply": "2025-10-17T09:54:44.493737Z"
    },
    "tags": []
   },
   "outputs": [],
   "source": [
    "def payout_for_one_spin():\n",
    "    ..."
   ]
  },
  {
   "cell_type": "markdown",
   "id": "95ce4193",
   "metadata": {
    "deletable": false,
    "editable": false,
    "tags": []
   },
   "source": [
    "Run this cell a couple times to verify that the result looks good:"
   ]
  },
  {
   "cell_type": "code",
   "execution_count": null,
   "id": "e52af932",
   "metadata": {
    "deletable": false,
    "editable": false,
    "execution": {
     "iopub.execute_input": "2025-10-17T09:54:44.496231Z",
     "iopub.status.busy": "2025-10-17T09:54:44.496114Z",
     "iopub.status.idle": "2025-10-17T09:54:44.498975Z",
     "shell.execute_reply": "2025-10-17T09:54:44.498408Z"
    },
    "tags": []
   },
   "outputs": [],
   "source": [
    "payout_for_one_spin()"
   ]
  },
  {
   "cell_type": "code",
   "execution_count": null,
   "id": "ba1bfd4b",
   "metadata": {
    "deletable": false,
    "editable": false
   },
   "outputs": [],
   "source": [
    "grader.check(\"p4.2\")"
   ]
  },
  {
   "cell_type": "markdown",
   "id": "7f118998",
   "metadata": {
    "deletable": false,
    "editable": false
   },
   "source": [
    "#### Part 4.3 (5 pts)\n"
   ]
  },
  {
   "cell_type": "markdown",
   "id": "e8705bbf",
   "metadata": {
    "deletable": false,
    "editable": false
   },
   "source": [
    "Now, use our **simulation algorithm** to simulate multiple rounds (one round is one spin). Assign the variable `outcomes` to an array that stores the payouts for 10,000 rounds of playing the slot machine.\n",
    "\n",
    "*Note:* From now on, we'll use general functions like the `simulate` function we wrote in lecture to run simulations.  However, we'd like you to write the full algorithm from scratch this one time to gain experience building arrays with `np.append`. "
   ]
  },
  {
   "cell_type": "code",
   "execution_count": null,
   "id": "8ce503f9",
   "metadata": {
    "deletable": false,
    "execution": {
     "iopub.execute_input": "2025-10-17T09:54:44.508499Z",
     "iopub.status.busy": "2025-10-17T09:54:44.508398Z",
     "iopub.status.idle": "2025-10-17T09:54:44.624941Z",
     "shell.execute_reply": "2025-10-17T09:54:44.624701Z"
    },
    "tags": []
   },
   "outputs": [],
   "source": [
    "outcomes = ...\n",
    "for i in ...:\n",
    "    payout = ...\n",
    "    outcomes = ...\n",
    "\n",
    "outcomes"
   ]
  },
  {
   "cell_type": "code",
   "execution_count": null,
   "id": "63edf63e",
   "metadata": {
    "deletable": false,
    "editable": false
   },
   "outputs": [],
   "source": [
    "grader.check(\"p4.3\")"
   ]
  },
  {
   "cell_type": "markdown",
   "id": "224e9749",
   "metadata": {
    "deletable": false,
    "editable": false,
    "tags": []
   },
   "source": [
    "#### Part 4.4 (5 pts)\n"
   ]
  },
  {
   "cell_type": "markdown",
   "id": "47d6e567",
   "metadata": {
    "deletable": false,
    "editable": false,
    "tags": []
   },
   "source": [
    "After creating our `outcomes` array, we determine that the proportion of 15's in the array is 0.013.  \n",
    "\n",
    "Suppose we run the simulation again, but use 1,000,000 trials this time.  In that case, we determine that the proportion of 15's is 0.015. \n",
    "\n",
    "Assign the variable `propability_of_15` to the value--either `0.013` or `0.015`--that is closer to the true probability of scoring 15 when playing the slot machine. "
   ]
  },
  {
   "cell_type": "code",
   "execution_count": null,
   "id": "62c67c50",
   "metadata": {
    "deletable": false,
    "execution": {
     "iopub.execute_input": "2025-10-17T09:54:44.633009Z",
     "iopub.status.busy": "2025-10-17T09:54:44.632909Z",
     "iopub.status.idle": "2025-10-17T09:54:44.634740Z",
     "shell.execute_reply": "2025-10-17T09:54:44.634506Z"
    },
    "tags": []
   },
   "outputs": [],
   "source": [
    "probability_of_15 = ...\n",
    "probability_of_15"
   ]
  },
  {
   "cell_type": "code",
   "execution_count": null,
   "id": "de6cda43",
   "metadata": {
    "deletable": false,
    "editable": false
   },
   "outputs": [],
   "source": [
    "grader.check(\"p4.4\")"
   ]
  },
  {
   "cell_type": "markdown",
   "id": "eec3138e",
   "metadata": {
    "deletable": false,
    "editable": false,
    "tags": []
   },
   "source": [
    "#### Part 4.5 (5 pts)\n"
   ]
  },
  {
   "cell_type": "markdown",
   "id": "aef532a4",
   "metadata": {
    "deletable": false,
    "editable": false
   },
   "source": [
    "Set `positive_proportion` to the proportion of outcomes in your simulation that had a positive payout. "
   ]
  },
  {
   "cell_type": "code",
   "execution_count": null,
   "id": "12b24124",
   "metadata": {
    "deletable": false,
    "execution": {
     "iopub.execute_input": "2025-10-17T09:54:44.642575Z",
     "iopub.status.busy": "2025-10-17T09:54:44.642481Z",
     "iopub.status.idle": "2025-10-17T09:54:44.644494Z",
     "shell.execute_reply": "2025-10-17T09:54:44.644261Z"
    },
    "tags": []
   },
   "outputs": [],
   "source": [
    "positive_proportion = ...\n",
    "positive_proportion"
   ]
  },
  {
   "cell_type": "code",
   "execution_count": null,
   "id": "053dc085",
   "metadata": {
    "deletable": false,
    "editable": false
   },
   "outputs": [],
   "source": [
    "grader.check(\"p4.5\")"
   ]
  },
  {
   "cell_type": "markdown",
   "id": "00e21953",
   "metadata": {
    "deletable": false,
    "editable": false
   },
   "source": [
    "#### Part 4.6 (5 pts)\n"
   ]
  },
  {
   "cell_type": "markdown",
   "id": "ab6b2993",
   "metadata": {
    "deletable": false,
    "editable": false
   },
   "source": [
    "Set `mean_payout` to the average payout from your simulation."
   ]
  },
  {
   "cell_type": "code",
   "execution_count": null,
   "id": "7804a57b",
   "metadata": {
    "deletable": false,
    "execution": {
     "iopub.execute_input": "2025-10-17T09:54:44.652311Z",
     "iopub.status.busy": "2025-10-17T09:54:44.652214Z",
     "iopub.status.idle": "2025-10-17T09:54:44.654350Z",
     "shell.execute_reply": "2025-10-17T09:54:44.654092Z"
    },
    "tags": []
   },
   "outputs": [],
   "source": [
    "mean_payout = ...\n",
    "mean_payout"
   ]
  },
  {
   "cell_type": "code",
   "execution_count": null,
   "id": "bf2d5dfa",
   "metadata": {
    "deletable": false,
    "editable": false
   },
   "outputs": [],
   "source": [
    "grader.check(\"p4.6\")"
   ]
  },
  {
   "cell_type": "markdown",
   "id": "e861396e",
   "metadata": {
    "deletable": false,
    "editable": false
   },
   "source": [
    "**Thought question:** If you were running a casino, would you want to install our slot machine?  Why or why not?"
   ]
  },
  {
   "cell_type": "markdown",
   "id": "7adf3515",
   "metadata": {
    "deletable": false,
    "editable": false
   },
   "source": [
    "<hr class=\"m-0\" style=\"border: 3px solid #500082;\"/>\n",
    "\n",
    "# You're Done!\n",
    "Follow these steps to submit your work:\n",
    "* Run the tests and verify that they pass as you expect. \n",
    "* Choose **Save Notebook** from the **File** menu.\n",
    "* **Run the final cell** and click the link below to download the zip file. \n",
    "\n",
    "Once you have downloaded that file, go to [Gradescope](https://www.gradescope.com/) and submit the zip file to \n",
    "the corresponding assignment. For Prelab N, the assignment will be called \"Prelab N Autograder\".\n",
    "\n",
    "Once you have submitted, your Gradescope assignment should show you passing all the tests you passed in your assignment notebook.\n"
   ]
  },
  {
   "cell_type": "markdown",
   "id": "292953e7",
   "metadata": {
    "deletable": false,
    "editable": false
   },
   "source": [
    "## Submission\n",
    "\n",
    "Make sure you have run all cells in your notebook in order before running the cell below, so that all images/graphs appear in the output. The cell below will generate a zip file for you to submit. **Please save before exporting!**"
   ]
  },
  {
   "cell_type": "code",
   "execution_count": null,
   "id": "bdffe6f1",
   "metadata": {
    "deletable": false,
    "editable": false
   },
   "outputs": [],
   "source": [
    "# Save your notebook first, then run this cell to export your submission.\n",
    "grader.export(pdf=False, run_tests=True)"
   ]
  },
  {
   "cell_type": "markdown",
   "id": "eac7341f",
   "metadata": {},
   "source": [
    " "
   ]
  }
 ],
 "metadata": {
  "anaconda-cloud": {},
  "celltoolbar": "Edit Metadata",
  "kernelspec": {
   "display_name": "Python 3 (ipykernel)",
   "language": "python",
   "name": "python3"
  },
  "language_info": {
   "codemirror_mode": {
    "name": "ipython",
    "version": 3
   },
   "file_extension": ".py",
   "mimetype": "text/x-python",
   "name": "python",
   "nbconvert_exporter": "python",
   "pygments_lexer": "ipython3",
   "version": "3.9.19"
  },
  "otter": {
   "OK_FORMAT": true,
   "tests": {
    "p1.1": {
     "has_hidden": false,
     "name": "p1.1",
     "points": 5,
     "suites": [
      {
       "cases": [
        {
         "code": ">>> check_str('age_category(50) == \"young\"', locals())\n",
         "failure_message": "check(age_category(50) == \"young\")",
         "hidden": false,
         "locked": false,
         "submit_only": false,
         "success_message": "check(age_category(50) == \"young\")"
        },
        {
         "code": ">>> check_str('age_category(70) == \"old\"', locals())\n",
         "failure_message": "check(age_category(70) == \"old\")",
         "hidden": false,
         "locked": false,
         "submit_only": false,
         "success_message": "check(age_category(70) == \"old\")"
        },
        {
         "code": ">>> check_str('age_category(65) == \"old\"', locals())\n",
         "failure_message": "check(age_category(65) == \"old\")",
         "hidden": false,
         "locked": false,
         "submit_only": false,
         "success_message": "check(age_category(65) == \"old\")"
        }
       ],
       "scored": true,
       "setup": "",
       "teardown": "",
       "type": "doctest"
      }
     ]
    },
    "p1.2": {
     "has_hidden": false,
     "name": "p1.2",
     "points": 5,
     "suites": [
      {
       "cases": [
        {
         "code": ">>> check_str('bp_age.where(\\'Age category\\', \\'young\\').num_rows == 4708', locals())\n",
         "failure_message": "check(bp_age.where('Age category', 'young').num_rows == 4708)",
         "hidden": false,
         "locked": false,
         "submit_only": false,
         "success_message": "check(bp_age.where('Age category', 'young').num_rows == 4708)"
        },
        {
         "code": ">>> check_str('bp_age.where(\\'Age category\\', \\'old\\').num_rows == 875', locals())\n",
         "failure_message": "check(bp_age.where('Age category', 'old').num_rows == 875)",
         "hidden": false,
         "locked": false,
         "submit_only": false,
         "success_message": "check(bp_age.where('Age category', 'old').num_rows == 875)"
        },
        {
         "code": ">>> check_str('bp_age.take(np.arange(0,10)).column(\\'Age category\\') == make_array(\\'young\\',\\'young\\',\\'young\\',\\'young\\',\\'young\\', \\'old\\', \\'young\\',\\'young\\',\\'young\\',\\'young\\')', locals())\n",
         "failure_message": "check(bp_age.take(np.arange(0,10)).column('Age category') == make_array('young','young','young','young','young', 'old', 'young','young','young','young'))",
         "hidden": false,
         "locked": false,
         "submit_only": false,
         "success_message": "check(bp_age.take(np.arange(0,10)).column('Age category') == make_array('young','young','young','young','young', 'old', 'young','young','young','young'))"
        }
       ],
       "scored": true,
       "setup": "",
       "teardown": "",
       "type": "doctest"
      }
     ]
    },
    "p1.3": {
     "has_hidden": false,
     "name": "p1.3",
     "points": 5,
     "suites": [
      {
       "cases": [
        {
         "code": ">>> check_str('bp_category(190, 100) == \"5. Crisis\"', locals())\n",
         "failure_message": "check(bp_category(190, 100) == \"5. Crisis\")",
         "hidden": false,
         "locked": false,
         "submit_only": false,
         "success_message": "check(bp_category(190, 100) == \"5. Crisis\")"
        },
        {
         "code": ">>> check_str('bp_category(100, 120) == \"5. Crisis\"', locals())\n",
         "failure_message": "check(bp_category(100, 120) == \"5. Crisis\")",
         "hidden": false,
         "locked": false,
         "submit_only": false,
         "success_message": "check(bp_category(100, 120) == \"5. Crisis\")"
        },
        {
         "code": ">>> check_str('bp_category(150, 0) == \"4. High (Stage 2)\"', locals())\n",
         "failure_message": "check(bp_category(150, 0) == \"4. High (Stage 2)\")",
         "hidden": false,
         "locked": false,
         "submit_only": false,
         "success_message": "check(bp_category(150, 0) == \"4. High (Stage 2)\")"
        },
        {
         "code": ">>> check_str('bp_category(0, 90) == \"4. High (Stage 2)\"', locals())\n",
         "failure_message": "check(bp_category(0, 90) == \"4. High (Stage 2)\")",
         "hidden": false,
         "locked": false,
         "submit_only": false,
         "success_message": "check(bp_category(0, 90) == \"4. High (Stage 2)\")"
        },
        {
         "code": ">>> check_str('bp_category(135, 0) == \"3. High (Stage 1)\"', locals())\n",
         "failure_message": "check(bp_category(135, 0) == \"3. High (Stage 1)\")",
         "hidden": false,
         "locked": false,
         "submit_only": false,
         "success_message": "check(bp_category(135, 0) == \"3. High (Stage 1)\")"
        },
        {
         "code": ">>> check_str('bp_category(130, 0) == \"3. High (Stage 1)\"', locals())\n",
         "failure_message": "check(bp_category(130, 0) == \"3. High (Stage 1)\")",
         "hidden": false,
         "locked": false,
         "submit_only": false,
         "success_message": "check(bp_category(130, 0) == \"3. High (Stage 1)\")"
        },
        {
         "code": ">>> check_str('bp_category(0, 85) == \"3. High (Stage 1)\"', locals())\n",
         "failure_message": "check(bp_category(0, 85) == \"3. High (Stage 1)\")",
         "hidden": false,
         "locked": false,
         "submit_only": false,
         "success_message": "check(bp_category(0, 85) == \"3. High (Stage 1)\")"
        },
        {
         "code": ">>> check_str('bp_category(120, 0) == \"2. Elevated\"', locals())\n",
         "failure_message": "check(bp_category(120, 0) == \"2. Elevated\")",
         "hidden": false,
         "locked": false,
         "submit_only": false,
         "success_message": "check(bp_category(120, 0) == \"2. Elevated\")"
        },
        {
         "code": ">>> check_str('bp_category(129, 0) == \"2. Elevated\"', locals())\n",
         "failure_message": "check(bp_category(129, 0) == \"2. Elevated\")",
         "hidden": false,
         "locked": false,
         "submit_only": false,
         "success_message": "check(bp_category(129, 0) == \"2. Elevated\")"
        },
        {
         "code": ">>> check_str('bp_category(119, 79) == \"1. Normal\"', locals())\n",
         "failure_message": "check(bp_category(119, 79) == \"1. Normal\")",
         "hidden": false,
         "locked": false,
         "submit_only": false,
         "success_message": "check(bp_category(119, 79) == \"1. Normal\")"
        }
       ],
       "scored": true,
       "setup": "",
       "teardown": "",
       "type": "doctest"
      }
     ]
    },
    "p1.4": {
     "has_hidden": false,
     "name": "p1.4",
     "points": 5,
     "suites": [
      {
       "cases": [
        {
         "code": ">>> check_str('bp_full.num_rows== 5583', locals())\n",
         "failure_message": "check(bp_full.num_rows== 5583)",
         "hidden": false,
         "locked": false,
         "submit_only": false,
         "success_message": "check(bp_full.num_rows== 5583)"
        },
        {
         "code": ">>> check_str('bp_full.num_columns == 5', locals())\n",
         "failure_message": "check(bp_full.num_columns == 5)",
         "hidden": false,
         "locked": false,
         "submit_only": false,
         "success_message": "check(bp_full.num_columns == 5)"
        },
        {
         "code": ">>> check_str('\\'BP Category\\' in bp_full.labels', locals())\n",
         "failure_message": "check('BP Category' in bp_full.labels)",
         "hidden": false,
         "locked": false,
         "submit_only": false,
         "success_message": "check('BP Category' in bp_full.labels)"
        },
        {
         "code": ">>> check_str('bp_full.group(\\'BP Category\\').column(\\'count\\') == [3164,  788,  947,  652,   32]', locals())\n",
         "failure_message": "check(bp_full.group('BP Category').column('count') == [3164,  788,  947,  652,   32])",
         "hidden": false,
         "locked": false,
         "submit_only": false,
         "success_message": "check(bp_full.group('BP Category').column('count') == [3164,  788,  947,  652,   32])"
        }
       ],
       "scored": true,
       "setup": "",
       "teardown": "",
       "type": "doctest"
      }
     ]
    },
    "p2.1": {
     "has_hidden": false,
     "name": "p2.1",
     "points": 5,
     "suites": [
      {
       "cases": [
        {
         "code": ">>> check_str('proportion_with_letter(\\'a\\') == approx(0.378, 0.001)', locals())\n",
         "failure_message": "check(proportion_with_letter('a') == approx(0.378, 0.001))",
         "hidden": false,
         "locked": false,
         "submit_only": false,
         "success_message": "check(proportion_with_letter('a') == approx(0.378, 0.001))"
        },
        {
         "code": ">>> check_str('proportion_with_letter(\\'b\\') == approx(0.116, 0.001)', locals())\n",
         "failure_message": "check(proportion_with_letter('b') == approx(0.116, 0.001))",
         "hidden": false,
         "locked": false,
         "submit_only": false,
         "success_message": "check(proportion_with_letter('b') == approx(0.116, 0.001))"
        },
        {
         "code": ">>> check_str('proportion_with_letter(\\'z\\') == approx(0.021, 0.001)', locals())\n",
         "failure_message": "check(proportion_with_letter('z') == approx(0.021, 0.001))",
         "hidden": false,
         "locked": false,
         "submit_only": false,
         "success_message": "check(proportion_with_letter('z') == approx(0.021, 0.001))"
        }
       ],
       "scored": true,
       "setup": "",
       "teardown": "",
       "type": "doctest"
      }
     ]
    },
    "p3.1": {
     "has_hidden": false,
     "name": "p3.1",
     "points": 5,
     "suites": [
      {
       "cases": [
        {
         "code": ">>> check_str('total_score in between(4500, 6500)', locals())\n",
         "failure_message": "check(total_score in between(4500, 6500))",
         "hidden": false,
         "locked": false,
         "submit_only": false,
         "success_message": "check(total_score in between(4500, 6500))"
        }
       ],
       "scored": true,
       "setup": "",
       "teardown": "",
       "type": "doctest"
      }
     ]
    },
    "p3.2": {
     "has_hidden": false,
     "name": "p3.2",
     "points": 5,
     "suites": [
      {
       "cases": [
        {
         "code": ">>> check_str('500 <= same_start_count <= 750', locals())\n",
         "failure_message": "check(500 <= same_start_count <= 750)",
         "hidden": false,
         "locked": false,
         "submit_only": false,
         "success_message": "check(500 <= same_start_count <= 750)"
        }
       ],
       "scored": true,
       "setup": "",
       "teardown": "",
       "type": "doctest"
      }
     ]
    },
    "p4.1": {
     "has_hidden": false,
     "name": "p4.1",
     "points": 5,
     "suites": [
      {
       "cases": [
        {
         "code": ">>> check_str('number_bells == 3', locals())\n",
         "failure_message": "check(number_bells == 3)",
         "hidden": false,
         "locked": false,
         "submit_only": false,
         "success_message": "check(number_bells == 3)"
        }
       ],
       "scored": true,
       "setup": "",
       "teardown": "",
       "type": "doctest"
      }
     ]
    },
    "p4.2": {
     "has_hidden": false,
     "name": "p4.2",
     "points": 5,
     "suites": [
      {
       "cases": [
        {
         "code": ">>> check_str('type(payout_for_one_spin()) == int', locals())\n",
         "failure_message": "check(type(payout_for_one_spin()) == int)",
         "hidden": false,
         "locked": false,
         "submit_only": false,
         "success_message": "check(type(payout_for_one_spin()) == int)"
        },
        {
         "code": ">>> check_str('-1 <= payout_for_one_spin() <= 15', locals())\n",
         "failure_message": "check(-1 <= payout_for_one_spin() <= 15)",
         "hidden": false,
         "locked": false,
         "submit_only": false,
         "success_message": "check(-1 <= payout_for_one_spin() <= 15)"
        }
       ],
       "scored": true,
       "setup": "",
       "teardown": "",
       "type": "doctest"
      }
     ]
    },
    "p4.3": {
     "has_hidden": false,
     "name": "p4.3",
     "points": 5,
     "suites": [
      {
       "cases": [
        {
         "code": ">>> check_str('-1 <= outcomes <= 15', locals())\n",
         "failure_message": "check(-1 <= outcomes <= 15)",
         "hidden": false,
         "locked": false,
         "submit_only": false,
         "success_message": "check(-1 <= outcomes <= 15)"
        },
        {
         "code": ">>> check_str('np.mean(outcomes) == approx(0.92, 0.15)', locals())\n",
         "failure_message": "check(np.mean(outcomes) == approx(0.92, 0.15))",
         "hidden": false,
         "locked": false,
         "submit_only": false,
         "success_message": "check(np.mean(outcomes) == approx(0.92, 0.15))"
        }
       ],
       "scored": true,
       "setup": "",
       "teardown": "",
       "type": "doctest"
      }
     ]
    },
    "p4.4": {
     "has_hidden": false,
     "name": "p4.4",
     "points": 5,
     "suites": [
      {
       "cases": [
        {
         "code": ">>> check_str('probability_of_15 == 0.013 or probability_of_15 == 0.015', locals())\n",
         "failure_message": "check(probability_of_15 == 0.013 or probability_of_15 == 0.015)",
         "hidden": false,
         "locked": false,
         "submit_only": false,
         "success_message": "check(probability_of_15 == 0.013 or probability_of_15 == 0.015)"
        },
        {
         "code": ">>> # FAILED: Hmm.  Try again.\n>>> check_str('probability_of_15 == 0.015', locals())\n",
         "failure_message": "check(probability_of_15 == 0.015)",
         "hidden": false,
         "locked": false,
         "submit_only": false,
         "success_message": "check(probability_of_15 == 0.015)"
        }
       ],
       "scored": true,
       "setup": "",
       "teardown": "",
       "type": "doctest"
      }
     ]
    },
    "p4.5": {
     "has_hidden": false,
     "name": "p4.5",
     "points": 5,
     "suites": [
      {
       "cases": [
        {
         "code": ">>> check_str('0 <= positive_proportion <= 1', locals())\n",
         "failure_message": "check(0 <= positive_proportion <= 1)",
         "hidden": false,
         "locked": false,
         "submit_only": false,
         "success_message": "check(0 <= positive_proportion <= 1)"
        },
        {
         "code": ">>> check_str('positive_proportion == approx(0.323, 0.15)', locals())\n",
         "failure_message": "check(positive_proportion == approx(0.323, 0.15))",
         "hidden": false,
         "locked": false,
         "submit_only": false,
         "success_message": "check(positive_proportion == approx(0.323, 0.15))"
        }
       ],
       "scored": true,
       "setup": "",
       "teardown": "",
       "type": "doctest"
      }
     ]
    },
    "p4.6": {
     "has_hidden": false,
     "name": "p4.6",
     "points": 5,
     "suites": [
      {
       "cases": [
        {
         "code": ">>> check_str('mean_payout == approx(0.92, 0.15)', locals())\n",
         "failure_message": "check(mean_payout == approx(0.92, 0.15))",
         "hidden": false,
         "locked": false,
         "submit_only": false,
         "success_message": "check(mean_payout == approx(0.92, 0.15))"
        }
       ],
       "scored": true,
       "setup": "",
       "teardown": "",
       "type": "doctest"
      }
     ]
    }
   }
  },
  "vscode": {
   "interpreter": {
    "hash": "31f2aee4e71d21fbe5cf8b01ff0e069b9275f58929596ceb00d14d90e3e16cd6"
   }
  }
 },
 "nbformat": 4,
 "nbformat_minor": 5
}
