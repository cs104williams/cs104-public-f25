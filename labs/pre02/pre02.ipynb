{
 "cells": [
  {
   "cell_type": "code",
   "execution_count": null,
   "metadata": {
    "deletable": false,
    "editable": false
   },
   "outputs": [],
   "source": [
    "# Initialize Otter\n",
    "import otter\n",
    "grader = otter.Notebook(\"pre02.ipynb\")"
   ]
  },
  {
   "cell_type": "markdown",
   "metadata": {
    "deletable": false,
    "editable": false
   },
   "source": [
    "<table style=\"width: 100%;\">\n",
    "<tr style=\"background-color: transparent;\">\n",
    "<td width=\"100px\"><img src=\"https://cs104williams.github.io/assets/cs104-logo.png\" width=\"90px\" style=\"text-align: center\"/></td>\n",
    "<td>\n",
    "  <p style=\"margin-bottom: 0px; text-align: left; font-size: 18pt;\"><strong>CSCI 104: Data Science and Computing for All</strong><br>\n",
    "                Williams College<br>\n",
    "                Fall 2025</p>\n",
    "</td>\n",
    "</tr>\n"
   ]
  },
  {
   "cell_type": "markdown",
   "metadata": {
    "deletable": false,
    "editable": false,
    "tags": []
   },
   "source": [
    "# Prelab 2: Tables"
   ]
  },
  {
   "cell_type": "markdown",
   "metadata": {
    "deletable": false,
    "editable": false,
    "tags": []
   },
   "source": [
    "**Instructions**\n",
    "- Before you begin, execute the cell at the TOP of the notebook to load the provided tests, as well as the following cell to setup the notebook by importing some helpful libraries. Each time you start your server, you will need to execute these cells again.  \n",
    "- Be sure to consult your [Python Reference](https://cs104williams.github.io/assets/python-library-ref.html)!\n",
    "- Complete this notebook by filling in the cells provided. \n",
    "- Please be sure to not re-assign variables throughout the notebook.  For example, if you use `max_temperature` in your answer to one question, do not reassign it later on. Otherwise, you will fail tests that you thought you were passing previously.\n",
    "- There are no hidden tests in prelabs.\n",
    "\n",
    "<hr/>\n",
    "<h2>Setup</h2>\n"
   ]
  },
  {
   "cell_type": "code",
   "execution_count": null,
   "metadata": {
    "deletable": false,
    "editable": false,
    "execution": {
     "iopub.execute_input": "2025-09-10T12:59:58.897169Z",
     "iopub.status.busy": "2025-09-10T12:59:58.896992Z",
     "iopub.status.idle": "2025-09-10T13:00:00.433927Z",
     "shell.execute_reply": "2025-09-10T13:00:00.433274Z"
    },
    "tags": []
   },
   "outputs": [],
   "source": [
    "# Run this cell to set up the notebook.\n",
    "# These lines import the numpy, datascience, and cs104 libraries.\n",
    "\n",
    "import numpy as np\n",
    "from datascience import *\n",
    "from cs104 import *\n",
    "%matplotlib inline"
   ]
  },
  {
   "cell_type": "markdown",
   "metadata": {
    "deletable": false,
    "editable": false
   },
   "source": [
    "<hr style=\"margin-bottom: 0px; padding:0; border: 2px solid #500082;\"/>\n"
   ]
  },
  {
   "cell_type": "markdown",
   "metadata": {
    "deletable": false,
    "editable": false
   },
   "source": [
    "## 1. Python Review (10 pts)\n",
    "\n"
   ]
  },
  {
   "cell_type": "markdown",
   "metadata": {
    "deletable": false,
    "editable": false
   },
   "source": [
    "<font color='#B1008E'>\n",
    "    \n",
    "##### Learning objectives\n",
    "- Practice using mathematical functions that are native to Python\n",
    "</font>"
   ]
  },
  {
   "cell_type": "markdown",
   "metadata": {
    "deletable": false,
    "editable": false
   },
   "source": [
    "The two building blocks of Python code are *expressions* and *statements*.  An **expression** is a piece of code that\n",
    "\n",
    "* is self-contained, meaning it would make sense to write it on a line by itself, and\n",
    "* usually evaluates to a value.\n",
    "\n",
    "Here are two expressions that both evaluate to 3:\n",
    "\n",
    "    3\n",
    "    5 - 2\n",
    "    \n",
    "One important type of expression is the **call expression**. A call expression begins with the name of a function and is followed by the argument(s) of that function in parentheses. The function returns some value, based on its arguments. Some important mathematical functions are listed below.\n",
    "\n",
    "| Function | Description                                                   |\n",
    "|----------|---------------------------------------------------------------|\n",
    "| `abs`      | Returns the absolute value of its argument                    |\n",
    "| `max`      | Returns the maximum of all its arguments                      |\n",
    "| `min`      | Returns the minimum of all its arguments                      |\n",
    "| `pow`      | Raises its first argument to the power of its second argument |\n",
    "| `round`    | Rounds its argument to the nearest integer                     |\n",
    "\n",
    "Here are two call expressions that both evaluate to 3:\n",
    "\n",
    "    abs(2 - 5)\n",
    "    max(round(2.8), min(pow(2, 10), -1 * pow(2, 10)))\n",
    "\n",
    "The expression `2 - 5` and the two call expressions given above are examples of **compound expressions**, meaning that they are actually combinations of several smaller expressions.  `2 - 5` combines the expressions `2` and `5` by subtraction.  In this case, `2` and `5` are called **subexpressions** because they're expressions that are part of a larger expression.\n",
    "\n",
    "A **statement** is a whole line of code.  Some statements are just expressions.  The expressions listed above are examples.\n",
    "\n",
    "Other statements *make something happen* rather than *having a value*. For example, an **assignment statement** assigns a value to a name. \n",
    "\n",
    "A good way to think about this is that we're **evaluating the right-hand side** of the equals sign and **assigning it to the left-hand side**. Here are some assignment statements:\n",
    "    \n",
    "    height = 1.3\n",
    "    the_number_five = abs(-5)\n",
    "    absolute_height_difference = abs(height - 1.688)\n",
    "\n",
    "An important idea in programming is that large, interesting things can be built by combining many simple, uninteresting things.  The key to understanding a complicated piece of code is breaking it down into its simple components.\n",
    "\n",
    "For example, a lot is going on in the last statement above, but it's really just a combination of a few things.  This picture describes what's going on.\n",
    "\n",
    "<img src=\"statement.png\" width=\"50%\"/>"
   ]
  },
  {
   "cell_type": "markdown",
   "metadata": {
    "deletable": false,
    "editable": false
   },
   "source": [
    "#### Part 1.1 (5 pts)\n"
   ]
  },
  {
   "cell_type": "markdown",
   "metadata": {
    "deletable": false,
    "editable": false
   },
   "source": [
    "Hakeem is baking a cake. Recipe A calls for 225g grams of plain flour and Recipe B calls for 2.75 cups of flour. He wants to use the recipe that uses less flour. Hakeem converts both recipes to cups and then rounds to the nearest cup before he compares them. \n",
    "\n",
    "In the following cell, assign\n",
    "- `recipe_a_cups` to the number of cups (rounded to the nearest whole cup) used by recipe A\n",
    "- `recipe_b_cups` to the number of cups (rounded to the nearest whole cup) used by recipe B\n",
    "- `min_recipe_cups` to the number of whole cups used by the recipe with the *fewest* cups \n",
    "- `recipe_with_least_flour` to a string, either \"A\" or \"B,\" corresponding to the recipe with the fewest whole cups\n",
    "\n",
    "Be sure to check your work by executing the test cell afterward.\n",
    "\n",
    "*Hints:* \n",
    "- A cup of all-purpose flour typically weighs 120 grams\n",
    "- Which functions (`abs`, `max`, `min`, `pow`, `round`) will you need to use? "
   ]
  },
  {
   "cell_type": "code",
   "execution_count": null,
   "metadata": {
    "deletable": false,
    "execution": {
     "iopub.execute_input": "2025-09-10T13:00:00.437340Z",
     "iopub.status.busy": "2025-09-10T13:00:00.437039Z",
     "iopub.status.idle": "2025-09-10T13:00:00.440115Z",
     "shell.execute_reply": "2025-09-10T13:00:00.439688Z"
    },
    "tags": []
   },
   "outputs": [],
   "source": [
    "recipe_a_cups = ...\n",
    "recipe_b_cups = ...\n",
    "min_recipe_cups = ...\n",
    "recipe_with_least_flour = ..."
   ]
  },
  {
   "cell_type": "code",
   "execution_count": null,
   "metadata": {
    "deletable": false,
    "editable": false
   },
   "outputs": [],
   "source": [
    "grader.check(\"p1.1\")"
   ]
  },
  {
   "cell_type": "markdown",
   "metadata": {
    "deletable": false,
    "editable": false
   },
   "source": [
    "#### Part 1.2 (5 pts)\n"
   ]
  },
  {
   "cell_type": "markdown",
   "metadata": {
    "deletable": false,
    "editable": false
   },
   "source": [
    "In the next cell, assign the name `mystery` to the larger number among the following two numbers:\n",
    "\n",
    "1. the **absolute value** of $2^{5}-2^{11}-2^1 + 1$ \n",
    "2. $5 \\times 13 \\times 31 + 8$.\n",
    "\n",
    "Try to use just one statement (one line of code). Be sure to check your work by executing the test cell afterward.\n"
   ]
  },
  {
   "cell_type": "code",
   "execution_count": null,
   "metadata": {
    "deletable": false,
    "execution": {
     "iopub.execute_input": "2025-09-10T13:00:00.461137Z",
     "iopub.status.busy": "2025-09-10T13:00:00.460973Z",
     "iopub.status.idle": "2025-09-10T13:00:00.464671Z",
     "shell.execute_reply": "2025-09-10T13:00:00.464297Z"
    },
    "tags": []
   },
   "outputs": [],
   "source": [
    "mystery = ...\n",
    "mystery"
   ]
  },
  {
   "cell_type": "code",
   "execution_count": null,
   "metadata": {
    "deletable": false,
    "editable": false
   },
   "outputs": [],
   "source": [
    "grader.check(\"p1.2\")"
   ]
  },
  {
   "cell_type": "markdown",
   "metadata": {
    "deletable": false,
    "editable": false
   },
   "source": [
    "We've asked you to use one line of code in the question above because it only involves mathematical operations and demonstrates a large, complex **statement**. \n",
    "\n",
    "However, more complicated programming questions will more require more steps. It isn’t always a good idea to jam these steps into a single line because it can make the code harder to read and harder to debug.\n",
    "\n",
    "Good programming practice involves splitting up your code into smaller steps and using appropriate names. You'll have plenty of practice in the rest of this course!"
   ]
  },
  {
   "cell_type": "markdown",
   "metadata": {
    "deletable": false,
    "editable": false
   },
   "source": [
    "<hr style=\"margin-bottom: 0px; padding:0; border: 2px solid #500082;\"/>\n"
   ]
  },
  {
   "cell_type": "markdown",
   "metadata": {
    "deletable": false,
    "editable": false
   },
   "source": [
    "## 2. Table Manipulation with Farmers Market Data (30 pts)\n",
    "\n"
   ]
  },
  {
   "cell_type": "markdown",
   "metadata": {
    "deletable": false,
    "editable": false
   },
   "source": [
    "<font color='#B1008E'>\n",
    "    \n",
    "##### Learning objectives\n",
    "- Practice using built-in table functions: `.show(), .num_columns, .num_rows, .select(), .drop(), .sort(), .where()`\n",
    "</font>"
   ]
  },
  {
   "cell_type": "markdown",
   "metadata": {
    "deletable": false,
    "editable": false
   },
   "source": [
    "The table `farmers_markets.csv` contains data on farmers' markets in the United States  (data collected [by the USDA](https://apps.ams.usda.gov/FarmersMarketsExport/ExcelExport.aspx)).  Each row represents one such market.\n",
    "\n",
    "Run the next cell to load the `farmers_markets` table."
   ]
  },
  {
   "cell_type": "code",
   "execution_count": null,
   "metadata": {
    "deletable": false,
    "editable": false,
    "execution": {
     "iopub.execute_input": "2025-09-10T13:00:00.471725Z",
     "iopub.status.busy": "2025-09-10T13:00:00.471575Z",
     "iopub.status.idle": "2025-09-10T13:00:00.759379Z",
     "shell.execute_reply": "2025-09-10T13:00:00.758768Z"
    },
    "tags": []
   },
   "outputs": [],
   "source": [
    "# Just run this cell\n",
    "\n",
    "farmers_markets = Table.read_table('farmers_markets.csv')"
   ]
  },
  {
   "cell_type": "markdown",
   "metadata": {
    "deletable": false,
    "editable": false
   },
   "source": [
    "Let's examine our table to see what data it contains."
   ]
  },
  {
   "cell_type": "markdown",
   "metadata": {
    "deletable": false,
    "editable": false
   },
   "source": [
    "#### Part 2.1: `.show()` (5 pts)\n"
   ]
  },
  {
   "cell_type": "markdown",
   "metadata": {
    "deletable": false,
    "editable": false
   },
   "source": [
    "Use the method `show` to display the first 5 rows of `farmers_markets`. \n",
    "\n",
    "*Note:* The terms \"method\" and \"function\" are technically not the same thing, but for the purposes of this course, we will use them interchangeably.\n",
    "\n",
    "**Hint:** `tbl.show(3)` will show the first 3 rows of `tbl`. Additionally, make sure not to call `.show()` without an argument, as this may crash your kernel!"
   ]
  },
  {
   "cell_type": "code",
   "execution_count": null,
   "metadata": {
    "deletable": false,
    "execution": {
     "iopub.execute_input": "2025-09-10T13:00:00.762347Z",
     "iopub.status.busy": "2025-09-10T13:00:00.762159Z",
     "iopub.status.idle": "2025-09-10T13:00:00.766919Z",
     "shell.execute_reply": "2025-09-10T13:00:00.766433Z"
    },
    "tags": []
   },
   "outputs": [],
   "source": [
    "..."
   ]
  },
  {
   "cell_type": "code",
   "execution_count": null,
   "metadata": {
    "deletable": false,
    "editable": false
   },
   "outputs": [],
   "source": [
    "grader.check(\"p2.1\")"
   ]
  },
  {
   "cell_type": "markdown",
   "metadata": {
    "deletable": false,
    "editable": false
   },
   "source": [
    "Notice that some of the values in this table are missing, as denoted by `\"nan.\"` This means either that the value is not available (e.g., if we don’t know the market’s street address) or not applicable (e.g., if the market doesn’t have a street address). You'll also notice that the table has a large number of columns in it\n",
    "\n",
    "Before continuing, let's look up the `show` method in our online [Python Reference](http://cs104williams.github.io/assets/python-library-ref.html).  Go to that page and either scroll down the list of \"Table Functions and Methods\" to the entry for `show` or jump to it directly with the popup menu in the top right corner.  Familiarize yourself with the content of that row in the table, which describes how to use the method, the parameters it may take, and the result it computes.  Click on the row to see several simple examples of using the method.  Consult this documentation often!"
   ]
  },
  {
   "cell_type": "markdown",
   "metadata": {
    "deletable": false,
    "editable": false
   },
   "source": [
    "#### Part 2.2: `.num_columns` and `.num_rows` (5 pts)\n"
   ]
  },
  {
   "cell_type": "markdown",
   "metadata": {
    "deletable": false,
    "editable": false
   },
   "source": [
    "The table **property** `num_columns` returns the number of columns in a table. (A **property** is just a method that doesn't need to be called by adding parentheses.) \n",
    "\n",
    "Example call: `tbl.num_columns`\n",
    "\n",
    "Look up `num_columns` in our online [Python Reference](http://cs104williams.github.io/assets/python-library-ref.html), and use `num_columns` to find the number of columns in our farmers' markets dataset.  Assign the number of columns to `num_farmers_markets_columns`.\n"
   ]
  },
  {
   "cell_type": "code",
   "execution_count": null,
   "metadata": {
    "deletable": false,
    "execution": {
     "iopub.execute_input": "2025-09-10T13:00:00.774216Z",
     "iopub.status.busy": "2025-09-10T13:00:00.774048Z",
     "iopub.status.idle": "2025-09-10T13:00:00.776845Z",
     "shell.execute_reply": "2025-09-10T13:00:00.776430Z"
    },
    "tags": []
   },
   "outputs": [],
   "source": [
    "num_farmers_markets_columns = ...\n",
    "print(\"The table has\", num_farmers_markets_columns, \"columns in it!\")"
   ]
  },
  {
   "cell_type": "code",
   "execution_count": null,
   "metadata": {
    "deletable": false,
    "editable": false
   },
   "outputs": [],
   "source": [
    "grader.check(\"p2.2\")"
   ]
  },
  {
   "cell_type": "markdown",
   "metadata": {
    "deletable": false,
    "editable": false
   },
   "source": [
    "Similarly, the property `num_rows` tells you how many rows are in a table."
   ]
  },
  {
   "cell_type": "code",
   "execution_count": null,
   "metadata": {
    "deletable": false,
    "editable": false,
    "execution": {
     "iopub.execute_input": "2025-09-10T13:00:00.784187Z",
     "iopub.status.busy": "2025-09-10T13:00:00.784018Z",
     "iopub.status.idle": "2025-09-10T13:00:00.786757Z",
     "shell.execute_reply": "2025-09-10T13:00:00.786334Z"
    },
    "tags": []
   },
   "outputs": [],
   "source": [
    "# Just run this cell\n",
    "\n",
    "num_farmers_markets_rows = farmers_markets.num_rows\n",
    "print(\"The table has\", num_farmers_markets_rows, \"rows in it!\")"
   ]
  },
  {
   "cell_type": "markdown",
   "metadata": {
    "deletable": false,
    "editable": false
   },
   "source": [
    "#### Part 2.3: `.select()` (5 pts)\n"
   ]
  },
  {
   "cell_type": "markdown",
   "metadata": {
    "deletable": false,
    "editable": false
   },
   "source": [
    "Most of the columns are about particular products -- whether the market sells tofu, pet food, etc.  If we're not interested in that information, it just makes the table difficult to read.  This comes up more than you might think, because people who collect and publish data may not know ahead of time what people will want to do with it.\n",
    "\n",
    "In such situations, we can use the table method `select` to choose only the columns that we want in a particular table. It takes any number of arguments. Each should be the name of a column in the table. It returns a new table with only those columns in it. The columns are in the order *in which they were listed as arguments*.\n",
    "\n",
    "For example, the value of `farmers_markets.select(\"MarketName\", \"State\")` is a table with only the name and the state of each farmers' market in `farmers_markets`.\n",
    "\n",
    "Use `select` to create a table with only the name, city, state, latitude (`y`), and longitude (`x`) of each market.  Call that new table `farmers_markets_locations`.\n",
    "\n",
    "*Hint:* Make sure to be exact when using column names with `select`; double-check capitalization!"
   ]
  },
  {
   "cell_type": "code",
   "execution_count": null,
   "metadata": {
    "deletable": false,
    "execution": {
     "iopub.execute_input": "2025-09-10T13:00:00.789158Z",
     "iopub.status.busy": "2025-09-10T13:00:00.788996Z",
     "iopub.status.idle": "2025-09-10T13:00:00.795029Z",
     "shell.execute_reply": "2025-09-10T13:00:00.794589Z"
    },
    "tags": []
   },
   "outputs": [],
   "source": [
    "farmers_markets_locations = ...\n",
    "farmers_markets_locations"
   ]
  },
  {
   "cell_type": "code",
   "execution_count": null,
   "metadata": {
    "deletable": false,
    "editable": false
   },
   "outputs": [],
   "source": [
    "grader.check(\"p2.3\")"
   ]
  },
  {
   "cell_type": "markdown",
   "metadata": {
    "deletable": false,
    "editable": false
   },
   "source": [
    "#### Part 2.4:  `.drop()` (5 pts)\n"
   ]
  },
  {
   "cell_type": "markdown",
   "metadata": {
    "deletable": false,
    "editable": false
   },
   "source": [
    "`drop` serves the same purpose as `select`, but it takes away the columns that you provide rather than the ones that you don't provide. Like `select`, `drop` returns a new table.\n",
    "\n",
    "Suppose you just didn't want the `FMID` and `updateTime` columns in `farmers_markets`.  Create a table that's a copy of `farmers_markets` but doesn't include those columns.  Call that table `farmers_markets_without_fmid`.\n"
   ]
  },
  {
   "cell_type": "code",
   "execution_count": null,
   "metadata": {
    "deletable": false,
    "execution": {
     "iopub.execute_input": "2025-09-10T13:00:00.807689Z",
     "iopub.status.busy": "2025-09-10T13:00:00.807446Z",
     "iopub.status.idle": "2025-09-10T13:00:00.840302Z",
     "shell.execute_reply": "2025-09-10T13:00:00.839830Z"
    },
    "tags": []
   },
   "outputs": [],
   "source": [
    "farmers_markets_without_fmid = ...\n",
    "farmers_markets_without_fmid"
   ]
  },
  {
   "cell_type": "code",
   "execution_count": null,
   "metadata": {
    "deletable": false,
    "editable": false
   },
   "outputs": [],
   "source": [
    "grader.check(\"p2.4\")"
   ]
  },
  {
   "cell_type": "markdown",
   "metadata": {
    "deletable": false,
    "editable": false,
    "tags": []
   },
   "source": [
    "#### Part 2.5: `.sort()` (5 pts)\n"
   ]
  },
  {
   "cell_type": "markdown",
   "metadata": {
    "deletable": false,
    "editable": false
   },
   "source": [
    "Now, suppose we want to answer some questions about farmers' markets in the US. For example, which market(s) have the greatest longitude (given by the `x` column)? To answer this, we'll sort `farmers_markets_locations` by longitude."
   ]
  },
  {
   "cell_type": "code",
   "execution_count": null,
   "metadata": {
    "deletable": false,
    "editable": false,
    "execution": {
     "iopub.execute_input": "2025-09-10T13:00:00.854390Z",
     "iopub.status.busy": "2025-09-10T13:00:00.854202Z",
     "iopub.status.idle": "2025-09-10T13:00:00.861260Z",
     "shell.execute_reply": "2025-09-10T13:00:00.860778Z"
    }
   },
   "outputs": [],
   "source": [
    "farmers_markets_locations.sort('x')"
   ]
  },
  {
   "cell_type": "markdown",
   "metadata": {
    "deletable": false,
    "editable": false
   },
   "source": [
    "Oops, that didn't answer our question because we sorted from smallest to greatest longitude. To look at the greatest longitudes, we'll have to sort in reverse order."
   ]
  },
  {
   "cell_type": "code",
   "execution_count": null,
   "metadata": {
    "deletable": false,
    "editable": false,
    "execution": {
     "iopub.execute_input": "2025-09-10T13:00:00.863629Z",
     "iopub.status.busy": "2025-09-10T13:00:00.863452Z",
     "iopub.status.idle": "2025-09-10T13:00:00.872003Z",
     "shell.execute_reply": "2025-09-10T13:00:00.871452Z"
    }
   },
   "outputs": [],
   "source": [
    "farmers_markets_locations.sort('x', descending=True)"
   ]
  },
  {
   "cell_type": "markdown",
   "metadata": {
    "deletable": false,
    "editable": false
   },
   "source": [
    "The `descending=True` bit is called a *named argument*. It has a default value of `False`, so when you explicitly tell the function `descending=True`, then the function will sort in descending order."
   ]
  },
  {
   "cell_type": "markdown",
   "metadata": {
    "deletable": false,
    "editable": false
   },
   "source": [
    "\n",
    "Some details about sort:\n",
    "\n",
    "1. The first argument to `sort` is the name of a column to sort by.\n",
    "2. If the column has text in it, `sort` will sort alphabetically; if the column has numbers, it will sort numerically.\n",
    "3. The value of `farmers_markets_locations.sort(\"x\")` is a *copy* of `farmers_markets_locations`; the `farmers_markets_locations` table doesn't get modified. For example, if we called `farmers_markets_locations.sort(\"x\")`, then running `farmers_markets_locations` by itself would still return the unsorted table.\n",
    "4. Rows always stick together when a table is sorted.  It wouldn't make sense to sort just one column and leave the other columns alone.  For example, in this case, if we sorted just the `x` column, the farmers' markets would all end up with the wrong longitudes.\n",
    "\n",
    "Create a version of `farmers_markets_locations` that's sorted by **latitude (`y`)**, with the greatest latitudes first.  Call it `farmers_markets_locations_by_latitude`.\n"
   ]
  },
  {
   "cell_type": "code",
   "execution_count": null,
   "metadata": {
    "deletable": false,
    "execution": {
     "iopub.execute_input": "2025-09-10T13:00:00.874608Z",
     "iopub.status.busy": "2025-09-10T13:00:00.874364Z",
     "iopub.status.idle": "2025-09-10T13:00:00.882877Z",
     "shell.execute_reply": "2025-09-10T13:00:00.882403Z"
    },
    "tags": []
   },
   "outputs": [],
   "source": [
    "farmers_markets_locations_by_latitude = ...\n",
    "farmers_markets_locations_by_latitude"
   ]
  },
  {
   "cell_type": "code",
   "execution_count": null,
   "metadata": {
    "deletable": false,
    "editable": false
   },
   "outputs": [],
   "source": [
    "grader.check(\"p2.5\")"
   ]
  },
  {
   "cell_type": "markdown",
   "metadata": {
    "deletable": false,
    "editable": false,
    "tags": []
   },
   "source": [
    "#### Part 2.6: `.where()` (5 pts)\n"
   ]
  },
  {
   "cell_type": "markdown",
   "metadata": {
    "deletable": false,
    "editable": false
   },
   "source": [
    "Now let's say we want a table of all farmers' markets in Massachusetts. Sorting won't help us much here because Massachusetts is close to the middle of the dataset.  Instead, we use the table method `where`."
   ]
  },
  {
   "cell_type": "code",
   "execution_count": null,
   "metadata": {
    "deletable": false,
    "editable": false,
    "execution": {
     "iopub.execute_input": "2025-09-10T13:00:00.895736Z",
     "iopub.status.busy": "2025-09-10T13:00:00.895428Z",
     "iopub.status.idle": "2025-09-10T13:00:00.906900Z",
     "shell.execute_reply": "2025-09-10T13:00:00.906397Z"
    }
   },
   "outputs": [],
   "source": [
    "ma_farmers_markets = farmers_markets_locations.where('State', are.equal_to('Massachusetts'))\n",
    "ma_farmers_markets"
   ]
  },
  {
   "cell_type": "markdown",
   "metadata": {
    "deletable": false,
    "editable": false
   },
   "source": [
    "Let's dive into our use of `where` in more detail.  `where` takes 2 arguments:\n",
    "\n",
    "1. The name of a column.  `where` finds rows where that column's values meet some criterion.\n",
    "2. A **predicate** that describes the criterion that the column needs to meet. The predicate in the example above called the function `are.equal_to` with the value we wanted, 'Massachusetts'.  We'll see other predicates soon.\n",
    "\n",
    "The `where` method returns a new table that's a copy of the original table, but **with only the rows that meet the given predicate**."
   ]
  },
  {
   "cell_type": "markdown",
   "metadata": {
    "deletable": false,
    "editable": false
   },
   "source": [
    "Use `ma_farmers_markets` to create a table called `williamstown_markets` containing farmers' markets in Williamstown."
   ]
  },
  {
   "cell_type": "code",
   "execution_count": null,
   "metadata": {
    "deletable": false,
    "execution": {
     "iopub.execute_input": "2025-09-10T13:00:00.910231Z",
     "iopub.status.busy": "2025-09-10T13:00:00.910005Z",
     "iopub.status.idle": "2025-09-10T13:00:00.914713Z",
     "shell.execute_reply": "2025-09-10T13:00:00.914203Z"
    },
    "tags": []
   },
   "outputs": [],
   "source": [
    "williamstown_markets = ...\n",
    "williamstown_markets"
   ]
  },
  {
   "cell_type": "code",
   "execution_count": null,
   "metadata": {
    "deletable": false,
    "editable": false
   },
   "outputs": [],
   "source": [
    "grader.check(\"p2.6\")"
   ]
  },
  {
   "cell_type": "markdown",
   "metadata": {
    "deletable": false,
    "editable": false
   },
   "source": [
    "So far we've only been using `where` with the predicate that requires finding the values in a column to be *exactly* equal to a certain value. However, there are many other predicates. See our [Python Reference](http://cs104williams.github.io/assets/python-library-ref.html#where) for a complete list."
   ]
  },
  {
   "cell_type": "markdown",
   "metadata": {
    "deletable": false,
    "editable": false
   },
   "source": [
    "<hr style=\"margin-bottom: 0px; padding:0; border: 2px solid #500082;\"/>\n"
   ]
  },
  {
   "cell_type": "markdown",
   "metadata": {
    "deletable": false,
    "editable": false
   },
   "source": [
    "## 3. Creating Tables (10 pts)\n",
    "\n"
   ]
  },
  {
   "cell_type": "markdown",
   "metadata": {
    "deletable": false,
    "editable": false
   },
   "source": [
    "<font color='#B1008E'>\n",
    "    \n",
    "##### Learning objectives\n",
    "- Create tables from arrays using `Table().with_columns()`\n",
    "- Create tables from .csv files using `Table.read_table()`"
   ]
  },
  {
   "cell_type": "markdown",
   "metadata": {
    "deletable": false,
    "editable": false
   },
   "source": [
    "So far, we've looked at and manipulated **tables**. But let's dig into what tables are and how we can create them. \n",
    "\n",
    "An **array** is useful for describing a single attribute of each element in a collection. For example, let's say our collection is all US States. Then an array could describe the land area of each state. \n",
    "\n",
    "Tables extend this idea by containing multiple columns stored and represented as arrays, each one describing a different attribute for every element of a collection. In this way, tables allow us to not only store data about many entities but to also contain several kinds of data about each entity. \n",
    "\n",
    "For example, in the cell below we have two arrays. The first one, `population_amounts`, contains the world population in each year (estimated by the US Census Bureau). The second array, `years`, contains the years themselves. These elements are in order, so the year and the world population for that year have the same index in their corresponding arrays."
   ]
  },
  {
   "cell_type": "code",
   "execution_count": null,
   "metadata": {
    "deletable": false,
    "editable": false,
    "execution": {
     "iopub.execute_input": "2025-09-10T13:00:00.929060Z",
     "iopub.status.busy": "2025-09-10T13:00:00.928839Z",
     "iopub.status.idle": "2025-09-10T13:00:00.934900Z",
     "shell.execute_reply": "2025-09-10T13:00:00.934407Z"
    }
   },
   "outputs": [],
   "source": [
    "# Just run this cell\n",
    "population_amounts = Table.read_table(\"world_population.csv\").column(\"Population\")\n",
    "years = np.arange(1950, 2015+1)\n",
    "print(\"Population column:\", population_amounts)\n",
    "print(\"Years column:\", years)"
   ]
  },
  {
   "cell_type": "markdown",
   "metadata": {
    "deletable": false,
    "editable": false
   },
   "source": [
    "Suppose we want to answer this question:\n",
    "\n",
    "> In which year did the world's population cross 6 billion?\n",
    "\n",
    "You could technically answer this question just from staring at the arrays, but it's a bit convoluted, since you would have to count the position where the population first crossed 6 billion, then find the corresponding element in the years array. In cases like these, it might be easier to put the data into a *`Table`*, which is a two-dimensional dataset with both rows and columns. \n",
    "\n",
    "The expression below:\n",
    "\n",
    "- creates an empty table using the expression `Table()`,\n",
    "- adds two columns by calling `with_columns` with four arguments,\n",
    "- assigns the result to the name `population`, and finally\n",
    "- evaluates `population` so that we can see the table.\n",
    "\n",
    "The strings `\"Year\"` and `\"Population\"` are column labels that we have chosen. The names `population_amounts` and `years` were assigned above to two arrays of the **same length**. The function `with_columns` (you can find the documentation [here](http://cs104williams.github.io/assets/python-library-ref.html)) takes in alternating strings (to represent column labels) and arrays (representing the data in those columns). The strings and arrays are separated by commas."
   ]
  },
  {
   "cell_type": "code",
   "execution_count": null,
   "metadata": {
    "deletable": false,
    "editable": false,
    "execution": {
     "iopub.execute_input": "2025-09-10T13:00:00.937457Z",
     "iopub.status.busy": "2025-09-10T13:00:00.937254Z",
     "iopub.status.idle": "2025-09-10T13:00:00.941700Z",
     "shell.execute_reply": "2025-09-10T13:00:00.941176Z"
    }
   },
   "outputs": [],
   "source": [
    "population = Table().with_columns(\n",
    "    \"Population\", population_amounts,\n",
    "    \"Year\", years\n",
    ")\n",
    "population"
   ]
  },
  {
   "cell_type": "markdown",
   "metadata": {
    "deletable": false,
    "editable": false
   },
   "source": [
    "Now the data is combined into a single table! It's much easier to parse this data. If you need to know what the population was in 1959, for example, you can tell from a single glance."
   ]
  },
  {
   "cell_type": "markdown",
   "metadata": {
    "deletable": false,
    "editable": false
   },
   "source": [
    "#### Part 3.1 (5 pts)\n"
   ]
  },
  {
   "cell_type": "markdown",
   "metadata": {
    "deletable": false,
    "editable": false
   },
   "source": [
    " In the cell below, we've created 2 arrays. Using the steps above, assign `top_10_movies` to a table that has two columns called \"Name\" and \"Rating\", which hold `top_10_movie_names` and `top_10_movie_ratings` respectively.\n",
    "\n"
   ]
  },
  {
   "cell_type": "code",
   "execution_count": null,
   "metadata": {
    "deletable": false,
    "execution": {
     "iopub.execute_input": "2025-09-10T13:00:00.944562Z",
     "iopub.status.busy": "2025-09-10T13:00:00.944362Z",
     "iopub.status.idle": "2025-09-10T13:00:00.949388Z",
     "shell.execute_reply": "2025-09-10T13:00:00.948904Z"
    },
    "tags": []
   },
   "outputs": [],
   "source": [
    "top_10_movie_names = make_array(\n",
    "        'The Shawshank Redemption (1994)',\n",
    "        'The Godfather (1972)',\n",
    "        'The Godfather: Part II (1974)',\n",
    "        'Pulp Fiction (1994)',\n",
    "        \"Schindler's List (1993)\",\n",
    "        'The Lord of the Rings: The Return of the King (2003)',\n",
    "        '12 Angry Men (1957)',\n",
    "        'The Dark Knight (2008)',\n",
    "        'Il buono, il brutto, il cattivo (1966)',\n",
    "        'The Lord of the Rings: The Fellowship of the Ring (2001)')\n",
    "top_10_movie_ratings = make_array(9.2, 9.2, 9., 8.9, 8.9, 8.9, 8.9, 8.9, 8.9, 8.8)\n",
    "\n",
    "top_10_movies = ...\n",
    "\n",
    "# We've put this next line here \n",
    "# so your table will get printed out \n",
    "# when you run this cell.\n",
    "top_10_movies"
   ]
  },
  {
   "cell_type": "code",
   "execution_count": null,
   "metadata": {
    "deletable": false,
    "editable": false
   },
   "outputs": [],
   "source": [
    "grader.check(\"p3.1\")"
   ]
  },
  {
   "cell_type": "markdown",
   "metadata": {
    "deletable": false,
    "editable": false
   },
   "source": [
    "#### Part 3.2 (5 pts)\n"
   ]
  },
  {
   "cell_type": "markdown",
   "metadata": {
    "deletable": false,
    "editable": false
   },
   "source": [
    "In most cases, we aren't going to go through the trouble of typing in all the data manually. Instead, we load them in from an external source, like a data file. There are many formats for data files, but CSV (\"comma-separated values\") is the most common.\n",
    "\n",
    "`Table.read_table(...)` takes one argument (a path to a data file in **string** format) and returns a table.  \n",
    "\n",
    "The file `imdb.csv` contains a table of information about the 250 highest-rated movies on IMDb.  Load it as a table called `imdb`."
   ]
  },
  {
   "cell_type": "code",
   "execution_count": null,
   "metadata": {
    "deletable": false,
    "execution": {
     "iopub.execute_input": "2025-09-10T13:00:00.972419Z",
     "iopub.status.busy": "2025-09-10T13:00:00.972226Z",
     "iopub.status.idle": "2025-09-10T13:00:00.978900Z",
     "shell.execute_reply": "2025-09-10T13:00:00.978414Z"
    },
    "tags": []
   },
   "outputs": [],
   "source": [
    "imdb = ...\n",
    "imdb"
   ]
  },
  {
   "cell_type": "code",
   "execution_count": null,
   "metadata": {
    "deletable": false,
    "editable": false
   },
   "outputs": [],
   "source": [
    "grader.check(\"p3.2\")"
   ]
  },
  {
   "cell_type": "markdown",
   "metadata": {
    "deletable": false,
    "editable": false
   },
   "source": [
    "Where did `imdb.csv` come from? Take a look at this lab's folder (in the left sidebar). You should see a file called `imdb.csv`.\n",
    "\n",
    "Double-click to open up the `imdb.csv` file in that folder and look at the format. What do you notice? Jupyter displays the contents of the file as a basic table, but it is really just a specially-formatted text file.  In particular, the `.csv` filename ending says that this file is in the [CSV (comma-separated value) format](http://edoceo.com/utilitas/csv-file-format)."
   ]
  },
  {
   "cell_type": "markdown",
   "metadata": {
    "deletable": false,
    "editable": false
   },
   "source": [
    "<hr class=\"m-0\" style=\"border: 3px solid #500082;\"/>\n",
    "\n",
    "# You're Done!\n",
    "Follow these steps to submit your work:\n",
    "* Run the tests and verify that they pass as you expect. \n",
    "* Choose **Save Notebook** from the **File** menu.\n",
    "* **Run the final cell** and click the link below to download the zip file. \n",
    "\n",
    "Once you have downloaded that file, go to [Gradescope](https://www.gradescope.com/) and submit the zip file to \n",
    "the corresponding assignment. For Prelab N, the assignment will be called \"Prelab N Autograder\".\n",
    "\n",
    "Once you have submitted, your Gradescope assignment should show you passing all the tests you passed in your assignment notebook.\n"
   ]
  },
  {
   "cell_type": "markdown",
   "metadata": {
    "deletable": false,
    "editable": false
   },
   "source": [
    "## Submission\n",
    "\n",
    "Make sure you have run all cells in your notebook in order before running the cell below, so that all images/graphs appear in the output. The cell below will generate a zip file for you to submit. **Please save before exporting!**"
   ]
  },
  {
   "cell_type": "code",
   "execution_count": null,
   "metadata": {
    "deletable": false,
    "editable": false
   },
   "outputs": [],
   "source": [
    "# Save your notebook first, then run this cell to export your submission.\n",
    "grader.export(pdf=False, run_tests=True)"
   ]
  },
  {
   "cell_type": "markdown",
   "metadata": {},
   "source": [
    " "
   ]
  }
 ],
 "metadata": {
  "celltoolbar": "Edit Metadata",
  "kernelspec": {
   "display_name": "Python 3 (ipykernel)",
   "language": "python",
   "name": "python3"
  },
  "language_info": {
   "codemirror_mode": {
    "name": "ipython",
    "version": 3
   },
   "file_extension": ".py",
   "mimetype": "text/x-python",
   "name": "python",
   "nbconvert_exporter": "python",
   "pygments_lexer": "ipython3",
   "version": "3.11.13"
  },
  "otter": {
   "OK_FORMAT": true,
   "tests": {
    "p1.1": {
     "has_hidden": false,
     "name": "p1.1",
     "points": 5,
     "suites": [
      {
       "cases": [
        {
         "code": ">>> check_str('recipe_a_cups == 2', locals())\n",
         "failure_message": "check(recipe_a_cups == 2)",
         "hidden": false,
         "locked": false,
         "submit_only": false,
         "success_message": "check(recipe_a_cups == 2)"
        },
        {
         "code": ">>> check_str('recipe_b_cups == 3', locals())\n",
         "failure_message": "check(recipe_b_cups == 3)",
         "hidden": false,
         "locked": false,
         "submit_only": false,
         "success_message": "check(recipe_b_cups == 3)"
        },
        {
         "code": ">>> check_str('min_recipe_cups == 2', locals())\n",
         "failure_message": "check(min_recipe_cups == 2)",
         "hidden": false,
         "locked": false,
         "submit_only": false,
         "success_message": "check(min_recipe_cups == 2)"
        },
        {
         "code": ">>> check_str('recipe_with_least_flour == \"A\"', locals())\n",
         "failure_message": "check(recipe_with_least_flour == \"A\")",
         "hidden": false,
         "locked": false,
         "submit_only": false,
         "success_message": "check(recipe_with_least_flour == \"A\")"
        }
       ],
       "scored": true,
       "setup": "",
       "teardown": "",
       "type": "doctest"
      }
     ]
    },
    "p1.2": {
     "has_hidden": false,
     "name": "p1.2",
     "points": 5,
     "suites": [
      {
       "cases": [
        {
         "code": ">>> check_str('mystery == 2023', locals())\n",
         "failure_message": "check(mystery == 2023)",
         "hidden": false,
         "locked": false,
         "submit_only": false,
         "success_message": "check(mystery == 2023)"
        }
       ],
       "scored": true,
       "setup": "",
       "teardown": "",
       "type": "doctest"
      }
     ]
    },
    "p2.1": {
     "has_hidden": false,
     "name": "p2.1",
     "points": 5,
     "suites": [
      {
       "cases": [
        {
         "code": ">>> check_str('farmers_markets != ...', locals())\n",
         "failure_message": "Make sure to run the cell above that assigns to `farmers_markets.`",
         "hidden": false,
         "locked": false,
         "submit_only": false,
         "success_message": "Looks good!"
        }
       ],
       "scored": true,
       "setup": "",
       "teardown": "",
       "type": "doctest"
      }
     ]
    },
    "p2.2": {
     "has_hidden": false,
     "name": "p2.2",
     "points": 5,
     "suites": [
      {
       "cases": [
        {
         "code": ">>> check_str('num_farmers_markets_columns == 59', locals())\n",
         "failure_message": "check(num_farmers_markets_columns == 59)",
         "hidden": false,
         "locked": false,
         "submit_only": false,
         "success_message": "check(num_farmers_markets_columns == 59)"
        }
       ],
       "scored": true,
       "setup": "",
       "teardown": "",
       "type": "doctest"
      }
     ]
    },
    "p2.3": {
     "has_hidden": false,
     "name": "p2.3",
     "points": 5,
     "suites": [
      {
       "cases": [
        {
         "code": ">>> check_str('np.sort(farmers_markets_locations.labels) == np.sort([\\'MarketName\\', \\'State\\', \\'city\\', \\'x\\', \\'y\\'])', locals())\n",
         "failure_message": "Be sure to select only the \"city\", \"State\", \"MarketName\", \"y\", and \"x\" columns!",
         "hidden": false,
         "locked": false,
         "submit_only": false,
         "success_message": "Table has the correct labels!"
        },
        {
         "code": ">>> check_str('farmers_markets_locations.num_rows == 8546', locals())\n",
         "failure_message": "check(farmers_markets_locations.num_rows == 8546)",
         "hidden": false,
         "locked": false,
         "submit_only": false,
         "success_message": "check(farmers_markets_locations.num_rows == 8546)"
        }
       ],
       "scored": true,
       "setup": "",
       "teardown": "",
       "type": "doctest"
      }
     ]
    },
    "p2.4": {
     "has_hidden": false,
     "name": "p2.4",
     "points": 5,
     "suites": [
      {
       "cases": [
        {
         "code": ">>> check_str('farmers_markets_without_fmid.num_columns == 57', locals())\n",
         "failure_message": "check(farmers_markets_without_fmid.num_columns == 57)",
         "hidden": false,
         "locked": false,
         "submit_only": false,
         "success_message": "check(farmers_markets_without_fmid.num_columns == 57)"
        },
        {
         "code": ">>> check_str('np.sort(farmers_markets_without_fmid.labels) == [ \\'Bakedgoods\\', \\'Beans\\', \\'Cheese\\', \\'Coffee\\', \\'County\\', \\'Crafts\\', \\'Credit\\', \\'Eggs\\', \\'Facebook\\', \\'Flowers\\', \\'Fruits\\', \\'Grains\\', \\'Herbs\\', \\'Honey\\', \\'Jams\\', \\'Juices\\', \\'Location\\', \\'Maple\\', \\'MarketName\\', \\'Meat\\', \\'Mushrooms\\', \\'Nursery\\', \\'Nuts\\', \\'Organic\\', \\'OtherMedia\\', \\'PetFood\\', \\'Plants\\', \\'Poultry\\', \\'Prepared\\', \\'SFMNP\\', \\'SNAP\\', \\'Seafood\\', \\'Season1Date\\', \\'Season1Time\\', \\'Season2Date\\', \\'Season2Time\\', \\'Season3Date\\', \\'Season3Time\\', \\'Season4Date\\', \\'Season4Time\\', \\'Soap\\', \\'State\\', \\'Tofu\\', \\'Trees\\', \\'Twitter\\', \\'Vegetables\\', \\'WIC\\', \\'WICcash\\', \\'Website\\', \\'WildHarvested\\', \\'Wine\\', \\'Youtube\\', \\'city\\', \\'street\\', \\'x\\', \\'y\\', \\'zip\\' ]', locals())\n",
         "failure_message": "Your table should have the following column labels: 'Bakedgoods', 'Beans', 'Cheese', 'Coffee', 'County', 'Crafts', 'Credit', 'Eggs', 'Facebook', 'Flowers', 'Fruits', 'Grains', 'Herbs', 'Honey', 'Jams', 'Juices', 'Location', 'Maple', 'MarketName', 'Meat', 'Mushrooms', 'Nursery', 'Nuts', 'Organic', 'OtherMedia', 'PetFood', 'Plants', 'Poultry', 'Prepared', 'SFMNP', 'SNAP', 'Seafood', 'Season1Date', 'Season1Time', 'Season2Date', 'Season2Time', 'Season3Date', 'Season3Time', 'Season4Date', 'Season4Time', 'Soap', 'State', 'Tofu', 'Trees', 'Twitter', 'Vegetables', 'WIC', 'WICcash', 'Website', 'WildHarvested', 'Wine', 'Youtube', 'city', 'street', 'x', 'y', 'zip'",
         "hidden": false,
         "locked": false,
         "submit_only": false,
         "success_message": "Table has the correct labels!"
        }
       ],
       "scored": true,
       "setup": "",
       "teardown": "",
       "type": "doctest"
      }
     ]
    },
    "p2.5": {
     "has_hidden": false,
     "name": "p2.5",
     "points": 5,
     "suites": [
      {
       "cases": [
        {
         "code": ">>> check_str('type(farmers_markets_locations_by_latitude) == tables.Table', locals())\n",
         "failure_message": "check(type(farmers_markets_locations_by_latitude) == tables.Table)",
         "hidden": false,
         "locked": false,
         "submit_only": false,
         "success_message": "check(type(farmers_markets_locations_by_latitude) == tables.Table)"
        },
        {
         "code": ">>> check_str('farmers_markets_locations_by_latitude.column(\\'y\\').take(range(3)) == [64.86275, 64.8459, 64.844414]', locals())\n",
         "failure_message": "check(farmers_markets_locations_by_latitude.column('y').take(range(3)) == [64.86275, 64.8459, 64.844414])",
         "hidden": false,
         "locked": false,
         "submit_only": false,
         "success_message": "check(farmers_markets_locations_by_latitude.column('y').take(range(3)) == [64.86275, 64.8459, 64.844414])"
        }
       ],
       "scored": true,
       "setup": "",
       "teardown": "",
       "type": "doctest"
      }
     ]
    },
    "p2.6": {
     "has_hidden": false,
     "name": "p2.6",
     "points": 5,
     "suites": [
      {
       "cases": [
        {
         "code": ">>> check_str('williamstown_markets.num_rows == 2', locals())\n",
         "failure_message": "check(williamstown_markets.num_rows == 2)",
         "hidden": false,
         "locked": false,
         "submit_only": false,
         "success_message": "check(williamstown_markets.num_rows == 2)"
        },
        {
         "code": ">>> check_str('williamstown_markets.column(\\'city\\') == make_array(\\'Williamstown\\', \\'Williamstown\\')', locals())\n",
         "failure_message": "check(williamstown_markets.column('city') == make_array('Williamstown', 'Williamstown'))",
         "hidden": false,
         "locked": false,
         "submit_only": false,
         "success_message": "check(williamstown_markets.column('city') == make_array('Williamstown', 'Williamstown'))"
        }
       ],
       "scored": true,
       "setup": "",
       "teardown": "",
       "type": "doctest"
      }
     ]
    },
    "p3.1": {
     "has_hidden": false,
     "name": "p3.1",
     "points": 5,
     "suites": [
      {
       "cases": [
        {
         "code": ">>> check_str('top_10_movies.labels == make_array(\\'Name\\', \\'Rating\\')', locals())\n",
         "failure_message": "check(top_10_movies.labels == make_array('Name', 'Rating'))",
         "hidden": false,
         "locked": false,
         "submit_only": false,
         "success_message": "check(top_10_movies.labels == make_array('Name', 'Rating'))"
        },
        {
         "code": ">>> check_str('top_10_movies.num_rows == 10', locals())\n",
         "failure_message": "check(top_10_movies.num_rows == 10)",
         "hidden": false,
         "locked": false,
         "submit_only": false,
         "success_message": "check(top_10_movies.num_rows == 10)"
        },
        {
         "code": ">>> check_str('top_10_movies.column(\"Name\").item(0) == \\'The Shawshank Redemption (1994)\\'', locals())\n",
         "failure_message": "check(top_10_movies.column(\"Name\").item(0) == 'The Shawshank Redemption (1994)')",
         "hidden": false,
         "locked": false,
         "submit_only": false,
         "success_message": "check(top_10_movies.column(\"Name\").item(0) == 'The Shawshank Redemption (1994)')"
        },
        {
         "code": ">>> check_str('top_10_movies.column(\"Rating\").item(0) == 9.2', locals())\n",
         "failure_message": "check(top_10_movies.column(\"Rating\").item(0) == 9.2)",
         "hidden": false,
         "locked": false,
         "submit_only": false,
         "success_message": "check(top_10_movies.column(\"Rating\").item(0) == 9.2)"
        }
       ],
       "scored": true,
       "setup": "",
       "teardown": "",
       "type": "doctest"
      }
     ]
    },
    "p3.2": {
     "has_hidden": false,
     "name": "p3.2",
     "points": 5,
     "suites": [
      {
       "cases": [
        {
         "code": ">>> check_str('imdb.labels == make_array(\\'Title\\', \\'Year\\', \\'Rating\\', \\'Votes\\')', locals())\n",
         "failure_message": "check(imdb.labels == make_array('Title', 'Year', 'Rating', 'Votes'))",
         "hidden": false,
         "locked": false,
         "submit_only": false,
         "success_message": "check(imdb.labels == make_array('Title', 'Year', 'Rating', 'Votes'))"
        },
        {
         "code": ">>> check_str('imdb.row(0).item(\"Votes\") == 2593768', locals())\n",
         "failure_message": "check(imdb.row(0).item(\"Votes\") == 2593768)",
         "hidden": false,
         "locked": false,
         "submit_only": false,
         "success_message": "check(imdb.row(0).item(\"Votes\") == 2593768)"
        },
        {
         "code": ">>> check_str('imdb.row(0).item(\"Year\") == 1994', locals())\n",
         "failure_message": "check(imdb.row(0).item(\"Year\") == 1994)",
         "hidden": false,
         "locked": false,
         "submit_only": false,
         "success_message": "check(imdb.row(0).item(\"Year\") == 1994)"
        }
       ],
       "scored": true,
       "setup": "",
       "teardown": "",
       "type": "doctest"
      }
     ]
    }
   }
  },
  "vscode": {
   "interpreter": {
    "hash": "e9a7af6fc709cc25e111b0d6e28f738a78907138b7e48b682edcf6dfb7dc8bee"
   }
  },
  "widgets": {
   "application/vnd.jupyter.widget-state+json": {
    "state": {},
    "version_major": 2,
    "version_minor": 0
   }
  }
 },
 "nbformat": 4,
 "nbformat_minor": 4
}
