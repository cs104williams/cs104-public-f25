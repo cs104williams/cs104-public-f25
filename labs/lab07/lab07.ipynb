{
 "cells": [
  {
   "cell_type": "code",
   "execution_count": null,
   "id": "7f1dbfb9",
   "metadata": {
    "deletable": false,
    "editable": false
   },
   "outputs": [],
   "source": [
    "# Initialize Otter\n",
    "import otter\n",
    "grader = otter.Notebook(\"lab07.ipynb\")"
   ]
  },
  {
   "cell_type": "markdown",
   "id": "acfbfb5a",
   "metadata": {
    "deletable": false,
    "editable": false
   },
   "source": [
    "<table style=\"width: 100%;\">\n",
    "<tr style=\"background-color: transparent;\">\n",
    "<td width=\"100px\"><img src=\"https://cs104williams.github.io/assets/cs104-logo.png\" width=\"90px\" style=\"text-align: center\"/></td>\n",
    "<td>\n",
    "  <p style=\"margin-bottom: 0px; text-align: left; font-size: 18pt;\"><strong>CSCI 104: Data Science and Computing for All</strong><br>\n",
    "                Williams College<br>\n",
    "                Fall 2025</p>\n",
    "</td>\n",
    "</tr>\n"
   ]
  },
  {
   "cell_type": "markdown",
   "id": "0eac4220",
   "metadata": {
    "deletable": false,
    "editable": false
   },
   "source": [
    "# Lab 7: Hypothesis Testing"
   ]
  },
  {
   "cell_type": "markdown",
   "id": "3e2e503b",
   "metadata": {
    "deletable": false,
    "editable": false
   },
   "source": [
    "<hr style=\"margin: 0px; border: 3px solid #500082;\"/>\n",
    "\n",
    "<h2>Instructions</h2>\n",
    "\n",
    "- Before you begin, execute the cell at the TOP of the notebook to load the provided tests, as well as the following cell to setup the notebook by importing some helpful libraries. Each time you start your server, you will need to execute these cells again.  \n",
    "- Be sure to consult your [Python Reference](https://cs104williams.github.io/assets/python-library-ref.html)!\n",
    "- Complete this notebook by filling in the cells provided. For problems asking you to write explanations, you **must** provide your answer in the designated space. \n",
    "- Please be sure to not re-assign variables throughout the notebook.  For example, if you use `max_temperature` in your answer to one question, do not reassign it later on. Otherwise, you will fail tests that you thought you were passing previously.\n",
    "- This lab has hidden tests on it. That means even though tests may say 100% passed, doesn't mean your final grade will be 100%. We will be running more tests for correctness once everyone turns in the lab.\n",
    "- To use one or more late days on this lab, please fill out our [late day form](https://forms.gle/4sD16h3hN1xRqQM27) **before** the due date.\n",
    "\n",
    "<hr/>\n",
    "<h2>Setup</h2>\n"
   ]
  },
  {
   "cell_type": "code",
   "execution_count": null,
   "id": "5eec3e1d",
   "metadata": {
    "deletable": false,
    "editable": false,
    "execution": {
     "iopub.execute_input": "2025-10-30T13:10:40.439508Z",
     "iopub.status.busy": "2025-10-30T13:10:40.439322Z",
     "iopub.status.idle": "2025-10-30T13:10:42.843573Z",
     "shell.execute_reply": "2025-10-30T13:10:42.842687Z"
    },
    "tags": []
   },
   "outputs": [],
   "source": [
    "# Run this cell to set up the notebook.\n",
    "# These lines import the numpy, datascience, and cs104 libraries.\n",
    "\n",
    "import numpy as np\n",
    "from datascience import *\n",
    "from cs104 import *\n",
    "%matplotlib inline"
   ]
  },
  {
   "cell_type": "markdown",
   "id": "7d55e370",
   "metadata": {
    "deletable": false,
    "editable": false
   },
   "source": [
    "In this lab, we give you three real-world datasets and you will run hypothesis tests for each. We will structure our questions around these six steps (although sometimes we break these steps down even further into smaller parts)."
   ]
  },
  {
   "cell_type": "markdown",
   "id": "320c7f51",
   "metadata": {
    "deletable": false,
    "editable": false,
    "tags": []
   },
   "source": [
    "---\n",
    "\n",
    "**Steps for hypothesis testing.**\n",
    "\n",
    "A. Define a Null and Alternate Hypothesis.\n",
    "\n",
    "B. Choose a test statistic (typically an absolute difference in means or proportions).\n",
    "\n",
    "C. Compute the test statistic for the observed data.\n",
    "\n",
    "D. Simulate many samples according to the Null Hypothesis's model, and compute the test statistic for each of thoese samples.\n",
    "\n",
    "E. Calculate the p-value by comparing your observed statistic to the simulated test statistics.\n",
    "\n",
    "F. Use the p-value and p-value cutoff to draw a conclusion about the Null Hypothesis.\n",
    "\n",
    "---"
   ]
  },
  {
   "cell_type": "markdown",
   "id": "5b84caa1",
   "metadata": {
    "deletable": false,
    "editable": false
   },
   "source": [
    "<hr style=\"margin-bottom: 0px; padding:0; border: 2px solid #500082;\"/>\n"
   ]
  },
  {
   "cell_type": "markdown",
   "id": "59898340",
   "metadata": {
    "deletable": false,
    "editable": false,
    "tags": []
   },
   "source": [
    "## 1. Therapeutic Touch (50 pts)\n",
    "\n"
   ]
  },
  {
   "cell_type": "markdown",
   "id": "d206db8b",
   "metadata": {
    "deletable": false,
    "editable": false
   },
   "source": [
    "<font color='#B1008E'>\n",
    "\n",
    "##### Learning objectives\n",
    "- Use simulation and test statistics to reject or fail to reject a null hypothesis.\n",
    "- Compute a p-value to assess the statistical significance.\n",
    "</font>\n",
    "</font>"
   ]
  },
  {
   "cell_type": "markdown",
   "id": "645ed4b7",
   "metadata": {
    "deletable": false,
    "editable": false,
    "tags": []
   },
   "source": [
    "#### What is the Therapeutic Touch?\n",
    "\n",
    "The Therapeutic Touch (TT) is the idea that everyone can field the Human Energy Field (HEF) around individuals. Certain practictioners claim they have the ability to feel the HEF and can massage it in order to promote health and relaxation in individuals. Those who practice TT have described different people's HEFs as \"warm as Jell-O\" and \"tactile as taffy\". \n",
    "\n",
    "TT was a popular technique used throughout the 20th century that was recommended as a great way to bring balance to a person's health. \n",
    "\n",
    "##### Emily Rosa\n",
    "\n",
    "Emily Rosa was a 4th grade student who had wide exposure to the world of TT due to her parents. Her parents were both medical practitioners and skeptics of the idea of TT. \n",
    "\n",
    "For her 4th grade science fair project, Emily decided to test whether or not TT practitioners could truly had any interaction with a person's HEF. "
   ]
  },
  {
   "cell_type": "markdown",
   "id": "c7b17d75",
   "metadata": {
    "deletable": false,
    "editable": false
   },
   "source": [
    "##### Emily's Experiment\n",
    "\n",
    "Emily's experiement was clean, simple, elegant, and effective. Due to her parents occupations in the medical field, she had wide access to people who claimed to be TT practitioners. \n",
    "\n",
    "Emily took 21 TT practitioners and used them for her science experiment. She would take a TT practitioner, ask them to extend their hands through a screen (through which they can't see). On the other side would be Emily, who would flip a coin and put out either her left hand or her right hand, depending on the coin. The TT practitioner would then have to correctly answer which hand Emily put out. Overall, through 210 samples, the practitioner picked the correct hand 44% of the time. \n",
    "\n",
    "Emily's main goal here was to test whether or not the TT practitioners guesses were random, like a flip of the coin. "
   ]
  },
  {
   "cell_type": "markdown",
   "id": "79d0b095",
   "metadata": {
    "deletable": false,
    "editable": false
   },
   "source": [
    "<!-- BEGIN QUESTION -->\n",
    "\n",
    "#### Part 1.1 Step A: Define a Null and Alt Hypothesis (5 pts)\n"
   ]
  },
  {
   "cell_type": "markdown",
   "id": "ad837090",
   "metadata": {
    "deletable": false,
    "editable": false
   },
   "source": [
    "State the Null and Alternative Hypothesis for Emily's experiment.  Keep in mind that you must be able to simulate the Null Hypothesis to generate random samples.  "
   ]
  },
  {
   "cell_type": "markdown",
   "id": "6ec499e6",
   "metadata": {
    "deletable": false,
    "editable": false
   },
   "source": [
    "<hr style=\"margin:0; border: 1px solid #FFBE0A;\"/><font color='#FFBE0A'>Written Answer:</font>"
   ]
  },
  {
   "cell_type": "markdown",
   "id": "0f8f7749",
   "metadata": {
    "deletable": false
   },
   "source": [
    "Type your answer here:\n",
    "\n",
    "* Null Hypothesis:  ...\n",
    "\n",
    "* Alternative Hypothesis:  ...\n"
   ]
  },
  {
   "cell_type": "markdown",
   "id": "1f98979f",
   "metadata": {
    "deletable": false
   },
   "source": [
    "<hr style=\"margin:0; border: 1px solid #FFBE0A;\"/>"
   ]
  },
  {
   "cell_type": "markdown",
   "id": "03359496",
   "metadata": {
    "deletable": false,
    "editable": false
   },
   "source": [
    "<!-- END QUESTION -->\n",
    "\n",
    "#### Part 1.2 Expected Outcome Under Null Hypothesis (5 pts)\n"
   ]
  },
  {
   "cell_type": "markdown",
   "id": "bf799fe5",
   "metadata": {
    "deletable": false,
    "editable": false
   },
   "source": [
    "Remember that the pracitioner got the correct answer 44% of the time. Under the Null Hypothesis, on average, what proportion of times do we expect the practitioner to guess the correct hand? Make sure your answer is between 0 and 1. "
   ]
  },
  {
   "cell_type": "code",
   "execution_count": null,
   "id": "4e2582ad",
   "metadata": {
    "deletable": false,
    "execution": {
     "iopub.execute_input": "2025-10-30T13:10:42.849905Z",
     "iopub.status.busy": "2025-10-30T13:10:42.849551Z",
     "iopub.status.idle": "2025-10-30T13:10:42.854934Z",
     "shell.execute_reply": "2025-10-30T13:10:42.854239Z"
    },
    "tags": []
   },
   "outputs": [],
   "source": [
    "tt_expected_correct_proportion = ...\n",
    "tt_expected_correct_proportion"
   ]
  },
  {
   "cell_type": "code",
   "execution_count": null,
   "id": "06e8ecce",
   "metadata": {
    "deletable": false,
    "editable": false
   },
   "outputs": [],
   "source": [
    "grader.check(\"p1.2\")"
   ]
  },
  {
   "cell_type": "markdown",
   "id": "0204e621",
   "metadata": {
    "deletable": false,
    "editable": false
   },
   "source": [
    "The goal now is to see if our deviation from this expected proportion of correct answers is due to something other than chance. "
   ]
  },
  {
   "cell_type": "markdown",
   "id": "32dae591",
   "metadata": {
    "deletable": false,
    "editable": false
   },
   "source": [
    "#### Part 1.3 Step B: Test statistic (5 pts)\n"
   ]
  },
  {
   "cell_type": "markdown",
   "id": "071d6521",
   "metadata": {
    "deletable": false,
    "editable": false
   },
   "source": [
    "We'll use the absolute difference between the expected proportion of correct answers under the null hypothesis (which you defined as a variable above) and the actual proportion of correct answers as our test statistic.\n",
    "\n",
    "\n",
    "Define the function `tt_test_statistic` that takes in an actual proportion, and returns the value of this test statistic.  Your code should use the variable `tt_expected_correct_proportion` that you defined above."
   ]
  },
  {
   "cell_type": "code",
   "execution_count": null,
   "id": "f1d5dc37",
   "metadata": {
    "deletable": false,
    "execution": {
     "iopub.execute_input": "2025-10-30T13:10:42.872382Z",
     "iopub.status.busy": "2025-10-30T13:10:42.872148Z",
     "iopub.status.idle": "2025-10-30T13:10:42.874977Z",
     "shell.execute_reply": "2025-10-30T13:10:42.874444Z"
    },
    "tags": []
   },
   "outputs": [],
   "source": [
    "def tt_test_statistic(actual_proportion):\n",
    "    ..."
   ]
  },
  {
   "cell_type": "code",
   "execution_count": null,
   "id": "8981b5f2",
   "metadata": {
    "deletable": false,
    "editable": false
   },
   "outputs": [],
   "source": [
    "grader.check(\"p1.3\")"
   ]
  },
  {
   "cell_type": "markdown",
   "id": "455c5422",
   "metadata": {
    "deletable": false,
    "editable": false
   },
   "source": [
    "#### Part 1.4 Step C: Test Statistic for Observed Data (5 pts)\n"
   ]
  },
  {
   "cell_type": "markdown",
   "id": "4adbd54c",
   "metadata": {
    "deletable": false,
    "editable": false
   },
   "source": [
    "Use your newly defined function to calculate the observed test statistic from Emily's experiment where the practicioner was correct 44% of the time."
   ]
  },
  {
   "cell_type": "code",
   "execution_count": null,
   "id": "91b0b460",
   "metadata": {
    "deletable": false,
    "execution": {
     "iopub.execute_input": "2025-10-30T13:10:42.898199Z",
     "iopub.status.busy": "2025-10-30T13:10:42.897954Z",
     "iopub.status.idle": "2025-10-30T13:10:42.902334Z",
     "shell.execute_reply": "2025-10-30T13:10:42.901779Z"
    },
    "tags": []
   },
   "outputs": [],
   "source": [
    "observed_tt_test_statistic = ...\n",
    "observed_tt_test_statistic"
   ]
  },
  {
   "cell_type": "code",
   "execution_count": null,
   "id": "b38f0ed7",
   "metadata": {
    "deletable": false,
    "editable": false
   },
   "outputs": [],
   "source": [
    "grader.check(\"p1.4\")"
   ]
  },
  {
   "cell_type": "markdown",
   "id": "377e504d",
   "metadata": {
    "deletable": false,
    "editable": false
   },
   "source": [
    "#### Part 1.5 Proportions Corrent/Incorrect for Null Hypothesis model (5 pts)\n"
   ]
  },
  {
   "cell_type": "markdown",
   "id": "f51e21a8",
   "metadata": {
    "deletable": false,
    "editable": false
   },
   "source": [
    "Was the observed test statistic you just calculated due to chance? To address this question, we'll assume the Null Hypothesis model assumption's are true, simulate samples according to the Null Hypothesis model, and calculate the test statistic for each simulation.\n",
    "\n",
    "As a first step define an array `tt_null_model_proportions` containing two elements that reflect the proportions of correct and incorrect answers expected by a TT practictioner under the Null Hypothesis."
   ]
  },
  {
   "cell_type": "code",
   "execution_count": null,
   "id": "e414cb6e",
   "metadata": {
    "deletable": false,
    "execution": {
     "iopub.execute_input": "2025-10-30T13:10:42.918839Z",
     "iopub.status.busy": "2025-10-30T13:10:42.918627Z",
     "iopub.status.idle": "2025-10-30T13:10:42.921587Z",
     "shell.execute_reply": "2025-10-30T13:10:42.920877Z"
    },
    "tags": []
   },
   "outputs": [],
   "source": [
    "tt_null_model_proportions = ..."
   ]
  },
  {
   "cell_type": "code",
   "execution_count": null,
   "id": "8738f0bf",
   "metadata": {
    "deletable": false,
    "editable": false
   },
   "outputs": [],
   "source": [
    "grader.check(\"p1.5\")"
   ]
  },
  {
   "cell_type": "markdown",
   "id": "f9dcbaf0",
   "metadata": {
    "deletable": false,
    "editable": false
   },
   "source": [
    "#### Part 1.6 Make Sample: Generate Sample According to Null Hypothesis (5 pts)\n"
   ]
  },
  {
   "cell_type": "markdown",
   "id": "0d4ede09",
   "metadata": {
    "deletable": false,
    "editable": false
   },
   "source": [
    "Now, define a function `one_tt_sample` that creates a sample for one simulation round.  That function should use your `tt_null_model_proportions` to simulate what proportion of the time TT practioners choose the correct hand.  In other words, your function should return the proportion of correct answers in the simulated sample.\n",
    "\n",
    "Emily asked TT practitioners to pick a hand 210 times.  That will be the size of our samples during simulation, but to make our code more general, we'll define `one_tt_sample` to take the sample size as a parameter.\n",
    "\n",
    "**Run your function a number of times to gain confidence it is working properly.**  You should see some variability in the samples that are produced."
   ]
  },
  {
   "cell_type": "code",
   "execution_count": null,
   "id": "ef604934",
   "metadata": {
    "deletable": false,
    "execution": {
     "iopub.execute_input": "2025-10-30T13:10:42.955459Z",
     "iopub.status.busy": "2025-10-30T13:10:42.955157Z",
     "iopub.status.idle": "2025-10-30T13:10:42.960010Z",
     "shell.execute_reply": "2025-10-30T13:10:42.959396Z"
    },
    "tags": []
   },
   "outputs": [],
   "source": [
    "def one_tt_sample(sample_size):\n",
    "    proportion_correct = ...\n",
    "    return proportion_correct\n",
    "\n",
    "# Show the result of one simulation of size 210.\n",
    "one_tt_sample(210)"
   ]
  },
  {
   "cell_type": "code",
   "execution_count": null,
   "id": "77f0c4b0",
   "metadata": {
    "deletable": false,
    "editable": false
   },
   "outputs": [],
   "source": [
    "grader.check(\"p1.6\")"
   ]
  },
  {
   "cell_type": "markdown",
   "id": "3a6c1ea1",
   "metadata": {
    "deletable": false,
    "editable": false
   },
   "source": [
    "#### Part 1.7 Step D: Simulate A Few Samples (5 pts)\n"
   ]
  },
  {
   "cell_type": "markdown",
   "id": "8bafeb48",
   "metadata": {
    "deletable": false,
    "editable": false
   },
   "source": [
    "Now let's create a simulated distribution of test statistics under the null hypothesis.\n",
    "\n",
    "We'll first call the function to create only 5 sample statistics to help you debug, and then we'll provide another cell below to conduct a large simulation.\n",
    "\n",
    "Hints: \n",
    "- Examine the documentation for the function `simulate_sample_statistic`. \n",
    "- What functions have you already implemented that you'll use as inputs to `simulate_sample_statistic`?\n",
    "- How many samples did Emily Rosa have? "
   ]
  },
  {
   "cell_type": "code",
   "execution_count": null,
   "id": "bdbd8324",
   "metadata": {
    "deletable": false,
    "execution": {
     "iopub.execute_input": "2025-10-30T13:10:42.979364Z",
     "iopub.status.busy": "2025-10-30T13:10:42.979119Z",
     "iopub.status.idle": "2025-10-30T13:10:42.984000Z",
     "shell.execute_reply": "2025-10-30T13:10:42.983551Z"
    },
    "tags": []
   },
   "outputs": [],
   "source": [
    "small_tt_test = simulate_sample_statistic(...,\n",
    "                                          ...,\n",
    "                                          ...,\n",
    "                                          5)\n",
    "\n",
    "\n",
    "# Inspect the output!\n",
    "small_tt_test"
   ]
  },
  {
   "cell_type": "code",
   "execution_count": null,
   "id": "c5dc5d35",
   "metadata": {
    "deletable": false,
    "editable": false
   },
   "outputs": [],
   "source": [
    "grader.check(\"p1.7\")"
   ]
  },
  {
   "cell_type": "markdown",
   "id": "61cce7ea",
   "metadata": {
    "deletable": false,
    "editable": false
   },
   "source": [
    "#### Part 1.8 Step D: Simulate Many Samples (5 pts)\n"
   ]
  },
  {
   "cell_type": "markdown",
   "id": "4c7e010b",
   "metadata": {
    "deletable": false,
    "editable": false
   },
   "source": [
    "Now assign `simulated_tt_statistics` to an array of 1000 test statistics that you simulated and visually compare how the observed test statistic and the distribution of the simulated test statistics under the Null Hypothesis compare. "
   ]
  },
  {
   "cell_type": "code",
   "execution_count": null,
   "id": "6b71ad77",
   "metadata": {
    "deletable": false,
    "execution": {
     "iopub.execute_input": "2025-10-30T13:10:43.004363Z",
     "iopub.status.busy": "2025-10-30T13:10:43.004108Z",
     "iopub.status.idle": "2025-10-30T13:10:43.030510Z",
     "shell.execute_reply": "2025-10-30T13:10:43.029996Z"
    },
    "tags": []
   },
   "outputs": [],
   "source": [
    "num_tt_trials = ...\n",
    "simulated_tt_statistics = simulate_sample_statistic(...,\n",
    "                                                    ...,\n",
    "                                                    ...,\n",
    "                                                    num_tt_trials)\n"
   ]
  },
  {
   "cell_type": "code",
   "execution_count": null,
   "id": "5171cdd0",
   "metadata": {
    "deletable": false,
    "editable": false,
    "execution": {
     "iopub.execute_input": "2025-10-30T13:10:43.046385Z",
     "iopub.status.busy": "2025-10-30T13:10:43.046158Z",
     "iopub.status.idle": "2025-10-30T13:10:43.366579Z",
     "shell.execute_reply": "2025-10-30T13:10:43.366129Z"
    }
   },
   "outputs": [],
   "source": [
    "# Visualize the results\n",
    "plot = Table().with_column('abs(expected - actual proportion correct)', simulated_tt_statistics).hist(left_end=observed_tt_test_statistic)\n",
    "plot.dot(observed_tt_test_statistic)"
   ]
  },
  {
   "cell_type": "markdown",
   "id": "e266035b",
   "metadata": {
    "deletable": false,
    "editable": false
   },
   "source": [
    "We can make a visual argument as to whether or not we believe the observed test statistic is likely to occur under the null, or we can use the definition of p-values to help us make a more formal argument."
   ]
  },
  {
   "cell_type": "code",
   "execution_count": null,
   "id": "5979bd84",
   "metadata": {
    "deletable": false,
    "editable": false
   },
   "outputs": [],
   "source": [
    "grader.check(\"p1.8\")"
   ]
  },
  {
   "cell_type": "markdown",
   "id": "8cd26fe0",
   "metadata": {
    "deletable": false,
    "editable": false
   },
   "source": [
    "#### Part 1.9 Step E: Calculate p-value (5 pts)\n"
   ]
  },
  {
   "cell_type": "markdown",
   "id": "2580c58b",
   "metadata": {
    "deletable": false,
    "editable": false
   },
   "source": [
    "Recall, the p-value is the chance a test statistic simulated under the Null Hypothesis is equal to the value of the observed (real-world) test statistic or is even further in the direction of the Alternative Hypothesis.\n",
    "\n",
    "Using `simulated_tt_statistics` and `observed_tt_test_statistic`, as well as the [empirical_pvalue](https://www.cs.williams.edu/~cs104/auto/inference-library-ref.html#empirical_pvalue) function from our library  to calculate the p-value.  This is our library's implementation of the function you wrote for Prelab 7."
   ]
  },
  {
   "cell_type": "code",
   "execution_count": null,
   "id": "388534ea",
   "metadata": {
    "deletable": false,
    "execution": {
     "iopub.execute_input": "2025-10-30T13:10:43.369380Z",
     "iopub.status.busy": "2025-10-30T13:10:43.369204Z",
     "iopub.status.idle": "2025-10-30T13:10:43.373313Z",
     "shell.execute_reply": "2025-10-30T13:10:43.372850Z"
    },
    "tags": []
   },
   "outputs": [],
   "source": [
    "tt_p_val = ...\n",
    "tt_p_val"
   ]
  },
  {
   "cell_type": "code",
   "execution_count": null,
   "id": "d7418908",
   "metadata": {
    "deletable": false,
    "editable": false
   },
   "outputs": [],
   "source": [
    "grader.check(\"p1.9\")"
   ]
  },
  {
   "cell_type": "markdown",
   "id": "7c8db704",
   "metadata": {
    "deletable": false,
    "editable": false
   },
   "source": [
    "<!-- BEGIN QUESTION -->\n",
    "\n",
    "#### Part 1.10 Step F: Draw Conclusion (5 pts)\n"
   ]
  },
  {
   "cell_type": "markdown",
   "id": "a891d112",
   "metadata": {
    "deletable": false,
    "editable": false
   },
   "source": [
    "Given the conventional p-value cutoff of 0.05, do we reject or fail to reject the Null Hypothesis?  What conclusions can you draw from Emily Rosa's experiment?"
   ]
  },
  {
   "cell_type": "markdown",
   "id": "83f48546",
   "metadata": {
    "deletable": false,
    "editable": false
   },
   "source": [
    "<hr style=\"margin:0; border: 1px solid #FFBE0A;\"/><font color='#FFBE0A'>Written Answer:</font>"
   ]
  },
  {
   "cell_type": "markdown",
   "id": "ce3388b0",
   "metadata": {
    "deletable": false
   },
   "source": [
    "_Type your answer here, replacing this text._\n"
   ]
  },
  {
   "cell_type": "markdown",
   "id": "57d7984d",
   "metadata": {
    "deletable": false,
    "editable": false
   },
   "source": [
    "<hr style=\"margin:0; border: 1px solid #FFBE0A;\"/>"
   ]
  },
  {
   "cell_type": "markdown",
   "id": "629da9c7",
   "metadata": {
    "deletable": false,
    "editable": false
   },
   "source": [
    "<!-- END QUESTION -->\n",
    "\n",
    "Checkout [this Wikipedia page](https://en.wikipedia.org/wiki/Emily_Rosa) to learn more about Emily Rosa, the youngest person to have a research paper published in a peer reviewed medical journal."
   ]
  },
  {
   "cell_type": "markdown",
   "id": "cf7f6ab8",
   "metadata": {
    "deletable": false,
    "editable": false
   },
   "source": [
    "<hr style=\"margin-bottom: 0px; padding:0; border: 2px solid #500082;\"/>\n"
   ]
  },
  {
   "cell_type": "markdown",
   "id": "521d60e7",
   "metadata": {
    "deletable": false,
    "editable": false
   },
   "source": [
    "## 2. Using TVD as a Test Statistic (40 pts)\n",
    "\n"
   ]
  },
  {
   "cell_type": "markdown",
   "id": "67d2797e",
   "metadata": {
    "deletable": false,
    "editable": false
   },
   "source": [
    "<font color='#B1008E'>\n",
    "    \n",
    "##### Learning objectives\n",
    "- Utilize the TVD Test statistic for comparing distributions\n",
    "- Use simulation and test statistics to reject or fail to reject a null hypothesis\n",
    "</font>"
   ]
  },
  {
   "cell_type": "markdown",
   "id": "dcd9f894",
   "metadata": {
    "deletable": false,
    "editable": false
   },
   "source": [
    "Total variation distance (TVD) is the test statistic that we have used to compare two distributions of categorical data. Recall we define TVD as:\n",
    "\n",
    "$$\\frac{sum( \\mbox{absolute difference in proportion for each category})}{2}$$\n",
    "\n",
    "You may wish to refer to [Chatper 11.2](https://inferentialthinking.com/chapters/11/2/Multiple_Categories.html#a-new-statistic-the-distance-between-two-distributions) and our lecture on [Assessing Models](https://www.cs.williams.edu/~cs104/index.html) if you'd like a refresher on TVD."
   ]
  },
  {
   "cell_type": "markdown",
   "id": "3cbb2adf",
   "metadata": {
    "deletable": false,
    "editable": false
   },
   "source": [
    "**Run the cell below to load in the `covid` table.**  This table is based on data downloaded from the [CDC Data Catalog](https://data.cdc.gov/browse) in May, 2022, when COVID-related deaths in the U.S. reached one million.  The table shows, as proportions, the Race and Hispanic Origin of a random sample of 100 people who have passed away from COVID as proportions.  It also shows the distribution of the U.S. population across those categories."
   ]
  },
  {
   "cell_type": "code",
   "execution_count": null,
   "id": "485b0d8b",
   "metadata": {
    "deletable": false,
    "editable": false,
    "execution": {
     "iopub.execute_input": "2025-10-30T13:10:43.388675Z",
     "iopub.status.busy": "2025-10-30T13:10:43.388438Z",
     "iopub.status.idle": "2025-10-30T13:10:43.401855Z",
     "shell.execute_reply": "2025-10-30T13:10:43.401331Z"
    },
    "tags": []
   },
   "outputs": [],
   "source": [
    "covid = Table.read_table(\"covid-deaths.csv\")\n",
    "covid.show()"
   ]
  },
  {
   "cell_type": "markdown",
   "id": "49343b6f",
   "metadata": {
    "deletable": false,
    "editable": false
   },
   "source": [
    "<!-- BEGIN QUESTION -->\n",
    "\n",
    "#### Part 2.1 Explore the Data (5 pts)\n"
   ]
  },
  {
   "cell_type": "markdown",
   "id": "f8a79889",
   "metadata": {
    "deletable": false,
    "editable": false
   },
   "source": [
    "Create an overlaid bar chart of the \"COVID-19 deaths\" and \"Population\" columns."
   ]
  },
  {
   "cell_type": "code",
   "execution_count": null,
   "id": "1dcafcfd",
   "metadata": {
    "deletable": false,
    "execution": {
     "iopub.execute_input": "2025-10-30T13:10:43.405179Z",
     "iopub.status.busy": "2025-10-30T13:10:43.404933Z",
     "iopub.status.idle": "2025-10-30T13:10:43.721900Z",
     "shell.execute_reply": "2025-10-30T13:10:43.721234Z"
    },
    "tags": []
   },
   "outputs": [],
   "source": [
    "..."
   ]
  },
  {
   "cell_type": "markdown",
   "id": "2beb206a",
   "metadata": {
    "deletable": false,
    "editable": false
   },
   "source": [
    "<!-- END QUESTION -->\n",
    "\n",
    "<!-- BEGIN QUESTION -->\n",
    "\n",
    "#### Part 2.2 What do you see? (5 pts)\n"
   ]
  },
  {
   "cell_type": "markdown",
   "id": "cb5a9db8",
   "metadata": {
    "deletable": false,
    "editable": false
   },
   "source": [
    "What differences can you identify between the two distributions in the bar chart?  In particular, compare the death rates for specific groups in the 100-person sample to the proportions of these groups in the population.  "
   ]
  },
  {
   "cell_type": "markdown",
   "id": "854479ad",
   "metadata": {
    "deletable": false,
    "editable": false
   },
   "source": [
    "<hr style=\"margin:0; border: 1px solid #FFBE0A;\"/><font color='#FFBE0A'>Written Answer:</font>"
   ]
  },
  {
   "cell_type": "markdown",
   "id": "4f0ec187",
   "metadata": {
    "deletable": false
   },
   "source": [
    "_Type your answer here, replacing this text._\n"
   ]
  },
  {
   "cell_type": "markdown",
   "id": "d0fe5688",
   "metadata": {
    "deletable": false,
    "editable": false
   },
   "source": [
    "<hr style=\"margin:0; border: 1px solid #FFBE0A;\"/>"
   ]
  },
  {
   "cell_type": "markdown",
   "id": "2a719683",
   "metadata": {
    "deletable": false,
    "editable": false
   },
   "source": [
    "<!-- END QUESTION -->\n",
    "\n",
    "<!-- BEGIN QUESTION -->\n",
    "\n",
    "#### Part 2.3 Step A: State Your Hypotheses (5 pts)\n"
   ]
  },
  {
   "cell_type": "markdown",
   "id": "aeb3cb3b",
   "metadata": {
    "deletable": false,
    "editable": false
   },
   "source": [
    "We wish to test whether the disproportionate death rates are due to just chance or to other factors.  Define the Null Hypothesis, Alternative Hypothesis, and test statistic in the cell below."
   ]
  },
  {
   "cell_type": "markdown",
   "id": "8c36cbe8",
   "metadata": {
    "deletable": false,
    "editable": false
   },
   "source": [
    "<hr style=\"margin:0; border: 1px solid #FFBE0A;\"/><font color='#FFBE0A'>Written Answer:</font>"
   ]
  },
  {
   "cell_type": "markdown",
   "id": "5ef09ee6",
   "metadata": {
    "deletable": false
   },
   "source": [
    "Type your answer here:\n",
    "\n",
    "* Null Hypothesis:\n",
    "\n",
    "* Alternative Hypothesis:\n",
    "\n",
    "* Test Statistic:\n"
   ]
  },
  {
   "cell_type": "markdown",
   "id": "2fd75c1e",
   "metadata": {
    "deletable": false
   },
   "source": [
    "<hr style=\"margin:0; border: 1px solid #FFBE0A;\"/>"
   ]
  },
  {
   "cell_type": "markdown",
   "id": "d9eb04cf",
   "metadata": {
    "deletable": false,
    "editable": false
   },
   "source": [
    "<!-- END QUESTION -->\n",
    "\n",
    "#### Part 2.4 Steps B & C: Test Statistics (5 pts)\n"
   ]
  },
  {
   "cell_type": "markdown",
   "id": "f5facc09",
   "metadata": {
    "deletable": false,
    "editable": false
   },
   "source": [
    "Write a function `total_variation_distance` that takes as input two distributions and computes the TVD statistic on these two distributions.  \n",
    "\n",
    "**Hint:** We have written this function before in [lecture](https://www.cs.williams.edu/~cs104/lectures/19-hypothesis-testing.html#tvd-statistic-distance-between-two-distributions) -- do not start from scratch! \n",
    " \n",
    "Then use this function to set `observed_covid_test_statistic` to be equal to the observed test statistic for the data in `covid`. "
   ]
  },
  {
   "cell_type": "code",
   "execution_count": null,
   "id": "6491d77c",
   "metadata": {
    "deletable": false,
    "execution": {
     "iopub.execute_input": "2025-10-30T13:10:43.727241Z",
     "iopub.status.busy": "2025-10-30T13:10:43.726964Z",
     "iopub.status.idle": "2025-10-30T13:10:43.731684Z",
     "shell.execute_reply": "2025-10-30T13:10:43.730761Z"
    },
    "tags": []
   },
   "outputs": [],
   "source": [
    "def total_variation_distance(distribution1, distribution2):\n",
    "    ...\n",
    "    \n",
    "observed_covid_test_statistic = ...\n",
    "observed_covid_test_statistic"
   ]
  },
  {
   "cell_type": "code",
   "execution_count": null,
   "id": "acaec839",
   "metadata": {
    "deletable": false,
    "editable": false
   },
   "outputs": [],
   "source": [
    "grader.check(\"p2.4\")"
   ]
  },
  {
   "cell_type": "markdown",
   "id": "d3bb9699",
   "metadata": {
    "deletable": false,
    "editable": false
   },
   "source": [
    "#### Part 2.5 Make Sample (5 pts)\n"
   ]
  },
  {
   "cell_type": "markdown",
   "id": "5d0b8eeb",
   "metadata": {
    "deletable": false,
    "editable": false,
    "tags": []
   },
   "source": [
    "Under the null hypothesis, we'll simulate a sample many times. \n",
    "\n",
    "For our COVID scenario, we take the following steps to obtain **one sample**: We use the distribution from the COVID population and sample from each category in this distribution for a total of `sample_size` times. \n",
    "\n",
    "Use the `sample_proportions` function from our library to sample from the population in the `covid` table. "
   ]
  },
  {
   "cell_type": "code",
   "execution_count": null,
   "id": "8c286137",
   "metadata": {
    "deletable": false,
    "execution": {
     "iopub.execute_input": "2025-10-30T13:10:43.746679Z",
     "iopub.status.busy": "2025-10-30T13:10:43.746441Z",
     "iopub.status.idle": "2025-10-30T13:10:43.749734Z",
     "shell.execute_reply": "2025-10-30T13:10:43.749196Z"
    },
    "tags": []
   },
   "outputs": [],
   "source": [
    "def sample_covid_proportions(sample_size): \n",
    "    population_array = ...\n",
    "    ..."
   ]
  },
  {
   "cell_type": "markdown",
   "id": "3dc9d15d",
   "metadata": {
    "deletable": false,
    "editable": false
   },
   "source": [
    "With a really large sample size, we should have the sampled proportions be approximately equal to the population. Run the following two cells to check that your function satisfies this. "
   ]
  },
  {
   "cell_type": "code",
   "execution_count": null,
   "id": "c0f3e90b",
   "metadata": {
    "deletable": false,
    "editable": false,
    "execution": {
     "iopub.execute_input": "2025-10-30T13:10:43.752625Z",
     "iopub.status.busy": "2025-10-30T13:10:43.752214Z",
     "iopub.status.idle": "2025-10-30T13:10:43.756783Z",
     "shell.execute_reply": "2025-10-30T13:10:43.756015Z"
    },
    "tags": []
   },
   "outputs": [],
   "source": [
    "# One sample with a large sample size. \n",
    "sampled = sample_covid_proportions(100000)\n",
    "sampled"
   ]
  },
  {
   "cell_type": "code",
   "execution_count": null,
   "id": "177a9e7b",
   "metadata": {
    "deletable": false,
    "editable": false
   },
   "outputs": [],
   "source": [
    "grader.check(\"p2.5\")"
   ]
  },
  {
   "cell_type": "markdown",
   "id": "2336c239",
   "metadata": {
    "deletable": false,
    "editable": false
   },
   "source": [
    "#### Part 2.6 Step D: Create Sample and Compute Test Statistic Many Times (5 pts)\n"
   ]
  },
  {
   "cell_type": "markdown",
   "id": "b5185b79",
   "metadata": {
    "deletable": false,
    "editable": false
   },
   "source": [
    "Great! We've implemented TVD (the test statistic) and a way to sample from the population. \n",
    "\n",
    "However, we can simplify our test statistic function here. We know that for every sample (whether that sample is the observed sample or a sample simulated from the null hypothesis) that we will calculate the TVD between the sample and and the `\"Population\"` from the `covid` table. "
   ]
  },
  {
   "cell_type": "code",
   "execution_count": null,
   "id": "41fe71af",
   "metadata": {
    "deletable": false,
    "editable": false,
    "execution": {
     "iopub.execute_input": "2025-10-30T13:10:43.772493Z",
     "iopub.status.busy": "2025-10-30T13:10:43.772265Z",
     "iopub.status.idle": "2025-10-30T13:10:43.775177Z",
     "shell.execute_reply": "2025-10-30T13:10:43.774670Z"
    },
    "tags": []
   },
   "outputs": [],
   "source": [
    "# Run this function\n",
    "def covid_tvd_statistic(sample):\n",
    "    \"\"\"\n",
    "    Returns the total variation distance between the sample and population\n",
    "    \"\"\"\n",
    "    return total_variation_distance(sample, covid.column(\"Population\"))"
   ]
  },
  {
   "cell_type": "markdown",
   "id": "dd0a9e5f",
   "metadata": {
    "deletable": false,
    "editable": false
   },
   "source": [
    "To check this function, we'll combine the following two facts (1) when the sample size is large, the sample is close to the population and (2) when two distributions are very similar TVD=0. \n",
    "\n",
    "Run the following cell and confirm that the output of `covid_tvd_statistic` is close to 0. "
   ]
  },
  {
   "cell_type": "code",
   "execution_count": null,
   "id": "a70b4713",
   "metadata": {
    "deletable": false,
    "editable": false,
    "execution": {
     "iopub.execute_input": "2025-10-30T13:10:43.778027Z",
     "iopub.status.busy": "2025-10-30T13:10:43.777703Z",
     "iopub.status.idle": "2025-10-30T13:10:43.781893Z",
     "shell.execute_reply": "2025-10-30T13:10:43.781396Z"
    },
    "tags": []
   },
   "outputs": [],
   "source": [
    "sample = sample_covid_proportions(100000)\n",
    "covid_tvd_statistic(sample)"
   ]
  },
  {
   "cell_type": "markdown",
   "id": "126b2b89",
   "metadata": {
    "deletable": false,
    "editable": false
   },
   "source": [
    "We're now ready to run the simulation under the Null Hypothesis. \n",
    "\n",
    "We'll use the `simulate_sample_statistic()` function from our inference library and combine this with the functions we implemented above.  \n",
    "\n",
    "*Hint:* Go back to the beginning of the problem and read the description to get what the actual observed `sample_size` is. "
   ]
  },
  {
   "cell_type": "code",
   "execution_count": null,
   "id": "4674a94f",
   "metadata": {
    "deletable": false,
    "execution": {
     "iopub.execute_input": "2025-10-30T13:10:43.784540Z",
     "iopub.status.busy": "2025-10-30T13:10:43.784336Z",
     "iopub.status.idle": "2025-10-30T13:10:43.992114Z",
     "shell.execute_reply": "2025-10-30T13:10:43.991410Z"
    },
    "tags": []
   },
   "outputs": [],
   "source": [
    "num_trials = 10000\n",
    "#Read the description from the original problem to get the sample size \n",
    "sample_size = ...\n",
    "\n",
    "simulated_covid_test_statistcs = simulate_sample_statistic(...,\n",
    "                                                           sample_size,\n",
    "                                                           ...,\n",
    "                                                           num_trials)\n"
   ]
  },
  {
   "cell_type": "code",
   "execution_count": null,
   "id": "18515e5a",
   "metadata": {
    "deletable": false,
    "editable": false
   },
   "outputs": [],
   "source": [
    "grader.check(\"p2.6\")"
   ]
  },
  {
   "cell_type": "markdown",
   "id": "79085071",
   "metadata": {
    "deletable": false,
    "editable": false
   },
   "source": [
    "Run the cell below to plot a histogram of your simulated test statistics, as well as the observed value of the test statistic."
   ]
  },
  {
   "cell_type": "code",
   "execution_count": null,
   "id": "a0d7b607",
   "metadata": {
    "deletable": false,
    "editable": false,
    "execution": {
     "iopub.execute_input": "2025-10-30T13:10:44.008868Z",
     "iopub.status.busy": "2025-10-30T13:10:44.008527Z",
     "iopub.status.idle": "2025-10-30T13:10:44.246451Z",
     "shell.execute_reply": "2025-10-30T13:10:44.245524Z"
    },
    "tags": []
   },
   "outputs": [],
   "source": [
    "# Plot the results\n",
    "plot = Table().with_column(\"Simulated Covid TVDs\", simulated_covid_test_statistcs).hist()\n",
    "plot.dot(observed_covid_test_statistic)"
   ]
  },
  {
   "cell_type": "markdown",
   "id": "6236ab18",
   "metadata": {
    "deletable": false,
    "editable": false
   },
   "source": [
    "#### Part 2.7 Step E: Compute p-value (5 pts)\n"
   ]
  },
  {
   "cell_type": "markdown",
   "id": "07c7fc1a",
   "metadata": {
    "deletable": false,
    "editable": false
   },
   "source": [
    "Use the function `empirical_pvalue` and the array of simulated statistics to calculate the p-value of your hypothesis test. Make sure that this number is consistent with what you observed in the histogram above. \n",
    "\n"
   ]
  },
  {
   "cell_type": "code",
   "execution_count": null,
   "id": "e61bacf2",
   "metadata": {
    "deletable": false,
    "execution": {
     "iopub.execute_input": "2025-10-30T13:10:44.249378Z",
     "iopub.status.busy": "2025-10-30T13:10:44.249193Z",
     "iopub.status.idle": "2025-10-30T13:10:44.252649Z",
     "shell.execute_reply": "2025-10-30T13:10:44.252269Z"
    },
    "tags": []
   },
   "outputs": [],
   "source": [
    "covid_p_value = ...\n",
    "covid_p_value"
   ]
  },
  {
   "cell_type": "code",
   "execution_count": null,
   "id": "1a970650",
   "metadata": {
    "deletable": false,
    "editable": false
   },
   "outputs": [],
   "source": [
    "grader.check(\"p2.7\")"
   ]
  },
  {
   "cell_type": "markdown",
   "id": "54efa19a",
   "metadata": {
    "deletable": false,
    "editable": false
   },
   "source": [
    "<!-- BEGIN QUESTION -->\n",
    "\n",
    "#### Part 2.8 Step F: Draw Conclusion (5 pts)\n"
   ]
  },
  {
   "cell_type": "markdown",
   "id": "c541632b",
   "metadata": {
    "deletable": false,
    "editable": false
   },
   "source": [
    " What can you conclude about COVID deaths of various ethnic groups? Explain your answer using the results of your hypothesis test. Assume a p-value cutoff of 0.05. "
   ]
  },
  {
   "cell_type": "markdown",
   "id": "225bb26d",
   "metadata": {
    "deletable": false,
    "editable": false
   },
   "source": [
    "<hr style=\"margin:0; border: 1px solid #FFBE0A;\"/><font color='#FFBE0A'>Written Answer:</font>"
   ]
  },
  {
   "cell_type": "markdown",
   "id": "3c157bcc",
   "metadata": {
    "deletable": false
   },
   "source": [
    "_Type your answer here, replacing this text._\n"
   ]
  },
  {
   "cell_type": "markdown",
   "id": "3a815892",
   "metadata": {
    "deletable": false,
    "editable": false
   },
   "source": [
    "<hr style=\"margin:0; border: 1px solid #FFBE0A;\"/>"
   ]
  },
  {
   "cell_type": "markdown",
   "id": "890d2a32",
   "metadata": {
    "deletable": false,
    "editable": false
   },
   "source": [
    "<!-- END QUESTION -->\n",
    "\n",
    "<hr style=\"margin-bottom: 0px; padding:0; border: 2px solid #500082;\"/>\n"
   ]
  },
  {
   "cell_type": "markdown",
   "id": "b759481e",
   "metadata": {
    "deletable": false,
    "editable": false,
    "tags": []
   },
   "source": [
    "## 3. John Snow's Natural Experiment (40 pts)\n",
    "\n"
   ]
  },
  {
   "cell_type": "markdown",
   "id": "b9981fdd",
   "metadata": {
    "deletable": false,
    "editable": false
   },
   "source": [
    "<font color='#B1008E'>\n",
    "\n",
    "##### Learning objectives\n",
    "- Practice permutation testing to answer a question about data.\n",
    "</font>"
   ]
  },
  {
   "cell_type": "markdown",
   "id": "558d3468",
   "metadata": {
    "deletable": false,
    "editable": false,
    "jp-MarkdownHeadingCollapsed": true,
    "tags": []
   },
   "source": [
    "We'll now revisit one of our first examples of causality: John Snow's natural experiment to identify the cause of cholera.\n",
    "\n",
    "Recall that in 19th century London, there were two theories for how cholera spreads:\n",
    "\n",
    "* **Miasma theory**: cholera caused by particles in the air, or \"miasmata\", which arise from decomposing matter\n",
    "\n",
    "* **Germ theory**: cholera caused germ cell that had not yet been identified, but was transmitted through food or drink\n",
    "\n",
    "John Snow believed in germ theory, contrary the prevailing wisdom of miasma hypothesis at the time. \n",
    "After his investigation of cholera outbreak due to the contaminated Broad Stree pump, John Snow realized that a natural experiment existed that would enable him to evaluate germ theory.  Below is a map of London indicating the water supplier servicing each part of the city:  \n",
    "\n",
    "<img src=\"https://inferentialthinking.com/_images/snow_map2.jpg\" width=50%></img>\n",
    "\n",
    "Snow observed\n",
    "that there was no systematic difference between the people who were supplied by S&V and those supplied by Lambeth:\n",
    "\n",
    "> Each company supplies both rich and poor, both large houses and small; there is no difference either in the condition or occupation of the persons receiving the water of the different Companies … there is no difference whatever in the houses or the people receiving the supply of the two Water Companies, or in any of the physical conditions with which they are surrounded …\n",
    "\n",
    "However, there was a key difference in the water supply: \n",
    "\n",
    "> one group being supplied with water containing the sewage of London, and amongst it, whatever might have come from the cholera patients, the other group having water quite free from impurity.\n",
    "\n",
    "Specifically:\n",
    "\n",
    "* the Southwark & Vauxhaul (S&V) company drew water from the Thames **below** the city's sewage discharge.\n",
    "* the Lambeth company drew water from the Thames **above** the city's sewage discharge.\n",
    "\n",
    "Your job is to use the data Snow collected to prove or disprove that tainted water causes cholera.   We'll use the same hypothesis testing steps we've used for each of the previous questions. "
   ]
  },
  {
   "cell_type": "markdown",
   "id": "2613d385",
   "metadata": {
    "deletable": false,
    "editable": false
   },
   "source": [
    "#### Part 3.1 Exploring the Data (0 pts)\n",
    "\n"
   ]
  },
  {
   "cell_type": "markdown",
   "id": "40f4ed55",
   "metadata": {
    "deletable": false,
    "editable": false
   },
   "source": [
    "In this first part, explore the following data. We will not grade this part, but examine the contents of the table, transform/visualize it, etc. to help you understand the problem we're solving.\n",
    "\n",
    "The following cell loads our data.  Each row in our table contains the water company for one individual, and whether or not that individual died of Cholera.  \n",
    "\n",
    "In the `Cholera death` column, `0` indicates the individual *did not* die of Cholera during the time of Snow's natural experiment whereas `1` indicates the individual died of Cholera.\n",
    "\n",
    "Our data is based on Snow's original data, with two simplifications: we assume only one person lives in each household in Snow's data, and we reduce the number of measurements from ~65,000 to 5,000 to ensure our simulations run in a reasonable amount of time."
   ]
  },
  {
   "cell_type": "code",
   "execution_count": null,
   "id": "74520e6d",
   "metadata": {
    "deletable": false,
    "editable": false,
    "execution": {
     "iopub.execute_input": "2025-10-30T13:10:44.266624Z",
     "iopub.status.busy": "2025-10-30T13:10:44.266458Z",
     "iopub.status.idle": "2025-10-30T13:10:44.275316Z",
     "shell.execute_reply": "2025-10-30T13:10:44.274680Z"
    },
    "tags": []
   },
   "outputs": [],
   "source": [
    "# Load the small data set of 5,000 people\n",
    "snow = Table.read_table(\"snow_data_small.csv\")"
   ]
  },
  {
   "cell_type": "code",
   "execution_count": null,
   "id": "85136300",
   "metadata": {
    "deletable": false,
    "execution": {
     "iopub.execute_input": "2025-10-30T13:10:44.277959Z",
     "iopub.status.busy": "2025-10-30T13:10:44.277680Z",
     "iopub.status.idle": "2025-10-30T13:10:44.281202Z",
     "shell.execute_reply": "2025-10-30T13:10:44.280762Z"
    },
    "tags": []
   },
   "outputs": [],
   "source": [
    "# Explore the data here \n",
    "..."
   ]
  },
  {
   "cell_type": "markdown",
   "id": "5d33d92a",
   "metadata": {
    "deletable": false,
    "editable": false
   },
   "source": [
    "<!-- BEGIN QUESTION -->\n",
    "\n",
    "#### Part 3.2 Step A: Null And Alt Hypothesis (5 pts)\n",
    "\n"
   ]
  },
  {
   "cell_type": "markdown",
   "id": "2927beee",
   "metadata": {
    "deletable": false,
    "editable": false
   },
   "source": [
    "State the Null and Alternative Hypothesis for Snow's experiment.  Keep in mind that you must be able to simulate the Null Hypothesis to generate random samples.  \n",
    "\n",
    "*Hint:*  If you have trouble getting started, you may wish to review [Chapter 12](https://inferentialthinking.com/chapters/12/2/Causality.html) and our lectures on Randomized Controlled Experiments and Causality.\n"
   ]
  },
  {
   "cell_type": "markdown",
   "id": "ccf7a6db",
   "metadata": {
    "deletable": false,
    "editable": false
   },
   "source": [
    "<hr style=\"margin:0; border: 1px solid #FFBE0A;\"/><font color='#FFBE0A'>Written Answer:</font>"
   ]
  },
  {
   "cell_type": "markdown",
   "id": "23f61a02",
   "metadata": {
    "deletable": false
   },
   "source": [
    "Type your answer here:\n",
    "\n",
    "* Null Hypothesis:  ...\n",
    "\n",
    "* Alternative Hypothesis:  ...\n"
   ]
  },
  {
   "cell_type": "markdown",
   "id": "823cb2b1",
   "metadata": {
    "deletable": false
   },
   "source": [
    "<hr style=\"margin:0; border: 1px solid #FFBE0A;\"/>"
   ]
  },
  {
   "cell_type": "markdown",
   "id": "c34a1397",
   "metadata": {
    "deletable": false,
    "editable": false,
    "tags": []
   },
   "source": [
    "<!-- END QUESTION -->\n",
    "\n",
    "#### Part 3.3 Data Type for Hypothesis Test (5 pts)\n",
    "\n",
    "We have looked at four types hypothesis tests in our general framework, each tailored to a specific type of problem.  These are summarized in the following slide from [lecture](https://docs.google.com/presentation/d/1hYuDX5GI-veOwxOqDRnAVLGwPsg7f8ANc3gzbNmh4eM)."
   ]
  },
  {
   "cell_type": "markdown",
   "id": "570ba1f8",
   "metadata": {
    "deletable": false,
    "editable": false
   },
   "source": [
    "<img src=\"hypothesis-testing.png\" width=80%></img>"
   ]
  },
  {
   "cell_type": "markdown",
   "id": "bf54c1c4",
   "metadata": {
    "deletable": false,
    "editable": false
   },
   "source": [
    "In the cell below, set `data_type` to the number below that reflects the type of data we have in Snow's experiment:\n",
    "\n",
    "1. Single Category\n",
    "2. Multiple Categories\n",
    "3. Numeric\n",
    "4. Two groups"
   ]
  },
  {
   "cell_type": "code",
   "execution_count": null,
   "id": "3b4af96c",
   "metadata": {
    "deletable": false,
    "execution": {
     "iopub.execute_input": "2025-10-30T13:10:44.284410Z",
     "iopub.status.busy": "2025-10-30T13:10:44.284263Z",
     "iopub.status.idle": "2025-10-30T13:10:44.286544Z",
     "shell.execute_reply": "2025-10-30T13:10:44.286088Z"
    },
    "tags": []
   },
   "outputs": [],
   "source": [
    "data_type = ..."
   ]
  },
  {
   "cell_type": "code",
   "execution_count": null,
   "id": "36219129",
   "metadata": {
    "deletable": false,
    "editable": false
   },
   "outputs": [],
   "source": [
    "grader.check(\"p3.3\")"
   ]
  },
  {
   "cell_type": "markdown",
   "id": "6a3ad524",
   "metadata": {
    "deletable": false,
    "editable": false,
    "tags": []
   },
   "source": [
    "<!-- BEGIN QUESTION -->\n",
    "\n",
    "#### Part 3.4 Step B & C: Test Statistic for Observed Data (5 pts)\n",
    "\n"
   ]
  },
  {
   "cell_type": "markdown",
   "id": "8836dd86",
   "metadata": {
    "deletable": false,
    "editable": false
   },
   "source": [
    "We are interested in the difference in the proportion of deaths for the two water companies.  Deaths are indicated by 1's in our \"Cholera death\" column, and survival by 0's.  With that encoding, the proportion of deaths recorded in the \"Cholera death\" column for a water company is also the mean of the values in the \"Cholera death\" column for that water company.  As we did in lecture, we can thus use the `abs_difference_of_means` function from our library as the test statistic. \n",
    "\n",
    "In the cell below, compute this test statistic for Snow's observed data."
   ]
  },
  {
   "cell_type": "code",
   "execution_count": null,
   "id": "e6a19ee9",
   "metadata": {
    "deletable": false,
    "execution": {
     "iopub.execute_input": "2025-10-30T13:10:44.299023Z",
     "iopub.status.busy": "2025-10-30T13:10:44.298853Z",
     "iopub.status.idle": "2025-10-30T13:10:44.346909Z",
     "shell.execute_reply": "2025-10-30T13:10:44.346434Z"
    },
    "tags": []
   },
   "outputs": [],
   "source": [
    "snow_observed_statistic = ...\n",
    "snow_observed_statistic"
   ]
  },
  {
   "cell_type": "code",
   "execution_count": null,
   "id": "4f352248",
   "metadata": {
    "deletable": false,
    "editable": false
   },
   "outputs": [],
   "source": [
    "grader.check(\"p3.4\")"
   ]
  },
  {
   "cell_type": "markdown",
   "id": "6c815c2b",
   "metadata": {
    "deletable": false,
    "editable": false
   },
   "source": [
    "<!-- END QUESTION -->\n",
    "\n",
    "#### Part 3.5 Permutation samples (5 pts)\n"
   ]
  },
  {
   "cell_type": "markdown",
   "id": "bcf4e5c2",
   "metadata": {
    "deletable": false,
    "editable": false
   },
   "source": [
    "In order to generate samples, we'll use our `permutation_sample` function. Read the documentation for this function and choose the appropriate `group_column_label`. Inspect the table that is the output from `permutation_sample` and make sure it makes sense to you. "
   ]
  },
  {
   "cell_type": "code",
   "execution_count": null,
   "id": "2398bb8b",
   "metadata": {
    "deletable": false,
    "execution": {
     "iopub.execute_input": "2025-10-30T13:10:44.354496Z",
     "iopub.status.busy": "2025-10-30T13:10:44.354332Z",
     "iopub.status.idle": "2025-10-30T13:10:44.364698Z",
     "shell.execute_reply": "2025-10-30T13:10:44.364297Z"
    },
    "tags": []
   },
   "outputs": [],
   "source": [
    "group_column_label = ...\n",
    "sample = permutation_sample(snow, group_column_label)\n",
    "sample"
   ]
  },
  {
   "cell_type": "code",
   "execution_count": null,
   "id": "4bfac99d",
   "metadata": {
    "deletable": false,
    "editable": false
   },
   "outputs": [],
   "source": [
    "grader.check(\"p3.5\")"
   ]
  },
  {
   "cell_type": "markdown",
   "id": "17a17def",
   "metadata": {
    "deletable": false,
    "editable": false
   },
   "source": [
    "<!-- BEGIN QUESTION -->\n",
    "\n",
    "#### Part 3.6 Step D: Simulate samples (5 pts)\n"
   ]
  },
  {
   "cell_type": "markdown",
   "id": "37a95d50",
   "metadata": {
    "deletable": false,
    "editable": false
   },
   "source": [
    "Use `simulate_permutation_statistic` from our inference library to simulate many samples from the null hypothesis. "
   ]
  },
  {
   "cell_type": "markdown",
   "id": "e745214a",
   "metadata": {
    "deletable": false,
    "editable": false
   },
   "source": [
    "Let's start with just a few trials so we can debug our function. Does the output look reasonable? "
   ]
  },
  {
   "cell_type": "code",
   "execution_count": null,
   "id": "0e6c7ab6",
   "metadata": {
    "deletable": false,
    "execution": {
     "iopub.execute_input": "2025-10-30T13:10:44.377369Z",
     "iopub.status.busy": "2025-10-30T13:10:44.377024Z",
     "iopub.status.idle": "2025-10-30T13:10:44.703295Z",
     "shell.execute_reply": "2025-10-30T13:10:44.702814Z"
    },
    "tags": []
   },
   "outputs": [],
   "source": [
    "small_snow_stats = simulate_permutation_statistic(..., ..., ..., 5)\n",
    "small_snow_stats\n"
   ]
  },
  {
   "cell_type": "markdown",
   "id": "1397c1cb",
   "metadata": {
    "deletable": false,
    "editable": false
   },
   "source": [
    "<!-- END QUESTION -->\n",
    "\n",
    "#### Part 3.7 Step D: Simulate Many Samples (5 pts)\n"
   ]
  },
  {
   "cell_type": "markdown",
   "id": "f63a76b6",
   "metadata": {
    "deletable": false,
    "editable": false
   },
   "source": [
    "Now, run the simulation for 1000 trials (this may take a few minutes to run)."
   ]
  },
  {
   "cell_type": "code",
   "execution_count": null,
   "id": "b031c132",
   "metadata": {
    "deletable": false,
    "execution": {
     "iopub.execute_input": "2025-10-30T13:10:44.706557Z",
     "iopub.status.busy": "2025-10-30T13:10:44.706240Z",
     "iopub.status.idle": "2025-10-30T13:11:42.193706Z",
     "shell.execute_reply": "2025-10-30T13:11:42.193222Z"
    },
    "tags": []
   },
   "outputs": [],
   "source": [
    "snow_simulated_statistics = ..."
   ]
  },
  {
   "cell_type": "code",
   "execution_count": null,
   "id": "25c775f7",
   "metadata": {
    "deletable": false,
    "execution": {
     "iopub.execute_input": "2025-10-30T13:11:42.196337Z",
     "iopub.status.busy": "2025-10-30T13:11:42.196145Z",
     "iopub.status.idle": "2025-10-30T13:11:42.432124Z",
     "shell.execute_reply": "2025-10-30T13:11:42.431509Z"
    },
    "tags": []
   },
   "outputs": [],
   "source": [
    "# Run this cell to plot \n",
    "results = Table().with_columns('Test Statistic', snow_simulated_statistics)\n",
    "plot = results.hist()\n",
    "plot.dot(snow_observed_statistic)"
   ]
  },
  {
   "cell_type": "code",
   "execution_count": null,
   "id": "16c5d2c0",
   "metadata": {
    "deletable": false,
    "editable": false
   },
   "outputs": [],
   "source": [
    "grader.check(\"p3.7\")"
   ]
  },
  {
   "cell_type": "markdown",
   "id": "0f27c35a",
   "metadata": {
    "deletable": false,
    "editable": false
   },
   "source": [
    "#### Part 3.8 Step E: Compute p-value (5 pts)\n"
   ]
  },
  {
   "cell_type": "markdown",
   "id": "ed471807",
   "metadata": {
    "deletable": false,
    "editable": false
   },
   "source": [
    "Compute the p-value for your experiment using `empirical_pvalue`. "
   ]
  },
  {
   "cell_type": "code",
   "execution_count": null,
   "id": "91b361ef",
   "metadata": {
    "deletable": false,
    "execution": {
     "iopub.execute_input": "2025-10-30T13:11:42.447117Z",
     "iopub.status.busy": "2025-10-30T13:11:42.446918Z",
     "iopub.status.idle": "2025-10-30T13:11:42.450637Z",
     "shell.execute_reply": "2025-10-30T13:11:42.450142Z"
    },
    "tags": []
   },
   "outputs": [],
   "source": [
    "snow_pvalue = ...\n",
    "snow_pvalue"
   ]
  },
  {
   "cell_type": "markdown",
   "id": "7b8bbdda",
   "metadata": {
    "deletable": false,
    "editable": false
   },
   "source": [
    "<!-- BEGIN QUESTION -->\n",
    "\n",
    "#### Part 3.9 Step F: Draw Conclusion (5 pts)\n"
   ]
  },
  {
   "cell_type": "markdown",
   "id": "798f437b",
   "metadata": {
    "deletable": false,
    "editable": false
   },
   "source": [
    "State the conclusions of your experiment."
   ]
  },
  {
   "cell_type": "markdown",
   "id": "2a1f5d2c",
   "metadata": {
    "deletable": false,
    "editable": false
   },
   "source": [
    "<hr style=\"margin:0; border: 1px solid #FFBE0A;\"/><font color='#FFBE0A'>Written Answer:</font>"
   ]
  },
  {
   "cell_type": "markdown",
   "id": "9b2995f6",
   "metadata": {
    "deletable": false
   },
   "source": [
    "_Type your answer here, replacing this text._\n"
   ]
  },
  {
   "cell_type": "markdown",
   "id": "03b7186f",
   "metadata": {
    "deletable": false,
    "editable": false
   },
   "source": [
    "<hr style=\"margin:0; border: 1px solid #FFBE0A;\"/>"
   ]
  },
  {
   "cell_type": "markdown",
   "id": "2d622967",
   "metadata": {
    "deletable": false,
    "editable": false
   },
   "source": [
    "<!-- END QUESTION -->\n",
    "\n",
    "<hr class=\"m-0\" style=\"border: 3px solid #500082;\"/>\n",
    "\n",
    "# You're Done!\n",
    "Follow these steps to submit your work:\n",
    "* Run the tests and verify that they pass as you expect. \n",
    "* Choose **Save Notebook** from the **File** menu.\n",
    "* **Run the final cell** and click the link below to download the zip file. \n",
    "\n",
    "Once you have downloaded that file, go to [Gradescope](https://www.gradescope.com/) and submit the zip file to \n",
    "the corresponding assignment. For Lab N, the assignment will be called \"Lab N Autograder\".\n",
    "\n",
    "Once you have submitted, your Gradescope assignment should show you passing all the tests you passed in your assignment notebook.\n"
   ]
  },
  {
   "cell_type": "markdown",
   "id": "36843ad1",
   "metadata": {
    "deletable": false,
    "editable": false
   },
   "source": [
    "## Submission\n",
    "\n",
    "Make sure you have run all cells in your notebook in order before running the cell below, so that all images/graphs appear in the output. The cell below will generate a zip file for you to submit. **Please save before exporting!**"
   ]
  },
  {
   "cell_type": "code",
   "execution_count": null,
   "id": "6e494329",
   "metadata": {
    "deletable": false,
    "editable": false
   },
   "outputs": [],
   "source": [
    "# Save your notebook first, then run this cell to export your submission.\n",
    "grader.export(pdf=False, run_tests=True)"
   ]
  },
  {
   "cell_type": "markdown",
   "id": "d177f604",
   "metadata": {},
   "source": [
    " "
   ]
  }
 ],
 "metadata": {
  "kernelspec": {
   "display_name": "Python 3 (ipykernel)",
   "language": "python",
   "name": "python3"
  },
  "language_info": {
   "codemirror_mode": {
    "name": "ipython",
    "version": 3
   },
   "file_extension": ".py",
   "mimetype": "text/x-python",
   "name": "python",
   "nbconvert_exporter": "python",
   "pygments_lexer": "ipython3",
   "version": "3.11.13"
  },
  "otter": {
   "OK_FORMAT": true,
   "tests": {
    "p1.2": {
     "has_hidden": true,
     "name": "p1.2",
     "points": 5,
     "suites": [
      {
       "cases": [
        {
         "code": ">>> check_str('0 <= tt_expected_correct_proportion <= 1', locals())\n",
         "failure_message": "check(0 <= tt_expected_correct_proportion <= 1)",
         "hidden": false,
         "locked": false,
         "submit_only": false,
         "success_message": "check(0 <= tt_expected_correct_proportion <= 1)"
        }
       ],
       "scored": true,
       "setup": "",
       "teardown": "",
       "type": "doctest"
      }
     ]
    },
    "p1.3": {
     "has_hidden": false,
     "name": "p1.3",
     "points": 5,
     "suites": [
      {
       "cases": [
        {
         "code": ">>> check_str('tt_test_statistic(0.5) == 0', locals())\n",
         "failure_message": "check(tt_test_statistic(0.5) == 0)",
         "hidden": false,
         "locked": false,
         "submit_only": false,
         "success_message": "check(tt_test_statistic(0.5) == 0)"
        },
        {
         "code": ">>> check_str('tt_test_statistic(0.4) == approx(0.10)', locals())\n",
         "failure_message": "check(tt_test_statistic(0.4) == approx(0.10))",
         "hidden": false,
         "locked": false,
         "submit_only": false,
         "success_message": "check(tt_test_statistic(0.4) == approx(0.10))"
        },
        {
         "code": ">>> check_str('tt_test_statistic(0.6) == approx(0.10)', locals())\n",
         "failure_message": "check(tt_test_statistic(0.6) == approx(0.10))",
         "hidden": false,
         "locked": false,
         "submit_only": false,
         "success_message": "check(tt_test_statistic(0.6) == approx(0.10))"
        }
       ],
       "scored": true,
       "setup": "",
       "teardown": "",
       "type": "doctest"
      }
     ]
    },
    "p1.4": {
     "has_hidden": true,
     "name": "p1.4",
     "points": 5,
     "suites": [
      {
       "cases": [
        {
         "code": ">>> # FAILED: observed_tt_test_statistic should be a difference of proportions and in the range 0-1.\n>>> check_str('0 <= observed_tt_test_statistic <= 1', locals())\n",
         "failure_message": "check(0 <= observed_tt_test_statistic <= 1)",
         "hidden": false,
         "locked": false,
         "submit_only": false,
         "success_message": "check(0 <= observed_tt_test_statistic <= 1)"
        }
       ],
       "scored": true,
       "setup": "",
       "teardown": "",
       "type": "doctest"
      }
     ]
    },
    "p1.5": {
     "has_hidden": true,
     "name": "p1.5",
     "points": 5,
     "suites": [
      {
       "cases": [
        {
         "code": ">>> check_str('type(tt_null_model_proportions) == np.ndarray', locals())\n",
         "failure_message": "Make sure tt_null_model_proportions is an array.",
         "hidden": false,
         "locked": false,
         "submit_only": false,
         "success_message": "check(type(tt_null_model_proportions) == np.ndarray)"
        },
        {
         "code": ">>> check_str('len(tt_null_model_proportions) == 2', locals())\n",
         "failure_message": "check(len(tt_null_model_proportions) == 2)",
         "hidden": false,
         "locked": false,
         "submit_only": false,
         "success_message": "check(len(tt_null_model_proportions) == 2)"
        },
        {
         "code": ">>> check_str('0 <= tt_null_model_proportions.item(0) <= 1', locals())\n",
         "failure_message": "check(0 <= tt_null_model_proportions.item(0) <= 1)",
         "hidden": false,
         "locked": false,
         "submit_only": false,
         "success_message": "check(0 <= tt_null_model_proportions.item(0) <= 1)"
        },
        {
         "code": ">>> check_str('sum(tt_null_model_proportions) == 1.0', locals())\n",
         "failure_message": "check(sum(tt_null_model_proportions) == 1.0)",
         "hidden": false,
         "locked": false,
         "submit_only": false,
         "success_message": "check(sum(tt_null_model_proportions) == 1.0)"
        }
       ],
       "scored": true,
       "setup": "",
       "teardown": "",
       "type": "doctest"
      }
     ]
    },
    "p1.6": {
     "has_hidden": true,
     "name": "p1.6",
     "points": 5,
     "suites": [
      {
       "cases": [
        {
         "code": ">>> check_str('type(one_tt_sample(210)) == float', locals())\n",
         "failure_message": "Be sure your sample is the proportion of correct answers.  Eg: a single number between 0 and 1.",
         "hidden": false,
         "locked": false,
         "submit_only": false,
         "success_message": "check(type(one_tt_sample(210)) == float)"
        },
        {
         "code": ">>> check_str('0 <= one_tt_sample(210) <= 1', locals())\n",
         "failure_message": "Make sure you are returning a proportion between 0 and 1 from your function.",
         "hidden": false,
         "locked": false,
         "submit_only": false,
         "success_message": "check(0 <= one_tt_sample(210) <= 1)"
        }
       ],
       "scored": true,
       "setup": "",
       "teardown": "",
       "type": "doctest"
      }
     ]
    },
    "p1.7": {
     "has_hidden": true,
     "name": "p1.7",
     "points": 5,
     "suites": [
      {
       "cases": [
        {
         "code": ">>> check_str('len(small_tt_test) == 5', locals())\n",
         "failure_message": "check(len(small_tt_test) == 5)",
         "hidden": false,
         "locked": false,
         "submit_only": false,
         "success_message": "check(len(small_tt_test) == 5)"
        },
        {
         "code": ">>> check_str('0 <= small_tt_test <= 1', locals())\n",
         "failure_message": "check(0 <= small_tt_test <= 1)",
         "hidden": false,
         "locked": false,
         "submit_only": false,
         "success_message": "check(0 <= small_tt_test <= 1)"
        }
       ],
       "scored": true,
       "setup": "",
       "teardown": "",
       "type": "doctest"
      }
     ]
    },
    "p1.8": {
     "has_hidden": true,
     "name": "p1.8",
     "points": 5,
     "suites": [
      {
       "cases": [
        {
         "code": ">>> check_str('len(simulated_tt_statistics) == 1000', locals())\n",
         "failure_message": "check(len(simulated_tt_statistics) == 1000)",
         "hidden": false,
         "locked": false,
         "submit_only": false,
         "success_message": "check(len(simulated_tt_statistics) == 1000)"
        }
       ],
       "scored": true,
       "setup": "",
       "teardown": "",
       "type": "doctest"
      }
     ]
    },
    "p1.9": {
     "has_hidden": true,
     "name": "p1.9",
     "points": 5,
     "suites": [
      {
       "cases": [
        {
         "code": ">>> check_str('0 <= tt_p_val <= 1', locals())\n",
         "failure_message": "check(0 <= tt_p_val <= 1)",
         "hidden": false,
         "locked": false,
         "submit_only": false,
         "success_message": "check(0 <= tt_p_val <= 1)"
        }
       ],
       "scored": true,
       "setup": "",
       "teardown": "",
       "type": "doctest"
      }
     ]
    },
    "p2.4": {
     "has_hidden": true,
     "name": "p2.4",
     "points": 5,
     "suites": [
      {
       "cases": [
        {
         "code": ">>> check_str('0 <= observed_covid_test_statistic <= 1', locals())\n",
         "failure_message": "check(0 <= observed_covid_test_statistic <= 1)",
         "hidden": false,
         "locked": false,
         "submit_only": false,
         "success_message": "check(0 <= observed_covid_test_statistic <= 1)"
        }
       ],
       "scored": true,
       "setup": "",
       "teardown": "",
       "type": "doctest"
      }
     ]
    },
    "p2.5": {
     "has_hidden": true,
     "name": "p2.5",
     "points": 5,
     "suites": [
      {
       "cases": [
        {
         "code": ">>> check_str('sum(sampled) == approx(1.0)', locals())\n",
         "failure_message": "check(sum(sampled) == approx(1.0))",
         "hidden": false,
         "locked": false,
         "submit_only": false,
         "success_message": "check(sum(sampled) == approx(1.0))"
        }
       ],
       "scored": true,
       "setup": "",
       "teardown": "",
       "type": "doctest"
      }
     ]
    },
    "p2.6": {
     "has_hidden": true,
     "name": "p2.6",
     "points": 5,
     "suites": [
      {
       "cases": [
        {
         "code": ">>> check_str('len(simulated_covid_test_statistcs) == 10000', locals())\n",
         "failure_message": "check(len(simulated_covid_test_statistcs) == 10000)",
         "hidden": false,
         "locked": false,
         "submit_only": false,
         "success_message": "check(len(simulated_covid_test_statistcs) == 10000)"
        }
       ],
       "scored": true,
       "setup": "",
       "teardown": "",
       "type": "doctest"
      }
     ]
    },
    "p2.7": {
     "has_hidden": true,
     "name": "p2.7",
     "points": 5,
     "suites": [
      {
       "cases": [
        {
         "code": ">>> check_str('0 <= covid_p_value <= 1', locals())\n",
         "failure_message": "check(0 <= covid_p_value <= 1)",
         "hidden": false,
         "locked": false,
         "submit_only": false,
         "success_message": "check(0 <= covid_p_value <= 1)"
        }
       ],
       "scored": true,
       "setup": "",
       "teardown": "",
       "type": "doctest"
      }
     ]
    },
    "p3.3": {
     "has_hidden": false,
     "name": "p3.3",
     "points": 5,
     "suites": [
      {
       "cases": [
        {
         "code": ">>> check_str('data_type in [1,2,3,4]', locals())\n",
         "failure_message": "check(data_type in [1,2,3,4])",
         "hidden": false,
         "locked": false,
         "submit_only": false,
         "success_message": "check(data_type in [1,2,3,4])"
        },
        {
         "code": ">>> check_str('data_type == 4', locals())\n",
         "failure_message": "Try again!",
         "hidden": false,
         "locked": false,
         "submit_only": false,
         "success_message": "check(data_type == 4)"
        }
       ],
       "scored": true,
       "setup": "",
       "teardown": "",
       "type": "doctest"
      }
     ]
    },
    "p3.4": {
     "has_hidden": false,
     "name": "p3.4",
     "points": 0,
     "suites": [
      {
       "cases": [
        {
         "code": ">>> check_str('0.0 <= snow_observed_statistic <= 0.04', locals())\n",
         "failure_message": "check(0.0 <= snow_observed_statistic <= 0.04)",
         "hidden": false,
         "locked": false,
         "submit_only": false,
         "success_message": "check(0.0 <= snow_observed_statistic <= 0.04)"
        }
       ],
       "scored": true,
       "setup": "",
       "teardown": "",
       "type": "doctest"
      }
     ]
    },
    "p3.5": {
     "has_hidden": true,
     "name": "p3.5",
     "points": 5,
     "suites": [
      {
       "cases": [
        {
         "code": ">>> check_str('type(group_column_label) == str', locals())\n",
         "failure_message": "check(type(group_column_label) == str)",
         "hidden": false,
         "locked": false,
         "submit_only": false,
         "success_message": "check(type(group_column_label) == str)"
        }
       ],
       "scored": true,
       "setup": "",
       "teardown": "",
       "type": "doctest"
      }
     ]
    },
    "p3.7": {
     "has_hidden": false,
     "name": "p3.7",
     "points": 5,
     "suites": [
      {
       "cases": [
        {
         "code": ">>> check_str('len(snow_simulated_statistics) == 1000', locals())\n",
         "failure_message": "check(len(snow_simulated_statistics) == 1000)",
         "hidden": false,
         "locked": false,
         "submit_only": false,
         "success_message": "check(len(snow_simulated_statistics) == 1000)"
        },
        {
         "code": ">>> check_str('0 <= np.mean(snow_simulated_statistics) <= 0.01', locals())\n",
         "failure_message": "check(0 <= np.mean(snow_simulated_statistics) <= 0.01)",
         "hidden": false,
         "locked": false,
         "submit_only": false,
         "success_message": "check(0 <= np.mean(snow_simulated_statistics) <= 0.01)"
        }
       ],
       "scored": true,
       "setup": "",
       "teardown": "",
       "type": "doctest"
      }
     ]
    },
    "p3.8": {
     "has_hidden": true,
     "name": "p3.8",
     "points": 5,
     "suites": [
      {
       "cases": [],
       "scored": true,
       "setup": "",
       "teardown": "",
       "type": "doctest"
      }
     ]
    }
   }
  },
  "vscode": {
   "interpreter": {
    "hash": "b181b7ac44b61709e1e9acd3475e041866d62bfe876365f68179fcb4e3bc0c2d"
   }
  },
  "widgets": {
   "application/vnd.jupyter.widget-state+json": {
    "state": {},
    "version_major": 2,
    "version_minor": 0
   }
  }
 },
 "nbformat": 4,
 "nbformat_minor": 5
}
