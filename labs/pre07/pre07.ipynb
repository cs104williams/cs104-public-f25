{
 "cells": [
  {
   "cell_type": "code",
   "execution_count": null,
   "id": "57bc0573",
   "metadata": {
    "deletable": false,
    "editable": false
   },
   "outputs": [],
   "source": [
    "# Initialize Otter\n",
    "import otter\n",
    "grader = otter.Notebook(\"pre07.ipynb\")"
   ]
  },
  {
   "cell_type": "markdown",
   "id": "3c7769c3",
   "metadata": {
    "deletable": false,
    "editable": false
   },
   "source": [
    "<table style=\"width: 100%;\">\n",
    "<tr style=\"background-color: transparent;\">\n",
    "<td width=\"100px\"><img src=\"https://cs104williams.github.io/assets/cs104-logo.png\" width=\"90px\" style=\"text-align: center\"/></td>\n",
    "<td>\n",
    "  <p style=\"margin-bottom: 0px; text-align: left; font-size: 18pt;\"><strong>CSCI 104: Data Science and Computing for All</strong><br>\n",
    "                Williams College<br>\n",
    "                Fall 2025</p>\n",
    "</td>\n",
    "</tr>\n"
   ]
  },
  {
   "cell_type": "markdown",
   "id": "22aa5c7c",
   "metadata": {
    "deletable": false,
    "editable": false,
    "tags": []
   },
   "source": [
    "# Prelab 7: Hypothesis Testing and P-values"
   ]
  },
  {
   "cell_type": "markdown",
   "id": "4dc2bef0",
   "metadata": {
    "deletable": false,
    "editable": false,
    "tags": []
   },
   "source": [
    "**Instructions**\n",
    "- Before you begin, execute the cell at the TOP of the notebook to load the provided tests, as well as the following cell to setup the notebook by importing some helpful libraries. Each time you start your server, you will need to execute these cells again.  \n",
    "- Be sure to consult your [Python Reference](https://cs104williams.github.io/assets/python-library-ref.html)!\n",
    "- Complete this notebook by filling in the cells provided. \n",
    "- Please be sure to not re-assign variables throughout the notebook.  For example, if you use `max_temperature` in your answer to one question, do not reassign it later on. Otherwise, you will fail tests that you thought you were passing previously.\n",
    "- There are no hidden tests in prelabs.\n",
    "\n",
    "<hr/>\n",
    "<h2>Setup</h2>\n"
   ]
  },
  {
   "cell_type": "code",
   "execution_count": null,
   "id": "85674ffe",
   "metadata": {
    "deletable": false,
    "editable": false,
    "execution": {
     "iopub.execute_input": "2025-10-29T13:03:21.968219Z",
     "iopub.status.busy": "2025-10-29T13:03:21.967860Z",
     "iopub.status.idle": "2025-10-29T13:03:22.867178Z",
     "shell.execute_reply": "2025-10-29T13:03:22.866891Z"
    },
    "tags": []
   },
   "outputs": [],
   "source": [
    "# Run this cell to set up the notebook.\n",
    "# These lines import the numpy, datascience, and cs104 libraries.\n",
    "\n",
    "import numpy as np\n",
    "from datascience import *\n",
    "from cs104 import *\n",
    "%matplotlib inline"
   ]
  },
  {
   "cell_type": "markdown",
   "id": "c12b245b",
   "metadata": {
    "deletable": false,
    "editable": false
   },
   "source": [
    "<hr style=\"margin-bottom: 0px; padding:0; border: 2px solid #500082;\"/>\n"
   ]
  },
  {
   "cell_type": "markdown",
   "id": "ed748465",
   "metadata": {
    "deletable": false,
    "editable": false,
    "tags": []
   },
   "source": [
    "## 1. Incubating green sea turtle eggs (20 pts)\n",
    "\n"
   ]
  },
  {
   "cell_type": "markdown",
   "id": "c77220d9",
   "metadata": {
    "deletable": false,
    "editable": false,
    "tags": []
   },
   "source": [
    "<font color='#B1008E'>\n",
    "    \n",
    "##### Learning objectives\n",
    "- Construct an inference problem using a null and alternative hypothesis.\n",
    "- Use `simulate_sample_statistic` to evaluate the model for the null hypothesis.\n",
    "- Determine whether observed data is consistent with the null model.\n",
    "    \n",
    "</font>"
   ]
  },
  {
   "cell_type": "markdown",
   "id": "4e8825b2",
   "metadata": {
    "deletable": false,
    "editable": false
   },
   "source": [
    "Green sea turtles exhibit temperature-dependent sex determination.  That is, the temperature at which their eggs are incubated impacts the sex of the hatchlings.  Incubating at 29.3° Celcius leads to a 50% chance that each hatchling is female, but higher temperatures increase the chance of a hatchling being female.  Even an increase of a couple degrees can cause the vast majority of eggs to hatch as females.\n",
    "\n",
    "**The scenario:** Steve and Katie put 100 green sea turtle eggs in an incubator set to 29.3°.\n",
    "When the eggs hatch, they discover they have 67 females and 33 males.\n",
    "They are suspicious that their incubator's temperature sensor is not accurate.  Should they send it out for repairs?\n",
    "\n",
    "**The Null and Alt hypotheses:**  Let's decide whether the incubator is broken via hypothesis testing.  We begin with the following two hypotheses:\n",
    "* **Null hypothesis**: The incubator's temperature control properly maintains 29.3°, and each hatchling has a 50% chance of being female.  \n",
    "* **Alt. hypothesis**: The incubator is temperature control is broken and does not maintains 29.3°, and each hatchling does not have a 50% chance of being female.\n",
    "\n",
    "**Test Statistic:**  Under the null hypothesis, we would expect 50% of our incubated hatchlings to be female, with any variation due to random chance.  We'll design a statistic to measure how close a sample is to that expectation:\n",
    "\n",
    "    abs(percent-female-in-sample - 50%)"
   ]
  },
  {
   "cell_type": "markdown",
   "id": "5d9673b6",
   "metadata": {
    "deletable": false,
    "editable": false
   },
   "source": [
    "#### Part 1.1 Sampling under null hypothesis (5 pts)\n"
   ]
  },
  {
   "cell_type": "markdown",
   "id": "18d05198",
   "metadata": {
    "deletable": false,
    "editable": false
   },
   "source": [
    "We begin the model for the null hypothesis by creating an array containing the proportions of female and male hatchlings incubated at 29.3°."
   ]
  },
  {
   "cell_type": "code",
   "execution_count": null,
   "id": "0ae06f76",
   "metadata": {
    "deletable": false,
    "editable": false,
    "execution": {
     "iopub.execute_input": "2025-10-29T13:03:22.869355Z",
     "iopub.status.busy": "2025-10-29T13:03:22.869214Z",
     "iopub.status.idle": "2025-10-29T13:03:22.872272Z",
     "shell.execute_reply": "2025-10-29T13:03:22.872060Z"
    },
    "tags": []
   },
   "outputs": [],
   "source": [
    "hatchling_proportions = make_array(0.5, 0.5)"
   ]
  },
  {
   "cell_type": "markdown",
   "id": "db4a2bbd",
   "metadata": {
    "deletable": false,
    "editable": false
   },
   "source": [
    "Write the following function `sample_hatchlings_under_null` to simulate samples from the null hypothesis. \n",
    "\n",
    "In this function, use `sample_proportions` to create a sample of a given size using the `hatchling_proprtions` (the null hypothesis proportions). The output of this function is array with two items: the **percent** of females in the sample and the **percent** of males in the sample."
   ]
  },
  {
   "cell_type": "code",
   "execution_count": null,
   "id": "dc3df349",
   "metadata": {
    "deletable": false,
    "execution": {
     "iopub.execute_input": "2025-10-29T13:03:22.873641Z",
     "iopub.status.busy": "2025-10-29T13:03:22.873562Z",
     "iopub.status.idle": "2025-10-29T13:03:22.876054Z",
     "shell.execute_reply": "2025-10-29T13:03:22.875826Z"
    },
    "tags": []
   },
   "outputs": [],
   "source": [
    "def sample_hatchlings_under_null(sample_size):\n",
    "    \"\"\"\n",
    "    Returns a sample of size sample_size as \n",
    "    an array of [% female, % male].\n",
    "    \"\"\"\n",
    "    ...\n",
    "\n",
    "# One sample with sample size 100 \n",
    "# Run this a few times to verify that your samples have some variability.\n",
    "# If they are all [50,50], there is something wrong!\n",
    "sample_hatchlings_under_null(100)"
   ]
  },
  {
   "cell_type": "code",
   "execution_count": null,
   "id": "61dfbc42",
   "metadata": {
    "deletable": false,
    "editable": false
   },
   "outputs": [],
   "source": [
    "grader.check(\"p1.1\")"
   ]
  },
  {
   "cell_type": "markdown",
   "id": "6201ce85",
   "metadata": {
    "deletable": false,
    "editable": false
   },
   "source": [
    "#### Part 1.2 Implement the test statistic (5 pts)\n"
   ]
  },
  {
   "cell_type": "markdown",
   "id": "de4e2616",
   "metadata": {
    "deletable": false,
    "editable": false
   },
   "source": [
    "Now, implement the function `abs_difference_from_null`. This function returns a statistic on the sample which computes how far a sample's female percentage is from the null model's parameter -- 50% of hatchlings will be female."
   ]
  },
  {
   "cell_type": "code",
   "execution_count": null,
   "id": "6f85e705",
   "metadata": {
    "deletable": false,
    "execution": {
     "iopub.execute_input": "2025-10-29T13:03:22.885967Z",
     "iopub.status.busy": "2025-10-29T13:03:22.885900Z",
     "iopub.status.idle": "2025-10-29T13:03:22.887968Z",
     "shell.execute_reply": "2025-10-29T13:03:22.887759Z"
    },
    "tags": []
   },
   "outputs": [],
   "source": [
    "def abs_difference_from_null_parameter(sample):\n",
    "    \"\"\"\n",
    "    Takes a sample as an array [% female, % male] and returns\n",
    "    the absolute difference between % female in the sample and 50%\n",
    "    \"\"\"    \n",
    "    ...\n",
    "\n",
    "# Should be 10:\n",
    "abs_difference_from_null_parameter(make_array(40,60))"
   ]
  },
  {
   "cell_type": "code",
   "execution_count": null,
   "id": "b5455022",
   "metadata": {
    "deletable": false,
    "editable": false
   },
   "outputs": [],
   "source": [
    "grader.check(\"p1.2\")"
   ]
  },
  {
   "cell_type": "markdown",
   "id": "e5a779c1",
   "metadata": {
    "deletable": false,
    "editable": false
   },
   "source": [
    "#### Part 1.3 Statistic for observed sample (5 pts)\n"
   ]
  },
  {
   "cell_type": "markdown",
   "id": "8e8db080",
   "metadata": {
    "deletable": false,
    "editable": false
   },
   "source": [
    "Use the function you just wrote to calculate this statistic for Steve and Katie's observed brood of 67% female and 33% male."
   ]
  },
  {
   "cell_type": "code",
   "execution_count": null,
   "id": "1aab82a4",
   "metadata": {
    "deletable": false,
    "execution": {
     "iopub.execute_input": "2025-10-29T13:03:22.900121Z",
     "iopub.status.busy": "2025-10-29T13:03:22.900049Z",
     "iopub.status.idle": "2025-10-29T13:03:22.901916Z",
     "shell.execute_reply": "2025-10-29T13:03:22.901724Z"
    },
    "tags": []
   },
   "outputs": [],
   "source": [
    "steve_and_katie_brood_percents = make_array(67, 33)\n",
    "steve_and_katie_brood_statistic = ...\n",
    "\n",
    "steve_and_katie_brood_statistic"
   ]
  },
  {
   "cell_type": "code",
   "execution_count": null,
   "id": "8c22223b",
   "metadata": {
    "deletable": false,
    "editable": false
   },
   "outputs": [],
   "source": [
    "grader.check(\"p1.3\")"
   ]
  },
  {
   "cell_type": "markdown",
   "id": "2b3be089",
   "metadata": {
    "deletable": false,
    "editable": false,
    "tags": []
   },
   "source": [
    "#### Part 1.4 Favor null or alt hypothesis? (5 pts)\n"
   ]
  },
  {
   "cell_type": "markdown",
   "id": "87fce4a2",
   "metadata": {
    "deletable": false,
    "editable": false
   },
   "source": [
    "We are now ready to simulate the null hypothesis and evaluate whether Steve's and Katie's brood is consistent with its assumptions.  The following code does that using our two helper functions, a sample size of 100, and 10,000 trials."
   ]
  },
  {
   "cell_type": "code",
   "execution_count": null,
   "id": "6f5078e6",
   "metadata": {
    "deletable": false,
    "editable": false,
    "execution": {
     "iopub.execute_input": "2025-10-29T13:03:22.905896Z",
     "iopub.status.busy": "2025-10-29T13:03:22.905832Z",
     "iopub.status.idle": "2025-10-29T13:03:23.056677Z",
     "shell.execute_reply": "2025-10-29T13:03:23.056434Z"
    },
    "tags": []
   },
   "outputs": [],
   "source": [
    "hatchling_statistics = simulate_sample_statistic(sample_hatchlings_under_null, 100, abs_difference_from_null_parameter, 10000)\n",
    "\n",
    "plot = Table().with_columns('Statistic: abs(percent female - 50)', hatchling_statistics).hist()\n",
    "plot.set_title('Null hypothesis empirical distrubtion')\n",
    "\n",
    "# A red dot for Steve's and Katie's observed brood.\n",
    "plot.dot(steve_and_katie_brood_statistic)"
   ]
  },
  {
   "cell_type": "markdown",
   "id": "f84517f8",
   "metadata": {
    "deletable": false,
    "editable": false
   },
   "source": [
    "Set reject_null to True or False to indicate whether or not we can reject the null hypothesis based on Steve and Katie's brood.  In this case, it should be obvious whether we can reject it without using p-values."
   ]
  },
  {
   "cell_type": "code",
   "execution_count": null,
   "id": "71f62590",
   "metadata": {
    "deletable": false,
    "execution": {
     "iopub.execute_input": "2025-10-29T13:03:23.058152Z",
     "iopub.status.busy": "2025-10-29T13:03:23.058072Z",
     "iopub.status.idle": "2025-10-29T13:03:23.059612Z",
     "shell.execute_reply": "2025-10-29T13:03:23.059401Z"
    },
    "tags": []
   },
   "outputs": [],
   "source": [
    "reject_null = ..."
   ]
  },
  {
   "cell_type": "code",
   "execution_count": null,
   "id": "5aa405b5",
   "metadata": {
    "deletable": false,
    "editable": false
   },
   "outputs": [],
   "source": [
    "grader.check(\"p1.4\")"
   ]
  },
  {
   "cell_type": "markdown",
   "id": "d219877b",
   "metadata": {
    "deletable": false,
    "editable": false
   },
   "source": [
    "<hr style=\"margin-bottom: 0px; padding:0; border: 2px solid #500082;\"/>\n"
   ]
  },
  {
   "cell_type": "markdown",
   "id": "e35d38ab",
   "metadata": {
    "deletable": false,
    "editable": false,
    "tags": []
   },
   "source": [
    "## 2. Calculating p-values (30 pts)\n",
    "\n"
   ]
  },
  {
   "cell_type": "markdown",
   "id": "56151e4c",
   "metadata": {
    "deletable": false,
    "editable": false,
    "tags": []
   },
   "source": [
    "<font color='#B1008E'>\n",
    "    \n",
    "##### Learning objectives\n",
    "- Build intuition for a p-value \n",
    "- Implement the function that calculates a p-value.\n",
    "    \n",
    "</font>"
   ]
  },
  {
   "cell_type": "markdown",
   "id": "22d602f5",
   "metadata": {
    "deletable": false,
    "editable": false
   },
   "source": [
    "#### Part 2.1 Definitions (5 pts)\n"
   ]
  },
  {
   "cell_type": "markdown",
   "id": "47c0c0db",
   "metadata": {
    "deletable": false,
    "editable": false
   },
   "source": [
    "Assign the variable `answer` below to the integer that correponds to the **true** statement. \n",
    "\n",
    "1. A **p-value** is the probability that the null hypothesis is true.\n",
    "\n",
    "2. A **p-value** is the probability that the alternative is true. \n",
    "\n",
    "3. A **p-value** is the probability under the null hypothesis of obtaining a statistic at least as extreme as the observed statistic. \n",
    "\n",
    "4. A **p-value** is the probability the observed statistic is produced by random chance alone. \n"
   ]
  },
  {
   "cell_type": "code",
   "execution_count": null,
   "id": "069a7da1",
   "metadata": {
    "deletable": false,
    "execution": {
     "iopub.execute_input": "2025-10-29T13:03:23.064309Z",
     "iopub.status.busy": "2025-10-29T13:03:23.064231Z",
     "iopub.status.idle": "2025-10-29T13:03:23.065788Z",
     "shell.execute_reply": "2025-10-29T13:03:23.065588Z"
    },
    "tags": []
   },
   "outputs": [],
   "source": [
    "answer = ..."
   ]
  },
  {
   "cell_type": "code",
   "execution_count": null,
   "id": "2fb1584e",
   "metadata": {
    "deletable": false,
    "editable": false
   },
   "outputs": [],
   "source": [
    "grader.check(\"p2.1\")"
   ]
  },
  {
   "cell_type": "markdown",
   "id": "42dd9f0b",
   "metadata": {
    "deletable": false,
    "editable": false
   },
   "source": [
    "#### Part 2.2 Intuition of \"extreme\" values (5 pts)\n"
   ]
  },
  {
   "cell_type": "markdown",
   "id": "17c91012",
   "metadata": {
    "deletable": false,
    "editable": false
   },
   "source": [
    "Here, we present a tiny subset of data from a sea turtle egg simulation (similar to the large simulation we ran above).  \n",
    "\n",
    "This data reflects that:\n",
    "- We simulated statistics from the null hypothesis for ten trials.  These are recorded in `tiny_simulated_statistics`.  \n",
    "- In this new observed sample, Steve and Katie observed 60% females. Since the null hypothesis parameter is 50% females, this gives a statistic of 10 (recorded in `tiny_observed_statistic`). "
   ]
  },
  {
   "cell_type": "code",
   "execution_count": null,
   "id": "7b41dcad",
   "metadata": {
    "deletable": false,
    "editable": false,
    "execution": {
     "iopub.execute_input": "2025-10-29T13:03:23.072561Z",
     "iopub.status.busy": "2025-10-29T13:03:23.072474Z",
     "iopub.status.idle": "2025-10-29T13:03:23.073899Z",
     "shell.execute_reply": "2025-10-29T13:03:23.073696Z"
    },
    "tags": []
   },
   "outputs": [],
   "source": [
    "# No need to change anything in this cell, just run\n",
    "tiny_simulated_statistics = make_array(4, 4, 6, 8, 8, 9, 9, 10, 11, 12) \n",
    "tiny_observed_statistic = 10"
   ]
  },
  {
   "cell_type": "markdown",
   "id": "22d711d9",
   "metadata": {
    "deletable": false,
    "editable": false
   },
   "source": [
    "Without using any code, look at the array above above and count how many elements of  `tiny_simulated_statistics` are the \"same or more extreme\" (greater than or equal to) than `tiny_observed_statistic`. \n",
    "\n",
    "Assign your answer to `count_more_extreme` below."
   ]
  },
  {
   "cell_type": "code",
   "execution_count": null,
   "id": "263e5da0",
   "metadata": {
    "deletable": false,
    "execution": {
     "iopub.execute_input": "2025-10-29T13:03:23.075154Z",
     "iopub.status.busy": "2025-10-29T13:03:23.075082Z",
     "iopub.status.idle": "2025-10-29T13:03:23.076533Z",
     "shell.execute_reply": "2025-10-29T13:03:23.076317Z"
    },
    "tags": []
   },
   "outputs": [],
   "source": [
    "count_more_extreme = ..."
   ]
  },
  {
   "cell_type": "code",
   "execution_count": null,
   "id": "2048c1c4",
   "metadata": {
    "deletable": false,
    "editable": false
   },
   "outputs": [],
   "source": [
    "grader.check(\"p2.2\")"
   ]
  },
  {
   "cell_type": "markdown",
   "id": "ab049958",
   "metadata": {
    "deletable": false,
    "editable": false
   },
   "source": [
    "#### Part 2.3 Calculating p-values (5 pts)\n"
   ]
  },
  {
   "cell_type": "markdown",
   "id": "e31d74ff",
   "metadata": {
    "deletable": false,
    "editable": false
   },
   "source": [
    "The p-value is a proportion. Specifically, it is the proportion of `tiny_simulated_statistics` that are \"same or more extreme\" than `tiny_observed_statistic`.  \n",
    "\n",
    "Use `count_more_extreme` and the `tiny_simulated_statistics` array to calculate the p-value. "
   ]
  },
  {
   "cell_type": "code",
   "execution_count": null,
   "id": "805d8749",
   "metadata": {
    "deletable": false,
    "execution": {
     "iopub.execute_input": "2025-10-29T13:03:23.083295Z",
     "iopub.status.busy": "2025-10-29T13:03:23.083212Z",
     "iopub.status.idle": "2025-10-29T13:03:23.084876Z",
     "shell.execute_reply": "2025-10-29T13:03:23.084671Z"
    },
    "tags": []
   },
   "outputs": [],
   "source": [
    "p_value = ...\n",
    "print(\"The p-value is\", p_value)"
   ]
  },
  {
   "cell_type": "code",
   "execution_count": null,
   "id": "2cc8d41c",
   "metadata": {
    "deletable": false,
    "editable": false
   },
   "outputs": [],
   "source": [
    "grader.check(\"p2.3\")"
   ]
  },
  {
   "cell_type": "markdown",
   "id": "c834bb39",
   "metadata": {
    "deletable": false,
    "editable": false
   },
   "source": [
    "#### Part 2.4 Writing a generic p-value function (5 pts)\n"
   ]
  },
  {
   "cell_type": "markdown",
   "id": "a446c527",
   "metadata": {
    "deletable": false,
    "editable": false
   },
   "source": [
    "Congrats! You calculated your first p-value! Now that you understand what a p-value is, let's use a fundamental principle of computing, *abstraction*. Write a function below, called `empirical_pvalue`,  that calculates a p-value given the following two arguments: \n",
    "- `null_statistics`: An array where each item in the array is the statistic for a single sample simulated from the null hypothesis\n",
    "- `observed_statistic`: A float that is the statistic for the observed data. \n",
    "\n",
    "You will use this function many times in this lab and future labs. "
   ]
  },
  {
   "cell_type": "code",
   "execution_count": null,
   "id": "5af00d43",
   "metadata": {
    "deletable": false,
    "execution": {
     "iopub.execute_input": "2025-10-29T13:03:23.091780Z",
     "iopub.status.busy": "2025-10-29T13:03:23.091710Z",
     "iopub.status.idle": "2025-10-29T13:03:23.093297Z",
     "shell.execute_reply": "2025-10-29T13:03:23.093110Z"
    },
    "tags": []
   },
   "outputs": [],
   "source": [
    "def empirical_pvalue(null_statistics, observed_statistic): \n",
    "    \"\"\"\n",
    "    Return the proportion of the null statistics that are greater than \n",
    "    or equal to the observed statistic.\n",
    "    \"\"\"\n",
    "    ..."
   ]
  },
  {
   "cell_type": "code",
   "execution_count": null,
   "id": "bc3a6e17",
   "metadata": {
    "deletable": false,
    "execution": {
     "iopub.execute_input": "2025-10-29T13:03:23.094390Z",
     "iopub.status.busy": "2025-10-29T13:03:23.094321Z",
     "iopub.status.idle": "2025-10-29T13:03:23.096247Z",
     "shell.execute_reply": "2025-10-29T13:03:23.096045Z"
    },
    "tags": []
   },
   "outputs": [],
   "source": [
    "# Check that your function gives the same pvalue you calculated\n",
    "empirical_pvalue(tiny_simulated_statistics, tiny_observed_statistic)"
   ]
  },
  {
   "cell_type": "code",
   "execution_count": null,
   "id": "5fa25317",
   "metadata": {
    "deletable": false,
    "editable": false
   },
   "outputs": [],
   "source": [
    "grader.check(\"p2.4\")"
   ]
  },
  {
   "cell_type": "markdown",
   "id": "a51f032c",
   "metadata": {
    "deletable": false,
    "editable": false,
    "tags": []
   },
   "source": [
    "#### Part 2.5  P-value for Steve and Katie's brood (5 pts)\n"
   ]
  },
  {
   "cell_type": "markdown",
   "id": "93da502c",
   "metadata": {
    "deletable": false,
    "editable": false
   },
   "source": [
    "Let's now compute the p-value for Steve and Katie's observed brood in Question 1.  We repeat the following code to show the null hypothesis empirical distribution and the observed data:"
   ]
  },
  {
   "cell_type": "code",
   "execution_count": null,
   "id": "f79c353d",
   "metadata": {
    "deletable": false,
    "editable": false,
    "execution": {
     "iopub.execute_input": "2025-10-29T13:03:23.105660Z",
     "iopub.status.busy": "2025-10-29T13:03:23.105592Z",
     "iopub.status.idle": "2025-10-29T13:03:23.203609Z",
     "shell.execute_reply": "2025-10-29T13:03:23.203372Z"
    },
    "tags": []
   },
   "outputs": [],
   "source": [
    "plot = Table().with_columns('Statistic: abs(percent female - 50)', hatchling_statistics).hist(left_end=steve_and_katie_brood_statistic)\n",
    "plot.set_title('Null hypothesis empirical distrubtion')\n",
    "\n",
    "# A red dot for Steve's and Katie's observed brood.\n",
    "plot.dot(steve_and_katie_brood_statistic)"
   ]
  },
  {
   "cell_type": "markdown",
   "id": "8bbfbd42",
   "metadata": {
    "deletable": false,
    "editable": false
   },
   "source": [
    "Using your `empirical_pvalue` function, compute the p-value for `steve_and_katie_brood_statistic`."
   ]
  },
  {
   "cell_type": "code",
   "execution_count": null,
   "id": "0a5cb0e3",
   "metadata": {
    "deletable": false,
    "execution": {
     "iopub.execute_input": "2025-10-29T13:03:23.205044Z",
     "iopub.status.busy": "2025-10-29T13:03:23.204970Z",
     "iopub.status.idle": "2025-10-29T13:03:23.207012Z",
     "shell.execute_reply": "2025-10-29T13:03:23.206812Z"
    },
    "tags": []
   },
   "outputs": [],
   "source": [
    "p_value = ...\n",
    "p_value"
   ]
  },
  {
   "cell_type": "code",
   "execution_count": null,
   "id": "14dc5c98",
   "metadata": {
    "deletable": false,
    "editable": false
   },
   "outputs": [],
   "source": [
    "grader.check(\"p2.5\")"
   ]
  },
  {
   "cell_type": "markdown",
   "id": "e8a1945c",
   "metadata": {
    "deletable": false,
    "editable": false,
    "tags": []
   },
   "source": [
    "In this case, we can easily reject the null hypothesis with a 5% (or even a 1%) p-value cutoff."
   ]
  },
  {
   "cell_type": "markdown",
   "id": "3a7f3569",
   "metadata": {
    "deletable": false,
    "editable": false,
    "tags": []
   },
   "source": [
    "#### Part 2.6  P-value for a different brood (5 pts)\n"
   ]
  },
  {
   "cell_type": "markdown",
   "id": "afa4d401",
   "metadata": {
    "deletable": false,
    "editable": false
   },
   "source": [
    "Suppose Steve and Katie ended up with 59 females and 41 males.  The following computes the statistic for this observation and plots it as before."
   ]
  },
  {
   "cell_type": "code",
   "execution_count": null,
   "id": "cbfec4f7",
   "metadata": {
    "deletable": false,
    "editable": false,
    "execution": {
     "iopub.execute_input": "2025-10-29T13:03:23.211448Z",
     "iopub.status.busy": "2025-10-29T13:03:23.211381Z",
     "iopub.status.idle": "2025-10-29T13:03:23.338926Z",
     "shell.execute_reply": "2025-10-29T13:03:23.338697Z"
    },
    "tags": []
   },
   "outputs": [],
   "source": [
    "steve_and_katie_brood_statistic2 = abs_difference_from_null_parameter(make_array(0.59, 0.41) * 100)\n",
    "\n",
    "plot = Table().with_columns('Statistic: abs(percent female - 50)', hatchling_statistics).hist(left_end=steve_and_katie_brood_statistic2)\n",
    "plot.set_title('Null hypothesis empirical distrubtion')\n",
    "\n",
    "# A red dot for Steve's and Katie's observed brood.\n",
    "plot.dot(steve_and_katie_brood_statistic2)"
   ]
  },
  {
   "cell_type": "markdown",
   "id": "6e1d8670",
   "metadata": {
    "deletable": false,
    "editable": false
   },
   "source": [
    "Using your `empirical_pvalue` function, compute the p-value for `steve_and_katie_brood_statistic2`."
   ]
  },
  {
   "cell_type": "code",
   "execution_count": null,
   "id": "0f812770",
   "metadata": {
    "deletable": false,
    "execution": {
     "iopub.execute_input": "2025-10-29T13:03:23.340375Z",
     "iopub.status.busy": "2025-10-29T13:03:23.340291Z",
     "iopub.status.idle": "2025-10-29T13:03:23.342463Z",
     "shell.execute_reply": "2025-10-29T13:03:23.342251Z"
    },
    "tags": []
   },
   "outputs": [],
   "source": [
    "p_value2 = ...\n",
    "p_value2"
   ]
  },
  {
   "cell_type": "code",
   "execution_count": null,
   "id": "97a3e3d0",
   "metadata": {
    "deletable": false,
    "editable": false
   },
   "outputs": [],
   "source": [
    "grader.check(\"p2.6\")"
   ]
  },
  {
   "cell_type": "markdown",
   "id": "aa6ceb76",
   "metadata": {
    "deletable": false,
    "editable": false
   },
   "source": [
    "In this case, we cannot reject the null hypothesis because the observation is above the conventional 5% p-value cutoff."
   ]
  },
  {
   "cell_type": "markdown",
   "id": "a1c3fdc0",
   "metadata": {
    "deletable": false,
    "editable": false
   },
   "source": [
    "<hr class=\"m-0\" style=\"border: 3px solid #500082;\"/>\n",
    "\n",
    "# You're Done!\n",
    "Follow these steps to submit your work:\n",
    "* Run the tests and verify that they pass as you expect. \n",
    "* Choose **Save Notebook** from the **File** menu.\n",
    "* **Run the final cell** and click the link below to download the zip file. \n",
    "\n",
    "Once you have downloaded that file, go to [Gradescope](https://www.gradescope.com/) and submit the zip file to \n",
    "the corresponding assignment. For Prelab N, the assignment will be called \"Prelab N Autograder\".\n",
    "\n",
    "Once you have submitted, your Gradescope assignment should show you passing all the tests you passed in your assignment notebook.\n"
   ]
  },
  {
   "cell_type": "markdown",
   "id": "63609672",
   "metadata": {
    "deletable": false,
    "editable": false
   },
   "source": [
    "## Submission\n",
    "\n",
    "Make sure you have run all cells in your notebook in order before running the cell below, so that all images/graphs appear in the output. The cell below will generate a zip file for you to submit. **Please save before exporting!**"
   ]
  },
  {
   "cell_type": "code",
   "execution_count": null,
   "id": "a02bbacc",
   "metadata": {
    "deletable": false,
    "editable": false
   },
   "outputs": [],
   "source": [
    "# Save your notebook first, then run this cell to export your submission.\n",
    "grader.export(pdf=False, run_tests=True)"
   ]
  },
  {
   "cell_type": "markdown",
   "id": "1986003a",
   "metadata": {},
   "source": [
    " "
   ]
  }
 ],
 "metadata": {
  "kernelspec": {
   "display_name": "Python 3 (ipykernel)",
   "language": "python",
   "name": "python3"
  },
  "language_info": {
   "codemirror_mode": {
    "name": "ipython",
    "version": 3
   },
   "file_extension": ".py",
   "mimetype": "text/x-python",
   "name": "python",
   "nbconvert_exporter": "python",
   "pygments_lexer": "ipython3",
   "version": "3.9.23"
  },
  "otter": {
   "OK_FORMAT": true,
   "tests": {
    "p1.1": {
     "has_hidden": false,
     "name": "p1.1",
     "points": 5,
     "suites": [
      {
       "cases": [
        {
         "code": ">>> check_str('0 <= sample_hatchlings_under_null(100).item(0) <= 100', locals())\n",
         "failure_message": "check(0 <= sample_hatchlings_under_null(100).item(0) <= 100)",
         "hidden": false,
         "locked": false,
         "submit_only": false,
         "success_message": "check(0 <= sample_hatchlings_under_null(100).item(0) <= 100)"
        },
        {
         "code": ">>> check_str('sample_hatchlings_under_null(100).item(0) > 1', locals())\n",
         "failure_message": "Your function returns sample with < 1% female -- did you properly convert proportions to percents???",
         "hidden": false,
         "locked": false,
         "submit_only": false,
         "success_message": "check(sample_hatchlings_under_null(100).item(0) > 1)"
        },
        {
         "code": ">>> check_str('30 <= sample_hatchlings_under_null(100).item(0) <= 70', locals())\n",
         "failure_message": "check(30 <= sample_hatchlings_under_null(100).item(0) <= 70)",
         "hidden": false,
         "locked": false,
         "submit_only": false,
         "success_message": "check(30 <= sample_hatchlings_under_null(100).item(0) <= 70)"
        }
       ],
       "scored": true,
       "setup": "",
       "teardown": "",
       "type": "doctest"
      }
     ]
    },
    "p1.2": {
     "has_hidden": false,
     "name": "p1.2",
     "points": 5,
     "suites": [
      {
       "cases": [
        {
         "code": ">>> check_str('type(abs_difference_from_null_parameter(make_array(50, 50))) != np.ndarray', locals())\n",
         "failure_message": "check(type(abs_difference_from_null_parameter(make_array(50, 50))) != np.ndarray)",
         "hidden": false,
         "locked": false,
         "submit_only": false,
         "success_message": "check(type(abs_difference_from_null_parameter(make_array(50, 50))) != np.ndarray)"
        },
        {
         "code": ">>> check_str('abs_difference_from_null_parameter(make_array(50, 50)) == approx(0)', locals())\n",
         "failure_message": "check(abs_difference_from_null_parameter(make_array(50, 50)) == approx(0))",
         "hidden": false,
         "locked": false,
         "submit_only": false,
         "success_message": "check(abs_difference_from_null_parameter(make_array(50, 50)) == approx(0))"
        },
        {
         "code": ">>> check_str('abs_difference_from_null_parameter(make_array(25, 75)) == approx(25)', locals())\n",
         "failure_message": "check(abs_difference_from_null_parameter(make_array(25, 75)) == approx(25))",
         "hidden": false,
         "locked": false,
         "submit_only": false,
         "success_message": "check(abs_difference_from_null_parameter(make_array(25, 75)) == approx(25))"
        },
        {
         "code": ">>> check_str('abs_difference_from_null_parameter(make_array(70, 30)) == approx(20)', locals())\n",
         "failure_message": "check(abs_difference_from_null_parameter(make_array(70, 30)) == approx(20))",
         "hidden": false,
         "locked": false,
         "submit_only": false,
         "success_message": "check(abs_difference_from_null_parameter(make_array(70, 30)) == approx(20))"
        }
       ],
       "scored": true,
       "setup": "",
       "teardown": "",
       "type": "doctest"
      }
     ]
    },
    "p1.3": {
     "has_hidden": false,
     "name": "p1.3",
     "points": 5,
     "suites": [
      {
       "cases": [
        {
         "code": ">>> check_str('steve_and_katie_brood_statistic == 17', locals())\n",
         "failure_message": "check(steve_and_katie_brood_statistic == 17)",
         "hidden": false,
         "locked": false,
         "submit_only": false,
         "success_message": "check(steve_and_katie_brood_statistic == 17)"
        }
       ],
       "scored": true,
       "setup": "",
       "teardown": "",
       "type": "doctest"
      }
     ]
    },
    "p1.4": {
     "has_hidden": false,
     "name": "p1.4",
     "points": 5,
     "suites": [
      {
       "cases": [
        {
         "code": ">>> check_str('reject_null == True', locals())\n",
         "failure_message": "Try again...",
         "hidden": false,
         "locked": false,
         "submit_only": false,
         "success_message": "check(reject_null == True)"
        }
       ],
       "scored": true,
       "setup": "",
       "teardown": "",
       "type": "doctest"
      }
     ]
    },
    "p2.1": {
     "has_hidden": false,
     "name": "p2.1",
     "points": 5,
     "suites": [
      {
       "cases": [
        {
         "code": ">>> check_str('answer in make_array(1,2,3,4)', locals())\n",
         "failure_message": "answer must be 1, 2, 3, or 4.",
         "hidden": false,
         "locked": false,
         "submit_only": false,
         "success_message": "check(answer in make_array(1,2,3,4))"
        },
        {
         "code": ">>> check_str('answer == 3', locals())\n",
         "failure_message": "incorrect -- try again!",
         "hidden": false,
         "locked": false,
         "submit_only": false,
         "success_message": "check(answer == 3)"
        }
       ],
       "scored": true,
       "setup": "",
       "teardown": "",
       "type": "doctest"
      }
     ]
    },
    "p2.2": {
     "has_hidden": false,
     "name": "p2.2",
     "points": 5,
     "suites": [
      {
       "cases": [
        {
         "code": ">>> check_str('count_more_extreme in np.arange(0,11)', locals())\n",
         "failure_message": "Your answer should be an integer between 0 and 10.",
         "hidden": false,
         "locked": false,
         "submit_only": false,
         "success_message": "check(count_more_extreme in np.arange(0,11))"
        },
        {
         "code": ">>> check_str('count_more_extreme == 3', locals())\n",
         "failure_message": "Incorrect -- try again!",
         "hidden": false,
         "locked": false,
         "submit_only": false,
         "success_message": "check(count_more_extreme == 3)"
        }
       ],
       "scored": true,
       "setup": "",
       "teardown": "",
       "type": "doctest"
      }
     ]
    },
    "p2.3": {
     "has_hidden": false,
     "name": "p2.3",
     "points": 5,
     "suites": [
      {
       "cases": [
        {
         "code": ">>> check_str('0 <= p_value <= 1', locals())\n",
         "failure_message": "Your answer should be a proportion between 0 and 1.",
         "hidden": false,
         "locked": false,
         "submit_only": false,
         "success_message": "check(0 <= p_value <= 1)"
        },
        {
         "code": ">>> check_str('p_value == approx(0.3)', locals())\n",
         "failure_message": "check(p_value == approx(0.3))",
         "hidden": false,
         "locked": false,
         "submit_only": false,
         "success_message": "check(p_value == approx(0.3))"
        }
       ],
       "scored": true,
       "setup": "",
       "teardown": "",
       "type": "doctest"
      }
     ]
    },
    "p2.4": {
     "has_hidden": false,
     "name": "p2.4",
     "points": 5,
     "suites": [
      {
       "cases": [
        {
         "code": ">>> check_str('empirical_pvalue(tiny_simulated_statistics, tiny_observed_statistic) == approx(0.3)', locals())\n",
         "failure_message": "check(empirical_pvalue(tiny_simulated_statistics, tiny_observed_statistic) == approx(0.3))",
         "hidden": false,
         "locked": false,
         "submit_only": false,
         "success_message": "check(empirical_pvalue(tiny_simulated_statistics, tiny_observed_statistic) == approx(0.3))"
        },
        {
         "code": ">>> check_str('empirical_pvalue(make_array(1, 2, 3), 1.5) == approx(2/3)', locals())\n",
         "failure_message": "check(empirical_pvalue(make_array(1, 2, 3), 1.5) == approx(2/3))",
         "hidden": false,
         "locked": false,
         "submit_only": false,
         "success_message": "check(empirical_pvalue(make_array(1, 2, 3), 1.5) == approx(2/3))"
        },
        {
         "code": ">>> check_str('empirical_pvalue(make_array(1, 1, 2, 3), 2) == approx(0.5)', locals())\n",
         "failure_message": "check(empirical_pvalue(make_array(1, 1, 2, 3), 2) == approx(0.5))",
         "hidden": false,
         "locked": false,
         "submit_only": false,
         "success_message": "check(empirical_pvalue(make_array(1, 1, 2, 3), 2) == approx(0.5))"
        }
       ],
       "scored": true,
       "setup": "",
       "teardown": "",
       "type": "doctest"
      }
     ]
    },
    "p2.5": {
     "has_hidden": false,
     "name": "p2.5",
     "points": 5,
     "suites": [
      {
       "cases": [
        {
         "code": ">>> check_str('0 <= p_value < 0.005', locals())\n",
         "failure_message": "check(0 <= p_value < 0.005)",
         "hidden": false,
         "locked": false,
         "submit_only": false,
         "success_message": "check(0 <= p_value < 0.005)"
        }
       ],
       "scored": true,
       "setup": "",
       "teardown": "",
       "type": "doctest"
      }
     ]
    },
    "p2.6": {
     "has_hidden": false,
     "name": "p2.6",
     "points": 5,
     "suites": [
      {
       "cases": [
        {
         "code": ">>> check_str('0.05 <= p_value2 < 0.15', locals())\n",
         "failure_message": "check(0.05 <= p_value2 < 0.15)",
         "hidden": false,
         "locked": false,
         "submit_only": false,
         "success_message": "check(0.05 <= p_value2 < 0.15)"
        }
       ],
       "scored": true,
       "setup": "",
       "teardown": "",
       "type": "doctest"
      }
     ]
    }
   }
  },
  "vscode": {
   "interpreter": {
    "hash": "31f2aee4e71d21fbe5cf8b01ff0e069b9275f58929596ceb00d14d90e3e16cd6"
   }
  }
 },
 "nbformat": 4,
 "nbformat_minor": 5
}
